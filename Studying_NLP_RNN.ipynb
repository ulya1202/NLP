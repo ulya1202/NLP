{
  "cells": [
    {
      "cell_type": "markdown",
      "metadata": {
        "id": "view-in-github",
        "colab_type": "text"
      },
      "source": [
        "<a href=\"https://colab.research.google.com/github/ulya1202/NLP/blob/main/Studying_NLP_RNN.ipynb\" target=\"_parent\"><img src=\"https://colab.research.google.com/assets/colab-badge.svg\" alt=\"Open In Colab\"/></a>"
      ]
    },
    {
      "cell_type": "markdown",
      "metadata": {
        "id": "SPbQAGnPLMzt"
      },
      "source": [
        "#Sentiment Analysis"
      ]
    },
    {
      "cell_type": "code",
      "execution_count": null,
      "metadata": {
        "colab": {
          "base_uri": "https://localhost:8080/",
          "height": 133,
          "referenced_widgets": [
            "990ffb0864ed4ae9926d390df1700112",
            "7345384b387b47b2b391f9dabdc38802",
            "7d0f823311a44bffb26aca5603edd1ed",
            "e22ca9f29ac544f3858d7043d05adbf3",
            "dfbaaad87eb54806af3152a897d02379",
            "3b70ee21ba05419b95b7c37d8b06735e",
            "83b2e9ccffd249ed9be852ba319b7231",
            "29e63809290a45f58e2c2a8e4b8023be",
            "be793bb5c4fa418bae77015911b2ffdd",
            "a5c5749642f24e1bacce61c7e30ff0ed",
            "dc8cbf3e1183469ba65983ae320c5c68",
            "689c0991ee0c42f3aae33b3103038234",
            "620cb89e2a664a249d7c14ce31ff08dd",
            "9b57d5ce95ea4b199331f526666ae2ff",
            "8d51cf0dbdc84e99ab55a007e449ebaf",
            "d92452b4353d4a929023ba6cd968252a",
            "3da03164d10948e7983d7a4f8d896d0a",
            "43fcd739e579454cbcb86d32b95b6bcd",
            "7bdc42e9df3d407b84b46d8e5ecaafb6",
            "ca5f1705865d475fb1203400cf2721f0",
            "3a2bf728237d4475b9c321031faa406d",
            "d0fbd3aa703b40dd8a069fd12e73c6fe",
            "efc06532ac024c29ae8828a5239f5a7a",
            "0665a60a8e14494b83da6bf4c2c00732",
            "0583de954a61435e8f6fc302288ac924",
            "a25c0025bbca4318a5176fd3296881cb",
            "7baa6abcb76f49de9f2e1344a40469f4",
            "c7e7074cc49e41cfa1b1b0768000f52d",
            "dfdc6fbd5e7f4c42be008e08897c4ea8",
            "8e8fbfaaea874859aafb1bc5870dbd85",
            "789131f05c904e0d974efd0a16c7d60b",
            "c39d2985547e4b61b2b6fc3de5c1568a",
            "cfbfccf213ca454a8037fa5ae2748b81",
            "d1a031d6133d42de9fca291a44b00876",
            "f9461e42731942e6a46fe97116d047a1",
            "d7e58dd137a747c8b629735901faf4d3",
            "0a5ce67a108747a08d4f9d7381b1b000",
            "bc73ee5569534264b02eaa7fb4086fef",
            "4b566cc301d547468c760836d2b40426",
            "9533dfe4e41a450f902985673ea8258a",
            "179c2803d96c40429d9fd07594820c1d",
            "4c56abf41f324cb2ab08dd2be3d5cbd9",
            "a4581239989f43e3bba767c5f8e5fffa",
            "03ba4ff849c94c1184df8c06ce007a8d",
            "7d562b19834446b59274b0e0bc60a754",
            "e254e5a08a614b39ba240ee1650c14f9",
            "1cd8dad4ed8043b3b11fbda104ee9a4e",
            "fc4c2518e51d42ccbe2f677abf1c07b1",
            "11741be0abce446683bfbf1d9cfb7311",
            "ba0fab24bfdd402aa142d38782a1a0d0",
            "d513d7cf49934635b9cf12063261bae8",
            "f681fc7a3cfa48e2b7873a0fb4229976",
            "54a766ec8ef04c84992bf41395a79ed6",
            "8b3974097a69480da6015697cda5938c",
            "1224c4a23e094ef2bde1bd0e7592b5a8",
            "cc55d65722884a4887401cdbd7be9990",
            "fd24e6402a424f0db8b3b1659799468b",
            "a6297550e4de42f98965660f291a7286",
            "123dcc8440b74852be5080f62f88c7f5",
            "e792f94791f948a9bd70daec9f097a02",
            "05a920cd6919401e97200f489c225fef",
            "8b010c5599814682979c3e61a28e37e5",
            "946492bc699f4c4c87de61b93cfae400",
            "7e87affa30d94adc989a4b0030da7091",
            "f39ffd68f4924530baa19c8a86c5afe3",
            "a42be28b3aac4083bf729db79acee46b",
            "f84debee27c9425e887fbc9ae25d4376",
            "2d1d536293c04e80b93b852b8ded0ff4",
            "986f43c9778e49dca496c42d87e57f7e",
            "a71dbd014159462291dcd8eaf9605b5f",
            "220f5c0c1e9c4775a15840f7d5572d76",
            "c8dedd4c16534f18979281ae6c0a1eba",
            "3706ac5a42d1406dbf5551b88596c9b1",
            "4e804b1085b1477796fadff164c1f0ca",
            "d2d331285ae842a4ac3b3a78a981f3ef",
            "f42b8960f229478aab07c2c90232e633",
            "c2f7f174de624e20a8e208624b283c9b",
            "d5579b27a8c241518fb7c194a713c7c0",
            "a7d0afe654ba4768815f72811f378e01",
            "da32a17e9c5946b386534820ba4863ae",
            "04cd1f2d673a4ae0931035dd97826935",
            "c62206e9fd3d4d9da9b37edb8726552e",
            "110eb082b37843f09ba1e16da45e8775",
            "91e248e018374ec5953b2a271eed575e",
            "0f5d0f5d13df495391740680b892a127",
            "fa266303b4df43dc91c6792ac069a326",
            "e335da1c742f4cf5b6eb07cabfcfc2a1",
            "2fd597eb46a445158148b5b13cc7afcb",
            "6cc7089434824bfabf949664ced9885e",
            "e50d70005f23496799655e666a9583ab",
            "b0766b09dad04369a996e4a2eab26156",
            "59cb358ce2d744748d3bf8b2980559fd",
            "af4ff3e12d7947d0a1356be0d9cb28e3",
            "032276621186463cb3bb853408097152",
            "59b1367ff8cc438d8b2fb6a622e9b9f8",
            "11a4256fbc904e82aaf12bcf87868a50",
            "30f60db5e16848fa985cfc753955db23",
            "668cb8eece82449c8de128aad58e3dce",
            "69d542e68c7d46b9a653f42978644604"
          ]
        },
        "id": "005YasEOJtnT",
        "outputId": "16b681f7-0137-42ff-d078-99cb2ed0f071"
      },
      "outputs": [
        {
          "name": "stderr",
          "output_type": "stream",
          "text": [
            "WARNING:absl:Variant folder /root/tensorflow_datasets/imdb_reviews/plain_text/1.0.0 has no dataset_info.json\n"
          ]
        },
        {
          "name": "stdout",
          "output_type": "stream",
          "text": [
            "Downloading and preparing dataset Unknown size (download: Unknown size, generated: Unknown size, total: Unknown size) to /root/tensorflow_datasets/imdb_reviews/plain_text/1.0.0...\n"
          ]
        },
        {
          "data": {
            "application/vnd.jupyter.widget-view+json": {
              "model_id": "990ffb0864ed4ae9926d390df1700112",
              "version_major": 2,
              "version_minor": 0
            },
            "text/plain": [
              "Dl Completed...: 0 url [00:00, ? url/s]"
            ]
          },
          "metadata": {},
          "output_type": "display_data"
        },
        {
          "data": {
            "application/vnd.jupyter.widget-view+json": {
              "model_id": "689c0991ee0c42f3aae33b3103038234",
              "version_major": 2,
              "version_minor": 0
            },
            "text/plain": [
              "Dl Size...: 0 MiB [00:00, ? MiB/s]"
            ]
          },
          "metadata": {},
          "output_type": "display_data"
        },
        {
          "data": {
            "application/vnd.jupyter.widget-view+json": {
              "model_id": "efc06532ac024c29ae8828a5239f5a7a",
              "version_major": 2,
              "version_minor": 0
            },
            "text/plain": [
              "Generating splits...:   0%|          | 0/3 [00:00<?, ? splits/s]"
            ]
          },
          "metadata": {},
          "output_type": "display_data"
        },
        {
          "data": {
            "application/vnd.jupyter.widget-view+json": {
              "model_id": "d1a031d6133d42de9fca291a44b00876",
              "version_major": 2,
              "version_minor": 0
            },
            "text/plain": [
              "Generating train examples...: 0 examples [00:00, ? examples/s]"
            ]
          },
          "metadata": {},
          "output_type": "display_data"
        },
        {
          "data": {
            "application/vnd.jupyter.widget-view+json": {
              "model_id": "7d562b19834446b59274b0e0bc60a754",
              "version_major": 2,
              "version_minor": 0
            },
            "text/plain": [
              "Shuffling /root/tensorflow_datasets/imdb_reviews/plain_text/incomplete.JLX3TH_1.0.0/imdb_reviews-train.tfrecor…"
            ]
          },
          "metadata": {},
          "output_type": "display_data"
        },
        {
          "data": {
            "application/vnd.jupyter.widget-view+json": {
              "model_id": "cc55d65722884a4887401cdbd7be9990",
              "version_major": 2,
              "version_minor": 0
            },
            "text/plain": [
              "Generating test examples...: 0 examples [00:00, ? examples/s]"
            ]
          },
          "metadata": {},
          "output_type": "display_data"
        },
        {
          "data": {
            "application/vnd.jupyter.widget-view+json": {
              "model_id": "f84debee27c9425e887fbc9ae25d4376",
              "version_major": 2,
              "version_minor": 0
            },
            "text/plain": [
              "Shuffling /root/tensorflow_datasets/imdb_reviews/plain_text/incomplete.JLX3TH_1.0.0/imdb_reviews-test.tfrecord…"
            ]
          },
          "metadata": {},
          "output_type": "display_data"
        },
        {
          "data": {
            "application/vnd.jupyter.widget-view+json": {
              "model_id": "d5579b27a8c241518fb7c194a713c7c0",
              "version_major": 2,
              "version_minor": 0
            },
            "text/plain": [
              "Generating unsupervised examples...: 0 examples [00:00, ? examples/s]"
            ]
          },
          "metadata": {},
          "output_type": "display_data"
        },
        {
          "data": {
            "application/vnd.jupyter.widget-view+json": {
              "model_id": "6cc7089434824bfabf949664ced9885e",
              "version_major": 2,
              "version_minor": 0
            },
            "text/plain": [
              "Shuffling /root/tensorflow_datasets/imdb_reviews/plain_text/incomplete.JLX3TH_1.0.0/imdb_reviews-unsupervised.…"
            ]
          },
          "metadata": {},
          "output_type": "display_data"
        },
        {
          "name": "stdout",
          "output_type": "stream",
          "text": [
            "Dataset imdb_reviews downloaded and prepared to /root/tensorflow_datasets/imdb_reviews/plain_text/1.0.0. Subsequent calls will reuse this data.\n"
          ]
        }
      ],
      "source": [
        "import tensorflow_datasets as tfds\n",
        "import tensorflow as tf\n",
        "\n",
        "raw_train_set,raw_valid_set,raw_test_set = tfds.load(\n",
        "    name = 'imdb_reviews',\n",
        "    split = [\"train[:90%]\",\"train[90%:]\",\"test\"],\n",
        "    as_supervised=True\n",
        ")\n",
        "tf.random.set_seed(42)\n",
        "train_set = raw_train_set.shuffle(5000,seed=42).batch(32).prefetch(1)\n",
        "valid_set = raw_valid_set.batch(32).prefetch(1)\n",
        "test_set = raw_test_set.batch(32).prefetch(1)\n"
      ]
    },
    {
      "cell_type": "code",
      "execution_count": null,
      "metadata": {
        "colab": {
          "base_uri": "https://localhost:8080/"
        },
        "id": "cSn945mFKsOL",
        "outputId": "2dbc0620-d923-4d87-918b-7d9fedd1ad4d"
      },
      "outputs": [
        {
          "name": "stdout",
          "output_type": "stream",
          "text": [
            "This was an absolutely terrible movie. Don't be lured in by Christopher Walken or Michael Ironside. Both are great actors, but this must simply be their worst role in history. Even their great acting  ...\n",
            "Label: 0\n",
            "I have been known to fall asleep during films, but this is usually due to a combination of things including, really tired, being warm and comfortable on the sette and having just eaten a lot. However  ...\n",
            "Label: 0\n",
            "Mann photographs the Alberta Rocky Mountains in a superb fashion, and Jimmy Stewart and Walter Brennan give enjoyable performances as they always seem to do. <br /><br />But come on Hollywood - a Moun ...\n",
            "Label: 0\n",
            "This is the kind of film for a snowy Sunday afternoon when the rest of the world can go ahead with its own business as you descend into a big arm-chair and mellow for a couple of hours. Wonderful perf ...\n",
            "Label: 1\n"
          ]
        }
      ],
      "source": [
        "for review, label in raw_train_set.take(4):\n",
        "  print(review.numpy().decode(\"utf-8\")[:200],\"...\")\n",
        "  print(\"Label:\",label.numpy())\n"
      ]
    },
    {
      "cell_type": "code",
      "execution_count": null,
      "metadata": {
        "id": "-9i7szSmL4pa"
      },
      "outputs": [],
      "source": [
        "vocab_size = 1000\n",
        "\n",
        "text_vec_layer = tf.keras.layers.TextVectorization(max_tokens=vocab_size,\n",
        "                                                   standardize=\"lower_and_strip_punctuation\")\n",
        "text_vec_layer.adapt(train_set.map(lambda review,label:review))\n"
      ]
    },
    {
      "cell_type": "code",
      "execution_count": null,
      "metadata": {
        "colab": {
          "base_uri": "https://localhost:8080/"
        },
        "id": "aKyF4rlENO6N",
        "outputId": "b264a6a4-0205-4b5c-ab50-6f6ec35a1252"
      },
      "outputs": [
        {
          "data": {
            "text/plain": [
              "['',\n",
              " '[UNK]',\n",
              " np.str_('the'),\n",
              " np.str_('and'),\n",
              " np.str_('a'),\n",
              " np.str_('of'),\n",
              " np.str_('to'),\n",
              " np.str_('is'),\n",
              " np.str_('in'),\n",
              " np.str_('it'),\n",
              " np.str_('i'),\n",
              " np.str_('this'),\n",
              " np.str_('that'),\n",
              " np.str_('br'),\n",
              " np.str_('was'),\n",
              " np.str_('as'),\n",
              " np.str_('for'),\n",
              " np.str_('with'),\n",
              " np.str_('movie'),\n",
              " np.str_('but'),\n",
              " np.str_('film'),\n",
              " np.str_('on'),\n",
              " np.str_('not'),\n",
              " np.str_('you'),\n",
              " np.str_('are'),\n",
              " np.str_('his'),\n",
              " np.str_('have'),\n",
              " np.str_('he'),\n",
              " np.str_('be'),\n",
              " np.str_('one'),\n",
              " np.str_('its'),\n",
              " np.str_('at'),\n",
              " np.str_('all'),\n",
              " np.str_('by'),\n",
              " np.str_('an'),\n",
              " np.str_('they'),\n",
              " np.str_('from'),\n",
              " np.str_('who'),\n",
              " np.str_('so'),\n",
              " np.str_('like'),\n",
              " np.str_('her'),\n",
              " np.str_('or'),\n",
              " np.str_('just'),\n",
              " np.str_('about'),\n",
              " np.str_('has'),\n",
              " np.str_('if'),\n",
              " np.str_('out'),\n",
              " np.str_('some'),\n",
              " np.str_('there'),\n",
              " np.str_('what')]"
            ]
          },
          "execution_count": 4,
          "metadata": {},
          "output_type": "execute_result"
        }
      ],
      "source": [
        "text_vec_layer.get_vocabulary()[:50]"
      ]
    },
    {
      "cell_type": "code",
      "execution_count": null,
      "metadata": {
        "colab": {
          "base_uri": "https://localhost:8080/"
        },
        "id": "VAZDd5lhOFLp",
        "outputId": "23cc4918-b79e-475e-9e39-a2bb5052226f"
      },
      "outputs": [
        {
          "data": {
            "text/plain": [
              "['',\n",
              " '[UNK]',\n",
              " 'the',\n",
              " 'and',\n",
              " 'a',\n",
              " 'of',\n",
              " 'to',\n",
              " 'is',\n",
              " 'in',\n",
              " 'it',\n",
              " 'i',\n",
              " 'this',\n",
              " 'that',\n",
              " 'br',\n",
              " 'was',\n",
              " 'as',\n",
              " 'for',\n",
              " 'with',\n",
              " 'movie',\n",
              " 'but',\n",
              " 'film',\n",
              " 'on',\n",
              " 'not',\n",
              " 'you',\n",
              " 'are',\n",
              " 'his',\n",
              " 'have',\n",
              " 'he',\n",
              " 'be',\n",
              " 'one',\n",
              " 'its',\n",
              " 'at',\n",
              " 'all',\n",
              " 'by',\n",
              " 'an',\n",
              " 'they',\n",
              " 'from',\n",
              " 'who',\n",
              " 'so',\n",
              " 'like',\n",
              " 'her',\n",
              " 'or',\n",
              " 'just',\n",
              " 'about',\n",
              " 'has',\n",
              " 'if',\n",
              " 'out',\n",
              " 'some',\n",
              " 'there',\n",
              " 'what']"
            ]
          },
          "execution_count": 5,
          "metadata": {},
          "output_type": "execute_result"
        }
      ],
      "source": [
        "list(map(str,text_vec_layer.get_vocabulary()[:50]))"
      ]
    },
    {
      "cell_type": "code",
      "execution_count": null,
      "metadata": {
        "colab": {
          "base_uri": "https://localhost:8080/"
        },
        "id": "Z_G965JtPU3j",
        "outputId": "eb81b078-43be-49a9-c022-5e55b9b46a9f"
      },
      "outputs": [
        {
          "data": {
            "text/plain": [
              "<tf.Tensor: shape=(2, 5), dtype=int64, numpy=\n",
              "array([[ 9, 14,  4, 86, 18],\n",
              "       [ 9, 14,  0,  0,  0]])>"
            ]
          },
          "execution_count": 6,
          "metadata": {},
          "output_type": "execute_result"
        }
      ],
      "source": [
        "text_vec_layer(['it was a great movie',\n",
        "                'it was'])"
      ]
    },
    {
      "cell_type": "code",
      "execution_count": null,
      "metadata": {
        "colab": {
          "base_uri": "https://localhost:8080/"
        },
        "id": "utGzWAbnbe_5",
        "outputId": "408c7dd1-05b1-4048-ca4d-0360c42f456b"
      },
      "outputs": [
        {
          "data": {
            "text/plain": [
              "<tf.Tensor: shape=(1, 5, 64), dtype=float32, numpy=\n",
              "array([[[ 2.60268115e-02, -1.02733485e-02,  3.37602943e-03,\n",
              "         -1.82926767e-02, -2.47020479e-02, -4.88804951e-02,\n",
              "          2.71451585e-02,  3.52067016e-02,  4.77752797e-02,\n",
              "          1.28271841e-02,  8.79146904e-03, -2.98127886e-02,\n",
              "         -1.80167779e-02, -2.34275460e-02,  3.20134647e-02,\n",
              "          1.91289224e-02, -4.84151766e-03, -3.84081975e-02,\n",
              "         -1.19172335e-02, -4.84213233e-05, -3.28062549e-02,\n",
              "         -4.22244072e-02,  6.08044863e-03, -3.47100869e-02,\n",
              "          4.22638990e-02,  7.55306333e-03, -1.43798962e-02,\n",
              "         -3.00671700e-02, -3.47423926e-02,  3.67965214e-02,\n",
              "         -3.12098619e-02,  1.87567361e-02,  2.81486847e-02,\n",
              "          1.40132345e-02, -2.74091121e-02, -2.12539360e-03,\n",
              "         -1.98273901e-02, -3.57831828e-02, -2.94149406e-02,\n",
              "         -3.77780795e-02,  2.66284868e-03, -4.28154729e-02,\n",
              "         -4.03235666e-02,  4.26441915e-02, -2.73364540e-02,\n",
              "          4.46898006e-02,  2.43209861e-02, -8.66241381e-03,\n",
              "          4.06242721e-02, -2.66933572e-02,  1.88106783e-02,\n",
              "          9.88773257e-03, -2.36780290e-02,  3.64650972e-02,\n",
              "         -2.77528912e-03,  3.91974337e-02,  4.34489176e-03,\n",
              "          4.62674759e-02,  3.84132527e-02,  4.08468135e-02,\n",
              "          4.64450158e-02, -2.11262703e-03,  7.19786808e-03,\n",
              "         -2.34632622e-02],\n",
              "        [-4.31005843e-02, -4.16915640e-02, -3.94635089e-02,\n",
              "          1.52086057e-02, -2.56159063e-02, -4.44049239e-02,\n",
              "          4.65389006e-02, -4.02356870e-02,  4.33480628e-02,\n",
              "          1.26365311e-02,  4.93423380e-02, -2.09877379e-02,\n",
              "          4.61283810e-02, -4.75862734e-02, -1.63459182e-02,\n",
              "         -2.62006763e-02,  1.09450929e-02, -6.79717213e-03,\n",
              "         -3.10475361e-02,  1.35096051e-02,  4.51172478e-02,\n",
              "         -2.42755562e-03,  8.11649486e-03,  1.28527321e-02,\n",
              "         -3.69680524e-02, -3.16200145e-02, -3.48481312e-02,\n",
              "         -4.82434034e-03,  2.28604116e-02, -2.29176767e-02,\n",
              "         -3.40198167e-02,  4.98800613e-02, -4.76763844e-02,\n",
              "          2.99815796e-02,  2.16082819e-02,  3.30570973e-02,\n",
              "          4.24819626e-02, -2.61189099e-02,  4.13413756e-02,\n",
              "          2.44616158e-02,  1.60447396e-02, -4.83084805e-02,\n",
              "          5.80932945e-03, -3.15399989e-02, -3.06121707e-02,\n",
              "         -2.84317266e-02, -1.55227408e-02, -3.78049240e-02,\n",
              "          2.80169584e-02, -1.74400210e-02, -4.83786352e-02,\n",
              "         -3.82275507e-03, -4.16371003e-02, -5.65576553e-03,\n",
              "          1.59418099e-02,  1.05827563e-02, -1.68247707e-02,\n",
              "         -2.33522784e-02,  4.79486473e-02, -4.45456877e-02,\n",
              "         -4.32572365e-02, -1.78107396e-02,  1.84170157e-03,\n",
              "          3.15646194e-02],\n",
              "        [-1.21799596e-02,  1.16889700e-02,  2.36626156e-02,\n",
              "          8.74586031e-03,  3.45135815e-02,  4.40582372e-02,\n",
              "          2.42705606e-02, -4.19024453e-02, -4.94993851e-03,\n",
              "          1.82136931e-02,  9.10795853e-03,  1.92795433e-02,\n",
              "          1.58627741e-02,  5.84683567e-03, -4.76198457e-02,\n",
              "          1.10026449e-03,  8.52140039e-03, -2.98193824e-02,\n",
              "          3.51224206e-02,  4.97489311e-02,  2.72338055e-02,\n",
              "         -3.27206999e-02,  2.14099921e-02,  3.33649404e-02,\n",
              "         -2.93536186e-02,  2.36082114e-02,  1.96154825e-02,\n",
              "          8.22994858e-03, -6.19249418e-03,  3.77473980e-03,\n",
              "          4.62139770e-03,  6.91548735e-03,  1.54621042e-02,\n",
              "          1.86098926e-02,  4.45869677e-02,  5.68572432e-03,\n",
              "         -3.78385894e-02,  2.02850215e-02, -6.27480447e-04,\n",
              "         -7.80302286e-03,  4.96135466e-02, -8.72797891e-03,\n",
              "         -9.64409113e-03,  2.94664241e-02, -2.93067694e-02,\n",
              "          4.33309339e-02,  8.42905045e-03, -2.94229146e-02,\n",
              "          4.78572883e-02, -4.06364687e-02,  3.14909555e-02,\n",
              "          2.11925842e-02, -6.54534250e-03,  1.30758435e-03,\n",
              "          5.66393137e-03,  3.70780714e-02, -1.98641419e-02,\n",
              "          4.80035879e-02,  4.37126644e-02, -2.09256541e-02,\n",
              "         -3.88882756e-02,  3.29833962e-02,  3.15499194e-02,\n",
              "         -4.42218557e-02],\n",
              "        [ 2.57932432e-02,  3.84011604e-02, -3.36910412e-03,\n",
              "          1.81810148e-02, -2.91266087e-02,  3.55465338e-03,\n",
              "          2.36281008e-03, -2.51583587e-02, -7.79177994e-03,\n",
              "         -1.16271600e-02, -4.90817912e-02, -4.00175340e-02,\n",
              "          4.02843989e-02,  2.20951550e-02,  6.70665503e-03,\n",
              "          1.23588443e-02,  1.85977668e-04,  4.12491448e-02,\n",
              "         -2.00128686e-02, -5.61385229e-03,  2.67322101e-02,\n",
              "         -4.30133604e-02, -3.48339230e-03,  4.85917367e-02,\n",
              "          4.24774736e-03, -4.57462780e-02, -4.91022952e-02,\n",
              "         -3.18368301e-02,  3.67320292e-02, -6.35309145e-03,\n",
              "          4.13865186e-02,  4.92264889e-02,  3.53960060e-02,\n",
              "         -3.43176126e-02,  4.96271998e-03,  9.91766527e-03,\n",
              "         -3.68943438e-02, -9.75726917e-03, -3.77217755e-02,\n",
              "         -2.96024680e-02,  2.36122683e-03, -4.19538505e-02,\n",
              "          1.60503499e-02, -4.51749824e-02, -9.20118019e-03,\n",
              "         -4.45793867e-02,  3.35687064e-02, -2.21656207e-02,\n",
              "          2.04371251e-02,  5.10122627e-03,  2.41573490e-02,\n",
              "          2.26982273e-02, -4.26589027e-02, -2.49312054e-02,\n",
              "         -1.78477764e-02, -4.47617881e-02, -1.50131956e-02,\n",
              "         -1.43835321e-02, -4.59510684e-02, -4.74745519e-02,\n",
              "         -3.66675034e-02,  2.15460993e-02,  2.80170701e-02,\n",
              "         -4.74905856e-02],\n",
              "        [-2.21756939e-02, -2.44117733e-02,  2.78910249e-03,\n",
              "         -3.47546339e-02,  3.53783034e-02,  2.16188319e-02,\n",
              "         -1.07760914e-02, -4.96356487e-02, -1.84528604e-02,\n",
              "          2.19994299e-02, -7.51525164e-03,  4.29289974e-02,\n",
              "          2.59461254e-03, -4.29719798e-02, -3.25970203e-02,\n",
              "         -2.17060577e-02,  4.97544296e-02, -1.39434338e-02,\n",
              "         -9.35461372e-03,  4.89910692e-03,  4.84144129e-02,\n",
              "          3.00560631e-02,  3.41420509e-02,  1.57917030e-02,\n",
              "          4.91794981e-02,  1.74704939e-03, -3.58485095e-02,\n",
              "          7.92671368e-03,  4.45405394e-03,  4.51573767e-02,\n",
              "         -4.01742831e-02, -2.15308797e-02, -2.82713417e-02,\n",
              "         -2.13549864e-02, -7.76220486e-03,  5.85690886e-03,\n",
              "         -1.14544630e-02,  3.19026969e-02,  2.00672261e-02,\n",
              "         -3.25604081e-02,  4.94958051e-02,  4.04655822e-02,\n",
              "          7.71982595e-03, -1.87256560e-02, -2.20943093e-02,\n",
              "          3.64698805e-02,  1.62143372e-02,  3.81888635e-02,\n",
              "         -2.00177357e-03,  3.05735953e-02, -5.73854521e-03,\n",
              "          3.80785204e-02,  3.08447368e-02, -4.39380482e-03,\n",
              "          1.76738948e-04,  1.30426623e-02, -4.29135561e-02,\n",
              "          1.90003850e-02, -5.66840172e-05, -1.23889446e-02,\n",
              "         -4.61473353e-02, -2.10358948e-03,  2.34409422e-03,\n",
              "          3.11221145e-02]]], dtype=float32)>"
            ]
          },
          "execution_count": 7,
          "metadata": {},
          "output_type": "execute_result"
        }
      ],
      "source": [
        "embed_layer = tf.keras.layers.Embedding(input_dim=vocab_size,output_dim=64)\n",
        "embed_layer(text_vec_layer(['it was a great movie']))"
      ]
    },
    {
      "cell_type": "code",
      "execution_count": null,
      "metadata": {
        "id": "Bm80uVE-by90"
      },
      "outputs": [],
      "source": [
        "embed_size = 128\n",
        "model = tf.keras.Sequential([\n",
        "    text_vec_layer,\n",
        "    tf.keras.layers.Embedding(input_dim = vocab_size,output_dim=embed_size,mask_zero=True),\n",
        "    tf.keras.layers.GRU(128),\n",
        "    tf.keras.layers.Dense(1,activation=\"sigmoid\")\n",
        "])"
      ]
    },
    {
      "cell_type": "code",
      "execution_count": null,
      "metadata": {
        "colab": {
          "base_uri": "https://localhost:8080/"
        },
        "id": "GRqZPJ2_c7p_",
        "outputId": "d7c506ad-5d5f-4df3-e3c2-9dd84fe072ea"
      },
      "outputs": [
        {
          "name": "stdout",
          "output_type": "stream",
          "text": [
            "Epoch 1/2\n",
            "\u001b[1m704/704\u001b[0m \u001b[32m━━━━━━━━━━━━━━━━━━━━\u001b[0m\u001b[37m\u001b[0m \u001b[1m26s\u001b[0m 32ms/step - accuracy: 0.6472 - loss: 0.6086 - val_accuracy: 0.8344 - val_loss: 0.3872\n",
            "Epoch 2/2\n",
            "\u001b[1m704/704\u001b[0m \u001b[32m━━━━━━━━━━━━━━━━━━━━\u001b[0m\u001b[37m\u001b[0m \u001b[1m23s\u001b[0m 32ms/step - accuracy: 0.8556 - loss: 0.3414 - val_accuracy: 0.8696 - val_loss: 0.3065\n"
          ]
        },
        {
          "data": {
            "text/plain": [
              "<keras.src.callbacks.history.History at 0x7ce0c358a610>"
            ]
          },
          "execution_count": 9,
          "metadata": {},
          "output_type": "execute_result"
        }
      ],
      "source": [
        "model.compile(\n",
        "    loss = 'binary_crossentropy',\n",
        "    optimizer= tf.keras.optimizers.Nadam(learning_rate=1e-3),\n",
        "    metrics = ['accuracy']\n",
        ")\n",
        "model.fit(train_set,validation_data = valid_set,epochs=2)"
      ]
    },
    {
      "cell_type": "code",
      "execution_count": null,
      "metadata": {
        "id": "9ePguXU-djrZ"
      },
      "outputs": [],
      "source": [
        "embedding_weights = model.layers[1].get_weights()[0]"
      ]
    },
    {
      "cell_type": "code",
      "execution_count": null,
      "metadata": {
        "id": "tZP4NypBfedr"
      },
      "outputs": [],
      "source": [
        "import numpy as np\n",
        "np.savetxt(\"embeddings.tsv\",embedding_weights,delimiter=\"\\t\")"
      ]
    },
    {
      "cell_type": "code",
      "execution_count": null,
      "metadata": {
        "id": "4wzUiXF2ftdb"
      },
      "outputs": [],
      "source": [
        "vocab = text_vec_layer.get_vocabulary()\n",
        "\n",
        "with open(\"metadata.tsv\",\"w\",encoding = \"utf-8\") as f:\n",
        "  for word in vocab:\n",
        "    word = word if word.strip()!=\"\" else \"<PAD>\"\n",
        "    f.write(f\"{word}\\n\")"
      ]
    },
    {
      "cell_type": "markdown",
      "metadata": {
        "id": "CtbpZARygPOw"
      },
      "source": [
        "#Generating Shakespearean Text Using a Character RNN"
      ]
    },
    {
      "cell_type": "code",
      "execution_count": null,
      "metadata": {
        "colab": {
          "base_uri": "https://localhost:8080/"
        },
        "id": "N2i-MygPjLVV",
        "outputId": "28844687-4270-43aa-ca1d-507de427d006"
      },
      "outputs": [
        {
          "name": "stdout",
          "output_type": "stream",
          "text": [
            "Downloading data from https://homl.info/shakespeare\n",
            "\u001b[1m1115394/1115394\u001b[0m \u001b[32m━━━━━━━━━━━━━━━━━━━━\u001b[0m\u001b[37m\u001b[0m \u001b[1m0s\u001b[0m 0us/step\n"
          ]
        }
      ],
      "source": [
        "import tensorflow as tf\n",
        "shakespeare_url = \"https://homl.info/shakespeare\"\n",
        "\n",
        "filepath = tf.keras.utils.get_file(\"shakespeare.txt\",shakespeare_url)\n",
        "with open(filepath) as f:\n",
        "  shakespeare_text = f.read()"
      ]
    },
    {
      "cell_type": "code",
      "execution_count": null,
      "metadata": {
        "colab": {
          "base_uri": "https://localhost:8080/"
        },
        "id": "KYE9AsVFjsLP",
        "outputId": "7c3b779b-d8c1-4051-a1f1-d55aae2a4c1f"
      },
      "outputs": [
        {
          "name": "stdout",
          "output_type": "stream",
          "text": [
            "First Citizen:\n",
            "Before we proceed any further, hear me speak.\n",
            "\n",
            "All:\n",
            "Speak, speak.\n"
          ]
        }
      ],
      "source": [
        "print(shakespeare_text[:80])"
      ]
    },
    {
      "cell_type": "code",
      "execution_count": null,
      "metadata": {
        "colab": {
          "base_uri": "https://localhost:8080/",
          "height": 36
        },
        "id": "ScRTeQ1FkQtP",
        "outputId": "506ea4dc-f044-4511-c4e6-5da76ddbf97a"
      },
      "outputs": [
        {
          "data": {
            "application/vnd.google.colaboratory.intrinsic+json": {
              "type": "string"
            },
            "text/plain": [
              "\"\\n !$&',-.3:;?abcdefghijklmnopqrstuvwxyz\""
            ]
          },
          "execution_count": 3,
          "metadata": {},
          "output_type": "execute_result"
        }
      ],
      "source": [
        "''.join(sorted(set(shakespeare_text.lower())))"
      ]
    },
    {
      "cell_type": "code",
      "execution_count": null,
      "metadata": {
        "id": "NmJfJW8CkieP"
      },
      "outputs": [],
      "source": [
        "text_vec_layer  = tf.keras.layers.TextVectorization(split='character',\n",
        "                                                    standardize = 'lower')#. vergul lazim\n",
        "text_vec_layer.adapt(shakespeare_text)\n",
        "encoded = text_vec_layer(shakespeare_text)#-elave listun ichinden cixaririq tex vece gonderririk"
      ]
    },
    {
      "cell_type": "code",
      "execution_count": null,
      "metadata": {
        "id": "m6bAneDIlT7v"
      },
      "outputs": [],
      "source": [
        "encoded -=2 #unkw ve paddingi sil - qiymet ignore edir onunchun 0-2 ve.s\n",
        "vocab_size = text_vec_layer.vocabulary_size() - 2\n",
        "dataset_size = len(encoded)\n"
      ]
    },
    {
      "cell_type": "code",
      "execution_count": null,
      "metadata": {
        "colab": {
          "base_uri": "https://localhost:8080/"
        },
        "id": "RQfwnT7Ol3Bm",
        "outputId": "3df71bfc-c495-4b12-84ef-2ff0cbc504e5"
      },
      "outputs": [
        {
          "data": {
            "text/plain": [
              "1115394"
            ]
          },
          "execution_count": 7,
          "metadata": {},
          "output_type": "execute_result"
        }
      ],
      "source": [
        "dataset_size #listin ichinen cixarmasaq 1 olar"
      ]
    },
    {
      "cell_type": "code",
      "execution_count": null,
      "metadata": {
        "id": "UtzNoggzm9MM"
      },
      "outputs": [],
      "source": [
        "#input -> Before we proceed any furthe\n",
        "#output -> efore we proceed any further"
      ]
    },
    {
      "cell_type": "code",
      "execution_count": null,
      "metadata": {
        "id": "RCb4kSNel49p"
      },
      "outputs": [],
      "source": [
        "def to_dataset(sequence , lenght ,seed =None,shuffle = False,batch_size = 32):\n",
        "  ds = tf.data.Dataset.from_tensor_slices(sequence)\n",
        "  ds = ds.window(lenght+1,shift=1,drop_remainder = True) #qissa daha suretlidi amma kokhne elaqeler unudulur\n",
        "  ds = ds.flat_map(lambda window_ds: window_ds.batch(lenght+1)) #hamisini birleshdirir\n",
        "  if shuffle :\n",
        "    ds = ds.shuffle(100_000,seed=seed) #batchleri qarishdir\n",
        "  ds = ds.batch(batch_size)\n",
        "  return ds.map(lambda window:(window[:,:-1],window[:,1:]))"
      ]
    },
    {
      "cell_type": "code",
      "execution_count": null,
      "metadata": {
        "id": "YEBT-y1CnzqE"
      },
      "outputs": [],
      "source": [
        "lenght = 100\n",
        "tf.random.set_seed(42)\n",
        "train_set = to_dataset(encoded[:1_000_000],lenght=lenght,shuffle=True,\n",
        "                       seed=42)\n",
        "valid_set = to_dataset(encoded[1_000_000:1_060_000],lenght=lenght)\n",
        "test_set = to_dataset(encoded[1_060_000:],lenght=lenght)"
      ]
    },
    {
      "cell_type": "code",
      "execution_count": null,
      "metadata": {
        "colab": {
          "base_uri": "https://localhost:8080/"
        },
        "id": "-qQ2J-CRoat8",
        "outputId": "cc16cbe5-026c-459a-cb87-bf55cdb2bad3"
      },
      "outputs": [
        {
          "name": "stdout",
          "output_type": "stream",
          "text": [
            "  31244/Unknown \u001b[1m401s\u001b[0m 12ms/step - accuracy: 0.5485 - loss: 1.4933"
          ]
        },
        {
          "name": "stderr",
          "output_type": "stream",
          "text": [
            "/usr/local/lib/python3.11/dist-packages/keras/src/trainers/epoch_iterator.py:151: UserWarning: Your input ran out of data; interrupting training. Make sure that your dataset or generator can generate at least `steps_per_epoch * epochs` batches. You may need to use the `.repeat()` function when building your dataset.\n",
            "  self._interrupted_warning()\n"
          ]
        },
        {
          "name": "stdout",
          "output_type": "stream",
          "text": [
            "\b\b\b\b\b\b\b\b\b\b\b\b\b\b\b\b\b\b\b\b\b\b\b\b\b\b\b\b\b\b\b\b\b\b\b\b\b\b\b\b\b\b\b\b\b\b\b\b\b\b\b\b\b\b\b\b\b\b\b\b\b\b\b\b\r",
            "\u001b[1m31247/31247\u001b[0m \u001b[32m━━━━━━━━━━━━━━━━━━━━\u001b[0m\u001b[37m\u001b[0m \u001b[1m417s\u001b[0m 13ms/step - accuracy: 0.5485 - loss: 1.4933 - val_accuracy: 0.5337 - val_loss: 1.6072\n"
          ]
        }
      ],
      "source": [
        "model = tf.keras.Sequential([\n",
        "    tf.keras.layers.Embedding(input_dim = vocab_size,output_dim=16), #bir herifi ifade etmek uchun kifayetdi\n",
        "    tf.keras.layers.GRU(128,return_sequences = True), #y- i return etsin  hamisinda cixir\n",
        "    tf.keras.layers.Dense(vocab_size,activation=\"softmax\") #her neyron bir herif\n",
        "])\n",
        "model.compile(loss=\"sparse_categorical_crossentropy\",optimizer=\"nadam\",\n",
        "              metrics = [\"accuracy\"])\n",
        "\n",
        "model_ckpt = tf.keras.callbacks.ModelCheckpoint(\n",
        "    \"my_shakespeare_model.keras\",\n",
        "    monitor=\"val_accuracy\",\n",
        "    save_best_only = True)\n",
        "\n",
        "history = model.fit(train_set,validation_data=valid_set,epochs=1,\n",
        "                    callbacks=[model_ckpt])"
      ]
    },
    {
      "cell_type": "code",
      "execution_count": null,
      "metadata": {
        "id": "-dm3NSWlp3SC"
      },
      "outputs": [],
      "source": [
        "shakespeare_model = tf.keras.Sequential([ #test uchun\n",
        "    text_vec_layer,\n",
        "    tf.keras.layers.Lambda(lambda X:X-2), #paddingle baqli pad unk\n",
        "    model\n",
        "])"
      ]
    },
    {
      "cell_type": "code",
      "execution_count": null,
      "metadata": {
        "colab": {
          "base_uri": "https://localhost:8080/",
          "height": 52
        },
        "id": "I8Rgia0KrxWX",
        "outputId": "44eba7b3-8006-468c-d82a-81af11bd7f62"
      },
      "outputs": [
        {
          "name": "stdout",
          "output_type": "stream",
          "text": [
            "\u001b[1m1/1\u001b[0m \u001b[32m━━━━━━━━━━━━━━━━━━━━\u001b[0m\u001b[37m\u001b[0m \u001b[1m0s\u001b[0m 206ms/step\n"
          ]
        },
        {
          "data": {
            "application/vnd.google.colaboratory.intrinsic+json": {
              "type": "string"
            },
            "text/plain": [
              "np.str_('e')"
            ]
          },
          "execution_count": 15,
          "metadata": {},
          "output_type": "execute_result"
        }
      ],
      "source": [
        "y_proba = shakespeare_model.predict(tf.constant([\"To be or not to b\"]))[0,-1] #en axirinci herifi qaytarmisr !!!\n",
        "y_pred = tf.argmax(y_proba)\n",
        "text_vec_layer.get_vocabulary()[y_pred+2] #unk ve pad"
      ]
    },
    {
      "cell_type": "markdown",
      "metadata": {
        "id": "QauT60V2s6-w"
      },
      "source": [
        "#Generating Fake Shakespeare text"
      ]
    },
    {
      "cell_type": "code",
      "execution_count": null,
      "metadata": {
        "colab": {
          "base_uri": "https://localhost:8080/"
        },
        "id": "k4FSm_7xuI8l",
        "outputId": "cc9a13ea-626f-4139-b138-3875856baf8a"
      },
      "outputs": [
        {
          "data": {
            "text/plain": [
              "<tf.Tensor: shape=(1, 8), dtype=int64, numpy=array([[0, 0, 0, 1, 0, 0, 0, 1]])>"
            ]
          },
          "execution_count": 37,
          "metadata": {},
          "output_type": "execute_result"
        }
      ],
      "source": [
        "log_probas = tf.math.log([[0.5,0.3,0.2]])\n",
        "tf.random.categorical(log_probas,num_samples=8)"
      ]
    },
    {
      "cell_type": "code",
      "execution_count": null,
      "metadata": {
        "id": "l1UB7UpioihX"
      },
      "outputs": [],
      "source": [
        "#\"Bu log ehtimallardan istifadə et, və 8 dəfə təsadüfi kateqoriya seç\"\n",
        "\n",
        "#Yəni, 0.5 ehtimalla 0, 0.3 ilə 1, 0.2 ilə 2 gələcək."
      ]
    },
    {
      "cell_type": "code",
      "execution_count": null,
      "metadata": {
        "colab": {
          "base_uri": "https://localhost:8080/"
        },
        "id": "tjyhBsI3mgQo",
        "outputId": "ed04122d-1d67-4a0a-a898-450fa154a73e"
      },
      "outputs": [
        {
          "name": "stdout",
          "output_type": "stream",
          "text": [
            "\u001b[1m1/1\u001b[0m \u001b[32m━━━━━━━━━━━━━━━━━━━━\u001b[0m\u001b[37m\u001b[0m \u001b[1m0s\u001b[0m 30ms/step\n"
          ]
        },
        {
          "data": {
            "text/plain": [
              "(14, 39)"
            ]
          },
          "execution_count": 26,
          "metadata": {},
          "output_type": "execute_result"
        }
      ],
      "source": [
        "shakespeare_model.predict(tf.constant(['hello my dearr']))[0].shape #cumledeki charekterler setirde -- yeni h-dan sonra hansi l dan sonra hansi ve.s --> butun vocabulary uzre"
      ]
    },
    {
      "cell_type": "code",
      "execution_count": null,
      "metadata": {
        "id": "I4zyzVsboeCL"
      },
      "outputs": [],
      "source": []
    },
    {
      "cell_type": "code",
      "execution_count": null,
      "metadata": {
        "colab": {
          "base_uri": "https://localhost:8080/"
        },
        "id": "IAY93FqsnK5x",
        "outputId": "88a8d7bd-12c1-47b5-de44-995ef2a67dbe"
      },
      "outputs": [
        {
          "name": "stdout",
          "output_type": "stream",
          "text": [
            "\u001b[1m1/1\u001b[0m \u001b[32m━━━━━━━━━━━━━━━━━━━━\u001b[0m\u001b[37m\u001b[0m \u001b[1m0s\u001b[0m 30ms/step\n"
          ]
        },
        {
          "data": {
            "text/plain": [
              "array([[3.69505249e-02, 2.75135607e-01, 2.76962855e-05, 1.36351194e-02,\n",
              "        3.04775499e-02, 1.35534242e-01, 2.32875591e-05, 5.54100983e-02,\n",
              "        2.10383977e-03, 4.07455673e-06, 4.97320257e-02, 2.53603503e-04,\n",
              "        1.09040855e-04, 2.61573605e-02, 1.83994329e-04, 5.41657768e-02,\n",
              "        1.11590640e-03, 2.45396625e-02, 2.06100231e-04, 4.77084331e-03,\n",
              "        1.47981060e-04, 3.30972427e-04, 1.33541116e-05, 2.35887337e-03,\n",
              "        8.31076704e-07, 1.48155232e-05, 2.57752016e-02, 2.22173974e-01,\n",
              "        1.06029818e-02, 3.89179611e-03, 2.26366110e-02, 1.50033308e-03,\n",
              "        7.92848459e-06, 9.41146993e-07, 6.91933155e-06, 1.17855791e-07,\n",
              "        1.12989778e-08, 5.74992365e-09, 1.53976040e-12]], dtype=float32)"
            ]
          },
          "execution_count": 33,
          "metadata": {},
          "output_type": "execute_result"
        }
      ],
      "source": [
        "shakespeare_model.predict(tf.constant(['hello my dearr']))[0,-1:]#noqtesizde eyni neticeni verdi"
      ]
    },
    {
      "cell_type": "code",
      "execution_count": null,
      "metadata": {
        "id": "BF04GxeAuctx"
      },
      "outputs": [],
      "source": [
        "def next_char(text,temperature):\n",
        "  text = tf.constant([text])\n",
        "  y_proba = shakespeare_model.predict(text)[0,-1:]# niye iki noqte\n",
        "  rescaled_logits = tf.math.log(y_proba)/temperature\n",
        "  char_id = tf.random.categorical(rescaled_logits,num_samples=1)[0,0]# iki moteroized qurtaramq uchun\n",
        "  return text_vec_layer.get_vocabulary()[char_id+2] #chartcertid tapidi"
      ]
    },
    {
      "cell_type": "code",
      "execution_count": null,
      "metadata": {
        "id": "er2bJTTbvspH"
      },
      "outputs": [],
      "source": [
        "def extent_text(text,chars=50,temperature = 1):\n",
        "  for _ in range(chars):\n",
        "    text +=next_char(text,temperature)\n",
        "  return text"
      ]
    },
    {
      "cell_type": "code",
      "execution_count": null,
      "metadata": {
        "id": "AV7OO7pxxR-x"
      },
      "outputs": [],
      "source": [
        "extent_text('to be or not to be',chars = 100,temperature = 1)"
      ]
    },
    {
      "cell_type": "markdown",
      "metadata": {
        "id": "o5688cIxxZOs"
      },
      "source": [
        "#An Encoder-Decoder Network for Neural Machine Translation"
      ]
    },
    {
      "cell_type": "code",
      "execution_count": null,
      "metadata": {
        "colab": {
          "base_uri": "https://localhost:8080/"
        },
        "id": "b1ux-Ckx0Ehh",
        "outputId": "e2bf5468-39ad-4701-da6c-626bdb3e2153"
      },
      "outputs": [
        {
          "name": "stdout",
          "output_type": "stream",
          "text": [
            "Downloading data from https://storage.googleapis.com/download.tensorflow.org/data/spa-eng.zip\n",
            "\u001b[1m2638744/2638744\u001b[0m \u001b[32m━━━━━━━━━━━━━━━━━━━━\u001b[0m\u001b[37m\u001b[0m \u001b[1m0s\u001b[0m 0us/step\n",
            "Go.\tVe.\n",
            "Go.\tVete.\n",
            "Go.\tVaya.\n",
            "Go.\tVáyase.\n",
            "Hi.\tHola.\n",
            "Run!\t¡Corre!\n",
            "Run.\tCorred.\n",
            "Who?\t¿Quién?\n",
            "Fire!\t¡Fuego!\n",
            "Fire!\t¡Incendio!\n",
            "Fire!\t¡Disparad!\n",
            "Help!\t¡Ayuda!\n",
            "Help!\t¡Socorro! ¡Auxilio!\n",
            "Help!\t¡Auxilio!\n",
            "Jump!\t¡Salta!\n",
            "Jump.\tSalte.\n",
            "Stop!\t¡Parad!\n",
            "Stop!\t¡Para!\n",
            "Stop!\t¡Pare!\n",
            "Wait!\t¡Espera!\n",
            "Wait.\tEsperen.\n",
            "Go on.\tContinúa.\n",
            "Go on.\tContinúe.\n",
            "Hello!\tHola.\n",
            "I ran.\tCorrí.\n",
            "I ran.\tCorría.\n",
            "I try.\tLo intento.\n",
            "I won!\t¡He ganado!\n",
            "Oh no!\t¡Oh, no!\n",
            "Relax.\tTomátelo con soda.\n",
            "Smile.\tSonríe.\n",
            "Attack!\t¡Al ataque!\n",
            "Attack!\t¡Atacad!\n",
            "Ge\n"
          ]
        }
      ],
      "source": [
        "from pathlib import Path\n",
        "import tensorflow as tf\n",
        "\n",
        "url = \"https://storage.googleapis.com/download.tensorflow.org/data/spa-eng.zip\"\n",
        "path = tf.keras.utils.get_file(\"spa-eng.zip\", origin=url, cache_dir=\"datasets\", extract=True)\n",
        "\n",
        "# Final corrected path\n",
        "spa_txt_path = Path(path).parent / \"spa-eng_extracted\" / \"spa-eng\" / \"spa.txt\"\n",
        "\n",
        "# Read the file\n",
        "text = spa_txt_path.read_text(encoding='utf-8')\n",
        "print(text[:500])  # Print first 500 characters as a quick check"
      ]
    },
    {
      "cell_type": "code",
      "execution_count": null,
      "metadata": {
        "id": "B27mlr7F0JHp"
      },
      "outputs": [],
      "source": [
        "import numpy as np\n",
        "\n",
        "text = text.replace(\"i\",\"\").replace(\"¿\",\"\")\n",
        "pairs = [line.split('\\t')for line in text.splitlines()]\n",
        "np.random.seed(42)\n",
        "np.random.shuffle(pairs)\n",
        "sentence_en ,sentences_es = zip(*pairs)"
      ]
    },
    {
      "cell_type": "code",
      "execution_count": null,
      "metadata": {
        "colab": {
          "base_uri": "https://localhost:8080/"
        },
        "id": "sEDSIxs405u0",
        "outputId": "d650ea39-b58f-4319-d9e8-e97c6c8a0120"
      },
      "outputs": [
        {
          "data": {
            "text/plain": [
              "[['How borng!', '¡Qué aburrmento!'],\n",
              " ['I love sports.', 'Adoro el deporte.'],\n",
              " ['Would you lke to swap jobs?', 'Te gustaría que ntercambemos los trabajos?'],\n",
              " ['My mother dd nothng but weep.', 'M madre no hzo nada sno llorar.'],\n",
              " ['Croata s n the southeastern part of Europe.',\n",
              "  'Croaca está en el sudeste de Europa.'],\n",
              " ['I have never eaten a mango before.', 'Nunca he comdo un mango.'],\n",
              " ['Tell the tax drver to drve faster.',\n",
              "  'Decle al taxsta que maneje más rápdo.'],\n",
              " ['Tom and I work together.', 'Tom y yo trabajamos juntos.'],\n",
              " ['I would prefer an honorable death.', 'Preferría una muerte honorable.'],\n",
              " ['Tom marred a much younger woman.',\n",
              "  'Tom se ha casado con una mujer mucho más joven.'],\n",
              " [\"It couldn't happen to me.\", 'A mí no podría pasarme.'],\n",
              " [\"Tom sn't gong to marry you.\", 'Tom no se va a casar contgo.'],\n",
              " [\"Can you beleve t? He's even lazer than me.\",\n",
              "  'Puedes creerlo? Él es aún más flojo que yo.'],\n",
              " ['She has hundreds of books.', 'Ella tene centos de lbros.'],\n",
              " ['They found hm gulty.', 'Lo encontraron culpable.'],\n",
              " ['Tom calls Mary up every nght.', 'Tom llama todas las noches a Mary.'],\n",
              " [\"Tom says he won't come.\", 'Tom dce que no va a venr.'],\n",
              " [\"I don't mnd f the weather s hot.\", 'No me mporta que haga calor.'],\n",
              " ['It s dffcult to speak Chnese well.', 'Es dfícl hablar ben chno.'],\n",
              " [\"Tom clamed that he ddn't know Mary.\", 'Tom decía no conocer a Mary.'],\n",
              " ['Just come up here.', 'Venga, ven aquí.'],\n",
              " ['Tom has a strange way of talkng.', 'Tom tene una forma rara de hablar.'],\n",
              " ['Tom has many frends lvng n Boston.',\n",
              "  'Tom tene muchos amgos vvendo en Boston.'],\n",
              " ['I made my decson.', 'Tomé m decsón.'],\n",
              " ['Come agan tomorrow.', 'Vuelvan mañana.'],\n",
              " [\"I thnk I'm stll drunk from last nght.\",\n",
              "  'Creo que todavía estoy borracho de anoche.'],\n",
              " ['My father and my brother work n ths factory.',\n",
              "  'M padre y m hermano trabajan en esta fábrca.'],\n",
              " ['We need your sgnature.', 'Necestamos su frma.'],\n",
              " [\"Learn from others' mstakes.\", 'Aprende de los errores de los demás.'],\n",
              " ['The dog walked backward.', 'El perro camnaba para atrás.'],\n",
              " [\"I don't want to drnk anythng.\", 'No quero beber nada.'],\n",
              " ['Everybody lkes hm.', 'Todos lo queren.'],\n",
              " ['My father dsapproved of my gong to the concert.',\n",
              "  'M padre se opuso a que fuera al concerto.'],\n",
              " ['She s a snger.', 'Ella es cantante.'],\n",
              " ['Tom has somethng n hs rght hand.', 'Tom tene algo en su mano derecha.'],\n",
              " ['She s a leader n her feld.', 'Es una autordad en su campo.'],\n",
              " [\"They're sunbathng around the pool.\",\n",
              "  'Ellas están tomando sol alrededor de la pscna.'],\n",
              " [\"I thnk Tom ddn't understand the joke.\",\n",
              "  'Creo que Tomás no entendó la broma.'],\n",
              " [\"I don't lke doctors.\", 'No me gustan los médcos.'],\n",
              " [\"Don't laugh at hm.\", 'No te rías de él.'],\n",
              " ['The enemy attacked from behnd.', 'El enemgo atacó por detrás.'],\n",
              " ['Is Tom famous?', 'Tom es famoso?'],\n",
              " ['I asked hm f I could read hs book.', 'Le pregunté s podía leer su lbro.'],\n",
              " ['I have a slght pan n my sde.', 'Tengo un lgero dolor en m costado.'],\n",
              " [\"You don't speak Englsh, do you?\", 'Tú no hablas nglés, verdad?'],\n",
              " ['They are more or less the same sze.', 'Son más o menos del msmo tamaño.'],\n",
              " ['Nether of these s mne.', 'Nnguno de éstos es mío.'],\n",
              " ['Tom s the person to ask.', 'Tom es la persona a preguntar.'],\n",
              " [\"I don't lke ths shrt. Show me another one.\",\n",
              "  'Esta camsa no me gusta. Enséñame otra.'],\n",
              " ['Tom wanted to know who Mary had been datng.',\n",
              "  'Tom quería saber con quén había estado salendo Mary.'],\n",
              " [\"I ddn't thnk ths was your seat.\", 'No pensé que fuera tu asento.'],\n",
              " ['The glass s drty.', 'El vaso está suco.'],\n",
              " [\"You ddn't want to tell Tom about that, dd you?\",\n",
              "  'No querías contárselo a Tom, verdad?'],\n",
              " [\"You've msunderstood.\", 'Lo habés entenddo mal.'],\n",
              " ['Tom cheated.', 'Tomás hzo trampa.'],\n",
              " ['The doctor took my pulse.', 'El doctor me tomó el pulso.'],\n",
              " ['Tps are not accepted.', 'No se aceptan propnas.'],\n",
              " [\"It's your turn to read.\", 'Es tu turno de leer.'],\n",
              " [\"I wasn't careful.\", 'No fu preocupado.'],\n",
              " ['Enjoy your meal.', 'Que aproveche.'],\n",
              " [\"I don't mnd sharng the room wth hm.\",\n",
              "  'No me molesta compartr la habtacón con él.'],\n",
              " [\"You know me well enough to know I wouldn't do that.\",\n",
              "  'Me conoces lo sufcentemente ben para saber que yo no lo haría.'],\n",
              " ['You should try the exam agan.', 'Deberías volver a presentarte al examen.'],\n",
              " ['He shot at the brd, but mssed t.',\n",
              "  'Él le dsparó al pájaro, sn embargo falló.'],\n",
              " [\"I don't want trouble.\", 'No quero problemas.'],\n",
              " ['Tom has no memory of what happened.',\n",
              "  'Tom no tene recuerdos de lo que ocurró.'],\n",
              " [\"I don't know why I bother comng here.\",\n",
              "  'No sé por qué me molesto en venr aquí.'],\n",
              " ['Is ths a bad tme to chat?', 'Es mal momento para charlar?'],\n",
              " ['There were no rados n those days.', 'No había rados aún entonces.'],\n",
              " ['Does Tom have a grlfrend?', 'Tom tene nova?'],\n",
              " [\"The defendant's nnocence could not be verfed.\",\n",
              "  'No se pudo comprobar la nocenca del acusado.'],\n",
              " ['Who told you to brng me here?', 'Quén te ha dcho que me tragas aquí?'],\n",
              " ['What was there?', 'Qué ha sdo eso?'],\n",
              " [\"You told me t wouldn't ran today, so I ddn't brng an umbrella.\",\n",
              "  'Me djste que no ba a llover hoy, así que no traje un paraguas.'],\n",
              " [\"I don't lke to be dsturbed.\", 'No me gusta que me molesten.'],\n",
              " [\"Tom doesn't trust us.\", 'Tom no confía en nosotros.'],\n",
              " ['Please forgve me.', 'Por favor, perdóname.'],\n",
              " ['They wll survey the desert sland.', 'Ellos nspecconarán la sla deserta.'],\n",
              " ['Can you speak a lttle slower?', 'Puede hablar un poco más despaco?'],\n",
              " [\"Don't underestmate the problem.\", 'No subestmes el problema.'],\n",
              " ['Tom took my car.', 'Tom cogó m coche.'],\n",
              " [\"We ddn't do anythng wrong.\", 'No hcmos nada malo.'],\n",
              " ['It makes no dfference to me whether he comes or not.',\n",
              "  'Me da gual que venga o no.'],\n",
              " ['I love weddngs.', 'Me encantan las bodas.'],\n",
              " ['I got jealous.', 'Yo me puse celoso.'],\n",
              " [\"I thnk t's tme for me to dscuss the problem wth her.\",\n",
              "  'Creo que es hora de que dscuta el problema con ella.'],\n",
              " ['Tom comes here every day.', 'Tom vene aquí todos los días.'],\n",
              " ['Just gnore her.', 'Solo gnórala.'],\n",
              " [\"There are few men who don't know that.\",\n",
              "  'Hay pocos hombres que no lo saben.'],\n",
              " ['Let me pay my share.', 'Permtme pagar m parte.'],\n",
              " [\"I've come back for you.\", 'He vuelto por t.'],\n",
              " ['Those books are mne.', 'Son ms lbros.'],\n",
              " ['The restaurant s next door to the theater.',\n",
              "  'El restaurante está al lado del teatro.'],\n",
              " ['I know what that means.', 'Yo sé lo que eso sgnfca.'],\n",
              " ['She s good at speakng Englsh.', 'Ella destaca en conversacón nglesa.'],\n",
              " [\"He's always jokng.\", 'Está sempre bromeando.'],\n",
              " ['What dd you do wth that camera?', 'Qué hcste con esa cámara?'],\n",
              " ['Just make ths stop.', 'Haz que pare.'],\n",
              " ['I saw many famlar faces.', 'V muchas caras famlares.'],\n",
              " ['If you are gong to go to Amerca, you should brush up your Englsh.',\n",
              "  'S vas a r a los Estados Undos, deberías refrescar tu nglés.'],\n",
              " ['Tom lves n the room above us.',\n",
              "  'Tom vve en la habtacón encma de la nuestra.'],\n",
              " ['Are you suggestng we run and hde?',\n",
              "  'Estás sugrendo que corramos y nos escondamos?'],\n",
              " ['She avoded answerng my questons.', 'Ella evtó responder ms preguntas.'],\n",
              " ['There s a great demand for gasolne.', 'Hay mucha demanda de gasolna.'],\n",
              " ['My sster usually goes to the park every weekend.',\n",
              "  'M hermana suele r al parque los fnes de semana.'],\n",
              " ['Always keep a handkerchef n your pocket.',\n",
              "  'Mantén sempre un pañuelo en tu bolsllo.'],\n",
              " [\"Please don't look over here agan.\",\n",
              "  'Por favor, no vuelvas a mrar haca aquí.'],\n",
              " [\"I'm ntrgued.\", 'Estoy ntrgada.'],\n",
              " ['I want to leave early.', 'Quero rme temprano.'],\n",
              " ['The flowers n the vase were wlted.',\n",
              "  'Las flores del jarrón se han marchtado.'],\n",
              " [\"I don't lke talkng about football.\", 'No me gusta hablar de fútbol.'],\n",
              " ['I could kll you.', 'Yo podría matarlos.'],\n",
              " ['Ths s smaller than that.', 'Esto es más pequeño que eso.'],\n",
              " ['Mary has just come home.', 'Mary acaba de llegar a casa.'],\n",
              " ['I was concerned.', 'Estaba preocupado.'],\n",
              " ['I found the room empty.', 'Encontré la habtacón vacía.'],\n",
              " ['Tom bought a pece of land not far from where Mary lves.',\n",
              "  'Tom compró un terreno cerca de donde vve Mary.'],\n",
              " ['Is ths your dog?', 'Es este su perro?'],\n",
              " [\"Why don't you just shut up?\", 'Por qué no te callás?'],\n",
              " ['Tom felt sck.', 'Tom se sentía enfermo.'],\n",
              " ['Are they satsfed?', 'Están satsfechos?'],\n",
              " ['Do you know anyone who hums whle they work?',\n",
              "  'Conoces a alguen que tataree mentras trabaja?'],\n",
              " ['You lucky devl!', '¡Qué suertudo!'],\n",
              " [\"He got the twelve o'clock tran.\", 'Él tomó el tren de las doce.'],\n",
              " [\"Tom sn't a crook.\", 'Tom no es un pllo.'],\n",
              " ['Nobody was tortured.', 'No se torturó a nade.'],\n",
              " ['Tom wanted to help Mary.', 'Tom quería ayudar a Mary.'],\n",
              " ['It looks lke Tom has an alb for the nght Mary was murdered.',\n",
              "  'Parece que Tom tene una coartada para la noche en que Mary fue asesnada.'],\n",
              " ['I bought a hat at the store.', 'Compré un sombrero en la tenda.'],\n",
              " ['My sster s always weghng herself.',\n",
              "  'M hermana se está controlando el peso contnuamente.'],\n",
              " ['He seems to be asleep.', 'Parece estar dormdo.'],\n",
              " ['What tme dd you get here ths mornng?',\n",
              "  'A qué hora has llegado esta mañana?'],\n",
              " [\"I'm pretty hungry snce I haven't eaten snce early ths mornng.\",\n",
              "  'Tengo bastante hambre porque no he comdo desde esta mañana temprano.'],\n",
              " ['Tom s a former paratrooper.', 'Tom es un antguo paracadsta.'],\n",
              " ['We understand ths.', 'Comprendemos esto.'],\n",
              " ['He was pleased wth the toy.', 'Él estaba contento con el juguete.'],\n",
              " ['Tom has a reservaton at ths hotel.', 'Tom tene una reserva en este hotel.'],\n",
              " [\"Just don't tell anyone else.\", 'Pero no le dgas a nade más.'],\n",
              " ['Tom followed us.', 'Tom nos sguó.'],\n",
              " ['You are such a lar!', '¡Eres tan mentroso!'],\n",
              " ['Are you sngle?', 'Estás soltero?'],\n",
              " [\"Don't worry about t. Everythng's gong to be fne.\",\n",
              "  'No preocupes por eso. Todo saldrá ben.'],\n",
              " ['I called hm, but a grl answered the phone.',\n",
              "  'Lo llamé, pero una nña contestó el teléfono.'],\n",
              " ['She was asked to convnce hm to get hs son to pant the house.',\n",
              "  'Le pderon que lo convencera para que su hjo pntara la casa.'],\n",
              " ['I lke to relax wth a good novel.',\n",
              "  'Me gusta relajarme con una buena novela.'],\n",
              " ['You should get your car fxed.', 'Ustedes deberían hacer reparar su coche.'],\n",
              " ['He s stll here.', 'Todavía está aquí.'],\n",
              " [\"You're very astute.\", 'Sos muy astuto.'],\n",
              " ['She hurt her elbow when she fell down.',\n",
              "  'Se lastmó su codo cuando se cayó.'],\n",
              " ['Hold the ball wth both hands.', 'Sostén la pelota con ambas manos.'],\n",
              " ['Do you lke Renassance art?', 'Te gusta el arte renacentsta?'],\n",
              " ['Stop that car.', 'Para ese coche.'],\n",
              " [\"From ths pont, we'll go on foot.\", 'De aquí en adelante remos a pe.'],\n",
              " ['Tom had a very good tme.', 'Tom se dvrtó mucho.'],\n",
              " [\"I told you I don't know f Tom wll tell the truth.\",\n",
              "  'Ya te he dcho que no sé s Tom te drá la verdad.'],\n",
              " ['She fell asleep wth her sweater on.',\n",
              "  'Ella se quedó dormda con el jersey puesto.'],\n",
              " ['Tom stood up and headed for the bathroom.',\n",
              "  'Tom se paró y se drgó al baño.'],\n",
              " ['Do you lke them?', 'Te gustan?'],\n",
              " ['I notced that she was wearng new glasses.',\n",
              "  'Me d cuenta de que ella llevaba gafas nuevas.'],\n",
              " ['I never have had occason to use t.',\n",
              "  'No he tendo nunca la oportundad de ocuparlo.'],\n",
              " [\"I've lost my tcket.\", 'He perddo m boleto.'],\n",
              " ['Who else can answer my queston?', 'Quén más puede contestar a m pregunta?'],\n",
              " [\"Don't bother me wth such trfles.\",\n",
              "  'No me molestes por semejantes nmedades.'],\n",
              " ['I emaled Tom the pctures I took yesterday.',\n",
              "  'Le envé por correo electrónco a Tom las fotografías que tomé ayer.'],\n",
              " ['He made no response.', 'Él no do una respuesta.'],\n",
              " ['I hate the desert.', 'Odo el deserto.'],\n",
              " ['You have untl mdnght.', 'Tenen hasta la medanoche.'],\n",
              " ['One of my frends says he wants me to meet you.',\n",
              "  'Uno de ms amgos dce que quere conocerte.'],\n",
              " ['Tom told hs son the story about a monster that ate chldren.',\n",
              "  'Tom le contó a su hjo la hstora de un monstruo que comía nños.'],\n",
              " [\"Don't eat too much.\", 'No comas demasado.'],\n",
              " ['She has been watchng televson for three hours.',\n",
              "  'Ella ha estado vendo televsón por tres horas.'],\n",
              " ['Can I try on ths jacket?', 'Me puedo probar esta chaqueta?'],\n",
              " [\"I don't care.\", 'No me mporta.'],\n",
              " ['Tom changed hs mnd at the last mnute.',\n",
              "  'Tom cambó de dea en el últmo mnuto.'],\n",
              " [\"Don't leave the bedroom wndow open.\",\n",
              "  'No dejes la ventana del cuarto aberta.'],\n",
              " ['Try some.', 'Prueben un poco.'],\n",
              " ['Is anybody hurt?', 'Se lastmó alguen?'],\n",
              " ['Hs name escapes me.', 'Su nombre no lo recuerdo.'],\n",
              " ['She was busy wth her knttng.', 'Ella estaba muy ocupada tejendo.'],\n",
              " [\"I wsh the subway wasn't so crowded every mornng.\",\n",
              "  'Ojalá el metro no estuvera tan lleno todas las mañanas.'],\n",
              " [\"Maybe there's somethng I can do.\", 'Tal vez haya algo que yo pueda hacer.'],\n",
              " [\"I can't beleve you marred Tom.\",\n",
              "  'No me puedo creer que te casaras con Tom.'],\n",
              " ['I see a lon.', 'Veo un león.'],\n",
              " [\"Ths woman defntely knows that she doesn't know what she wants.\",\n",
              "  'Sn duda, esta mujer sabe que no sabe lo que quere.'],\n",
              " ['We have less than two hours.', 'Nos quedan menos de dos horas.'],\n",
              " ['The bus stopped, but nobody got off.',\n",
              "  'El bus se detuvo, pero nade se bajó.'],\n",
              " ['Tom s a frend of mne.', 'Tom es un amgo mío.'],\n",
              " ['She told me she knew my brother.', 'Ella me djo que conocía a m hermano.'],\n",
              " ['Almost no one beleved her.', 'Cas nade le creyó.'],\n",
              " ['Wll there be any food at the party?', 'Habrá algo de comda en la festa?'],\n",
              " ['You need to be more careful.', 'Debe ser más cudadoso.'],\n",
              " ['She talks a lot.', 'Ella habla demasado.'],\n",
              " [\"Why ddn't Tom tell Mary?\", 'Por qué no se lo djo Tom a Mary?'],\n",
              " ['You survved.', 'Sobrevveron.'],\n",
              " [\"They're not mne.\", 'No son los míos.'],\n",
              " ['Thank you for your thorough explanaton.',\n",
              "  'Gracas por tu metculosa explcacón.'],\n",
              " ['I do not have much tme.', 'No tengo mucho tempo.'],\n",
              " ['She deserved t.', 'Ella se lo merecía.'],\n",
              " [\"We're a bt busy at the moment. Can you hang on a mnute?\",\n",
              "  'Ahora msmo estamos un poco ocupados, puede esperar un mnuto?'],\n",
              " ['I wake hm at sx every mornng.', 'Yo le levanto todos los días a las ses.'],\n",
              " [\"I'll go provded you go wth me.\", 'Iré a condcón de que usted vaya conmgo.'],\n",
              " [\"Speak louder. Your grandfather's hearng sn't so good.\",\n",
              "  'Habla más fuerte, la audcón de tu abuelo no es muy buena.'],\n",
              " [\"We don't often eat out.\", 'No salmos a comer a menudo.'],\n",
              " ['He lcked hs fngers.', 'Él se chupó los dedos.'],\n",
              " ['I thnk the eggs that I just ate were rotten.',\n",
              "  'Creo que los huevos que acabo de comer estaban podrdos.'],\n",
              " ['The toursts were rpped off at the nghtclub.',\n",
              "  'Los turstas fueron tmados en la dscoteca.'],\n",
              " ['She lkes to lsten to musc.', 'A ella le gusta escuchar músca.'],\n",
              " ['How do you go to school every day?', 'Cómo vas a la escuela cada día?'],\n",
              " [\"Now that you're my grlfrend, I'm happy.\",\n",
              "  'Estoy felz ahora que eres m nova.'],\n",
              " [\"Don't gve me that look.\", 'No me mres así.'],\n",
              " ['I have no one to help me.', 'No tengo a nade que me ayude.'],\n",
              " ['Tom thought t was strange.', 'Tom pensó que era extraño.'],\n",
              " [\"Let's meet for a chat.\", 'Juntémonos para charlar.'],\n",
              " ['There are many foregn toursts n Asakusa.',\n",
              "  'Hay muchos turstas extranjeros en Asakusa.'],\n",
              " ['Rase your hands.', 'Levanta tus manos.'],\n",
              " ['Stop rght here.', 'Párate aquí msmo.'],\n",
              " ['Communsm was the bggest ssue n the campagn.',\n",
              "  'El comunsmo fue el mayor asunto en la campaña.'],\n",
              " ['I go to school at eght n the mornng.',\n",
              "  'Voy al colego a las ocho de la mañana.'],\n",
              " ['Tom almost laughed.', 'Tom cas se ro.'],\n",
              " ['These shoes are old, but I stll lke them.',\n",
              "  'Estos zapatos están vejos, pero todavía me gustan.'],\n",
              " ['What tme do you want to meet?', 'A qué hora te queres encontrar?'],\n",
              " ['I want to be a better person.', 'Quero ser una mejor persona.'],\n",
              " ['I brought you some food.', 'Te traje comda.'],\n",
              " ['Tom was the last one to leave the party.',\n",
              "  'Tom fue el últmo en rse la festa.'],\n",
              " ['What tme wll you be back?', 'A qué hora volverás?'],\n",
              " [\"I really don't lke goat cheese at all.\",\n",
              "  'No me gusta, para nada, el queso de cabra.'],\n",
              " ['He refused to sgn the documents.', 'Él rehusó frmar los documentos.'],\n",
              " ['Long har s out of fashon.', 'El pelo largo pasó de moda.'],\n",
              " ['I lke tenns.', 'Me gusta el tens.'],\n",
              " [\"It's true that he s n love wth her.\",\n",
              "  'Es verdad que él está enamorado de ella.'],\n",
              " ['I read the book from begnnng to end.',\n",
              "  'Leí el lbro desde el prncpo hasta el fnal.'],\n",
              " [\"We're studyng physcal scence.\", 'Estamos estudando cenca físca.'],\n",
              " ['My grandmother lved to be nnety-fve years old.',\n",
              "  'M abuela vvó hasta los noventa y cnco.'],\n",
              " ['She dsappeared n the dark.', 'Ella desaparecó en la oscurdad.'],\n",
              " ['Tom kssed Mary on her forehead.', 'Tom besó a Mary en la frente.'],\n",
              " ['I have plenty of thngs to eat n the pantry.',\n",
              "  'Tengo muchas cosas para comer en la despensa.'],\n",
              " ['He was knd enough to help me wth my homework.',\n",
              "  'Él fue tan amable de ayudarme con m tarea.'],\n",
              " ['All you do s complan!', '¡Todo lo que haces es quejarte!'],\n",
              " [\"There's nowhere to hde.\", 'No hay donde esconderse.'],\n",
              " [\"Don't phone me when I'm at the offce.\",\n",
              "  'No me telefonees cuando estoy en la ofcna.'],\n",
              " ['Let me help.', 'Déjame ayudar.'],\n",
              " ['Do you know how to use a computer?', 'Sabes usar un ordenador?'],\n",
              " ['The pond dred up last summer.', 'La laguna se secó el verano pasado.'],\n",
              " [\"We're marred to each other.\", 'Estamos casados.'],\n",
              " [\"That's not how you spell my name.\", 'Así no es como deletreas m nombre.'],\n",
              " [\"That's perfect.\", 'Eso es perfecto.'],\n",
              " ['Ask hm for advce.', 'Pídele consejo a él.'],\n",
              " ['He went to bed at eleven last nght.',\n",
              "  'Ayer se fue a la cama a las once de la noche.'],\n",
              " [\"I'm very modest.\", 'Soy muy modesto.'],\n",
              " [\"I'm afrad of dogs.\", 'Le tengo medo a los perros.'],\n",
              " ['Ths s the place where Tom was born.', 'Este es el lugar donde nacó Tom.'],\n",
              " ['Tom lved n a small fshng vllage.',\n",
              "  'Tomás vvía en una pequeña aldea de pescadores.'],\n",
              " [\"I thought I'd always be alone.\", 'Pensé que sempre estaría solo.'],\n",
              " [\"What's the armal rate?\", 'Cuál es la tasa para el correo aéreo?'],\n",
              " ['Many a mother spols her sons by not beng strct enough.',\n",
              "  'Muchas madres malcrían a sus hjos por no ser lo sufcentemente estrctas.'],\n",
              " ['He got off the bus.', 'Él se bajó del autobús.'],\n",
              " [\"The medcne she took cured her of the bad cough she'd been sufferng from.\",\n",
              "  'La medcna que tomó ella la curó de la tos de la que había estado sufrendo.'],\n",
              " ['You wll get well n a week or so.',\n",
              "  'Te mejorarás en más o menos una semana.'],\n",
              " ['I am dyng to see her agan.', 'Me muero por volver a verla.'],\n",
              " ['Tom managed a small bar near Boston for qute a few years.',\n",
              "  'Tom ha llevado un pequeño bar cerca de Boston ya por varos años.'],\n",
              " ['Is one thousand yen enough?', 'Ml yenes son sufcentes?'],\n",
              " ['Hs old cat s stll alve.', 'Su vejo gato todavía está vvo.'],\n",
              " [\"We don't have tme.\", 'No tenemos tempo.'],\n",
              " [\"I'll be there.\", 'Estaré ahí.'],\n",
              " ['Dd you come to town?', 'Vnste a la cudad?'],\n",
              " ['Why s ths happenng?', 'Por qué está pasando esto?'],\n",
              " ['Tom plugged n hs computer.', 'Tom enchufó su computador.'],\n",
              " ['Nobody told me what tme I should come.',\n",
              "  'Nade me djo cuándo tenía que venr.'],\n",
              " [\"I'm crazy.\", 'Estoy loco.'],\n",
              " [\"It shouldn't happen agan.\", 'No debería volver a pasar.'],\n",
              " [\"They're rght behnd you.\", 'Están justo detrás de vosotros.'],\n",
              " ['She took a deep breath.', 'Ella do un respro profundo.'],\n",
              " ['Do we have enough slverware for thrty people?',\n",
              "  'Tenemos sufcentes cubertos para trenta personas?'],\n",
              " ['Tom s hyperventlatng.', 'Tom está hperventlando.'],\n",
              " ['Everyone looks worred.', 'Todos lucen preocupados.'],\n",
              " ['These glasses are cool.', 'Estas gafas son genales.'],\n",
              " ['There was no other choce but to abandon the entre project.',\n",
              "  'No hubo más opcón, que renuncar al proyecto completo.'],\n",
              " [\"It's an nterestng argument.\", 'Es un argumento nteresante.'],\n",
              " [\"That's cruel.\", 'Eso es cruel.'],\n",
              " ['I watch televson n the evenng.', 'Yo veo televsón por la noche.'],\n",
              " ['Do you play the pano?', 'Toca el pano?'],\n",
              " [\"I'm here to save you.\", 'Estoy aquí para salvarte.'],\n",
              " [\"We're not eatng.\", 'No estamos comendo.'],\n",
              " ['Send ths message to as many people as you can.',\n",
              "  'Envía este mensaje al mayor número de personas posble.'],\n",
              " ['She drew out the money from the bank.', 'Sacó el dnero del banco.'],\n",
              " [\"Don't let anyone leave ths buldng.\", 'No dejes salr a nade de este edfco.'],\n",
              " ['Tom talked Mary nto nvtng John to the party.',\n",
              "  'Tom convencó a Mary para que nvtase a John a la festa.'],\n",
              " ['I see a star.', 'Veo una estrella.'],\n",
              " ['He fnally fulflled my request.', 'Al fn cumpló m petcón.'],\n",
              " ['I vsted many parts of England.', 'Vsté muchas partes de Inglaterra.'],\n",
              " ['He deserves more.', 'Él merece más.'],\n",
              " ['I apologzed.', 'Me dsculpé.'],\n",
              " ['Those are not your chars.', 'Ésas no son tus sllas.'],\n",
              " [\"He's a DJ.\", 'Él es DJ.'],\n",
              " ['I am dvorced.', 'Estoy dvorcada.'],\n",
              " ['Keep an eye on Tom.', 'Vglá a Tom.'],\n",
              " ['How many pens are there on the desk?',\n",
              "  'Cuántas bromes hay en el escrtoro?'],\n",
              " [\"They ddn't seem to notce t.\", 'No pareceron darse cuenta.'],\n",
              " ['My daugther wants a ktten.', 'M hja quere un gatto.'],\n",
              " ['Pay your fare here.', 'Paga tu bllete aquí.'],\n",
              " [\"Don't bte the hand that feeds you.\", 'No muerdas la mano que te almenta.'],\n",
              " ['My roommate s too talkatve.',\n",
              "  'M compañero de habtacón es demasado parlanchín.'],\n",
              " ['Everyone des eventually.', 'Al fnal, todo el mundo se muere.'],\n",
              " [\"What's wrong wth you?\", 'A t qué te pasa?'],\n",
              " ['I want you to help us fnd out who klled Tom.',\n",
              "  'Quero que nos ayudes a descubrr quén mató a Tom.'],\n",
              " ['Tom lkes anmals.', 'A Tom le gustan los anmales.'],\n",
              " ['We should obey the traffc rules.',\n",
              "  'Debemos obedecer las leyes de tránsto.'],\n",
              " [\"Fcton s oblged to stck to possbltes. Truth sn't.\",\n",
              "  'La fccón está oblgada a apegarse a las posbldades. La verdad no.'],\n",
              " ['I feel helpless.', 'Me sento desamparado.'],\n",
              " ['I have a pan n my foot.', 'Me duele el pe.'],\n",
              " [\"A gun won't do you much good f you're not wllng to shoot t.\",\n",
              "  'Una pstola no te servrá de mucho s no estás dspuesto a dspararla.'],\n",
              " ['I am gong to go to Amerca next year.', 'El año que vene ré a Amérca.'],\n",
              " ['Wll ths be panful?', 'Esto será doloroso?'],\n",
              " ['Where should we meet?', 'Dónde deberamos encontrarnos?'],\n",
              " [\"Tom's youngest daughter s hs favorte.\",\n",
              "  'La hja pequeña de Tom es su favorta.'],\n",
              " ['If I had tme, I would study French.', 'S tuvera tempo aprendería francés.'],\n",
              " ['When can I vst you?', 'Cuándo puedo vstarlos?'],\n",
              " ['He s stll angry.', 'Él aún está enojado.'],\n",
              " ['Gve me a second.', 'Dame un segundo.'],\n",
              " ['How many pencls do you have?', 'Cuántos lápces tene usted?'],\n",
              " [\"I've done t before.\", 'Ya lo he hecho antes.'],\n",
              " ['Tom and Mary went deer huntng.', 'Tom y Mary fueron a cazar cervos.'],\n",
              " ['I wll start tonght.', 'Voy a empezar esta noche.'],\n",
              " ['Students may not enter the faculty lounge.',\n",
              "  'Los estudantes no pueden entrar en la sala de profesores.'],\n",
              " [\"Tom ddn't pull the trgger.\", 'Tom no apretó el gatllo.'],\n",
              " ['What happened to you? You look mserable.',\n",
              "  'Qué te sucedó? Luces mserable.'],\n",
              " ['She drnks lke a fsh.', 'Ella chupa como una esponja.'],\n",
              " ['Shall I prepare you a warm meal?', 'Te preparo algo calente para tomar?'],\n",
              " ['My father bought me a camera for my brthday.',\n",
              "  'M padre me ha comprado una cámara de fotos por m cumpleaños.'],\n",
              " [\"Hs advce ddn't help much.\", 'Su consejo no srvó de mucho.'],\n",
              " ['What are you dong on your nght off?', 'Qué vas a hacer en tu noche lbre?'],\n",
              " ['Whoever wns the race wll receve the prze.',\n",
              "  'Quenquera que gane la carrera obtendrá el premo.'],\n",
              " [\"You're the most handsome man I've ever seen.\",\n",
              "  'Eres el hombre más guapo que he vsto en m vda.'],\n",
              " ['My passport was stolen.', 'Me han robado el pasaporte.'],\n",
              " ['That guy s totally nuts!', '¡Ese sujeto está completamente loco!'],\n",
              " ['I just arrved now.', 'Acabo de llegar.'],\n",
              " ['I hate my boss.', 'Odo a m jefe.'],\n",
              " ['It was my frst nght among strangers.',\n",
              "  'Fue m prmera noche entre extranjeros.'],\n",
              " ['Tom agreed.', 'Tom convno aquescente.'],\n",
              " ['He went away wthout sayng a word.', 'Saló sn decr una palabra.'],\n",
              " ['I guess you wll be very busy tonght.',\n",
              "  'Supongo que esta noche estarás muy ocupado.'],\n",
              " ['He s afrad of makng mstakes.', 'Él teme equvocarse.'],\n",
              " ['Tom wondered what Mary was dong here.',\n",
              "  'Tom se preguntaba qué hacía María aquí.'],\n",
              " [\"We'll hde t.\", 'Nosotros lo esconderemos.'],\n",
              " [\"He apologzed for hs rudeness, but she wouldn't forgve hm.\",\n",
              "  'Él pdó dsculpas por su conducta, pero ella no lo perdonaría.'],\n",
              " ['A cargo vessel, bound for Athens, sank n the Medterranean wthout a trace.',\n",
              "  'Un buque de carga, con rumbo a Atenas, se hundó en el Medterráneo sn dejar rastro.'],\n",
              " ['When the man saw a polceman, he fled.',\n",
              "  'Cuando el hombre vo a un polcía, huyó.'],\n",
              " ['We have other thngs to do.', 'Tenemos otras cosas que hacer.'],\n",
              " ['Where dd you hde t?', 'Dónde lo escondste?'],\n",
              " ['I thanked Mary for her help.', 'Agradecí a Mary por su ayuda.'],\n",
              " ['You mght get njured.', 'Tú podrías resultar lastmado.'],\n",
              " ['Terrorsts blew up a bus.', 'Los terrorstas hceron estallar un bus.'],\n",
              " ['He could not speak French well.', 'Él no podía hablar ben francés.'],\n",
              " ['He stopped playng baseball last season.',\n",
              "  'Él dejó el bésbol la temporada pasada.'],\n",
              " ['We have to use the stars, because the elevator s beng repared.',\n",
              "  'Tenemos que usar la escalera, porque el ascensor está en reparacón.'],\n",
              " ['Our school dd away wth unforms last year.',\n",
              "  'Nuestro colego abandonó los unformes el año pasado.'],\n",
              " ['Ths antque clock s worth one thousand dollars.',\n",
              "  'Este antguo reloj vale ml dólares.'],\n",
              " ['That really bothers me.', 'Eso realmente me molesta.'],\n",
              " ['We hardly ever see you around here anymore.',\n",
              "  'Cas no te vemos más por acá.'],\n",
              " ['She belongs to the Democratc Party.', 'Ella mlta en el Partdo Democrátco'],\n",
              " ['I looked around.', 'Mré a m alrededor.'],\n",
              " [\"Let's make t bref.\", 'Hagámoslo breve.'],\n",
              " ['Do you have a house?', 'Tenes una casa?'],\n",
              " ['Doctors use medcal equpment.', 'Los doctores ocupan equpo médco.'],\n",
              " [\"These are Tom's sk boots.\", 'Estas son las botas de esquí de Tom.'],\n",
              " [\"I'd apprecate t f you would turn out the lghts.\",\n",
              "  'Agradecería que apagaras la luz.'],\n",
              " ['Put the broom n the closet.', 'Pon la escoba en el armaro.'],\n",
              " ['What do you want me to do?', 'Qué quere que haga?'],\n",
              " ['I would lke to offer you the poston.', 'Me gustaría ofrecerte el puesto.'],\n",
              " [\"I can't put up wth hs volence any longer.\",\n",
              "  'No puedo soportar más su volenca.'],\n",
              " [\"It's only the begnnng.\", 'Sólo es el prncpo.'],\n",
              " ['I really got depressed.', 'Me he deprmdo profundamente.'],\n",
              " ['I use t every day.', 'Lo uso todos los días.'],\n",
              " ['She s ncapable of decet.', 'Ella es ncapaz de engañar.'],\n",
              " ['I threw away my shoes.', 'Me deshce de ms zapatos.'],\n",
              " [\"I ddn't get you a present.\", 'Yo no te d un regalo.'],\n",
              " ['I was overconfdent.', 'Era arrogante.'],\n",
              " [\"Tom s very dependable, sn't he?\", 'Tom parece de far, eh?'],\n",
              " ['The sun s shnng brghtly.', 'El sol está brllando ntensamente.'],\n",
              " ['He does not have any frends.', 'Él no tene amgos.'],\n",
              " [\"I'll eat here.\", 'Comeré aquí.'],\n",
              " ['Keep on smlng.', 'Sgue sonrendo.'],\n",
              " ['Someone s standng behnd the bushes takng pctures of us.',\n",
              "  'Alguen está parado atrás del arbusto sacándonos fotos.'],\n",
              " ['Playng tenns s fun.', 'Jugar tens es dvertdo.'],\n",
              " ['Tom never seems to get upset.', 'Tom parece que nunca se enfada.'],\n",
              " ['The furnture was dusty.', 'El moblaro tenía polvo.'],\n",
              " [\"I don't know anybody n ths town.\", 'Yo no conozco a nade en esta cudad.'],\n",
              " ['I bought her a watch.', 'Le compré un reloj.'],\n",
              " [\"Let's go swmmng.\", 'Vayamos a nadar.'],\n",
              " ['OK, lsten up.', 'Vale, atendedme.'],\n",
              " ['The teacher ntervened n the quarrel between the two students.',\n",
              "  'El profesor ntervno en la rña entre los dos estudantes.'],\n",
              " ['That was a close call.', 'Qué poco ha faltado.'],\n",
              " ['Everyone remarked on hs new harstyle.',\n",
              "  'Todo el mundo comentó sobre su nuevo penado.'],\n",
              " [\"He doesn't have a job. He's retred.\", 'Él no tene empleo. Está jublado.'],\n",
              " ['I lke hm a lot, but sometmes he gets on my nerves.',\n",
              "  'Ella me agrada mucho, pero a veces me saca de las casllas.'],\n",
              " ['Old people are usually very wse.',\n",
              "  'La gente ancana es usualmente muy saba.'],\n",
              " [\"Don't you thnk t a bad thng?\", 'No crees que es una cosa mala?'],\n",
              " ['I feel lke dong somethng dfferent today.',\n",
              "  'Tengo ganas de hacer algo dferente hoy.'],\n",
              " ['I had no trouble fndng hs offce.', 'No me costó encontrar su ofcna.'],\n",
              " ['Tom kept tryng to call Mary, but she never answered her phone.',\n",
              "  'Tom sguó ntentando llamar a Mary, pero ella nunca contestó su teléfono.'],\n",
              " ['The patent fanted at the sght of blood.',\n",
              "  'El pacente se desmayó al ver la sangre.'],\n",
              " ['Ths s how we cook rce.', 'Así es como cocnamos arroz.'],\n",
              " [\"I'm sellng my car at a loss.\", 'Estoy vendendo m coche con pérdda.'],\n",
              " ['Take a few days off.', 'Toma unos días lbres.'],\n",
              " ['I love French moves.', 'Me encantan las películas francesas.'],\n",
              " ['Tom rased hs hand.', 'Tom alzó su mano.'],\n",
              " ['Tom congratulated Mary for her drvng test.',\n",
              "  'Tom felctó a Mary por su prueba de conducr.'],\n",
              " ['Ask hm when the next plane leaves.',\n",
              "  'Pregúntele cuándo sale el próxmo avón.'],\n",
              " ['What tme does the club open?', 'A qué hora abre el club?'],\n",
              " ['The judge sentenced hm to one year n prson.',\n",
              "  'El juez lo sentencó a un año de prsón.'],\n",
              " [\"He's wearng a whte cotton shrt.\", 'Lleva una camsa blanca de algodón.'],\n",
              " ['He was very worred about havng to spend Chrstmas n the hosptal.',\n",
              "  'Él estaba muy preocupado por tener que pasar la Navdad en el hosptal.'],\n",
              " ['I thought you were gong to kll me.', 'Pensé que me bas a matar.'],\n",
              " ['Cooke s my dog.', 'Cooke es m perro.'],\n",
              " ['Is ths correct?', 'Eso es correcto?'],\n",
              " ['I just want you to be nvolved.', 'Sólo quero que estés mplcado.'],\n",
              " ['What was the result?', 'Cuál fue el resultado?'],\n",
              " [\"Don't thnk I ddn't try.\", 'No penses que no lo ntenté.'],\n",
              " ['I hate t.', 'Me la baja.'],\n",
              " ['I wll never make that mstake agan.', 'Nunca más cometeré ese error.'],\n",
              " ['My son gets on very well at school.',\n",
              "  'A m hjo le va muy ben en el colego.'],\n",
              " ['How well can you skate?', 'Qué tan ben sabes patnar?'],\n",
              " [\"He's not all there.\", 'No le llega agua al tanque.'],\n",
              " ['My dream s to be a frefghter.', 'M sueño es ser bombera.'],\n",
              " ['The storm let up.', 'La tormenta aflojó.'],\n",
              " ['Get to bed.', 'Vete a la cama.'],\n",
              " ['I already told you t was an accdent.', 'Ya te dje que fue un accdente.'],\n",
              " [\"Tom's car s n the garage.\", 'El auto de Tomás está en el garage.'],\n",
              " ['He ded two hours later.', 'Muró dos horas después.'],\n",
              " [\"I'll tell you what happened.\", 'Te dré lo que sucedó.'],\n",
              " ['The box s heavy.', 'La caja es pesada.'],\n",
              " ['Please come and see me f you have tme.',\n",
              "  'Por favor ven a verme cuando tengas tempo.'],\n",
              " ['They bought a few peces of furnture when they got marred.',\n",
              "  'Ellos compraron algunos muebles cuando se casaron.'],\n",
              " [\"I thnk I'm n trouble.\", 'Creo que tengo problemas.'],\n",
              " ['Tom felt uneasy talkng to Mary about that matter.',\n",
              "  'Tom se sentía ncomodo de hablar con Mary acerca de ese asunto.'],\n",
              " ['That stove smokes too much.', 'Esa estufa echa mucho humo.'],\n",
              " [\"I ddn't know how to respond.\", 'No sabía cómo responder.'],\n",
              " ['He ded of old age two years ago.', 'Él muró de edad hace dos años atrás.'],\n",
              " ['Hs car has just been repared.', 'Su vehículo ha sdo reparado recén.'],\n",
              " [\"If you don't study harder, you'll defntely fal.\",\n",
              "  'S no estudas más, no cabe duda de que suspenderás.'],\n",
              " ['He asked me to read 5 poems.', 'Me pdó que leyera 5 poemas.'],\n",
              " ['What have you told them?', 'Qué le has dcho?'],\n",
              " [\"What f I'm rght?\", 'Y s llevo razón?'],\n",
              " ['Tom was convcted and sentenced to death.',\n",
              "  'Tom fue declarado culpable y sentencado a muerte.'],\n",
              " [\"I don't want to do ths anymore.\", 'Ya no quero segur hacendo esto.'],\n",
              " ['I do the laundry on Sundays.', 'Yo lavo la ropa los domngos.'],\n",
              " [\"It's best to wear a cap on your head durng the cold Moscow wnters.\",\n",
              "  'Lo mejor es traer puesta una gorra en la cabeza durante los nvernos fríos de Moscú.'],\n",
              " ['I could feel nothng but the knfe as t plunged nto my back.',\n",
              "  'Yo solo pude sentr cómo se hundía el cuchllo por m espalda.'],\n",
              " [\"I'm sorry, but I can't go wth you.\", 'Lo sento, pero no puedo r contgo.'],\n",
              " ['How rude of you!', '¡Qué grosero!'],\n",
              " ['He has a nce ncome.', 'Él tene un buen ngreso.'],\n",
              " ['That shrt looks good on you.', 'Esa camsa te queda ben.'],\n",
              " ['You dd your best.', 'Dste lo mejor.'],\n",
              " [\"Are you absolutely sure you want to sell your father's gutar?\",\n",
              "  'Estás absolutamente seguro de que queres vender la gutarra de tu padre?'],\n",
              " ['I jog twce a week.', 'Yo troto dos veces a la semana.'],\n",
              " [\"I'm fed up wth your constant complanng.\",\n",
              "  'Estoy harto de tus constantes quejas.'],\n",
              " ['It would be best f I met hm n person.',\n",
              "  'Sería mejor s yo le conocera en persona.'],\n",
              " ['That s the shop where I used to work.',\n",
              "  'Ésta es la tenda donde yo trabajaba.'],\n",
              " [\"Why ddn't you try the dress on before you bought t?\",\n",
              "  'Por qué no te probaste el vestdo antes de comprarlo?'],\n",
              " ['It was ranng heavly n Osaka.', 'Llovía muy fuerte en Osaka.'],\n",
              " ['What does she look lke?', 'Qué aspecto tene?'],\n",
              " [\"I haven't made up my mnd.\", 'No he tomado nnguna decsón.'],\n",
              " ['That we are not able to do.', 'Eso no podemos hacerlo.'],\n",
              " ['My dream s to become a famous snger.',\n",
              "  'M sueño es convertrme en una cantante famosa.'],\n",
              " ['Please lend me ths book for a few days.',\n",
              "  'Por favor, préstame este lbro por unos pocos días.'],\n",
              " ['Prces rose drastcally as a result of ths polcy.',\n",
              "  'Los precos se elevaron drástcamente como resultado de su polítca.'],\n",
              " ['Where dd you buy ths gutar?', 'Dónde compraste esta gutarra?'],\n",
              " [\"Don't let go.\", 'No te sueltes.'],\n",
              " [\"I ddn't mean to ht hm.\", 'No fue m ntencón golpearlo.'],\n",
              " ['Dd Tom tell you anythng nterestng?', 'Tom te djo algo nteresante?'],\n",
              " ['Customers stopped comng to our shop.',\n",
              "  'Los clentes dejaron de venr a nuestra tenda.'],\n",
              " ['Do you stll love Tom?', 'Aún amas a Tom?'],\n",
              " ['He expressed hmself clearly.', 'Se expresó con clardad.'],\n",
              " ['Tom notced that Mary was lmpng.', 'Tom notó que Mary estaba cojeando.'],\n",
              " ['Just come up here.', 'Lmítate a venr aquí.'],\n",
              " [\"Tom can't take less.\", 'Tom no puede aceptar menos.'],\n",
              " ['Use t or lose t.', 'Úsalo o pérdelo.'],\n",
              " ['They sat by the freplace.', 'Se sentaron junto a la chmenea.'],\n",
              " [\"Tom ddn't know how to treat hs employees rght.\",\n",
              "  'Tom no supo comportarse correctamente con sus empleados.'],\n",
              " ['Tom told Mary the bad news.', 'Tom le djo a Mary la mala notca.'],\n",
              " ['I am a student n a unversty.', 'Soy un estudante en una unversdad.'],\n",
              " ['I want to know who klled Tom.', 'Quero saber quén mató a Tom.'],\n",
              " ['The machne operates around the clock.', 'La máquna opera a toda hora.'],\n",
              " ['What a good scholar the author must be to wrte such a splendd book!',\n",
              "  '¡Pero qué erudto debe ser el autor como para escrbr un lbro tan esplénddo!'],\n",
              " ['The polceman separated the two men who were fghtng.',\n",
              "  'El polcía separó a los dos hombres que estaban peleando.'],\n",
              " ['Why are you so sure Tom s Canadan?',\n",
              "  'Por qué estás tan seguro de que Tom es canadense?'],\n",
              " ['A century s one hundred years.', 'Un sglo tene cen años.'],\n",
              " ['Tom lay awake for a long tme thnkng about Mary.',\n",
              "  'Tom yacó desperto durante un largo rato pensando en Mary.'],\n",
              " [\"I'm mpartal.\", 'Soy mparcal.'],\n",
              " ['The frescoes of the cathedral are very nterestng.',\n",
              "  'Los frescos de la catedral son muy nteresantes.'],\n",
              " ['My book s here.', 'M lbro está aquí.'],\n",
              " [\"There's a soccer match tomorrow.\", 'Hay un partdo de fútbol mañana.'],\n",
              " ['The nfluence of TV on socety s great.',\n",
              "  'La nfluenca de la televsón sobre la socedad es grande.'],\n",
              " ['Do you want to go to the zoo?', 'Queres r al zoo?'],\n",
              " ['Tom frst met Mary when they were n hgh school.',\n",
              "  'Tom conocó a Mary cuando ban en enseñanza meda.'],\n",
              " ['My brother s a vet.', 'M hermano es veternaro.'],\n",
              " ['I thnk Tom s gong to de.', 'Creo que Tom se va a morr.'],\n",
              " [\"I don't beleve Tom can do that.\", 'No creo que Tom pueda hacer eso.'],\n",
              " ['What dd Tom tell Mary not to do?', 'Qué le djo Tom a Mary que no hcera?'],\n",
              " ['The mall s deserted.', 'El centro comercal está deserto.'],\n",
              " ['What do you beleve?', 'Qué creés?'],\n",
              " ['She sad she was ll n bed, whch was a le.',\n",
              "  'Ella djo que estaba en cama enferma, lo que era mentra.'],\n",
              " ['I want to be rch.', 'Quero ser rca.'],\n",
              " ['What tran you are gong to take?', 'Qué tren vas a coger?'],\n",
              " ['The floor was very cold.', 'El pso estaba muy frío.'],\n",
              " [\"Please don't use Englsh.\", 'Por favor no uses nglés.'],\n",
              " ['Tom s very smart, just lke you.', 'Tom es muy lsto, justo como tú.'],\n",
              " ['I have no ntenton of gettng wet.', 'No tengo ntencón de mojarme.'],\n",
              " [\"The man's behavor was very odd.\",\n",
              "  'El comportamento del hombre era muy extraño.'],\n",
              " [\"Tom and I could've saved ourselves a lot of tme by just dong that ourselves.\",\n",
              "  'Tom y yo podríamos habernos ahorrado un montón de tempo smplemente hacéndolo nosotros.'],\n",
              " ['There was a strkng resemblance between them.',\n",
              "  'Había un parecdo sorprendente entre ellos.'],\n",
              " [\"That man's not to be trusted.\", 'Ese hombre no es de far.'],\n",
              " ['Besdes beng a doctor, he was a very famous novelst.',\n",
              "  'Además de ser un doctor, tambén fue un muy famoso novelsta.'],\n",
              " [\"To tell the truth, I ddn't do my homework.\",\n",
              "  'A decr verdad, no hce m tarea.'],\n",
              " ['They sat down.', 'Se sentaron.'],\n",
              " ['He had a traffc accdent on hs way to school.',\n",
              "  'Él tuvo un accdente de tráfco de camno al colego.'],\n",
              " ['The desre to fly n the sky lke a brd nspred the nventon of the arplane.',\n",
              "  'El deseo de volar como un pájaro nspró la nvencón del avón.'],\n",
              " ['That typhoon prevented me from gong out.', 'El tfón me mpdó salr.'],\n",
              " [\"I couldn't resst the urge to applaud.\",\n",
              "  'No pude resstr el mpulso de aplaudr.'],\n",
              " ['Are you done wth your homework yet?', 'Ya termnaste tu tarea?'],\n",
              " [\"I'm gettng undressed.\", 'Me estoy desvstendo.'],\n",
              " ['The story s full of holes.', 'La hstora está llena de hoyos.'],\n",
              " ['I gave my books to those people.', 'Le d ms lbros a esa gente.'],\n",
              " [\"We're even.\", 'Estamos a mano.'],\n",
              " [\"He's leavng for Chna tomorrow.\", 'Él se va a Chna mañana.'],\n",
              " ['I often watch TV before dnner.', 'A menudo veo la tele antes de cenar.'],\n",
              " ['Try us agan next Monday.', 'Inténtelo de nuevo el lunes.'],\n",
              " ['She was depressed by all her problems.',\n",
              "  'Ella estaba deprmda por todos sus problemas.'],\n",
              " ['The boy s afrad of the dark.', 'Al nño le da medo la oscurdad.'],\n",
              " ['My mother loves me.', 'M madre me ama.'],\n",
              " ['Tom dslked school when he was younger.',\n",
              "  'A Tom no le gustaba el colego cuando era más joven.'],\n",
              " ['Wll you let me use your telephone, please?',\n",
              "  'Me dejarías usar tu teléfono, por favor?'],\n",
              " ['Gve me your sandwch.', 'Dame tu sándwch.'],\n",
              " ['He promsed not to smoke.', 'Él me prometó no fumar.'],\n",
              " ['Those are the rsks.', 'Esos son los resgos.'],\n",
              " ['No one voted aganst t.', 'Nade votó en contra.'],\n",
              " ['My lfe was n danger.', 'M vda estaba en pelgro.'],\n",
              " ['The polce have caught hm.', 'Le ha cogdo la polcía.'],\n",
              " ['She taught me how to make a web ste.',\n",
              "  'Ella me enseñó a hacer una págna en Internet.'],\n",
              " ['The more a man knows, the more he dscovers hs gnorance.',\n",
              "  'Cuanto más sabe un hombre, más descubre su gnoranca.'],\n",
              " ['There are four people n my famly.',\n",
              "  'M famla está compuesta por cuatro personas.'],\n",
              " ['Babes cry when they are hungry.', 'Los bebés lloran cuando tenen hambre.'],\n",
              " [\"It's ncredble!\", '¡Es ncreíble!'],\n",
              " ['John met Mary on hs way to school.',\n",
              "  'John se juntó con Mary de camno a la escuela.'],\n",
              " [\"The chld slept on ts mother's lap.\",\n",
              "  'El nño durmó en el regazo de su madre.'],\n",
              " [\"I don't lke vstng bg ctes.\", 'No me gusta vstar cudades grandes.'],\n",
              " ['Ths s the umbrella I bought yesterday.',\n",
              "  'Éste es el paraguas que compré ayer.'],\n",
              " ['I really lke the concept of ths webste.',\n",
              "  'Realmente me agrada el concepto de este sto web.'],\n",
              " ['Go back to work.', 'Vuelve al trabajo.'],\n",
              " ['Tom was the sort of man you could get along wth.',\n",
              "  'Tom era el tpo de hombre con el que te podías llevar ben.'],\n",
              " ['Whch one are you gong to use?', 'Cuál vas a utlzar?'],\n",
              " [\"Do you thnk I'm stupd?\", 'Pensás que soy dota?'],\n",
              " ['Tom showed me a magc trck.', 'Tom me enseñó un truco de maga.'],\n",
              " ['She was wearng an ugly dress.', 'Llevaba puesto un vestdo feo.'],\n",
              " ['Hs deas are too radcal to be acceptable to most people.',\n",
              "  'Sus deas son demasado radcales para que les resulten aceptables a la mayoría de la gente.'],\n",
              " ['You should cut down on the amount of fattenng food that you eat.',\n",
              "  'Deberías reducr la cantdad de grasas que comes.'],\n",
              " ['It s clear that he s gulty.', 'Está claro que es culpable.'],\n",
              " ['You need to shut up.', 'Tenes que callarte.'],\n",
              " ['She arrved just as I was leavng.',\n",
              "  'Ella llegó justo cuando yo me estaba yendo.'],\n",
              " ['She does not have much money.', 'Ella no tene mucho dnero.'],\n",
              " [\"We're dong fne.\", 'Lo llevamos ben.'],\n",
              " [\"The move wasn't as nterestng as the book.\",\n",
              "  'La película no era tan nteresante como el lbro.'],\n",
              " [\"Ths clock sn't workng.\", 'Este reloj no funcona.'],\n",
              " ['I ate a hot dog for lunch.', 'Tomé un perrto calente para comer.'],\n",
              " [\"Don't forget about me.\", 'No te olvdes de mí.'],\n",
              " ['The house s on fre.', 'La casa se está quemando.'],\n",
              " [\"I don't understand French at all.\", 'No entendo nada de francés.'],\n",
              " ['The gasolne truck ran nto the gate and blew up.',\n",
              "  'El camón de combustble se estrelló contra la puerta y estalló.'],\n",
              " ['He has to work hard n order to support hs famly.',\n",
              "  'Él tene que trabajar mucho para mantener a su famla.'],\n",
              " ['Wll you tell me the truth?', 'Me drá la verdad?'],\n",
              " ['Keep warm.', 'Mantenete calente.'],\n",
              " ['Hs grandfather s what s called a self-made man.',\n",
              "  'M abuelo es lo que se dce un hombre hecho a s msmo.'],\n",
              " ['I got carded.', 'Me pderon dentfcarme.'],\n",
              " ['He confessed all hs sns.', 'Confesó todas sus culpas.'],\n",
              " [\"I'll go change my clothes.\", 'Voy a r a cambarme de ropa.'],\n",
              " ['Could you please take me back home?', 'Podrías llevarme de vuelta a casa?'],\n",
              " [\"Don't forget to call me.\", 'No olvdes llamarme.'],\n",
              " ['The news made hm happy.', 'La notca le hzo felz.'],\n",
              " ['The anmals had to be klled.', 'Los anmales debían ser matados.'],\n",
              " ['Illness forced hm to gve up school.',\n",
              "  'La enfermedad lo forzó a abandonar la escuela.'],\n",
              " ['He regretted not havng taken my advce.',\n",
              "  'Él lamentó no haber segudo m consejo.'],\n",
              " ['I thnk Tom drank out of my glass by mstake.',\n",
              "  'Creo que Tom se equvocó al beber de m vaso.'],\n",
              " ['Why are you angry wth me?', 'Por qué estás cabreada conmgo?'],\n",
              " ['Let the chldren play.', 'Deja que los nños jueguen.'],\n",
              " ['He bored us wth hs long stores.', 'Él nos aburró con su larga hstora.'],\n",
              " [\"I don't know about you, but I'm starved.\",\n",
              "  'No sé nada de vos, pero me muero de hambre.'],\n",
              " ['I have a lot of thngs to tell you.', 'Tengo muchas cosas que decrte.'],\n",
              " ['Boys are more aggressve than grls.',\n",
              "  'Los chcos son más agresvos que las chcas.'],\n",
              " ['He always borrows money from me.', 'Él sempre me pde dnero prestado.'],\n",
              " ['He wants to study musc and dance.', 'Él quere estudar músca y danza.'],\n",
              " ['They left.', 'Se ban.'],\n",
              " ['Are you a ghost?', 'Eres un fantasma?'],\n",
              " [\"Don't leave the wndows open.\", 'No dejes abertas las ventanas.'],\n",
              " ['Cut t out, Tom.', 'Déjalo ya, Tom.'],\n",
              " [\"I'm eatng now.\", 'Ahora estoy comendo.'],\n",
              " ['Tom stands by me whenever I am n trouble.',\n",
              "  'Tom me apoya sempre que tengo problemas.'],\n",
              " ['He earns over 500 dollars a month from that job.',\n",
              "  'Él gana más de 500 dólares al mes con ese trabajo.'],\n",
              " ['I told you to be careful.', 'Te dje que tuveras cudado.'],\n",
              " ['They never tell a le.', 'Ellas no menten nunca.'],\n",
              " ['Have you ever seen anythng so beautful?', 'Alguna vez vste algo tan lndo?'],\n",
              " ['What a shame!', '¡Qué vergüenza!'],\n",
              " ['We need to chat soon.', 'Necestamos charlar pronto.'],\n",
              " ['She ntroduced her sster to hm more than two years ago.',\n",
              "  'Ella le presentó a su hermana hace más de dos años.'],\n",
              " [\"Ddn't you hear the scream?\", 'No has oído ese grto?'],\n",
              " ['Tom was lost.', 'Tom estaba perddo.'],\n",
              " ['Are you 18?', 'Has cumpldo decocho?'],\n",
              " ['I am a member of the basketball team.',\n",
              "  'Soy membro del equpo de baloncesto.'],\n",
              " ['Tom s a dabetc.', 'Tom es dabétco.'],\n",
              " ['I got out of the car at 40th Street.', 'Me bajé del auto en la calle 40.'],\n",
              " ['Sorry for the delay.', 'Perdón por la tardanza.'],\n",
              " ['Is Englsh spoken n Canada?', 'Se habla nglés en Canadá?'],\n",
              " [\"Tom thought Mary wouldn't want to lve n Boston.\",\n",
              "  'Tom pensó que Mary no querría vvr en Boston.'],\n",
              " ['Tom told me I should get myself a grlfrend.',\n",
              "  'Tom me djo que debía consegurme una nova.'],\n",
              " [\"You ddn't nvte me.\", 'No me nvtaste.'],\n",
              " ['Does t hurt when you chew?', 'Te duele cuando mastcás?'],\n",
              " [\"You can run, but you can't hde.\", 'Puedes correr, pero no esconderte.'],\n",
              " ['She acted n the play.', 'Ella actuó en la obra.'],\n",
              " ['I just want to hug you.', 'Solo quero abrazarte.'],\n",
              " ['Tom leaned on hs cane.', 'Tom se apoyó en su bastón.'],\n",
              " ['That makes no sense at all.', 'Eso no tene nngún sentdo.'],\n",
              " ['I want to buy ths jacket.', 'Quero comprar esta chaqueta.'],\n",
              " ['He deposted 100 dollars n hs savng account.',\n",
              "  'Él ngresó 100 dólares en su cuenta de ahorros.'],\n",
              " [\"I'm not as healthy as I used to be.\", 'No estoy tan sano como antaño.'],\n",
              " ['Yes, I know t.', 'Sí, lo sé.'],\n",
              " ['I hope that you wll get well soon.', 'Espero que pronto te pongas ben.'],\n",
              " ['Her house s close to the park.', 'Su casa está cerca del parque.'],\n",
              " ['About how many books do you have?', 'Cuántos lbros tenes más o menos?'],\n",
              " ['I was at home almost all day yesterday.',\n",
              "  'Ayer estuve cas todo el día en casa.'],\n",
              " ['He s blnded by love.', 'Él está cego de amor.'],\n",
              " ['He had few frends and lttle money.', 'Él tenía pocos amgos y poco dnero.'],\n",
              " ['He s a scentst who s respected by everybody.',\n",
              "  'Él es un centífco respetado por todos.'],\n",
              " ['They say that she s n love wth hm.', 'Dcen que está enamorada de él.'],\n",
              " ['Tell her to not look for me.', 'Dle a ella que no me busque.'],\n",
              " [\"When a good opportunty presents tself, I don't let t pass.\",\n",
              "  'Cuando se presenta una oportundad favorable, no la dejo pasar.'],\n",
              " ['She has a cold and s absent from school.',\n",
              "  'Ella está resfrada y no vene al colego.'],\n",
              " ['The lbrary s on the 4th floor.', 'La bbloteca está en el cuarto pso.'],\n",
              " [\"I haven't yet read all of these books.\",\n",
              "  'Todavía no he leído todos estos lbros.'],\n",
              " [\"Mary doesn't have expensve tastes.\", 'María no tene gustos caros.'],\n",
              " ['He has a lot of orgnal deas.', 'Él tene muchas deas orgnales.'],\n",
              " ['I explaned the rules to her.', 'Le explqué las reglas.'],\n",
              " ['We were to be marred n May but had to postpone the marrage untl June.',\n",
              "  'Nos íbamos a casar en mayo, pero tuvmos que posponer la boda hasta juno.'],\n",
              " ['The computer s to her left.', 'El ordenador está a su zquerda.'],\n",
              " ['He has a lot of money.', 'Él tene mucho dnero.'],\n",
              " [\"I'll be back n two hours.\", 'Vuelvo en dos horas.'],\n",
              " ['It s better to lve rch, than to de rch.', 'Es mejor vvr rco que morr rco.'],\n",
              " [\"There's a long lne at every cash regster.\",\n",
              "  'Hay una larga cola en todas las cajas regstradoras.'],\n",
              " [\"I'm sure you're gong to lke ths lunch.\",\n",
              "  'Estoy seguro de que les gustará el almuerzo.'],\n",
              " ['We jog before breakfast every mornng.',\n",
              "  'Hacemos footng todas las mañanas antes del desayuno.'],\n",
              " ['Nobody laughed.', 'Nade se ró.'],\n",
              " ['I have already fnshed readng ths book.', 'Ya me he acabado este lbro.'],\n",
              " [\"We haven't seen t yet.\", 'Todavía no lo hemos vsto.'],\n",
              " [\"What's n that cupboard?\", 'Qué hay en ese aparador?'],\n",
              " ['Good for you.', 'Ben por t.'],\n",
              " [\"Let's play somethng.\", 'Vamos a jugar.'],\n",
              " ['Next Monday s a holday.', 'El próxmo lunes es ferado.'],\n",
              " ['Ths s the only book I have.', 'Ese es el únco lbro que tengo.'],\n",
              " ['Is he aware of the dffculty?', 'Está él al tanto de la dfcultad?'],\n",
              " ['I wanted us to be happy.', 'Quería que fuéramos felces.'],\n",
              " ['I beleve n fate.', 'Creo en el destno.'],\n",
              " ['Tom saw hs reflecton n the mrror.', 'Tom vo su reflejo en el espejo.'],\n",
              " ['Everybody needs one.', 'Todos necestan uno.'],\n",
              " ['Tom had no further questons.', 'Tom no tenía más preguntas.'],\n",
              " ['Wll you please show me the way?', 'Podrías enseñarme el camno, por favor?'],\n",
              " ['I know a shortcut.', 'Yo conozco un atajo.'],\n",
              " ['What are those?', 'Qué son ésos?'],\n",
              " [\"We haven't got much tme.\", 'No tenemos mucho tempo.'],\n",
              " [\"It's a lot of fun to be wth you.\", 'Es muy dvertdo estar contgo.'],\n",
              " ['Could you just get straght to the pont?',\n",
              "  'Podrías r drectamente al grano?'],\n",
              " [\"That's the rght answer.\", 'Esa es la respuesta correcta.'],\n",
              " ['Would you lke to drnk anythng?', 'Te gustaría beber algo?'],\n",
              " ['Is ths love?', 'Esto es amor?'],\n",
              " [\"She starts her job at seven o'clock.\",\n",
              "  'Ella empeza a trabajar a las sete.'],\n",
              " [\"Let's go to a move.\", 'Vamos a ver una película.'],\n",
              " [\"He hasn't made a record or had a concert for many years.\",\n",
              "  'Él no ha hecho una grabacón n ha realzado un concerto por muchos años.'],\n",
              " ['You look tred.', 'Usted se ve cansado.'],\n",
              " [\"I'm lookng for my brother.\", 'Estoy buscando a m hermano.'],\n",
              " ['The ktten slept soundly.', 'El gatto dormía profundamente.'],\n",
              " ['She marred hm.', 'Ella se casó con él.'],\n",
              " ['He s the older of the two.', 'Él es el mayor de los dos.'],\n",
              " ['\"She lkes musc.\" \"So do I.\"', '\"A ella le gusta la músca.\" \"A mí tambén.\"'],\n",
              " ['If she were here now, I would tell her the truth.',\n",
              "  'S ella estuvera aquí ahora, le dría la verdad.'],\n",
              " ['My shoppng bag broke.', 'M bolsa de la compra se rompó.'],\n",
              " ['We were frends.', 'Éramos amgos.'],\n",
              " ['Everyone cheered.', 'Hubo un vtoreo general.'],\n",
              " ['These tps may save your lfe.', 'Estos consejos podrían salvarte la vda.'],\n",
              " ['Where are your frends?', 'Dónde están tus amgos?'],\n",
              " [\"Why shouldn't truth be stranger than fcton? Fcton, after all, has to make sense.\",\n",
              "  'Por qué no podría la verdad ser más extraña que la fccón? Después de todo, la fccón tene que tener sentdo.'],\n",
              " ['Come on, gve t to me.', 'Venga, dámelo.'],\n",
              " ['Tom also plays the voln.', 'Tom tambén toca el volín.'],\n",
              " ['Tom admtted that he was afrad.', 'Tom confrmó sus temores.'],\n",
              " ['Tom s clearly worn out.', 'Tom está claramente agotado.'],\n",
              " ['The dogs bayed at the full moon.', 'Los perros aullaban a la luna llena.'],\n",
              " [\"That's obscene.\", 'Eso es obsceno.'],\n",
              " ['They went fshng yesterday.', 'Ayer se fueron de pesca.'],\n",
              " ['He took out hs handkerchef.', 'Él se sacó el pañuelo.'],\n",
              " ['I was expectng you.', 'Te estuve esperando.'],\n",
              " ['What do you have on the menu today?', 'Qué tenes en el menú hoy?'],\n",
              " ['Tom made t qute clear what he wanted.',\n",
              "  'Tom dejó muy claro lo que él quería.'],\n",
              " ['Ths s really cool.', 'Esto es genal.'],\n",
              " ['She needs our help.', 'Necesta nuestra ayuda.'],\n",
              " ['She s out now.', 'Ella está afuera ahora.'],\n",
              " ['They abandoned ther chldren n the forest.',\n",
              "  'Abandonaron a sus hjos en el bosque.'],\n",
              " ['Tom got to the arport just n the nck of tme.',\n",
              "  'Tom llegó al aeropuerto justo en el últmo momento.'],\n",
              " [\"Tom sad he couldn't clean the pool tomorrow afternoon.\",\n",
              "  'Tom djo que no podría lmpar la pscna mañana por la tarde.'],\n",
              " ['Tom probably knows the answer.', 'Tom probablemente sepa la respuesta.'],\n",
              " [\"It's understood that we'll start tomorrow.\",\n",
              "  'Está entenddo que empezaremos mañana.'],\n",
              " ['Ht Tom.', 'Golpea a Tom.'],\n",
              " ['I handed n my report yesterday.', 'Yo entregué m reporte ayer.'],\n",
              " ['I have neglected you so long that I feel a bt shy n vstng you.',\n",
              "  'Te he dejado de lado por tanto tempo que tengo un poco de vergüenza de vstarte.'],\n",
              " ['Gve me a hammer.', 'Deme un martllo.'],\n",
              " ['I have a small fever.', 'Tengo un poco de febre.'],\n",
              " [\"It must've cost a fortune.\", 'Tene que haber costado una fortuna.'],\n",
              " ['I led.', 'Mentí.'],\n",
              " ['I could have sworn I saw somebody.', 'Juraría que v a alguen.'],\n",
              " ['I suppose you lke hm.', 'Yo supongo que te gusta él.'],\n",
              " [\"I ddn't know anyone at the party.\", 'No conocía a nade en la festa.'],\n",
              " [\"You want a dvorce, don't you?\", 'Queres el dvorco, no es así?'],\n",
              " ['I am a teacher of Englsh.', 'Soy maestra de nglés.'],\n",
              " ['You must be more polte.', 'Tenés que ser más respetuoso.'],\n",
              " ['Who knows?', 'Aabe...'],\n",
              " ['She asked me f I knew her address.',\n",
              "  'Ella me preguntó s conocía su dreccón.'],\n",
              " ['I once lved n Rome.', 'Una vez vví en Roma.'],\n",
              " [\"I'll scold hm.\", 'Le reñré.'],\n",
              " ['Tom ate what lttle food he had left.',\n",
              "  'Tom se comó la poca comda que le quedaba.'],\n",
              " ['A polceman was gazng at a suspcous pedestran.',\n",
              "  'Un polcía estaba observando a un peatón sospechoso.'],\n",
              " ['I never looked for you.', 'Nunca te busqué.'],\n",
              " ['Tom once worked at a bakery.', 'Tom una vez trabajó en una panadería.'],\n",
              " [\"Everyone looked at Tom to see what he'd do.\",\n",
              "  'Todos mraron a Tom para ver qué haría.'],\n",
              " ['Tom was abused by hs father.', 'Tom fue abusado por su padre.'],\n",
              " [\"Just a moment. I haven't made up my mnd yet.\",\n",
              "  'Un momento. Aún no me decdo.'],\n",
              " ['It was the bggest mstake of my lfe.', 'Fue el error más grande de m vda.'],\n",
              " ['Tom s the one who feeds the dog.',\n",
              "  'Tom es el únco que da de comer al perro.'],\n",
              " ['I wll leave as soon as the bell rngs.',\n",
              "  'Me ré tan pronto como suene la campana.'],\n",
              " ['Would you speak more slowly, please?',\n",
              "  'Podrías hablar más lento, por favor?'],\n",
              " ['I am not a doctor, but a teacher.', 'No soy médco, soy profesor.'],\n",
              " ['Nether of those boys can speak French.',\n",
              "  'Nnguno de esos chcos sabe hablar francés.'],\n",
              " [\"I'm learnng Englsh.\", 'Estoy aprendendo nglés.'],\n",
              " ['Do you know of any good restaurants around here?',\n",
              "  'Conoces algún buen restaurante por aquí?'],\n",
              " ['Hs brother had been mssng for a whle.',\n",
              "  'Su hermano llevaba un tempo desaparecdo.'],\n",
              " ['I looked down.', 'Yo mré haca abajo.'],\n",
              " ['Please close the drapes.', 'Por favor, cerra las cortnas.'],\n",
              " ['Hs breath smells lke goat cheese.', 'Su alento huele a queso de cabra.'],\n",
              " ['Nothng s happenng.', 'No está pasando nada.'],\n",
              " [\"He ddn't have enough money to rde home on the tran.\",\n",
              "  'Él no tenía sufcente dnero para r a casa en tren.'],\n",
              " ['I am delghted to be here.', 'Estoy encantado de estar aquí.'],\n",
              " [\"Let's start wth leftovers.\", 'Empezaremos por las sobras.'],\n",
              " ['What tme does the show start?', 'A qué hora empeza la funcón?'],\n",
              " ['The studo s very small, wth no place to hde.',\n",
              "  'El estudo es muy pequeño, sn lugares donde esconderse.'],\n",
              " [\"I don't mnd sleepng on the floor.\", 'No me mporta dormr en el suelo.'],\n",
              " ['Tom never helps me.', 'Tom no me ayuda nunca.'],\n",
              " ['Only one lttle boy survved the traffc accdent.',\n",
              "  'Solo un nño pequeño sobrevvó al accdente de tránsto.'],\n",
              " [\"Tom won't be here next month.\", 'Tom no estará acá el mes que vene.'],\n",
              " ['You should go to the barbershop.', 'Deberías r a la barbería.'],\n",
              " ['Our car ran out of gas after ten mnutes.',\n",
              "  'Nuestro auto se quedó sn combustble después de dez mnutos.'],\n",
              " ['Whose bcycle s ths?', 'De quén es esta bccleta?'],\n",
              " ['He never stopped wrtng.', 'Él nunca dejó de escrbr.'],\n",
              " ['She was restless because she dd not have anythng to do.',\n",
              "  'Ella estaba mpacente porque no tenía nada que hacer.'],\n",
              " ['Put t n frst and slowly let off the clutch whle gvng t a lttle gas.',\n",
              "  'Mete prmera y suelta lentamente el embrague mentras aceleras un poco.'],\n",
              " ['How would you translate ths sentence?', 'Cómo traducrías esta oracón?'],\n",
              " ['Do you eat n the classroom?', 'Comen en el aula?'],\n",
              " [\"I wsh I'd studed French when I was younger.\",\n",
              "  'Me gustaría haber estudado francés cuando era más joven.'],\n",
              " ['Your questons were too drect.', 'Tus preguntas fueron muy drectas.'],\n",
              " ['Can you remember the frst tme we met each other?',\n",
              "  'Te puedes acordar de la prmera vez que nos vmos el uno al otro?'],\n",
              " ['I have plenty of tme to do that.', 'Tengo harto tempo para hacer eso.'],\n",
              " ['I know Tom from work.', 'Conozco a Tom del trabajo.'],\n",
              " ['What have you done?', 'Qué hcste?'],\n",
              " ['It s sad the house s haunted.', 'Se dce que la casa está embrujada.'],\n",
              " ['Last year n the Phlppnes, earthquakes and tdal waves resulted n the deaths of more than 6,000 people.',\n",
              "  'El año pasado, los terremotos y los maremotos cobraron más de 6.000 vdas en Flpnas.'],\n",
              " [\"I'm very grateful to you.\", 'Te estoy muy agradecdo.'],\n",
              " [\"Most people don't have a problem wth that.\",\n",
              "  'La mayoría de la gente no tene problema con eso.'],\n",
              " [\"I can't stand that nose.\", 'No puedo soportar ese rudo.'],\n",
              " ['Everythng wll change.', 'Todo cambará.'],\n",
              " ['None of us s perfect.', 'Nnguno de nosotros es perfecto.'],\n",
              " [\"I'll go back to Boston.\", 'Me devolveré a Boston.'],\n",
              " [\"Ths museum sn't open on Mondays.\", 'Este museo no se abre los lunes.'],\n",
              " ['Does he know how you feel?', 'Sabe cómo te sentes?'],\n",
              " [\"They don't know that I'm Japanese.\", 'No saben que soy japonesa.'],\n",
              " ['He often goes off on wld goose chases.',\n",
              "  'Él a menudo se embarca en metas mposbles.'],\n",
              " [\"My father's hobby s fshng.\", 'El pasatempo de m padre es la pesca.'],\n",
              " ['I had stuff to do.', 'Tenía cosas que hacer.'],\n",
              " ['He was too drunk to remember to shut the back door.',\n",
              "  'Él ba borracho y olvdó cerrar la puerta trasera.'],\n",
              " ['I cut a branch from the tree.', 'He cortado una rama del árbol.'],\n",
              " ['How many days do we have left untl summer vacaton begns?',\n",
              "  'Cuántos días nos quedan para que empecen las vacacones de verano?'],\n",
              " [\"How's busness?\", 'Cómo va el negoco?'],\n",
              " ['Close your mouth.', 'Cerrá la boca.'],\n",
              " [\"Tom doesn't want to do anythng but swm.\", 'Tom sólo quere nadar.'],\n",
              " ['All men are equal.', 'Los hombres son todos guales.'],\n",
              " ['I have an electrc gutar.', 'Tengo una gutarra eléctrca.'],\n",
              " ['Would you please stop sngng so loudly? Ths s not a cheap drnkng place.',\n",
              "  'Por favor, podrías dejar de cantar tan fuerte? Este no es un bar cualquera.'],\n",
              " ['Whch do you lke better, the Gants or the Dragons?',\n",
              "  'Qué preferes: los Ggantes o los Dragones?'],\n",
              " [\"I don't feel lke playng tenns today.\",\n",
              "  'Hoy no tengo ganas de jugar al tens.'],\n",
              " ['He looks well.', 'Tene buen aspecto.'],\n",
              " ['Do you want to make some money today?', 'Queres ganar algo de dnero hoy?'],\n",
              " ['He bowed to the Queen.', 'Él se nclnó ante la rena.'],\n",
              " [\"She says you'll brng some frends along.\",\n",
              "  'Ella dce que tú traerás algunos amgos contgo.'],\n",
              " [\"Tom's funny.\", 'Tom es alegre.'],\n",
              " ['Tom s taller and stronger than Mary.',\n",
              "  'Tom es más alto y más fuerte que Mary.'],\n",
              " ['He abandoned hs famly.', 'Él abandonó a su famla.'],\n",
              " ['Are there a lot of Moroccans n Germany?',\n",
              "  'Hay muchos marroquíes en Alemana?'],\n",
              " ['Every mstake made me stronger.', 'Cada error me fortalece.'],\n",
              " ['Dd she show you the pcture?', 'Ella te enseñó la foto?'],\n",
              " ['Look at yourself n the mrror.', 'Mrate en el espejo.'],\n",
              " ['I wsh I could speak French lke a natve speaker.',\n",
              "  'Ojalá hablara francés como un natvo.'],\n",
              " ['Tom asked Mary about her new job n Boston.',\n",
              "  'Tom le preguntó a Mary por su nuevo trabajo en Boston.'],\n",
              " [\"Tom doesn't have to wash the car. Mary's already washed t.\",\n",
              "  'Tom no necesta lavar el auto. Mary ya lo lavó.'],\n",
              " ['It was yesterday.', 'Fue ayer.'],\n",
              " [\"What's your phlosophy?\", 'Cuál es tu flosofía?'],\n",
              " [\"What's the spcest thng you've ever eaten?\",\n",
              "  'Qué es lo más pcante que has comdo nunca?'],\n",
              " ['I love to teach.', 'Me encanta enseñar.'],\n",
              " [\"Tom s a frend of Mary's.\", 'Tom es un amgo de Mary.'],\n",
              " ['Who klled Tom?', 'Quén mató a Tom?'],\n",
              " [\"You're soakng wet.\", 'Estás empapado.'],\n",
              " ['You may park here.', 'Te puedes aparcar aquí.'],\n",
              " ['The chldren amused themselves by playng games.',\n",
              "  'Los nños se dvertían jugando.'],\n",
              " ['What are you smrkng at?', 'De qué te estás sonrendo?'],\n",
              " ['They know what happened.', 'Ellos saben qué pasó.'],\n",
              " ['Where can I buy a map?', 'Dónde puedo comprar un mapa?'],\n",
              " ['We go to church together.', 'Vamos juntos a la glesa.'],\n",
              " ['I knew Tom would be there.', 'Sabía que Tom estaría allí.'],\n",
              " ['Tom and Mary know each other.', 'Tom y Mary se conocen.'],\n",
              " ['Wll you pck out a te for me?', 'Me elges una corbata?'],\n",
              " [\"I knew I shouldn't have put off dong my homework untl the last mnute.\",\n",
              "  'Se que no debería haber pospuesto hacer los deberes hasta el últmo mnuto.'],\n",
              " ['You are prohbted from smokng here.', 'Tu tenes prohbdo fumar aquí.'],\n",
              " ['What are your ntentons?', 'Cuáles son sus mras?'],\n",
              " ['I cannot excuse her.', 'No puedo perdonarla.'],\n",
              " ['Tom came back home after dark.',\n",
              "  'Tom volvó a casa después de que oscurecese.'],\n",
              " ['Tom s mprovng.', 'Tom va mejorando.'],\n",
              " ['Lfe s lke rdng a bcycle. To keep your balance you must keep movng.',\n",
              "  'La vda es como montar en bccleta: para mantenerte en equlbro tenes que segur movéndote.'],\n",
              " ['When the phone rang, he sprang out of bed.',\n",
              "  'Cuando sonó el teléfono, él saltó de la cama.'],\n",
              " ['Can you recommend a good game to me?',\n",
              "  'Me puede recomendar un buen juego?'],\n",
              " ['Tom has wavy brown har and blue eyes.',\n",
              "  'Tom tene pelo castaño ondulado y ojos azules.'],\n",
              " ['Tom s useless.', 'Tomás es un cero a la zquerda.'],\n",
              " ['When I met her the other day she asked of my parents.',\n",
              "  'Cuando me la encontré el otro día, me preguntó por ms padres.'],\n",
              " [\"Tom loved the color of Mary's new dress.\",\n",
              "  'A Tom le encantaba el color del nuevo vestdo de Mary.'],\n",
              " ['You are responsble for the death of the chld.',\n",
              "  'Tú eres responsable por la muerte del nño.'],\n",
              " ['Where s your cap?', 'Dónde está tu gorra?'],\n",
              " [\"I'm severely allergc to peanuts.\",\n",
              "  'Soy extremadamente alérgco a los cacahuetes.'],\n",
              " ['How many galaxes are there n the unverse?',\n",
              "  'Cuántas galaxas hay en el unverso?'],\n",
              " ['There was no choce but to st and wat.',\n",
              "  'No había otra opcón excepto sentarse y esperar.'],\n",
              " ['Tom asked Mary whch way to turn.',\n",
              "  'Tom le preguntó a Mary haca donde doblar.'],\n",
              " ['Her composton was free from mstakes.',\n",
              "  'Su redaccón estaba lbre de fallos.'],\n",
              " ['The store s closed untl further notce.',\n",
              "  'La tenda está cerrada hasta próxmo avso.'],\n",
              " [\"I thnk I've broken my arm.\", 'Creo que me he roto el brazo.'],\n",
              " ['He has a mld nature.', 'Él tene una personaldad dócl.'],\n",
              " ['Go frst to those who you are sure wll help you.',\n",
              "  'Acude prmero a aquellos de los que estás seguro de que te ayudarán.'],\n",
              " [\"Now what's wrong?\", 'Qué ha pasado ahora?'],\n",
              " ['The vllage s connected wth our town by a brdge.',\n",
              "  'El pueblo está undo con nuestra cudad a través de un puente.'],\n",
              " ['The mlk tasted sour.', 'La leche sabía agra.'],\n",
              " ['I confessed to stealng the money.', 'Confesé haber robado el dnero.'],\n",
              " [\"We're an hour behnd.\", 'Llevamos una hora de retraso.'],\n",
              " ['Ths CD belongs to her.', 'Este CD le pertenece a ella.'],\n",
              " ['He was scared you would shoot hm.', 'Él tenía medo de que le dspararas.'],\n",
              " ['He has a dog.', 'Tene un perro.'],\n",
              " ['She kept on talkng whle eatng.', 'Ella sguó hablando en lo que comía.'],\n",
              " ['I came to talk to you.', 'Vne a hablar con vos.'],\n",
              " ['It took less than fve mnutes.', 'Tomó menos de cnco mnutos.'],\n",
              " ['Everybody needs to know ths.', 'Todos tenen que saber esto.'],\n",
              " ['I agree wth hm on that pont.', 'Estoy de acuerdo con él en ese punto.'],\n",
              " ['We got n after a long wat.', 'Después de una larga espera pudmos entrar.'],\n",
              " [\"You've put on weght, haven't you?\", 'Has cogdo peso, verdad?'],\n",
              " ['Could I park my car here?', 'Puedo aparcar m coche aquí?'],\n",
              " ['How long s your Chrstmas vacaton?',\n",
              "  'Cuánto tempo de vacacones tenes en Navdad?'],\n",
              " ['Tom had trouble resolvng the stuaton.',\n",
              "  'Tom tuvo problemas para resolver la stuacón.'],\n",
              " ['The author of ths book s stll young.',\n",
              "  'El autor de este lbro es aún joven.'],\n",
              " ['I have the ace of clubs.', 'Tengo el as de tréboles.'],\n",
              " [\"He doesn't want to go to school today.\", 'Él no quere r hoy a la escuela.'],\n",
              " [\"If you make new frends, don't forget the old ones.\",\n",
              "  'S tú haces nuevos amgos, no olvdes a los vejos.'],\n",
              " ['Try harder tomorrow.', 'Inténtalo mañana con más fuerza.'],\n",
              " ['Are you the owner of ths house?', 'Eres el dueño de esta casa?'],\n",
              " ['Help us.', 'Ayúdanos.'],\n",
              " ['I stopped smokng.', 'Dejé de fumar.'],\n",
              " ['Ths song s known to everyone.', 'Esta cancón es conocda por todos.'],\n",
              " ['You look hot.', 'Pareces acalorado.'],\n",
              " ['Tom put hmself and hs chldren at rsk.',\n",
              "  'Tom se puso a s msmo y a sus hjos en pelgro.'],\n",
              " ['I wsh I were clever.', 'Ojalá fuera ntelgente.'],\n",
              " ['I was n São Paulo n February.', 'Estaba en San Pablo en febrero.'],\n",
              " [\"I don't blame you for puttng off our trp.\",\n",
              "  'No te recrmno que pospuseras nuestro vaje.'],\n",
              " ['Where do you thnk all the money goes?',\n",
              "  'Adónde te crees que se va todo el dnero?'],\n",
              " [\"I hope you're not mad at me.\", 'Espero que no estés molesto conmgo.'],\n",
              " [\"I haven't eaten there n a long tme.\", 'No he comdo ahí en mucho tempo.'],\n",
              " ['Please take off your hat.', 'Por favor, sacate el sombrero.'],\n",
              " ['Tom twsted hs ankle.', 'Tom se torcó el tobllo.'],\n",
              " ['My uncle s very fond of fshng.', 'A m abuelo le encanta pescar.'],\n",
              " ['Who s the tallest of the fve?', 'Quén es el más alto de los cnco?'],\n",
              " [\"Tom and Mary ddn't get along very well.\",\n",
              "  'Tom y Mary no se llevaban muy ben.'],\n",
              " ['I can resst everythng but temptaton.',\n",
              "  'Puedo resstrlo todo menos la tentacón.'],\n",
              " ['Santary condtons n the refugee camps were terrble.',\n",
              "  'Las condcones santaras en los campamentos de refugados eran horrbles.'],\n",
              " ['He was brave.', 'Él era valente.'],\n",
              " ['Tom s decetful.', 'Tom es falso.'],\n",
              " [\"He's already left.\", 'Él ya se fue.'],\n",
              " [\"Here's the key to your room.\", 'Aquí tenes la llave de tu habtacón.'],\n",
              " ['I need a mracle.', 'Necesto un mlagro.'],\n",
              " ['My glass s empty.', 'M vaso está vacío.'],\n",
              " [\"Tom and Mary don't have much tme to talk together. Ther chldren are always demandng ther attenton.\",\n",
              "  'Tom y Mary no tenen mucho tempo para hablar juntos. Sus hjos sempre demandan su atencón.'],\n",
              " ['It takes more tme to prepare the car for gettng panted than t takes for the actual pant job tself.',\n",
              "  'Tardas más en preparar el coche para la pntura que en el trabajo de pntura en sí.'],\n",
              " ['Do you need to leave today?', 'Es necesaro que te marches hoy?'],\n",
              " [\"He's not home.\", 'No está en casa.'],\n",
              " [\"You shouldn't always follow the crowd.\",\n",
              "  'Uno no debería segur sempre a la multtud.'],\n",
              " ['Nobody lves here.', 'Nade vve aquí.'],\n",
              " ['Be creatve.', 'Sed creatvos.'],\n",
              " ['The boy tred to be a man and not cry.',\n",
              "  'El nño ntentó ser un hombre y no llorar.'],\n",
              " ['Who does she thnk that she s?', 'Quén se cree que es?'],\n",
              " [\"Let's pool all our money.\", 'Juntemos todo el dnero.'],\n",
              " [\"I'm not sure there's a problem.\",\n",
              "  'No estoy seguro de que haya un problema.'],\n",
              " ['Tom already ate.', 'Tom ya comó.'],\n",
              " ['What an dot!', '¡Qué dota!'],\n",
              " ['Are you embarrassed?', 'Tenés vergüenza?'],\n",
              " ['I only have a few books.', 'Solo tengo unos pocos lbros.'],\n",
              " ['Where do they do that?', 'Dónde hacen eso?'],\n",
              " ['It makes no dfference to me whether he lkes baseball or football.',\n",
              "  'Me es ndferente s a él le gusta el bésbol o el fútbol.'],\n",
              " [\"Mom, where's the cat?\", 'Mamá, dónde está el gato?'],\n",
              " ['When dd you start studyng Latn?', 'Cuándo empezaste a estudar latín?'],\n",
              " ['Tom has to look after Mary.', 'Tom tene que cudar a Mary.'],\n",
              " ['Tom stayed up all nght studyng.', 'Tom se quedó toda la noche estudando.'],\n",
              " ['Show me another watch.', 'Enséñame otro reloj.'],\n",
              " ['Of course, many senor ctzens are happy wth retrement.',\n",
              "  'Por supuesto, muchos cudadanos de la tercera edad son felces con el retro.'],\n",
              " ['Ths dctonary, of whch the thrd volume s mssng, cost me a hundred dollars.',\n",
              "  'Este dcconaro, del cual falta el tercer tomo, me costó cen dólares.'],\n",
              " ['We estmated the damage at 1000 dollars.',\n",
              "  'Hemos estmado el daño en ml dólares.'],\n",
              " ['Some dd not know how to fght.', 'Algunos no sabían combatr.'],\n",
              " ['Health s essental to happness.',\n",
              "  'La salud es ndspensable para la felcdad.'],\n",
              " ['I could not get out of the stadum because of the crowd.',\n",
              "  'No pude salr del estado debdo al gentío.'],\n",
              " [\"Do you really thnk t's bad?\", 'De verdad pensas que es malo?'],\n",
              " ['How about gong for a drve?', 'Qué te parece dar una vuelta en coche?'],\n",
              " [\"I ddn't speak wth Tom.\", 'No hablé con Tom.'],\n",
              " ['He arrved n tme.', 'Él llegó a tempo.'],\n",
              " ['Our sales are decreasng.', 'Nuestras ventas están cayendo.'],\n",
              " ['No way!', '¡Mnga!'],\n",
              " ['She came to see us yesterday.', 'Vno a vernos ayer.'],\n",
              " ['Tom must be angry wth Mary.', 'Tom debe estar enojado con Mary.'],\n",
              " ['Tom s a good athlete.', 'Tom es un buen atleta.'],\n",
              " ['The old house was demolshed.', 'La casa veja fue demolda.'],\n",
              " ['How bg you are!', '¡Qué alto eres!'],\n",
              " ['We have yellow apples.', 'Tenemos manzanas amarllas.'],\n",
              " ['The only tme you talk to me s when you need some money.',\n",
              "  'La únca vez en que me hablas es cuando necestas dnero.'],\n",
              " ['We slept under the stars.', 'Dormmos bajo las estrellas.'],\n",
              " ['He sad that that grl had kssed hm.',\n",
              "  'Él djo que esa chca le había besado.'],\n",
              " ['There was a bus n the way.', 'Había un autobús en el camno.'],\n",
              " ['Comng back was a bad choce.', 'Regresar fue una mala eleccón.'],\n",
              " [\"How's everyone at the Hong Kong offce?\",\n",
              "  'Cómo están todos en la ofcna de Hong Kong?'],\n",
              " ['Tom sngs qute well.', 'Tomás canta bastante ben.'],\n",
              " ['Absence makes the heart grow fonder.',\n",
              "  'N la ausenca n el tempo son nada cuando se ama.'],\n",
              " [\"Your soup's gettng cold.\", 'Tu sopa se está enfrando.'],\n",
              " [\"You're drvng me nuts.\", 'Me estás volvendo loco.'],\n",
              " [\"He's stronger than you.\", 'Él es más fuerte que tú.'],\n",
              " [\"I can't unte ths knot.\", 'No puedo desatar este nudo.'],\n",
              " [\"I should've eaten more.\", 'Debería haber comdo más.'],\n",
              " ['Is he a doctor?', 'Él es un médco?'],\n",
              " ['I read a letter.', 'Estoy leyendo una carta.'],\n",
              " ['You have no rght to do ths.', 'No tenés derecho a hacer esto.'],\n",
              " [\"I can't make promses.\", 'No puedo prometer nada.'],\n",
              " [\"It's been thrty years snce we got marred.\",\n",
              "  'Han pasado trenta años desde que nos casamos.'],\n",
              " ['The volence lasted for two weeks.', 'La volenca perduró por dos semanas.'],\n",
              " ['Women generally lve longer than men.',\n",
              "  'Las mujeres generalmente vven más que los hombres.'],\n",
              " ['I thought Tom would want to try some Japanese food.',\n",
              "  'Pensé que a Tom le gustaría probar un poco de comda japonesa.'],\n",
              " [\"I'm sure there s nobody as knd as you are the whole world.\",\n",
              "  'Yo estoy seguro de que no hay nade tan gentl como tú en todo el mundo.'],\n",
              " [\"Don't laugh at hm.\", 'No os ras de él.'],\n",
              " ['You must remove your shoes before enterng a house.',\n",
              "  'Tú debes qutarte los zapatos antes de entrar a una casa.'],\n",
              " ['Can we move on?', 'Podemos contnuar?'],\n",
              " ['She was soaked from head to foot.', 'Ella se empapó de pes a cabeza.'],\n",
              " [\"I ddn't look under the couch.\", 'No mré bajo el sofá.'],\n",
              " ['When I was a boy, I thought that I wanted to be a doctor.',\n",
              "  'Cuando era nño, pensaba que quería ser médco.'],\n",
              " [\"I'll be wth you n a second.\", 'Estaré contgo en un segundo.'],\n",
              " ['I agree wth you that we need more women n ths company.',\n",
              "  'Estoy de acuerdo con usted en que necestamos más mujeres en esta empresa.'],\n",
              " ['How could that happen?', 'Cómo pudo ocurrr eso?'],\n",
              " [\"What's Germany's largest lake?\", 'Cuál es el lago más grande de Alemana?'],\n",
              " ['My mother has sold everythng that s dear to her.',\n",
              "  'M madre vendó todo lo que era valoso para ella.'],\n",
              " ['Is that t?', 'Es ese?'],\n",
              " ['What are they after?', 'Qué persguen ellos?'],\n",
              " ['I went swmmng n the sea.', 'Fu a nadar al mar.'],\n",
              " ['Mehmed Talat was assassnated n Berln n 1921.',\n",
              "  'Mehmed Talat fue asesnado en Berlín en el año 1921.'],\n",
              " [\"I ran all the way here and I'm out of breath.\",\n",
              "  'Vne correndo todo el camno hasta aquí y estoy sn alento.'],\n",
              " ['I can often hear pgeons coong outsde my bedroom wndow.',\n",
              "  'A menudo ogo a las palomas arrullar desde la ventana de m habtacón'],\n",
              " [\"It ddn't work.\", 'No funconó.'],\n",
              " [\"If I weren't sck, I'd jon you.\",\n",
              "  'S no estuvera enfermo, me unría a vosotros.'],\n",
              " ['The work begns to get more dffcult.', 'El trabajo empeza a ser más dfícl.'],\n",
              " ['What does your father do?', 'Qué hace tu padre?'],\n",
              " ['I caught up wth the others.', 'Alcancé a los demás.'],\n",
              " ['I was lonely.', 'Estaba solo.'],\n",
              " ['Tom s very nce to me.', 'Tom me cae ben.'],\n",
              " ['What makes you thnk that Tom s plannng to ask Mary to marry hm?',\n",
              "  'Qué te hace pensar que Tom está planeando pedrle a Mary que se case con él?'],\n",
              " ['He s always laughng.', 'Sempre se está rendo.'],\n",
              " ['The staton s dead ahead.', 'La estacón está justo enfrente.'],\n",
              " [\"Tom apologzed for not dong what he had promsed he'd do.\",\n",
              "  'Tom se dsculpó por no cumplr sus promesas.'],\n",
              " ['Tom arrved by car.', 'Tom vno en auto.'],\n",
              " [\"I'm knd of happy for you.\", 'Estoy algo felz por t.'],\n",
              " ['How much dd you pay?', 'Cuánto has pagado?'],\n",
              " ['The door s closng.', 'La puerta se está cerrando.'],\n",
              " [\"I know what I'm sayng.\", 'Yo sé lo que estoy dcendo.'],\n",
              " ['My mother makes the best cakes n the world.',\n",
              "  'M madre hace las mejores tartas del mundo.'],\n",
              " ['There s only one thng to do.', 'Sólo hay una cosa por hacer.'],\n",
              " [\"She's alve! She was drownng, but her father saved her.\",\n",
              "  '¡Está vva! Se estaba ahogando, pero su padre la salvó.'],\n",
              " ['Take over.', 'Asume el mando.'],\n",
              " ['We agree.', 'Estamos de acuerdo.'],\n",
              " ['What dd Tom gve you for Chrstmas?', 'Qué te regaló Tom para Navdad?'],\n",
              " ['I despse Tom.', 'Yo menospreco a Tom.'],\n",
              " [\"Because some urgent busness came up, he wasn't able to go to the concert.\",\n",
              "  'Debdo a que surgó un asunto urgente, él no pudo r al concerto.'],\n",
              " [\"Who's takng responsblty for ths problem?\",\n",
              "  'Quén asumrá responsabldad por este problema?'],\n",
              " ['You shall not marry my daughter!', '¡No te vas a casar con m hja!'],\n",
              " ['Honk the horn.', 'Toca el claxon.'],\n",
              " ['Your message has been receved.', 'Han recbdo tu mensaje.'],\n",
              " ...]"
            ]
          },
          "execution_count": 3,
          "metadata": {},
          "output_type": "execute_result"
        }
      ],
      "source": [
        "pairs"
      ]
    },
    {
      "cell_type": "code",
      "execution_count": null,
      "metadata": {
        "colab": {
          "base_uri": "https://localhost:8080/"
        },
        "id": "zeVsZOej1cwm",
        "outputId": "fc63934c-20d2-466f-9ff5-70426a3ae0a8"
      },
      "outputs": [
        {
          "name": "stdout",
          "output_type": "stream",
          "text": [
            "How borng! => ¡Qué aburrmento!\n",
            "I love sports. => Adoro el deporte.\n",
            "Would you lke to swap jobs? => Te gustaría que ntercambemos los trabajos?\n"
          ]
        }
      ],
      "source": [
        "for i in range(3):\n",
        "  print(sentence_en[i],\"=>\",sentences_es[i])"
      ]
    },
    {
      "cell_type": "code",
      "execution_count": null,
      "metadata": {
        "id": "fbOp7MP32Bsn"
      },
      "outputs": [],
      "source": [
        "\n",
        "vocab_size=1000 #\n",
        "max_len=50 #cumle uzunluqunu kes 50 soz\n",
        "\n",
        "text_vec_layer_en=tf.keras.layers.TextVectorization(\n",
        "    vocab_size, output_sequence_length=max_len #max\n",
        ")\n",
        "\n",
        "text_vec_layer_es=tf.keras.layers.TextVectorization(\n",
        "    vocab_size, output_sequence_length=max_len\n",
        ")\n",
        "\n",
        "text_vec_layer_en.adapt(sentence_en)\n",
        "text_vec_layer_es.adapt([f'startofesq {s} endofseq' for s in sentences_es])#her cumlenin evvelne ve sona elave edirik enkder hissene y-1 e ggirisn vw cixishda byu\n"
      ]
    },
    {
      "cell_type": "code",
      "execution_count": null,
      "metadata": {
        "colab": {
          "base_uri": "https://localhost:8080/"
        },
        "id": "9Mz8Hjmp7Hr_",
        "outputId": "37456a0e-0778-4566-ff6f-45ee3ac2fa78"
      },
      "outputs": [
        {
          "data": {
            "text/plain": [
              "['',\n",
              " '[UNK]',\n",
              " np.str_('the'),\n",
              " np.str_('i'),\n",
              " np.str_('to'),\n",
              " np.str_('you'),\n",
              " np.str_('tom'),\n",
              " np.str_('a'),\n",
              " np.str_('s'),\n",
              " np.str_('he')]"
            ]
          },
          "execution_count": 6,
          "metadata": {},
          "output_type": "execute_result"
        }
      ],
      "source": [
        "text_vec_layer_en.get_vocabulary()[:10] #ilk"
      ]
    },
    {
      "cell_type": "code",
      "execution_count": null,
      "metadata": {
        "colab": {
          "base_uri": "https://localhost:8080/"
        },
        "id": "rpvNLR1W8Ga4",
        "outputId": "c832b588-870a-4897-a2fa-ee77cf7bf1b2"
      },
      "outputs": [
        {
          "data": {
            "text/plain": [
              "['',\n",
              " '[UNK]',\n",
              " np.str_('startofesq'),\n",
              " np.str_('endofseq'),\n",
              " np.str_('de'),\n",
              " np.str_('que'),\n",
              " np.str_('a'),\n",
              " np.str_('no'),\n",
              " np.str_('tom'),\n",
              " np.str_('la')]"
            ]
          },
          "execution_count": 7,
          "metadata": {},
          "output_type": "execute_result"
        }
      ],
      "source": [
        "text_vec_layer_es.get_vocabulary()[:10] #her cumlenin evveleni start ve end yazildiqi uchun bu tokenler coxdu"
      ]
    },
    {
      "cell_type": "code",
      "execution_count": null,
      "metadata": {
        "id": "HP3kM8S08odM"
      },
      "outputs": [],
      "source": [
        "X_train=tf.constant(sentence_en[:100_000])\n",
        "X_valid=tf.constant(sentence_en[100_000:])\n",
        "\n",
        "X_train_dec=tf.constant([f'startofseq {s}' for s in sentences_es[:100_000]])\n",
        "X_valid_dec=tf.constant([f'startofseq {s}' for s in sentences_es[100_000:]])\n",
        "\n",
        "Y_train=text_vec_layer_es([f'{s} endofseq' for s in sentences_es[:100_000]])\n",
        "Y_valid=text_vec_layer_es([f'{s} endofseq' for s in sentences_es[100_000:]]) #train vacti"
      ]
    },
    {
      "cell_type": "code",
      "execution_count": null,
      "metadata": {
        "id": "rmp-hJ3w9d50"
      },
      "outputs": [],
      "source": [
        "tf.random.set_seed(42)\n",
        "encoder_inputs=tf.keras.layers.Input(shape=[], dtype=tf.string)\n",
        "decoder_inputs=tf.keras.layers.Input(shape=[], dtype=tf.string)"
      ]
    },
    {
      "cell_type": "code",
      "execution_count": null,
      "metadata": {
        "id": "jv3JR-nx-vG-"
      },
      "outputs": [],
      "source": [
        "embed_size=128\n",
        "encoder_input_ids=text_vec_layer_en(encoder_inputs)\n",
        "decoder_inputs_ids=text_vec_layer_es(decoder_inputs)#ferli dil\n",
        "\n",
        "encoder_embedding_layer=tf.keras.layers.Embedding(vocab_size, embed_size,\n",
        "                                                  mask_zero=True) #0-i ignore edir\n",
        "decoder_embedding_layer=tf.keras.layers.Embedding(vocab_size, embed_size,\n",
        "                                                  mask_zero=True)\n",
        "encoder_embeddings=encoder_embedding_layer(encoder_input_ids)\n",
        "decoder_embeddings=decoder_embedding_layer(decoder_inputs_ids)"
      ]
    },
    {
      "cell_type": "code",
      "execution_count": null,
      "metadata": {
        "id": "HTn_G98D_nzd"
      },
      "outputs": [],
      "source": [
        "encoder=tf.keras.layers.LSTM(512, return_state=True)#en axirinci qiyemt cixidsj\n",
        "encoder_outputs, *encoder_state=encoder(encoder_embeddings) #\n"
      ]
    },
    {
      "cell_type": "code",
      "execution_count": null,
      "metadata": {
        "id": "KCeJluEJASNn"
      },
      "outputs": [],
      "source": [
        "decoder=tf.keras.layers.LSTM(512, return_sequences=True)#!!!!!!!!!\n",
        "decoder_outputs=decoder(decoder_embeddings, initial_state=encoder_state)"
      ]
    },
    {
      "cell_type": "code",
      "execution_count": null,
      "metadata": {
        "id": "iCz3nmY9AiU5"
      },
      "outputs": [],
      "source": [
        "output_layer=tf.keras.layers.Dense(vocab_size, activation='softmax')\n",
        "Y_proba=output_layer(decoder_outputs)"
      ]
    },
    {
      "cell_type": "code",
      "execution_count": null,
      "metadata": {
        "colab": {
          "base_uri": "https://localhost:8080/",
          "height": 426
        },
        "id": "mSqIdqlTBTHS",
        "outputId": "234df387-7668-4cf2-ea70-62a40cdb9981"
      },
      "outputs": [
        {
          "name": "stdout",
          "output_type": "stream",
          "text": [
            "Epoch 1/3\n",
            "\u001b[1m3125/3125\u001b[0m \u001b[32m━━━━━━━━━━━━━━━━━━━━\u001b[0m\u001b[37m\u001b[0m \u001b[1m75s\u001b[0m 22ms/step - accuracy: 0.0517 - loss: 3.4965 - val_accuracy: 0.0754 - val_loss: 2.1104\n",
            "Epoch 2/3\n",
            "\u001b[1m 448/3125\u001b[0m \u001b[32m━━\u001b[0m\u001b[37m━━━━━━━━━━━━━━━━━━\u001b[0m \u001b[1m55s\u001b[0m 21ms/step - accuracy: 0.0763 - loss: 2.0825"
          ]
        },
        {
          "ename": "KeyboardInterrupt",
          "evalue": "",
          "output_type": "error",
          "traceback": [
            "\u001b[0;31m---------------------------------------------------------------------------\u001b[0m",
            "\u001b[0;31mKeyboardInterrupt\u001b[0m                         Traceback (most recent call last)",
            "\u001b[0;32m<ipython-input-14-24c175110929>\u001b[0m in \u001b[0;36m<cell line: 0>\u001b[0;34m()\u001b[0m\n\u001b[1;32m      6\u001b[0m               metrics=['accuracy'])\n\u001b[1;32m      7\u001b[0m \u001b[0;34m\u001b[0m\u001b[0m\n\u001b[0;32m----> 8\u001b[0;31m model.fit((X_train, X_train_dec), Y_train, epochs=3,\n\u001b[0m\u001b[1;32m      9\u001b[0m           validation_data=((X_valid, X_valid_dec), Y_valid))\n",
            "\u001b[0;32m/usr/local/lib/python3.11/dist-packages/keras/src/utils/traceback_utils.py\u001b[0m in \u001b[0;36merror_handler\u001b[0;34m(*args, **kwargs)\u001b[0m\n\u001b[1;32m    115\u001b[0m         \u001b[0mfiltered_tb\u001b[0m \u001b[0;34m=\u001b[0m \u001b[0;32mNone\u001b[0m\u001b[0;34m\u001b[0m\u001b[0;34m\u001b[0m\u001b[0m\n\u001b[1;32m    116\u001b[0m         \u001b[0;32mtry\u001b[0m\u001b[0;34m:\u001b[0m\u001b[0;34m\u001b[0m\u001b[0;34m\u001b[0m\u001b[0m\n\u001b[0;32m--> 117\u001b[0;31m             \u001b[0;32mreturn\u001b[0m \u001b[0mfn\u001b[0m\u001b[0;34m(\u001b[0m\u001b[0;34m*\u001b[0m\u001b[0margs\u001b[0m\u001b[0;34m,\u001b[0m \u001b[0;34m**\u001b[0m\u001b[0mkwargs\u001b[0m\u001b[0;34m)\u001b[0m\u001b[0;34m\u001b[0m\u001b[0;34m\u001b[0m\u001b[0m\n\u001b[0m\u001b[1;32m    118\u001b[0m         \u001b[0;32mexcept\u001b[0m \u001b[0mException\u001b[0m \u001b[0;32mas\u001b[0m \u001b[0me\u001b[0m\u001b[0;34m:\u001b[0m\u001b[0;34m\u001b[0m\u001b[0;34m\u001b[0m\u001b[0m\n\u001b[1;32m    119\u001b[0m             \u001b[0mfiltered_tb\u001b[0m \u001b[0;34m=\u001b[0m \u001b[0m_process_traceback_frames\u001b[0m\u001b[0;34m(\u001b[0m\u001b[0me\u001b[0m\u001b[0;34m.\u001b[0m\u001b[0m__traceback__\u001b[0m\u001b[0;34m)\u001b[0m\u001b[0;34m\u001b[0m\u001b[0;34m\u001b[0m\u001b[0m\n",
            "\u001b[0;32m/usr/local/lib/python3.11/dist-packages/keras/src/backend/tensorflow/trainer.py\u001b[0m in \u001b[0;36mfit\u001b[0;34m(self, x, y, batch_size, epochs, verbose, callbacks, validation_split, validation_data, shuffle, class_weight, sample_weight, initial_epoch, steps_per_epoch, validation_steps, validation_batch_size, validation_freq)\u001b[0m\n\u001b[1;32m    369\u001b[0m                 \u001b[0;32mfor\u001b[0m \u001b[0mstep\u001b[0m\u001b[0;34m,\u001b[0m \u001b[0miterator\u001b[0m \u001b[0;32min\u001b[0m \u001b[0mepoch_iterator\u001b[0m\u001b[0;34m:\u001b[0m\u001b[0;34m\u001b[0m\u001b[0;34m\u001b[0m\u001b[0m\n\u001b[1;32m    370\u001b[0m                     \u001b[0mcallbacks\u001b[0m\u001b[0;34m.\u001b[0m\u001b[0mon_train_batch_begin\u001b[0m\u001b[0;34m(\u001b[0m\u001b[0mstep\u001b[0m\u001b[0;34m)\u001b[0m\u001b[0;34m\u001b[0m\u001b[0;34m\u001b[0m\u001b[0m\n\u001b[0;32m--> 371\u001b[0;31m                     \u001b[0mlogs\u001b[0m \u001b[0;34m=\u001b[0m \u001b[0mself\u001b[0m\u001b[0;34m.\u001b[0m\u001b[0mtrain_function\u001b[0m\u001b[0;34m(\u001b[0m\u001b[0miterator\u001b[0m\u001b[0;34m)\u001b[0m\u001b[0;34m\u001b[0m\u001b[0;34m\u001b[0m\u001b[0m\n\u001b[0m\u001b[1;32m    372\u001b[0m                     \u001b[0mcallbacks\u001b[0m\u001b[0;34m.\u001b[0m\u001b[0mon_train_batch_end\u001b[0m\u001b[0;34m(\u001b[0m\u001b[0mstep\u001b[0m\u001b[0;34m,\u001b[0m \u001b[0mlogs\u001b[0m\u001b[0;34m)\u001b[0m\u001b[0;34m\u001b[0m\u001b[0;34m\u001b[0m\u001b[0m\n\u001b[1;32m    373\u001b[0m                     \u001b[0;32mif\u001b[0m \u001b[0mself\u001b[0m\u001b[0;34m.\u001b[0m\u001b[0mstop_training\u001b[0m\u001b[0;34m:\u001b[0m\u001b[0;34m\u001b[0m\u001b[0;34m\u001b[0m\u001b[0m\n",
            "\u001b[0;32m/usr/local/lib/python3.11/dist-packages/keras/src/backend/tensorflow/trainer.py\u001b[0m in \u001b[0;36mfunction\u001b[0;34m(iterator)\u001b[0m\n\u001b[1;32m    217\u001b[0m                 \u001b[0miterator\u001b[0m\u001b[0;34m,\u001b[0m \u001b[0;34m(\u001b[0m\u001b[0mtf\u001b[0m\u001b[0;34m.\u001b[0m\u001b[0mdata\u001b[0m\u001b[0;34m.\u001b[0m\u001b[0mIterator\u001b[0m\u001b[0;34m,\u001b[0m \u001b[0mtf\u001b[0m\u001b[0;34m.\u001b[0m\u001b[0mdistribute\u001b[0m\u001b[0;34m.\u001b[0m\u001b[0mDistributedIterator\u001b[0m\u001b[0;34m)\u001b[0m\u001b[0;34m\u001b[0m\u001b[0;34m\u001b[0m\u001b[0m\n\u001b[1;32m    218\u001b[0m             ):\n\u001b[0;32m--> 219\u001b[0;31m                 \u001b[0mopt_outputs\u001b[0m \u001b[0;34m=\u001b[0m \u001b[0mmulti_step_on_iterator\u001b[0m\u001b[0;34m(\u001b[0m\u001b[0miterator\u001b[0m\u001b[0;34m)\u001b[0m\u001b[0;34m\u001b[0m\u001b[0;34m\u001b[0m\u001b[0m\n\u001b[0m\u001b[1;32m    220\u001b[0m                 \u001b[0;32mif\u001b[0m \u001b[0;32mnot\u001b[0m \u001b[0mopt_outputs\u001b[0m\u001b[0;34m.\u001b[0m\u001b[0mhas_value\u001b[0m\u001b[0;34m(\u001b[0m\u001b[0;34m)\u001b[0m\u001b[0;34m:\u001b[0m\u001b[0;34m\u001b[0m\u001b[0;34m\u001b[0m\u001b[0m\n\u001b[1;32m    221\u001b[0m                     \u001b[0;32mraise\u001b[0m \u001b[0mStopIteration\u001b[0m\u001b[0;34m\u001b[0m\u001b[0;34m\u001b[0m\u001b[0m\n",
            "\u001b[0;32m/usr/local/lib/python3.11/dist-packages/tensorflow/python/util/traceback_utils.py\u001b[0m in \u001b[0;36merror_handler\u001b[0;34m(*args, **kwargs)\u001b[0m\n\u001b[1;32m    148\u001b[0m     \u001b[0mfiltered_tb\u001b[0m \u001b[0;34m=\u001b[0m \u001b[0;32mNone\u001b[0m\u001b[0;34m\u001b[0m\u001b[0;34m\u001b[0m\u001b[0m\n\u001b[1;32m    149\u001b[0m     \u001b[0;32mtry\u001b[0m\u001b[0;34m:\u001b[0m\u001b[0;34m\u001b[0m\u001b[0;34m\u001b[0m\u001b[0m\n\u001b[0;32m--> 150\u001b[0;31m       \u001b[0;32mreturn\u001b[0m \u001b[0mfn\u001b[0m\u001b[0;34m(\u001b[0m\u001b[0;34m*\u001b[0m\u001b[0margs\u001b[0m\u001b[0;34m,\u001b[0m \u001b[0;34m**\u001b[0m\u001b[0mkwargs\u001b[0m\u001b[0;34m)\u001b[0m\u001b[0;34m\u001b[0m\u001b[0;34m\u001b[0m\u001b[0m\n\u001b[0m\u001b[1;32m    151\u001b[0m     \u001b[0;32mexcept\u001b[0m \u001b[0mException\u001b[0m \u001b[0;32mas\u001b[0m \u001b[0me\u001b[0m\u001b[0;34m:\u001b[0m\u001b[0;34m\u001b[0m\u001b[0;34m\u001b[0m\u001b[0m\n\u001b[1;32m    152\u001b[0m       \u001b[0mfiltered_tb\u001b[0m \u001b[0;34m=\u001b[0m \u001b[0m_process_traceback_frames\u001b[0m\u001b[0;34m(\u001b[0m\u001b[0me\u001b[0m\u001b[0;34m.\u001b[0m\u001b[0m__traceback__\u001b[0m\u001b[0;34m)\u001b[0m\u001b[0;34m\u001b[0m\u001b[0;34m\u001b[0m\u001b[0m\n",
            "\u001b[0;32m/usr/local/lib/python3.11/dist-packages/tensorflow/python/eager/polymorphic_function/polymorphic_function.py\u001b[0m in \u001b[0;36m__call__\u001b[0;34m(self, *args, **kwds)\u001b[0m\n\u001b[1;32m    831\u001b[0m \u001b[0;34m\u001b[0m\u001b[0m\n\u001b[1;32m    832\u001b[0m       \u001b[0;32mwith\u001b[0m \u001b[0mOptionalXlaContext\u001b[0m\u001b[0;34m(\u001b[0m\u001b[0mself\u001b[0m\u001b[0;34m.\u001b[0m\u001b[0m_jit_compile\u001b[0m\u001b[0;34m)\u001b[0m\u001b[0;34m:\u001b[0m\u001b[0;34m\u001b[0m\u001b[0;34m\u001b[0m\u001b[0m\n\u001b[0;32m--> 833\u001b[0;31m         \u001b[0mresult\u001b[0m \u001b[0;34m=\u001b[0m \u001b[0mself\u001b[0m\u001b[0;34m.\u001b[0m\u001b[0m_call\u001b[0m\u001b[0;34m(\u001b[0m\u001b[0;34m*\u001b[0m\u001b[0margs\u001b[0m\u001b[0;34m,\u001b[0m \u001b[0;34m**\u001b[0m\u001b[0mkwds\u001b[0m\u001b[0;34m)\u001b[0m\u001b[0;34m\u001b[0m\u001b[0;34m\u001b[0m\u001b[0m\n\u001b[0m\u001b[1;32m    834\u001b[0m \u001b[0;34m\u001b[0m\u001b[0m\n\u001b[1;32m    835\u001b[0m       \u001b[0mnew_tracing_count\u001b[0m \u001b[0;34m=\u001b[0m \u001b[0mself\u001b[0m\u001b[0;34m.\u001b[0m\u001b[0mexperimental_get_tracing_count\u001b[0m\u001b[0;34m(\u001b[0m\u001b[0;34m)\u001b[0m\u001b[0;34m\u001b[0m\u001b[0;34m\u001b[0m\u001b[0m\n",
            "\u001b[0;32m/usr/local/lib/python3.11/dist-packages/tensorflow/python/eager/polymorphic_function/polymorphic_function.py\u001b[0m in \u001b[0;36m_call\u001b[0;34m(self, *args, **kwds)\u001b[0m\n\u001b[1;32m    876\u001b[0m       \u001b[0;31m# In this case we have not created variables on the first call. So we can\u001b[0m\u001b[0;34m\u001b[0m\u001b[0;34m\u001b[0m\u001b[0m\n\u001b[1;32m    877\u001b[0m       \u001b[0;31m# run the first trace but we should fail if variables are created.\u001b[0m\u001b[0;34m\u001b[0m\u001b[0;34m\u001b[0m\u001b[0m\n\u001b[0;32m--> 878\u001b[0;31m       results = tracing_compilation.call_function(\n\u001b[0m\u001b[1;32m    879\u001b[0m           \u001b[0margs\u001b[0m\u001b[0;34m,\u001b[0m \u001b[0mkwds\u001b[0m\u001b[0;34m,\u001b[0m \u001b[0mself\u001b[0m\u001b[0;34m.\u001b[0m\u001b[0m_variable_creation_config\u001b[0m\u001b[0;34m\u001b[0m\u001b[0;34m\u001b[0m\u001b[0m\n\u001b[1;32m    880\u001b[0m       )\n",
            "\u001b[0;32m/usr/local/lib/python3.11/dist-packages/tensorflow/python/eager/polymorphic_function/tracing_compilation.py\u001b[0m in \u001b[0;36mcall_function\u001b[0;34m(args, kwargs, tracing_options)\u001b[0m\n\u001b[1;32m    137\u001b[0m   \u001b[0mbound_args\u001b[0m \u001b[0;34m=\u001b[0m \u001b[0mfunction\u001b[0m\u001b[0;34m.\u001b[0m\u001b[0mfunction_type\u001b[0m\u001b[0;34m.\u001b[0m\u001b[0mbind\u001b[0m\u001b[0;34m(\u001b[0m\u001b[0;34m*\u001b[0m\u001b[0margs\u001b[0m\u001b[0;34m,\u001b[0m \u001b[0;34m**\u001b[0m\u001b[0mkwargs\u001b[0m\u001b[0;34m)\u001b[0m\u001b[0;34m\u001b[0m\u001b[0;34m\u001b[0m\u001b[0m\n\u001b[1;32m    138\u001b[0m   \u001b[0mflat_inputs\u001b[0m \u001b[0;34m=\u001b[0m \u001b[0mfunction\u001b[0m\u001b[0;34m.\u001b[0m\u001b[0mfunction_type\u001b[0m\u001b[0;34m.\u001b[0m\u001b[0munpack_inputs\u001b[0m\u001b[0;34m(\u001b[0m\u001b[0mbound_args\u001b[0m\u001b[0;34m)\u001b[0m\u001b[0;34m\u001b[0m\u001b[0;34m\u001b[0m\u001b[0m\n\u001b[0;32m--> 139\u001b[0;31m   return function._call_flat(  # pylint: disable=protected-access\n\u001b[0m\u001b[1;32m    140\u001b[0m       \u001b[0mflat_inputs\u001b[0m\u001b[0;34m,\u001b[0m \u001b[0mcaptured_inputs\u001b[0m\u001b[0;34m=\u001b[0m\u001b[0mfunction\u001b[0m\u001b[0;34m.\u001b[0m\u001b[0mcaptured_inputs\u001b[0m\u001b[0;34m\u001b[0m\u001b[0;34m\u001b[0m\u001b[0m\n\u001b[1;32m    141\u001b[0m   )\n",
            "\u001b[0;32m/usr/local/lib/python3.11/dist-packages/tensorflow/python/eager/polymorphic_function/concrete_function.py\u001b[0m in \u001b[0;36m_call_flat\u001b[0;34m(self, tensor_inputs, captured_inputs)\u001b[0m\n\u001b[1;32m   1320\u001b[0m         and executing_eagerly):\n\u001b[1;32m   1321\u001b[0m       \u001b[0;31m# No tape is watching; skip to running the function.\u001b[0m\u001b[0;34m\u001b[0m\u001b[0;34m\u001b[0m\u001b[0m\n\u001b[0;32m-> 1322\u001b[0;31m       \u001b[0;32mreturn\u001b[0m \u001b[0mself\u001b[0m\u001b[0;34m.\u001b[0m\u001b[0m_inference_function\u001b[0m\u001b[0;34m.\u001b[0m\u001b[0mcall_preflattened\u001b[0m\u001b[0;34m(\u001b[0m\u001b[0margs\u001b[0m\u001b[0;34m)\u001b[0m\u001b[0;34m\u001b[0m\u001b[0;34m\u001b[0m\u001b[0m\n\u001b[0m\u001b[1;32m   1323\u001b[0m     forward_backward = self._select_forward_and_backward_functions(\n\u001b[1;32m   1324\u001b[0m         \u001b[0margs\u001b[0m\u001b[0;34m,\u001b[0m\u001b[0;34m\u001b[0m\u001b[0;34m\u001b[0m\u001b[0m\n",
            "\u001b[0;32m/usr/local/lib/python3.11/dist-packages/tensorflow/python/eager/polymorphic_function/atomic_function.py\u001b[0m in \u001b[0;36mcall_preflattened\u001b[0;34m(self, args)\u001b[0m\n\u001b[1;32m    214\u001b[0m   \u001b[0;32mdef\u001b[0m \u001b[0mcall_preflattened\u001b[0m\u001b[0;34m(\u001b[0m\u001b[0mself\u001b[0m\u001b[0;34m,\u001b[0m \u001b[0margs\u001b[0m\u001b[0;34m:\u001b[0m \u001b[0mSequence\u001b[0m\u001b[0;34m[\u001b[0m\u001b[0mcore\u001b[0m\u001b[0;34m.\u001b[0m\u001b[0mTensor\u001b[0m\u001b[0;34m]\u001b[0m\u001b[0;34m)\u001b[0m \u001b[0;34m->\u001b[0m \u001b[0mAny\u001b[0m\u001b[0;34m:\u001b[0m\u001b[0;34m\u001b[0m\u001b[0;34m\u001b[0m\u001b[0m\n\u001b[1;32m    215\u001b[0m     \u001b[0;34m\"\"\"Calls with flattened tensor inputs and returns the structured output.\"\"\"\u001b[0m\u001b[0;34m\u001b[0m\u001b[0;34m\u001b[0m\u001b[0m\n\u001b[0;32m--> 216\u001b[0;31m     \u001b[0mflat_outputs\u001b[0m \u001b[0;34m=\u001b[0m \u001b[0mself\u001b[0m\u001b[0;34m.\u001b[0m\u001b[0mcall_flat\u001b[0m\u001b[0;34m(\u001b[0m\u001b[0;34m*\u001b[0m\u001b[0margs\u001b[0m\u001b[0;34m)\u001b[0m\u001b[0;34m\u001b[0m\u001b[0;34m\u001b[0m\u001b[0m\n\u001b[0m\u001b[1;32m    217\u001b[0m     \u001b[0;32mreturn\u001b[0m \u001b[0mself\u001b[0m\u001b[0;34m.\u001b[0m\u001b[0mfunction_type\u001b[0m\u001b[0;34m.\u001b[0m\u001b[0mpack_output\u001b[0m\u001b[0;34m(\u001b[0m\u001b[0mflat_outputs\u001b[0m\u001b[0;34m)\u001b[0m\u001b[0;34m\u001b[0m\u001b[0;34m\u001b[0m\u001b[0m\n\u001b[1;32m    218\u001b[0m \u001b[0;34m\u001b[0m\u001b[0m\n",
            "\u001b[0;32m/usr/local/lib/python3.11/dist-packages/tensorflow/python/eager/polymorphic_function/atomic_function.py\u001b[0m in \u001b[0;36mcall_flat\u001b[0;34m(self, *args)\u001b[0m\n\u001b[1;32m    249\u001b[0m         \u001b[0;32mwith\u001b[0m \u001b[0mrecord\u001b[0m\u001b[0;34m.\u001b[0m\u001b[0mstop_recording\u001b[0m\u001b[0;34m(\u001b[0m\u001b[0;34m)\u001b[0m\u001b[0;34m:\u001b[0m\u001b[0;34m\u001b[0m\u001b[0;34m\u001b[0m\u001b[0m\n\u001b[1;32m    250\u001b[0m           \u001b[0;32mif\u001b[0m \u001b[0mself\u001b[0m\u001b[0;34m.\u001b[0m\u001b[0m_bound_context\u001b[0m\u001b[0;34m.\u001b[0m\u001b[0mexecuting_eagerly\u001b[0m\u001b[0;34m(\u001b[0m\u001b[0;34m)\u001b[0m\u001b[0;34m:\u001b[0m\u001b[0;34m\u001b[0m\u001b[0;34m\u001b[0m\u001b[0m\n\u001b[0;32m--> 251\u001b[0;31m             outputs = self._bound_context.call_function(\n\u001b[0m\u001b[1;32m    252\u001b[0m                 \u001b[0mself\u001b[0m\u001b[0;34m.\u001b[0m\u001b[0mname\u001b[0m\u001b[0;34m,\u001b[0m\u001b[0;34m\u001b[0m\u001b[0;34m\u001b[0m\u001b[0m\n\u001b[1;32m    253\u001b[0m                 \u001b[0mlist\u001b[0m\u001b[0;34m(\u001b[0m\u001b[0margs\u001b[0m\u001b[0;34m)\u001b[0m\u001b[0;34m,\u001b[0m\u001b[0;34m\u001b[0m\u001b[0;34m\u001b[0m\u001b[0m\n",
            "\u001b[0;32m/usr/local/lib/python3.11/dist-packages/tensorflow/python/eager/context.py\u001b[0m in \u001b[0;36mcall_function\u001b[0;34m(self, name, tensor_inputs, num_outputs)\u001b[0m\n\u001b[1;32m   1681\u001b[0m     \u001b[0mcancellation_context\u001b[0m \u001b[0;34m=\u001b[0m \u001b[0mcancellation\u001b[0m\u001b[0;34m.\u001b[0m\u001b[0mcontext\u001b[0m\u001b[0;34m(\u001b[0m\u001b[0;34m)\u001b[0m\u001b[0;34m\u001b[0m\u001b[0;34m\u001b[0m\u001b[0m\n\u001b[1;32m   1682\u001b[0m     \u001b[0;32mif\u001b[0m \u001b[0mcancellation_context\u001b[0m \u001b[0;32mis\u001b[0m \u001b[0;32mNone\u001b[0m\u001b[0;34m:\u001b[0m\u001b[0;34m\u001b[0m\u001b[0;34m\u001b[0m\u001b[0m\n\u001b[0;32m-> 1683\u001b[0;31m       outputs = execute.execute(\n\u001b[0m\u001b[1;32m   1684\u001b[0m           \u001b[0mname\u001b[0m\u001b[0;34m.\u001b[0m\u001b[0mdecode\u001b[0m\u001b[0;34m(\u001b[0m\u001b[0;34m\"utf-8\"\u001b[0m\u001b[0;34m)\u001b[0m\u001b[0;34m,\u001b[0m\u001b[0;34m\u001b[0m\u001b[0;34m\u001b[0m\u001b[0m\n\u001b[1;32m   1685\u001b[0m           \u001b[0mnum_outputs\u001b[0m\u001b[0;34m=\u001b[0m\u001b[0mnum_outputs\u001b[0m\u001b[0;34m,\u001b[0m\u001b[0;34m\u001b[0m\u001b[0;34m\u001b[0m\u001b[0m\n",
            "\u001b[0;32m/usr/local/lib/python3.11/dist-packages/tensorflow/python/eager/execute.py\u001b[0m in \u001b[0;36mquick_execute\u001b[0;34m(op_name, num_outputs, inputs, attrs, ctx, name)\u001b[0m\n\u001b[1;32m     51\u001b[0m   \u001b[0;32mtry\u001b[0m\u001b[0;34m:\u001b[0m\u001b[0;34m\u001b[0m\u001b[0;34m\u001b[0m\u001b[0m\n\u001b[1;32m     52\u001b[0m     \u001b[0mctx\u001b[0m\u001b[0;34m.\u001b[0m\u001b[0mensure_initialized\u001b[0m\u001b[0;34m(\u001b[0m\u001b[0;34m)\u001b[0m\u001b[0;34m\u001b[0m\u001b[0;34m\u001b[0m\u001b[0m\n\u001b[0;32m---> 53\u001b[0;31m     tensors = pywrap_tfe.TFE_Py_Execute(ctx._handle, device_name, op_name,\n\u001b[0m\u001b[1;32m     54\u001b[0m                                         inputs, attrs, num_outputs)\n\u001b[1;32m     55\u001b[0m   \u001b[0;32mexcept\u001b[0m \u001b[0mcore\u001b[0m\u001b[0;34m.\u001b[0m\u001b[0m_NotOkStatusException\u001b[0m \u001b[0;32mas\u001b[0m \u001b[0me\u001b[0m\u001b[0;34m:\u001b[0m\u001b[0;34m\u001b[0m\u001b[0;34m\u001b[0m\u001b[0m\n",
            "\u001b[0;31mKeyboardInterrupt\u001b[0m: "
          ]
        }
      ],
      "source": [
        "model=tf.keras.Model(inputs=[encoder_inputs,decoder_inputs],\n",
        "                     outputs=[Y_proba])\n",
        "\n",
        "model.compile(loss='sparse_categorical_crossentropy',\n",
        "              optimizer='nadam',\n",
        "              metrics=['accuracy'])\n",
        "\n",
        "model.fit((X_train, X_train_dec), Y_train, epochs=3,\n",
        "          validation_data=((X_valid, X_valid_dec), Y_valid))"
      ]
    },
    {
      "cell_type": "code",
      "execution_count": null,
      "metadata": {
        "id": "Nm-ukyMfCHAA"
      },
      "outputs": [],
      "source": [
        "def translate(sentence_en):\n",
        "    translation='' #heleki tercume olunmabi\n",
        "\n",
        "    for word_idx in range(max_len): # 50 defe  # Use max_len instead of max_length\n",
        "\n",
        "        X=tf.constant([sentence_en]) #encoder\n",
        "        X_dec=tf.constant(['startofseq'+translation]) #translation\n",
        "\n",
        "        y_proba=model.predict((X, X_dec))[0, word_idx] #necenci soz\n",
        "\n",
        "        predicted_word_id=np.argmax(y_proba)\n",
        "        predicted_word=text_vec_layer_es.get_vocabulary()[predicted_word_id]\n",
        "        if predicted_word=='endofseq': #50 ye catmamish\n",
        "            break\n",
        "        translation+=' '+predicted_word #start of seq birleshmesin deye\n",
        "    return translation.strip() # Use translation instead of translatin"
      ]
    },
    {
      "cell_type": "code",
      "execution_count": null,
      "metadata": {
        "id": "BPDWK9tEJIkx"
      },
      "outputs": [],
      "source": [
        "translate('i love football')"
      ]
    },
    {
      "cell_type": "markdown",
      "metadata": {
        "id": "zFj4RUl-NfQw"
      },
      "source": [
        "# Bi"
      ]
    },
    {
      "cell_type": "code",
      "execution_count": null,
      "metadata": {
        "id": "bvbtD2gpJ4f_"
      },
      "outputs": [],
      "source": [
        "#biderectionl ancaq encoder uchun olacaq\n",
        "tf.random.set_seed(42)\n",
        "\n",
        "encoder=tf.keras.layers.Bidirectional(\n",
        "    tf.keras.layers.LSTM(256, return_state=True)#256+256 #Burada return_state=True olduğuna görə LSTM yalnız ən son hidden state və cell state-i geri qaytarır.\n",
        ")#iki melumat cixirdiC ve a gonderilir, ikidene short ve long yaranir , bunlari bbirleshdirmeliyik ki decodere gondrek axi long ve short ancaq encoderde olur\n"
      ]
    },
    {
      "cell_type": "code",
      "execution_count": null,
      "metadata": {
        "id": "97dO3NO0NwOT"
      },
      "outputs": [],
      "source": [
        "#keras klayerde deyihmekolar, call metodu ichinde --> ozumuzdden layer yaratmaliyiq"
      ]
    },
    {
      "cell_type": "code",
      "execution_count": null,
      "metadata": {
        "id": "lRFbSdLbPyYq"
      },
      "outputs": [],
      "source": [
        "class ConcatStates(tf.keras.layers.Layer):\n",
        "    def __init__(self):\n",
        "        super().__init__()\n",
        "    def call(self, encoder_state):\n",
        "        return [ tf.concat(encoder_state[::2], axis=-1), #short term (0, 2) # birleshdirirk\n",
        "                tf.concat(encoder_state[1::2], axis=-1)] #long term (1,3)\n",
        "\n",
        "encoder_outputs, *encoder_state=encoder(encoder_embeddings) # y-hat , ve (short, long) biidrectionl oldugundan bizde ikidene var\n",
        "concat_states=ConcatStates()\n",
        "encoder_state=concat_states(encoder_state)\n",
        "\"\"\"\n",
        "return seq\n",
        "output.shape = (32, 10, 256)\n",
        "→ Yəni hər zaman addımı üçün bir çıxış olur.\n",
        "Bunun əksi: return_sequences=False → yalnız sonuncu zaman addımı üçün çıxış verir: (32, 256).\n",
        "\n",
        "🔗 Niyə axis=-1 ilə birləşdiririk?\n",
        "Birləşdirməni axis=-1 üzrə edirik ki, vektorlar feature ölçüsündə ardıcıl qoşulsun.\n",
        "\n",
        "Yəni:\n",
        "\n",
        "Hər biri (batch_size, 256) ölçüsündədirsə,\n",
        "\n",
        "Birləşmə nəticəsində (batch_size, 512) ölçülü vektor alınır (forward + backward).\n",
        "\"\"\"\""
      ]
    },
    {
      "cell_type": "code",
      "execution_count": null,
      "metadata": {
        "colab": {
          "base_uri": "https://localhost:8080/"
        },
        "id": "9LCFIsMfQ9oU",
        "outputId": "8038f142-1566-4723-fa36-d9194a68e5ce"
      },
      "outputs": [
        {
          "name": "stdout",
          "output_type": "stream",
          "text": [
            "Epoch 1/3\n",
            "\u001b[1m3125/3125\u001b[0m \u001b[32m━━━━━━━━━━━━━━━━━━━━\u001b[0m\u001b[37m\u001b[0m \u001b[1m84s\u001b[0m 25ms/step - accuracy: 0.0647 - loss: 2.8335 - val_accuracy: 0.0888 - val_loss: 1.5607\n",
            "Epoch 2/3\n",
            "\u001b[1m3125/3125\u001b[0m \u001b[32m━━━━━━━━━━━━━━━━━━━━\u001b[0m\u001b[37m\u001b[0m \u001b[1m79s\u001b[0m 25ms/step - accuracy: 0.0923 - loss: 1.4506 - val_accuracy: 0.0946 - val_loss: 1.3460\n",
            "Epoch 3/3\n",
            "\u001b[1m3125/3125\u001b[0m \u001b[32m━━━━━━━━━━━━━━━━━━━━\u001b[0m\u001b[37m\u001b[0m \u001b[1m78s\u001b[0m 23ms/step - accuracy: 0.0997 - loss: 1.1793 - val_accuracy: 0.0964 - val_loss: 1.2814\n"
          ]
        },
        {
          "data": {
            "text/plain": [
              "<keras.src.callbacks.history.History at 0x7ce020dbe750>"
            ]
          },
          "execution_count": 60,
          "metadata": {},
          "output_type": "execute_result"
        }
      ],
      "source": [
        "decoder=tf.keras.layers.LSTM(512, return_sequences=True) #her defe soz cixsn\n",
        "decoder_outputs=decoder(decoder_embeddings, initial_state=encoder_state) #initial state o yazdiqqe bashlanqic encoderden cixan, yuxardaki\n",
        "\n",
        "output_layer=tf.keras.layers.Dense(vocab_size, activation='softmax')\n",
        "Y_proba=output_layer(decoder_outputs)\n",
        "\n",
        "model=tf.keras.Model(inputs=[encoder_inputs, decoder_inputs],\n",
        "                     outputs=[Y_proba])\n",
        "\n",
        "model.compile(loss='sparse_categorical_crossentropy',\n",
        "              optimizer='nadam',\n",
        "              metrics=['accuracy'])\n",
        "\n",
        "model.fit((X_train, X_train_dec), Y_train, epochs=3,\n",
        "          validation_data=((X_valid, X_valid_dec), Y_valid))"
      ]
    },
    {
      "cell_type": "code",
      "execution_count": null,
      "metadata": {
        "colab": {
          "base_uri": "https://localhost:8080/",
          "height": 175
        },
        "id": "AJFNzSatSQDW",
        "outputId": "8382797d-5dce-4e03-cb8d-fb770cab6c83"
      },
      "outputs": [
        {
          "name": "stdout",
          "output_type": "stream",
          "text": [
            "\u001b[1m1/1\u001b[0m \u001b[32m━━━━━━━━━━━━━━━━━━━━\u001b[0m\u001b[37m\u001b[0m \u001b[1m0s\u001b[0m 447ms/step\n",
            "\u001b[1m1/1\u001b[0m \u001b[32m━━━━━━━━━━━━━━━━━━━━\u001b[0m\u001b[37m\u001b[0m \u001b[1m0s\u001b[0m 33ms/step\n",
            "\u001b[1m1/1\u001b[0m \u001b[32m━━━━━━━━━━━━━━━━━━━━\u001b[0m\u001b[37m\u001b[0m \u001b[1m0s\u001b[0m 34ms/step\n",
            "\u001b[1m1/1\u001b[0m \u001b[32m━━━━━━━━━━━━━━━━━━━━\u001b[0m\u001b[37m\u001b[0m \u001b[1m0s\u001b[0m 33ms/step\n",
            "\u001b[1m1/1\u001b[0m \u001b[32m━━━━━━━━━━━━━━━━━━━━\u001b[0m\u001b[37m\u001b[0m \u001b[1m0s\u001b[0m 34ms/step\n",
            "\u001b[1m1/1\u001b[0m \u001b[32m━━━━━━━━━━━━━━━━━━━━\u001b[0m\u001b[37m\u001b[0m \u001b[1m0s\u001b[0m 32ms/step\n",
            "\u001b[1m1/1\u001b[0m \u001b[32m━━━━━━━━━━━━━━━━━━━━\u001b[0m\u001b[37m\u001b[0m \u001b[1m0s\u001b[0m 32ms/step\n",
            "\u001b[1m1/1\u001b[0m \u001b[32m━━━━━━━━━━━━━━━━━━━━\u001b[0m\u001b[37m\u001b[0m \u001b[1m0s\u001b[0m 35ms/step\n"
          ]
        },
        {
          "data": {
            "application/vnd.google.colaboratory.intrinsic+json": {
              "type": "string"
            },
            "text/plain": [
              "'[UNK] [UNK] y tambén [UNK] a casa'"
            ]
          },
          "execution_count": 61,
          "metadata": {},
          "output_type": "execute_result"
        }
      ],
      "source": [
        "translate('i like football and also going to beach')"
      ]
    },
    {
      "cell_type": "code",
      "execution_count": null,
      "metadata": {
        "id": "-tYuK4LgS7ft"
      },
      "outputs": [],
      "source": [
        "#vocab size artitr , epoch artitrmaq lazimdi"
      ]
    },
    {
      "cell_type": "markdown",
      "metadata": {
        "id": "a4Q2ISKaTQo9"
      },
      "source": [
        "# Beam search"
      ]
    },
    {
      "cell_type": "code",
      "execution_count": null,
      "metadata": {
        "id": "9EavFP1ZTObn"
      },
      "outputs": [],
      "source": [
        "def beam_search(sentence_en, beam_width, verbose=False):\n",
        "    X = tf.constant([sentence_en])  # encoder input\n",
        "\n",
        "    X_dec = tf.constant([\"startofseq\"])  # decoder input\n",
        "\n",
        "    y_proba = model.predict((X, X_dec))[0, 0]  # first token's probas\n",
        "\n",
        "    top_k = tf.math.top_k(y_proba, k=beam_width)#! top nechesini isteyirsen yadda saxxlasin\n",
        "    top_translations = [  # list of best (log_proba, translation)\n",
        "        (np.log(word_proba), text_vec_layer_es.get_vocabulary()[word_id])\n",
        "        for word_proba, word_id in zip(top_k.values, top_k.indices)\n",
        "    ]\n",
        "\n",
        "    # extra code – displays the top first words in verbose mode\n",
        "    if verbose:\n",
        "        print(\"Top first words:\", top_translations)\n",
        "\n",
        "    for idx in range(1, max_len):\n",
        "        candidates = []\n",
        "        for log_proba, translation in top_translations:\n",
        "            if translation.endswith(\"endofseq\"):\n",
        "                candidates.append((log_proba, translation))\n",
        "                continue  # translation is finished, so don't try to extend it\n",
        "            X = tf.constant([sentence_en])  # encoder input\n",
        "            X_dec = tf.constant([\"startofseq \" + translation])  # decoder input\n",
        "            y_proba = model.predict((X, X_dec))[0, idx]  # last token's proba\n",
        "            for word_id, word_proba in enumerate(y_proba):\n",
        "                word = text_vec_layer_es.get_vocabulary()[word_id]\n",
        "                candidates.append((log_proba + np.log(word_proba),\n",
        "                                   f\"{translation} {word}\"))\n",
        "        top_translations = sorted(candidates, reverse=True)[:beam_width]\n",
        "\n",
        "        # extra code – displays the top translation so far in verbose mode\n",
        "        if verbose:\n",
        "            print(\"Top translations so far:\", top_translations)\n",
        "\n",
        "        if all([tr.endswith(\"endofseq\") for _, tr in top_translations]):\n",
        "            return top_translations[0][1].replace(\"endofseq\", \"\").strip()"
      ]
    },
    {
      "cell_type": "code",
      "execution_count": null,
      "metadata": {
        "colab": {
          "base_uri": "https://localhost:8080/",
          "height": 209
        },
        "id": "VIYO_1MiTr4V",
        "outputId": "60e68ffe-615a-49af-c1a5-b46441448122"
      },
      "outputs": [
        {
          "name": "stdout",
          "output_type": "stream",
          "text": [
            "\u001b[1m1/1\u001b[0m \u001b[32m━━━━━━━━━━━━━━━━━━━━\u001b[0m\u001b[37m\u001b[0m \u001b[1m0s\u001b[0m 51ms/step\n",
            "\u001b[1m1/1\u001b[0m \u001b[32m━━━━━━━━━━━━━━━━━━━━\u001b[0m\u001b[37m\u001b[0m \u001b[1m0s\u001b[0m 36ms/step\n",
            "\u001b[1m1/1\u001b[0m \u001b[32m━━━━━━━━━━━━━━━━━━━━\u001b[0m\u001b[37m\u001b[0m \u001b[1m0s\u001b[0m 33ms/step\n",
            "\u001b[1m1/1\u001b[0m \u001b[32m━━━━━━━━━━━━━━━━━━━━\u001b[0m\u001b[37m\u001b[0m \u001b[1m0s\u001b[0m 32ms/step\n",
            "\u001b[1m1/1\u001b[0m \u001b[32m━━━━━━━━━━━━━━━━━━━━\u001b[0m\u001b[37m\u001b[0m \u001b[1m0s\u001b[0m 33ms/step\n",
            "\u001b[1m1/1\u001b[0m \u001b[32m━━━━━━━━━━━━━━━━━━━━\u001b[0m\u001b[37m\u001b[0m \u001b[1m0s\u001b[0m 33ms/step\n",
            "\u001b[1m1/1\u001b[0m \u001b[32m━━━━━━━━━━━━━━━━━━━━\u001b[0m\u001b[37m\u001b[0m \u001b[1m0s\u001b[0m 43ms/step\n",
            "\u001b[1m1/1\u001b[0m \u001b[32m━━━━━━━━━━━━━━━━━━━━\u001b[0m\u001b[37m\u001b[0m \u001b[1m0s\u001b[0m 32ms/step\n",
            "\u001b[1m1/1\u001b[0m \u001b[32m━━━━━━━━━━━━━━━━━━━━\u001b[0m\u001b[37m\u001b[0m \u001b[1m0s\u001b[0m 32ms/step\n",
            "\u001b[1m1/1\u001b[0m \u001b[32m━━━━━━━━━━━━━━━━━━━━\u001b[0m\u001b[37m\u001b[0m \u001b[1m0s\u001b[0m 34ms/step\n"
          ]
        },
        {
          "data": {
            "application/vnd.google.colaboratory.intrinsic+json": {
              "type": "string"
            },
            "text/plain": [
              "'[UNK] a menudo tambén estoy [UNK] a la playa'"
            ]
          },
          "execution_count": 69,
          "metadata": {},
          "output_type": "execute_result"
        }
      ],
      "source": [
        "sentence_en='I lovesoccer and also going to the beach'\n",
        "translate(sentence_en)"
      ]
    },
    {
      "cell_type": "code",
      "execution_count": null,
      "metadata": {
        "colab": {
          "base_uri": "https://localhost:8080/",
          "height": 559
        },
        "id": "dyguNHnSUBgt",
        "outputId": "a81d0858-7820-48a5-d5e2-a5dc6b3a5d19"
      },
      "outputs": [
        {
          "name": "stdout",
          "output_type": "stream",
          "text": [
            "\u001b[1m1/1\u001b[0m \u001b[32m━━━━━━━━━━━━━━━━━━━━\u001b[0m\u001b[37m\u001b[0m \u001b[1m0s\u001b[0m 33ms/step\n",
            "Top first words: [(np.float32(-0.55047715), '[UNK]'), (np.float32(-1.8600417), np.str_('yo')), (np.float32(-2.1180027), np.str_('me'))]\n",
            "\u001b[1m1/1\u001b[0m \u001b[32m━━━━━━━━━━━━━━━━━━━━\u001b[0m\u001b[37m\u001b[0m \u001b[1m0s\u001b[0m 33ms/step\n",
            "\u001b[1m1/1\u001b[0m \u001b[32m━━━━━━━━━━━━━━━━━━━━\u001b[0m\u001b[37m\u001b[0m \u001b[1m0s\u001b[0m 52ms/step\n",
            "\u001b[1m1/1\u001b[0m \u001b[32m━━━━━━━━━━━━━━━━━━━━\u001b[0m\u001b[37m\u001b[0m \u001b[1m0s\u001b[0m 36ms/step\n",
            "Top translations so far: [(np.float32(-1.7475138), '[UNK] a'), (np.float32(-1.7902737), '[UNK] y'), (np.float32(-2.2266943), 'me [UNK]')]\n",
            "\u001b[1m1/1\u001b[0m \u001b[32m━━━━━━━━━━━━━━━━━━━━\u001b[0m\u001b[37m\u001b[0m \u001b[1m0s\u001b[0m 34ms/step\n",
            "\u001b[1m1/1\u001b[0m \u001b[32m━━━━━━━━━━━━━━━━━━━━\u001b[0m\u001b[37m\u001b[0m \u001b[1m0s\u001b[0m 33ms/step\n",
            "\u001b[1m1/1\u001b[0m \u001b[32m━━━━━━━━━━━━━━━━━━━━\u001b[0m\u001b[37m\u001b[0m \u001b[1m0s\u001b[0m 41ms/step\n",
            "Top translations so far: [(np.float32(-2.8334086), '[UNK] a menudo'), (np.float32(-2.9240038), '[UNK] y [UNK]'), (np.float32(-3.272038), 'me [UNK] y')]\n",
            "\u001b[1m1/1\u001b[0m \u001b[32m━━━━━━━━━━━━━━━━━━━━\u001b[0m\u001b[37m\u001b[0m \u001b[1m0s\u001b[0m 33ms/step\n",
            "\u001b[1m1/1\u001b[0m \u001b[32m━━━━━━━━━━━━━━━━━━━━\u001b[0m\u001b[37m\u001b[0m \u001b[1m0s\u001b[0m 33ms/step\n",
            "\u001b[1m1/1\u001b[0m \u001b[32m━━━━━━━━━━━━━━━━━━━━\u001b[0m\u001b[37m\u001b[0m \u001b[1m0s\u001b[0m 34ms/step\n",
            "Top translations so far: [(np.float32(-4.158637), 'me [UNK] y [UNK]'), (np.float32(-4.194074), '[UNK] y [UNK] [UNK]'), (np.float32(-4.250258), '[UNK] y [UNK] a')]\n",
            "\u001b[1m1/1\u001b[0m \u001b[32m━━━━━━━━━━━━━━━━━━━━\u001b[0m\u001b[37m\u001b[0m \u001b[1m0s\u001b[0m 34ms/step\n",
            "\u001b[1m1/1\u001b[0m \u001b[32m━━━━━━━━━━━━━━━━━━━━\u001b[0m\u001b[37m\u001b[0m \u001b[1m0s\u001b[0m 34ms/step\n",
            "\u001b[1m1/1\u001b[0m \u001b[32m━━━━━━━━━━━━━━━━━━━━\u001b[0m\u001b[37m\u001b[0m \u001b[1m0s\u001b[0m 34ms/step\n",
            "Top translations so far: [(np.float32(-4.596011), '[UNK] y [UNK] [UNK] a'), (np.float32(-5.268198), 'me [UNK] y [UNK] a'), (np.float32(-5.610731), '[UNK] y [UNK] a menudo')]\n",
            "\u001b[1m1/1\u001b[0m \u001b[32m━━━━━━━━━━━━━━━━━━━━\u001b[0m\u001b[37m\u001b[0m \u001b[1m0s\u001b[0m 34ms/step\n",
            "\u001b[1m1/1\u001b[0m \u001b[32m━━━━━━━━━━━━━━━━━━━━\u001b[0m\u001b[37m\u001b[0m \u001b[1m0s\u001b[0m 34ms/step\n",
            "\u001b[1m1/1\u001b[0m \u001b[32m━━━━━━━━━━━━━━━━━━━━\u001b[0m\u001b[37m\u001b[0m \u001b[1m0s\u001b[0m 34ms/step\n",
            "Top translations so far: [(np.float32(-5.050527), '[UNK] y [UNK] [UNK] a la'), (np.float32(-6.255797), '[UNK] y [UNK] [UNK] a casa'), (np.float32(-6.6485977), 'me [UNK] y [UNK] a la')]\n",
            "\u001b[1m1/1\u001b[0m \u001b[32m━━━━━━━━━━━━━━━━━━━━\u001b[0m\u001b[37m\u001b[0m \u001b[1m0s\u001b[0m 33ms/step\n",
            "\u001b[1m1/1\u001b[0m \u001b[32m━━━━━━━━━━━━━━━━━━━━\u001b[0m\u001b[37m\u001b[0m \u001b[1m0s\u001b[0m 33ms/step\n",
            "\u001b[1m1/1\u001b[0m \u001b[32m━━━━━━━━━━━━━━━━━━━━\u001b[0m\u001b[37m\u001b[0m \u001b[1m0s\u001b[0m 34ms/step\n",
            "Top translations so far: [(np.float32(-5.063577), '[UNK] y [UNK] [UNK] a la playa'), (np.float32(-6.338385), '[UNK] y [UNK] [UNK] a casa endofseq'), (np.float32(-6.6686325), 'me [UNK] y [UNK] a la playa')]\n",
            "\u001b[1m1/1\u001b[0m \u001b[32m━━━━━━━━━━━━━━━━━━━━\u001b[0m\u001b[37m\u001b[0m \u001b[1m0s\u001b[0m 34ms/step\n",
            "\u001b[1m1/1\u001b[0m \u001b[32m━━━━━━━━━━━━━━━━━━━━\u001b[0m\u001b[37m\u001b[0m \u001b[1m0s\u001b[0m 34ms/step\n",
            "Top translations so far: [(np.float32(-5.088761), '[UNK] y [UNK] [UNK] a la playa endofseq'), (np.float32(-6.338385), '[UNK] y [UNK] [UNK] a casa endofseq'), (np.float32(-7.3939366), 'me [UNK] y [UNK] a la playa endofseq')]\n"
          ]
        },
        {
          "data": {
            "application/vnd.google.colaboratory.intrinsic+json": {
              "type": "string"
            },
            "text/plain": [
              "'[UNK] y [UNK] [UNK] a la playa'"
            ]
          },
          "execution_count": 70,
          "metadata": {},
          "output_type": "execute_result"
        }
      ],
      "source": [
        "beam_search(sentence_en, beam_width=3, verbose=True)"
      ]
    },
    {
      "cell_type": "markdown",
      "metadata": {
        "id": "3h_7ddfwUH0l"
      },
      "source": [
        "#Attention Mechanism"
      ]
    },
    {
      "cell_type": "code",
      "execution_count": null,
      "metadata": {
        "id": "CyljnmIaVxDC"
      },
      "outputs": [],
      "source": [
        "tf.random.set_seed(42)\n",
        "\n",
        "encoder_inputs=tf.keras.layers.Input(shape=[], dtype=tf.string)\n",
        "decoder_inputs=tf.keras.layers.Input(shape=[], dtype=tf.string)"
      ]
    },
    {
      "cell_type": "code",
      "execution_count": null,
      "metadata": {
        "id": "i8YHvzCOWCWQ"
      },
      "outputs": [],
      "source": [
        "embed_size=128\n",
        "\n",
        "encoder_input_ids=text_vec_layer_en(encoder_inputs)\n",
        "decoder_input_ids=text_vec_layer_es(decoder_inputs)\n",
        "\n",
        "encoder_embedding_layer=tf.keras.layers.Embedding(vocab_size,\n",
        "                                                  output_dim=embed_size,)\n",
        "                                                #   mask_zero=True)\n",
        "\n",
        "\n",
        "decoder_embedding_layer=tf.keras.layers.Embedding(vocab_size,\n",
        "                                                  output_dim=embed_size,)\n",
        "                                                #   mask_zero=True)\n",
        "\n",
        "encoder_embeddings=encoder_embedding_layer(encoder_input_ids)\n",
        "decoder_embeddings=decoder_embedding_layer(decoder_input_ids)"
      ]
    },
    {
      "cell_type": "code",
      "execution_count": null,
      "metadata": {
        "id": "J2f4A48vWueE"
      },
      "outputs": [],
      "source": [
        "encoder=tf.keras.layers.Bidirectional(\n",
        "    tf.keras.layers.LSTM(256, return_sequences=True, return_state=True)\n",
        ")\n",
        "encoder_outputs, *encoder_state=encoder(encoder_embeddings)\n",
        "encoder_state=concat_states(encoder_state)"
      ]
    },
    {
      "cell_type": "code",
      "execution_count": null,
      "metadata": {
        "id": "L8wf3r3vXY_x"
      },
      "outputs": [],
      "source": [
        "decoder=tf.keras.layers.LSTM(512, return_sequences=True)\n",
        "decoder_outputs=decoder(decoder_embeddings, initial_state=encoder_state)"
      ]
    },
    {
      "cell_type": "code",
      "execution_count": null,
      "metadata": {
        "id": "zkVWcw6TYGML"
      },
      "outputs": [],
      "source": [
        "attention_layer=tf.keras.layers.Attention() #additive attention layer\n",
        "attention_outputs=attention_layer([decoder_outputs, encoder_outputs]) #decoder hidden state\n",
        "\n",
        "output_layer=tf.keras.layers.Dense(vocab_size, activation='softmax')\n",
        "\n",
        "Y_proba=output_layer(attention_outputs)"
      ]
    },
    {
      "cell_type": "code",
      "execution_count": null,
      "metadata": {
        "colab": {
          "base_uri": "https://localhost:8080/"
        },
        "id": "E_vn-8b2YpB_",
        "outputId": "8b0d36c7-7111-4111-e34c-ba95a1b022d8"
      },
      "outputs": [
        {
          "name": "stdout",
          "output_type": "stream",
          "text": [
            "Epoch 1/3\n",
            "\u001b[1m3125/3125\u001b[0m \u001b[32m━━━━━━━━━━━━━━━━━━━━\u001b[0m\u001b[37m\u001b[0m \u001b[1m98s\u001b[0m 30ms/step - accuracy: 0.8956 - loss: 0.6547 - val_accuracy: 0.9255 - val_loss: 0.3587\n",
            "Epoch 2/3\n",
            "\u001b[1m3125/3125\u001b[0m \u001b[32m━━━━━━━━━━━━━━━━━━━━\u001b[0m\u001b[37m\u001b[0m \u001b[1m136s\u001b[0m 28ms/step - accuracy: 0.9291 - loss: 0.3304 - val_accuracy: 0.9396 - val_loss: 0.2654\n",
            "Epoch 3/3\n",
            "\u001b[1m3125/3125\u001b[0m \u001b[32m━━━━━━━━━━━━━━━━━━━━\u001b[0m\u001b[37m\u001b[0m \u001b[1m142s\u001b[0m 28ms/step - accuracy: 0.9420 - loss: 0.2506 - val_accuracy: 0.9464 - val_loss: 0.2287\n"
          ]
        },
        {
          "data": {
            "text/plain": [
              "<keras.src.callbacks.history.History at 0x7cdf9413f110>"
            ]
          },
          "execution_count": 107,
          "metadata": {},
          "output_type": "execute_result"
        }
      ],
      "source": [
        "model=tf.keras.Model(inputs=[encoder_inputs, decoder_inputs],\n",
        "                     outputs=[Y_proba])\n",
        "\n",
        "model.compile(loss='sparse_categorical_crossentropy',\n",
        "              optimizer='nadam',\n",
        "              metrics=['accuracy'])\n",
        "model.fit((X_train, X_train_dec), Y_train, epochs=3,\n",
        "          validation_data=((X_valid, X_valid_dec), Y_valid)) #"
      ]
    },
    {
      "cell_type": "code",
      "execution_count": null,
      "metadata": {
        "id": "KB-CCh8DZwTP"
      },
      "outputs": [],
      "source": [
        "#maski yaxsi oturmur attention, ignor elemir zerolari\n",
        "#Additive attention\n",
        "#dot product"
      ]
    },
    {
      "cell_type": "code",
      "execution_count": null,
      "metadata": {
        "id": "ibcbyzpbc2w1"
      },
      "outputs": [],
      "source": [
        "#GRU, LSTM< lementization, se,"
      ]
    },
    {
      "cell_type": "markdown",
      "metadata": {
        "id": "A2ZXKMrUjzRl"
      },
      "source": [
        "# transf"
      ]
    },
    {
      "cell_type": "code",
      "execution_count": null,
      "metadata": {
        "id": "yhj6uYLijyKn"
      },
      "outputs": [],
      "source": [
        "import tensorflow as tf"
      ]
    },
    {
      "cell_type": "code",
      "execution_count": null,
      "metadata": {
        "id": "GynnO_CXj2Sn"
      },
      "outputs": [],
      "source": [
        "vocab_size=15_000\n",
        "max_length=50\n",
        "embed_size=128\n",
        "\n",
        "num_heads=5\n",
        "ff_dim=512 #feedfoerwad\n",
        "\n"
      ]
    },
    {
      "cell_type": "markdown",
      "metadata": {
        "id": "gI5UNNaIz-c9"
      },
      "source": [
        "### Inputs"
      ]
    },
    {
      "cell_type": "code",
      "execution_count": null,
      "metadata": {
        "id": "mNeeOvtMnOSL"
      },
      "outputs": [],
      "source": [
        "#Input layers\n",
        "encoder_inputs=tf.keras.Input(shape=(None,), dtype=tf.int32, name='encoder_inputs')\n",
        "decoder_inputs=tf.keras.Input(shape=(None,), dtype=tf.int32, name='decoder_inputs')\n",
        "#Embedding layers\n",
        "\n",
        "encoder_embedding_layer=tf.keras.layers.Embedding(vocab_size,\n",
        "                                                  output_dim=embed_size, # Changed output_dim to embed_size\n",
        "                                                  mask_zero=True)\n",
        "\n",
        "decoder_embedding_layer=tf.keras.layers.Embedding(vocab_size,\n",
        "                                                  output_dim=embed_size, # Changed output_dim to embed_size\n",
        "                                                  mask_zero=True)\n",
        "\n",
        "encoder_embeddings=encoder_embedding_layer(encoder_inputs)\n",
        "decoder_embeddings=decoder_embedding_layer(decoder_inputs)\n",
        "\n",
        "#positional embeddings\n",
        "pos_embedding_layer=tf.keras.layers.Embedding(max_length, embed_size) #yeni  soz sayi cumlede, embed_ize eyni toplayacam\n",
        "positions_encoder=tf.keras.layers.Lambda(lambda x: tf.range(start=0,limit=tf.shape(x)[1],\n",
        "                                                            delta=1))(encoder_inputs) #encoder_inputs=1  batch szo\n",
        "positions_decoder=tf.keras.layers.Lambda(lambda x: tf.range(start=0,limit=tf.shape(x)[1],\n",
        "                                                            delta=1))(decoder_inputs)\n",
        "pos_embed_enc=pos_embedding_layer(positions_encoder)  #1-50 ye kimi olanlarin embedingin duzelt\n",
        "pos_embed_dec=pos_embedding_layer(positions_encoder)\n",
        "\n",
        "#add tokens and positional embedding\n",
        "encoder_embed=encoder_embeddings+pos_embed_enc\n",
        "decoder_embed=decoder_embeddings+pos_embed_dec # Fixed: Using decoder_embeddings instead of encoder_embeddings"
      ]
    },
    {
      "cell_type": "markdown",
      "metadata": {
        "id": "QaGhnHae0E2E"
      },
      "source": [
        "### Encoder"
      ]
    },
    {
      "cell_type": "code",
      "execution_count": null,
      "metadata": {
        "id": "WQG4cfV9oTuK"
      },
      "outputs": [],
      "source": [
        "#encoder self_attention\n",
        "\n",
        "encoder_attention=tf.keras.layers.MultiHeadAttention(num_heads=num_heads,\n",
        "                                                     key_dim=embed_size)(encoder_embed, encoder_embed) #query embed key embed_encoder oz uzerinde value de ozune beraberdi sselfde ozundengelir hamisi amm crossda ferqi yerde\n",
        "encoder_attention=tf.keras.layers.LayerNormalization( epsilon=1e-6)(encoder_embed+encoder_attention) #multiden sve skip"
      ]
    },
    {
      "cell_type": "code",
      "execution_count": null,
      "metadata": {
        "id": "FwkAlcZgpTyO"
      },
      "outputs": [],
      "source": [
        "#layer axis uzerinden setir uzerinden normallashdiri , obirisi sutun uzerinden"
      ]
    },
    {
      "cell_type": "code",
      "execution_count": null,
      "metadata": {
        "id": "3fb3DmNVqe3s"
      },
      "outputs": [],
      "source": [
        "#Encoder FeedForward\n",
        "encoder_ff=tf.keras.layers.Dense(ff_dim, activation='relu')(encoder_attention)\n",
        "encoder_ff=tf.keras.layers.Dense(embed_size)(encoder_ff) #bootneck , ve daha genish hissesi\n",
        "encoder_outputs=tf.keras.layers.LayerNormalization(epsilon=1e-6)(encoder_attention+encoder_ff)"
      ]
    },
    {
      "cell_type": "markdown",
      "metadata": {
        "id": "17mdwee20Huw"
      },
      "source": [
        "### Decoder"
      ]
    },
    {
      "cell_type": "code",
      "execution_count": null,
      "metadata": {
        "id": "mRDhjKBMrC1i"
      },
      "outputs": [],
      "source": [
        "#Decoder self-attention\n",
        "causal_mask=tf.keras.layers.Lambda(\n",
        "    lambda x: tf.linalg.band_part(tf.ones((tf.shape(x)[1], tf.shape(x)[1])),-1,0))(decoder_inputs)\n",
        "decoder_attention=tf.keras.layers.MultiHeadAttention(num_heads=num_heads,\n",
        "                                                         key_dim=embed_size)(decoder_embed, decoder_embed, attention_mask=causal_mask)\n",
        "decoder_attention=tf.keras.layers.LayerNormalization(epsilon=1e-6)(decoder_embed+decoder_attention)"
      ]
    },
    {
      "cell_type": "markdown",
      "metadata": {
        "id": "njr4YPrvp64R"
      },
      "source": [
        "![image.png](data:image/png;base64,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)"
      ]
    },
    {
      "cell_type": "code",
      "execution_count": null,
      "metadata": {
        "id": "hbrH4I2dsiIc"
      },
      "outputs": [],
      "source": [
        "#Decoder Encodrer cross attention\n",
        "cross_attention=tf.keras.layers.MultiHeadAttention(num_heads=num_heads, key_dim=embed_size)(decoder_attention,\n",
        "                                                                                            encoder_outputs, encoder_outputs) #decoder key-encoder\n",
        "decoder_cross=tf.keras.layers.LayerNormalization(epsilon=1e-6)(decoder_attention+cross_attention)\n"
      ]
    },
    {
      "cell_type": "code",
      "execution_count": null,
      "metadata": {
        "id": "Q8bwY415uLmx"
      },
      "outputs": [],
      "source": [
        "#Decoder FeedForwad\n",
        "decoder_ff=tf.keras.layers.Dense(ff_dim, activation='relu')(decoder_cross)\n",
        "decoder_ff=tf.keras.layers.Dense(embed_size)(decoder_ff)\n",
        "decoder_outputs=tf.keras.layers.LayerNormalization(epsilon=1e-6)(decoder_cross+decoder_ff)\n",
        "\n"
      ]
    },
    {
      "cell_type": "markdown",
      "metadata": {
        "id": "WNpQP2K20LJT"
      },
      "source": [
        "### Output"
      ]
    },
    {
      "cell_type": "code",
      "execution_count": null,
      "metadata": {
        "id": "cJhJ3M2FusVW"
      },
      "outputs": [],
      "source": [
        "#Output--Final\n",
        "output_logits=tf.keras.layers.Dense(vocab_size, activation='softmax')(decoder_outputs)\n",
        "transformer=tf.keras.Model(inputs=[encoder_inputs, decoder_inputs], outputs=output_logits)"
      ]
    },
    {
      "cell_type": "code",
      "execution_count": null,
      "metadata": {
        "id": "KnHjHNd8vKyL"
      },
      "outputs": [],
      "source": [
        "transformer.compile(\n",
        "    loss='sparse_categorical_crossentropy',\n",
        "    optimizer='nadam',\n",
        "    metrics=['accuracy']\n",
        ")"
      ]
    },
    {
      "cell_type": "markdown",
      "metadata": {
        "id": "h11kJlRD0TrR"
      },
      "source": [
        "### TextVec"
      ]
    },
    {
      "cell_type": "code",
      "execution_count": null,
      "metadata": {
        "id": "JSyN8Dprvg7i"
      },
      "outputs": [],
      "source": [
        "vocab_size=15_000\n",
        "max_length=50\n",
        "\n",
        "text_vec_layer_en=tf.keras.layers.TextVectorization(vocab_size, output_sequence_length=max_length,\n",
        "                                                    pad_to_max_tokens=True)\n",
        "text_vec_layer_es=tf.keras.layers.TextVectorization(\n",
        "    vocab_size, output_sequence_length=max_length, pad_to_max_tokens=True\n",
        ")"
      ]
    },
    {
      "cell_type": "code",
      "execution_count": null,
      "metadata": {
        "id": "2T0APJGywf69"
      },
      "outputs": [],
      "source": [
        "text_vec_layer_en.adapt(sentence_en)\n",
        "text_vec_layer_es.adapt([f'startofseq {s} endofseq' for s in sentences_es])"
      ]
    },
    {
      "cell_type": "code",
      "execution_count": null,
      "metadata": {
        "colab": {
          "base_uri": "https://localhost:8080/"
        },
        "id": "OtzXXTFAw8CY",
        "outputId": "415dd848-8d91-42fa-bff0-aa788b32b08a"
      },
      "outputs": [
        {
          "name": "stdout",
          "output_type": "stream",
          "text": [
            "Epoch 1/5\n",
            "\u001b[1m3125/3125\u001b[0m \u001b[32m━━━━━━━━━━━━━━━━━━━━\u001b[0m\u001b[37m\u001b[0m \u001b[1m81s\u001b[0m 26ms/step - accuracy: 0.9661 - loss: 0.1331 - val_accuracy: 0.9607 - val_loss: 0.1637\n",
            "Epoch 2/5\n",
            "\u001b[1m3125/3125\u001b[0m \u001b[32m━━━━━━━━━━━━━━━━━━━━\u001b[0m\u001b[37m\u001b[0m \u001b[1m75s\u001b[0m 24ms/step - accuracy: 0.9703 - loss: 0.1134 - val_accuracy: 0.9612 - val_loss: 0.1663\n",
            "Epoch 3/5\n",
            "\u001b[1m3125/3125\u001b[0m \u001b[32m━━━━━━━━━━━━━━━━━━━━\u001b[0m\u001b[37m\u001b[0m \u001b[1m83s\u001b[0m 24ms/step - accuracy: 0.9732 - loss: 0.1000 - val_accuracy: 0.9613 - val_loss: 0.1688\n",
            "Epoch 4/5\n",
            "\u001b[1m3125/3125\u001b[0m \u001b[32m━━━━━━━━━━━━━━━━━━━━\u001b[0m\u001b[37m\u001b[0m \u001b[1m82s\u001b[0m 24ms/step - accuracy: 0.9753 - loss: 0.0900 - val_accuracy: 0.9614 - val_loss: 0.1704\n",
            "Epoch 5/5\n",
            "\u001b[1m3125/3125\u001b[0m \u001b[32m━━━━━━━━━━━━━━━━━━━━\u001b[0m\u001b[37m\u001b[0m \u001b[1m82s\u001b[0m 24ms/step - accuracy: 0.9772 - loss: 0.0818 - val_accuracy: 0.9613 - val_loss: 0.1774\n"
          ]
        },
        {
          "data": {
            "text/plain": [
              "<keras.src.callbacks.history.History at 0x79edb2bea6d0>"
            ]
          },
          "execution_count": 37,
          "metadata": {},
          "output_type": "execute_result"
        }
      ],
      "source": [
        "X_train_padded=tf.keras.preprocessing.sequence.pad_sequences(\n",
        "    text_vec_layer_en(X_train).numpy(), padding='post', maxlen=max_length)\n",
        "\n",
        "X_train_dec_padded=tf.keras.preprocessing.sequence.pad_sequences(\n",
        "    text_vec_layer_es(X_train_dec).numpy(), padding='post', maxlen=max_length)\n",
        "\n",
        "X_valid_padded=tf.keras.preprocessing.sequence.pad_sequences(\n",
        "    text_vec_layer_en(X_valid).numpy(), padding='post', maxlen=max_length)\n",
        "\n",
        "X_valid_dec_padded=tf.keras.preprocessing.sequence.pad_sequences(\n",
        "    text_vec_layer_es(X_valid_dec).numpy(), padding='post', maxlen=max_length)\n",
        "\n",
        "X_train_padded=tf.constant(X_train_padded)\n",
        "X_train_dec_padded=tf.constant(X_train_dec_padded)\n",
        "X_valid_padded=tf.constant(X_valid_padded)\n",
        "X_valid_dec_padded=tf.constant(X_valid_dec_padded)\n",
        "\n",
        "transformer.fit(\n",
        "    (X_train_padded, X_train_dec_padded),\n",
        "    Y_train,\n",
        "    epochs=5,\n",
        "    validation_data=((X_valid_padded, X_valid_dec_padded), Y_valid)\n",
        ")\n"
      ]
    },
    {
      "cell_type": "code",
      "execution_count": null,
      "metadata": {
        "id": "pVM8V8R3zN55"
      },
      "outputs": [],
      "source": [
        "import numpy as np\n",
        "\n",
        "def translate(sentence_en):\n",
        "\n",
        "    X = text_vec_layer_en(tf.constant([sentence_en]))\n",
        "    X = tf.keras.preprocessing.sequence.pad_sequences(X.numpy(), padding=\"post\", maxlen=max_length)\n",
        "\n",
        "\n",
        "    start_token = text_vec_layer_es(['startofseq'])[0][0]\n",
        "    end_token = text_vec_layer_es(['endofseq'])[0][0]\n",
        "\n",
        "\n",
        "    decoder_input = [start_token]\n",
        "\n",
        "    for _ in range(max_length):\n",
        "        decoder_input_padded = tf.keras.preprocessing.sequence.pad_sequences(\n",
        "            [decoder_input], maxlen=max_length, padding=\"post\"\n",
        "        )\n",
        "\n",
        "        y_proba = transformer.predict((X, decoder_input_padded), verbose=0)[0, len(decoder_input)-1]\n",
        "        predicted_word_id = np.argmax(y_proba)\n",
        "\n",
        "        if predicted_word_id == end_token:\n",
        "            break\n",
        "\n",
        "        decoder_input.append(predicted_word_id)\n",
        "\n",
        "\n",
        "    vocab = text_vec_layer_es.get_vocabulary()\n",
        "    translated_words = [vocab[token] for token in decoder_input[1:]]\n",
        "\n",
        "    return ' '.join(translated_words)"
      ]
    },
    {
      "cell_type": "code",
      "execution_count": null,
      "metadata": {
        "id": "pS4Ex_GFj9Rs"
      },
      "outputs": [],
      "source": []
    }
  ],
  "metadata": {
    "colab": {
      "collapsed_sections": [
        "SPbQAGnPLMzt",
        "CtbpZARygPOw",
        "QauT60V2s6-w",
        "o5688cIxxZOs",
        "zFj4RUl-NfQw",
        "a4Q2ISKaTQo9",
        "3h_7ddfwUH0l"
      ],
      "provenance": [],
      "include_colab_link": true
    },
    "kernelspec": {
      "display_name": "Python 3",
      "name": "python3"
    },
    "language_info": {
      "name": "python"
    }
  },
  "nbformat": 4,
  "nbformat_minor": 0
}