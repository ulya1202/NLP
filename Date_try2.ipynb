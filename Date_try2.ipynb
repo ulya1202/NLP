{
  "nbformat": 4,
  "nbformat_minor": 0,
  "metadata": {
    "colab": {
      "provenance": [],
      "gpuType": "T4",
      "mount_file_id": "18C6HzJRd0pLsxmxJycq4RHz-ZWVp9A6S",
      "authorship_tag": "ABX9TyNY2zQgjOy9wG2dE0VeRpja",
      "include_colab_link": true
    },
    "kernelspec": {
      "name": "python3",
      "display_name": "Python 3"
    },
    "language_info": {
      "name": "python"
    },
    "accelerator": "GPU"
  },
  "cells": [
    {
      "cell_type": "markdown",
      "metadata": {
        "id": "view-in-github",
        "colab_type": "text"
      },
      "source": [
        "<a href=\"https://colab.research.google.com/github/ulya1202/NLP/blob/main/Date_try2.ipynb\" target=\"_parent\"><img src=\"https://colab.research.google.com/assets/colab-badge.svg\" alt=\"Open In Colab\"/></a>"
      ]
    },
    {
      "cell_type": "code",
      "source": [
        "import tensorflow as tf"
      ],
      "metadata": {
        "id": "f_NcKoLoG85A"
      },
      "execution_count": null,
      "outputs": []
    },
    {
      "cell_type": "code",
      "source": [
        "import numpy as np\n",
        "import pandas as pd"
      ],
      "metadata": {
        "id": "655k5l8OG1fv"
      },
      "execution_count": null,
      "outputs": []
    },
    {
      "cell_type": "code",
      "execution_count": null,
      "metadata": {
        "id": "gQ_L8rzrC9qx",
        "colab": {
          "base_uri": "https://localhost:8080/"
        },
        "outputId": "19f97f29-334f-4f80-f67e-1b3ba1c98e03"
      },
      "outputs": [
        {
          "output_type": "stream",
          "name": "stdout",
          "text": [
            "Input                    Target                   \n",
            "--------------------------------------------------\n",
            "September 20, 7075       7075-09-20               \n",
            "May 15, 8579             8579-05-15               \n",
            "January 11, 7103         7103-01-11               \n"
          ]
        }
      ],
      "source": [
        "from datetime import date\n",
        "\n",
        "\n",
        "\n",
        "MONTHS = [\"January\", \"February\", \"March\", \"April\", \"May\", \"June\",\n",
        "          \"July\", \"August\", \"September\", \"October\", \"November\", \"December\"]\n",
        "\n",
        "\n",
        "def random_dates(n_dates):\n",
        "    min_date = date(1000, 1, 1).toordinal()\n",
        "    max_date = date(9999, 12, 31).toordinal()\n",
        "\n",
        "\n",
        "    ordinals = np.random.randint(max_date - min_date, size=n_dates) + min_date\n",
        "    dates = [date.fromordinal(ordinal) for ordinal in ordinals]\n",
        "\n",
        "\n",
        "    x = [MONTHS[dt.month - 1] + \" \" + dt.strftime(\"%d, %Y\") for dt in dates]\n",
        "    y = [dt.isoformat() for dt in dates]\n",
        "    return x, y\n",
        "\n",
        "np.random.seed(42)\n",
        "\n",
        "\n",
        "n_dates = 3\n",
        "x_example, y_example = random_dates(n_dates)\n",
        "print(\"{:25s}{:25s}\".format(\"Input\", \"Target\"))\n",
        "print(\"-\" * 50)\n",
        "for idx in range(n_dates):\n",
        "    print(\"{:25s}{:25s}\".format(x_example[idx], y_example[idx]))"
      ]
    },
    {
      "cell_type": "code",
      "source": [
        "size=100_000\n",
        "X, y=random_dates(size)"
      ],
      "metadata": {
        "id": "hoFrEr4EHBrV"
      },
      "execution_count": null,
      "outputs": []
    },
    {
      "cell_type": "markdown",
      "source": [
        "![image.png](data:image/png;base64,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)"
      ],
      "metadata": {
        "id": "Ar2-w4fYSOQ8"
      }
    },
    {
      "cell_type": "markdown",
      "source": [
        "![image.png](data:image/png;base64,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)"
      ],
      "metadata": {
        "id": "VzqhEn8esTE8"
      }
    },
    {
      "cell_type": "markdown",
      "source": [
        "# Start"
      ],
      "metadata": {
        "id": "jZGzgIa8YzK9"
      }
    },
    {
      "cell_type": "code",
      "source": [
        "#input\n",
        "encoder_input=X\n",
        "decoder_input=[f'startofseq {s}' for s in y]\n",
        "#target\n",
        "decoder_output=[f'{s} endofseq' for s in y]"
      ],
      "metadata": {
        "id": "heltyRVAX0re"
      },
      "execution_count": null,
      "outputs": []
    },
    {
      "cell_type": "code",
      "source": [
        "#Tokenization\n",
        "max_input_sentence_len=max(len(sentence) for sentence in X)\n",
        "max_output_date_len=max(len(f'startofseq {sentence} endofseq') for sentence in y)\n",
        "\n",
        "encoder_vectorization_layer=tf.keras.layers.TextVectorization(output_mode='int',\n",
        "                                                              output_sequence_length=max_input_sentence_len, #[1,2,3,0,0,0] cumlede sozleri tamamlayir 0 ile\n",
        "                                                              split=\"character\",\n",
        "                                                              standardize='lower',\n",
        "\n",
        "                                                              )\n",
        "decoder_vectorization_layer=tf.keras.layers.TextVectorization(output_mode='int',\n",
        "                                                              output_sequence_length=max_output_date_len,\n",
        "                                                              split=\"character\",\n",
        "                                                              standardize='lower',\n",
        "\n",
        "                                                              )\n",
        "\n",
        "encoder_vectorization_layer.adapt(tf.constant(X))\n",
        "decoder_vectorization_layer.adapt(tf.constant(decoder_input+decoder_output))\n"
      ],
      "metadata": {
        "id": "3nK9tdCZHN1-"
      },
      "execution_count": null,
      "outputs": []
    },
    {
      "cell_type": "markdown",
      "source": [
        "##train/test/val"
      ],
      "metadata": {
        "id": "uUYnFeAHX4de"
      }
    },
    {
      "cell_type": "code",
      "source": [
        "###################train\n",
        "#>input\n",
        "encoder_train_input=encoder_input[:int(len(X)*0.8)]\n",
        "decoder_train_input=decoder_input[:int(len(X)*0.8)]\n",
        "\n",
        "#>target\n",
        "decoder_train_output=decoder_output[:int(len(X)*0.8)]\n",
        "\n",
        "#################val\n",
        "#>input\n",
        "encoder_val_input=encoder_input[int(len(X)*0.8):]\n",
        "decoder_val_input=decoder_input[int(len(X)*0.8):]\n",
        "\n",
        "#>target\n",
        "decoder_val_output=decoder_output[int(len(X)*0.8):]\n",
        "\n",
        "###############change them to--> tensor#############\n",
        "input_encoder_train=tf.constant(encoder_train_input)\n",
        "input_decoder_train=tf.constant(decoder_train_input)\n",
        "target_decoder_train=decoder_vectorization_layer(decoder_train_output)\n",
        "\n",
        "input_encoder_val=tf.constant(encoder_val_input)\n",
        "input_decoder_val=tf.constant(decoder_val_input)\n",
        "target_decoder_val=decoder_vectorization_layer(decoder_val_output)\n"
      ],
      "metadata": {
        "id": "ueTklducTsPl"
      },
      "execution_count": null,
      "outputs": []
    },
    {
      "cell_type": "code",
      "source": [
        "encoder_vocab_size,decoder_vocab_size=(len(encoder_vectorization_layer.get_vocabulary()),len(decoder_vectorization_layer.get_vocabulary()))"
      ],
      "metadata": {
        "id": "kWI0ORTOse-O"
      },
      "execution_count": null,
      "outputs": []
    },
    {
      "cell_type": "code",
      "source": [
        "#Embedding\n",
        "embed_size=16\n",
        "encoder_embeding_layer=tf.keras.layers.Embedding(input_dim=encoder_vocab_size,\n",
        "                                           output_dim=embed_size,\n",
        "                                           mask_zero=True #cumlede tamamladiqimiz sozlerdeki 0l ari mask edir , fikir vermesin\n",
        "                                           )\n",
        "decoder_embeding_layer=tf.keras.layers.Embedding(input_dim=decoder_vocab_size,\n",
        "                                           output_dim=embed_size,\n",
        "                                           mask_zero=True #cumlede tamamladiqimiz sozlerdeki 0 lari mask edir , fikir vermesin\n",
        "                                           )"
      ],
      "metadata": {
        "id": "A4_KOwlNK6oa"
      },
      "execution_count": null,
      "outputs": []
    },
    {
      "cell_type": "code",
      "source": [
        "#(model)-->input-->tokenization-->embeding\n",
        "input_encoder = tf.keras.layers.Input(shape=[],dtype=tf.string)\n",
        "input_decoder = tf.keras.layers.Input(shape=[],dtype=tf.string)\n",
        "\n",
        "\n",
        "encoder_tokens = encoder_vectorization_layer(input_encoder)\n",
        "decoder_tokens = decoder_vectorization_layer(input_decoder)\n",
        "\n",
        "encoder_embedding = encoder_embeding_layer(encoder_tokens)\n",
        "decoder_embedding = decoder_embeding_layer(decoder_tokens)\n"
      ],
      "metadata": {
        "id": "oORwLxhxyCi2"
      },
      "execution_count": null,
      "outputs": []
    },
    {
      "cell_type": "code",
      "source": [
        "#(model)-->ENCODER(LSTM)--->encoder_output,*encoder_states\n",
        "encoder_layer=tf.keras.layers.LSTM(512, return_state=True)\n",
        "encoder_output, *encoder_state=encoder_layer(encoder_embedding)\n",
        "\n"
      ],
      "metadata": {
        "id": "esB9A8N58Ftr"
      },
      "execution_count": null,
      "outputs": []
    },
    {
      "cell_type": "code",
      "source": [
        "#(model)-->Decdoer(LSTM-->decoder_output,\n",
        "decoder_layer=tf.keras.layers.LSTM(512,return_sequences=True,return_state=True)#return_state=True,\n",
        "decoder_output, *decoder_state=decoder_layer(decoder_embedding, initial_state=encoder_state)\n",
        "\n",
        "output_layer=tf.keras.layers.Dense(decoder_vocab_size, activation='softmax')\n",
        "output=output_layer(decoder_output)\n"
      ],
      "metadata": {
        "id": "ppOKEyVj8d-E"
      },
      "execution_count": null,
      "outputs": []
    },
    {
      "cell_type": "code",
      "source": [
        "my_date_model=tf.keras.Model(inputs=(input_encoder, input_decoder), outputs=output)"
      ],
      "metadata": {
        "id": "aPA3PnLWS0rS"
      },
      "execution_count": null,
      "outputs": []
    },
    {
      "cell_type": "markdown",
      "source": [
        "## Checkpoints and learnig rates"
      ],
      "metadata": {
        "id": "BbxlkCXWQEx3"
      }
    },
    {
      "cell_type": "code",
      "source": [
        "model_chkp=tf.keras.callbacks.ModelCheckpoint(filepath='/content/drive/MyDrive/Colab Notebooks/date.keras',\n",
        "                                   monitor=\"val_loss\",\n",
        "                                   save_best_only=True)\n"
      ],
      "metadata": {
        "id": "uC_fV_CUQKsz"
      },
      "execution_count": null,
      "outputs": []
    },
    {
      "cell_type": "code",
      "source": [
        "lr_schedule=tf.keras.optimizers.schedules.ExponentialDecay(\n",
        "    initial_learning_rate=0.0001,\n",
        "    decay_steps=200,\n",
        "    decay_rate=0.96,\n",
        "    staircase=False,\n",
        "    name='ExponentialDecay')"
      ],
      "metadata": {
        "id": "5XsEAS7ZQdlt"
      },
      "execution_count": null,
      "outputs": []
    },
    {
      "cell_type": "markdown",
      "source": [
        "## Compile and Fit"
      ],
      "metadata": {
        "id": "Oq8BzU5fS9qv"
      }
    },
    {
      "cell_type": "code",
      "source": [
        "optimizer=tf.optimizers.Nadam(learning_rate=0.0001)"
      ],
      "metadata": {
        "id": "IX-1h_CsSh62"
      },
      "execution_count": null,
      "outputs": []
    },
    {
      "cell_type": "code",
      "source": [
        "my_date_model.compile(optimizer=optimizer,loss='sparse_categorical_crossentropy', metrics=['accuracy'])"
      ],
      "metadata": {
        "id": "l3TZx3vpSmby"
      },
      "execution_count": null,
      "outputs": []
    },
    {
      "cell_type": "code",
      "source": [
        "history=my_date_model.fit((input_encoder_train,input_decoder_train),target_decoder_train,\n",
        "                          validation_data=((input_encoder_val,input_decoder_val),target_decoder_val),\n",
        "                          epochs=1,callbacks=[model_chkp])"
      ],
      "metadata": {
        "colab": {
          "base_uri": "https://localhost:8080/"
        },
        "id": "sr9re-TNSwhf",
        "outputId": "71e67e87-7f7a-4bd8-e2ce-af51af703447"
      },
      "execution_count": null,
      "outputs": [
        {
          "output_type": "stream",
          "name": "stdout",
          "text": [
            "\u001b[1m2500/2500\u001b[0m \u001b[32m━━━━━━━━━━━━━━━━━━━━\u001b[0m\u001b[37m\u001b[0m \u001b[1m42s\u001b[0m 17ms/step - accuracy: 0.9949 - loss: 0.0194 - val_accuracy: 1.0000 - val_loss: 1.0555e-04\n"
          ]
        }
      ]
    },
    {
      "cell_type": "code",
      "source": [
        "# \n",
        "my_date_model = tf.keras.models.load_model('/content/drive/MyDrive/Colab Notebooks/date.keras')"
      ],
      "metadata": {
        "id": "O6M414xAuRy4"
      },
      "execution_count": null,
      "outputs": []
    },
    {
      "cell_type": "markdown",
      "source": [
        "## Test"
      ],
      "metadata": {
        "id": "3_2vV5qehZQc"
      }
    },
    {
      "cell_type": "code",
      "source": [
        "def test(x,n):\n",
        "    translate=''\n",
        "    for i in range(n):\n",
        "        input_encoder=tf.constant([x])\n",
        "        input_decoder=tf.constant(['startofseq '+translate])\n",
        "\n",
        "        y_proba=my_date_model.predict((input_encoder,input_decoder))[0,i] #bu\n",
        "        idx=np.argmax(y_proba)\n",
        "        predicted=decoder_vectorization_layer.get_vocabulary()[idx]\n",
        "\n",
        "        if predicted==' ':\n",
        "            break\n",
        "        translate+=predicted\n",
        "    return translate\n",
        "\n",
        "\n"
      ],
      "metadata": {
        "id": "sBKmQwQEha-J"
      },
      "execution_count": null,
      "outputs": []
    },
    {
      "cell_type": "code",
      "source": [
        "test('december 11, 9999',100)"
      ],
      "metadata": {
        "colab": {
          "base_uri": "https://localhost:8080/",
          "height": 227
        },
        "id": "EzyUYbP1jadP",
        "outputId": "461b42b9-0bb0-4100-8364-ea520b620e06"
      },
      "execution_count": null,
      "outputs": [
        {
          "output_type": "stream",
          "name": "stdout",
          "text": [
            "\u001b[1m1/1\u001b[0m \u001b[32m━━━━━━━━━━━━━━━━━━━━\u001b[0m\u001b[37m\u001b[0m \u001b[1m0s\u001b[0m 379ms/step\n",
            "\u001b[1m1/1\u001b[0m \u001b[32m━━━━━━━━━━━━━━━━━━━━\u001b[0m\u001b[37m\u001b[0m \u001b[1m0s\u001b[0m 37ms/step\n",
            "\u001b[1m1/1\u001b[0m \u001b[32m━━━━━━━━━━━━━━━━━━━━\u001b[0m\u001b[37m\u001b[0m \u001b[1m0s\u001b[0m 33ms/step\n",
            "\u001b[1m1/1\u001b[0m \u001b[32m━━━━━━━━━━━━━━━━━━━━\u001b[0m\u001b[37m\u001b[0m \u001b[1m0s\u001b[0m 32ms/step\n",
            "\u001b[1m1/1\u001b[0m \u001b[32m━━━━━━━━━━━━━━━━━━━━\u001b[0m\u001b[37m\u001b[0m \u001b[1m0s\u001b[0m 34ms/step\n",
            "\u001b[1m1/1\u001b[0m \u001b[32m━━━━━━━━━━━━━━━━━━━━\u001b[0m\u001b[37m\u001b[0m \u001b[1m0s\u001b[0m 31ms/step\n",
            "\u001b[1m1/1\u001b[0m \u001b[32m━━━━━━━━━━━━━━━━━━━━\u001b[0m\u001b[37m\u001b[0m \u001b[1m0s\u001b[0m 32ms/step\n",
            "\u001b[1m1/1\u001b[0m \u001b[32m━━━━━━━━━━━━━━━━━━━━\u001b[0m\u001b[37m\u001b[0m \u001b[1m0s\u001b[0m 34ms/step\n",
            "\u001b[1m1/1\u001b[0m \u001b[32m━━━━━━━━━━━━━━━━━━━━\u001b[0m\u001b[37m\u001b[0m \u001b[1m0s\u001b[0m 44ms/step\n",
            "\u001b[1m1/1\u001b[0m \u001b[32m━━━━━━━━━━━━━━━━━━━━\u001b[0m\u001b[37m\u001b[0m \u001b[1m0s\u001b[0m 33ms/step\n",
            "\u001b[1m1/1\u001b[0m \u001b[32m━━━━━━━━━━━━━━━━━━━━\u001b[0m\u001b[37m\u001b[0m \u001b[1m0s\u001b[0m 33ms/step\n"
          ]
        },
        {
          "output_type": "execute_result",
          "data": {
            "text/plain": [
              "'9999-12-11'"
            ],
            "application/vnd.google.colaboratory.intrinsic+json": {
              "type": "string"
            }
          },
          "metadata": {},
          "execution_count": 90
        }
      ]
    }
  ]
}
