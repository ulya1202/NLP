{
  "cells": [
    {
      "cell_type": "markdown",
      "metadata": {
        "id": "view-in-github",
        "colab_type": "text"
      },
      "source": [
        "<a href=\"https://colab.research.google.com/github/ulya1202/NLP/blob/main/NER.ipynb\" target=\"_parent\"><img src=\"https://colab.research.google.com/assets/colab-badge.svg\" alt=\"Open In Colab\"/></a>"
      ]
    },
    {
      "cell_type": "markdown",
      "metadata": {
        "id": "t5An8Ph3-c1q"
      },
      "source": [
        "#Import"
      ]
    },
    {
      "cell_type": "code",
      "execution_count": null,
      "metadata": {
        "id": "acQk7JzIyfgV"
      },
      "outputs": [],
      "source": [
        "import tensorflow as tf\n",
        "import pandas as pd\n",
        "import ast"
      ]
    },
    {
      "cell_type": "code",
      "execution_count": null,
      "metadata": {
        "id": "pcVXDbeCHZ68"
      },
      "outputs": [],
      "source": [
        "import numpy as np"
      ]
    },
    {
      "cell_type": "code",
      "execution_count": null,
      "metadata": {
        "id": "TzLvngXXEE9J"
      },
      "outputs": [],
      "source": [
        "import matplotlib.pyplot as plt"
      ]
    },
    {
      "cell_type": "code",
      "execution_count": null,
      "metadata": {
        "colab": {
          "base_uri": "https://localhost:8080/"
        },
        "id": "1CJ8Ew39xAh3",
        "outputId": "26a8b794-0574-4a7b-f3da-c7974beb0a7c"
      },
      "outputs": [
        {
          "name": "stdout",
          "output_type": "stream",
          "text": [
            "  % Total    % Received % Xferd  Average Speed   Time    Time     Time  Current\n",
            "                                 Dload  Upload   Total   Spent    Left  Speed\n",
            "  0     0    0     0    0     0      0      0 --:--:-- --:--:-- --:--:--     0\n",
            "100 4561k  100 4561k    0     0  8877k      0 --:--:-- --:--:-- --:--:-- 8877k\n"
          ]
        }
      ],
      "source": [
        "!curl -L -o ner-dataset.zip  https://www.kaggle.com/api/v1/datasets/download/rohitr4307/ner-dataset"
      ]
    },
    {
      "cell_type": "code",
      "execution_count": null,
      "metadata": {
        "colab": {
          "base_uri": "https://localhost:8080/"
        },
        "id": "ekiE8Sa6ynJ9",
        "outputId": "07d4029a-5da8-41c0-d190-d64fd4735a20"
      },
      "outputs": [
        {
          "name": "stdout",
          "output_type": "stream",
          "text": [
            "Archive:  /content/ner-dataset.zip\n",
            "  inflating: NER_Dataset.csv         \n"
          ]
        }
      ],
      "source": [
        "!unzip /content/ner-dataset.zip"
      ]
    },
    {
      "cell_type": "markdown",
      "metadata": {
        "id": "bN81mHmKJ1Gc"
      },
      "source": [
        "# start"
      ]
    },
    {
      "cell_type": "markdown",
      "metadata": {
        "id": "UxRwIWxRD9wf"
      },
      "source": [
        "## Functions"
      ]
    },
    {
      "cell_type": "code",
      "execution_count": null,
      "metadata": {
        "id": "CigwJXERD_fe"
      },
      "outputs": [],
      "source": [
        "def len_of_rows(row):\n",
        "    return len(ast.literal_eval(row))\n",
        "\n",
        "def eval_row_and_join(row):\n",
        "    return ' '.join(ast.literal_eval(row))\n",
        "\n",
        "# def combine_sentences(sentences):\n",
        "#     all_train=''.join([ sentence for sentence in sentences.apply(eval_row_and_join)])\n",
        "#     return all_train\n",
        "\n",
        "def vec_pad(data, name, pad=True,max_len=50, padding_type='post'):\n",
        "    if isinstance(data, str):#chta gpt burda komek etdu bu setirde<----\n",
        "        data = [data]\n",
        "    if name=='pos':\n",
        "        X=text_vec_pos(data)\n",
        "    elif name=='words':\n",
        "        X=text_vec_words(data)\n",
        "    elif name=='tag':\n",
        "        X=text_vec_tag(data)\n",
        "    if pad:\n",
        "        X=tf.keras.utils.pad_sequences(\n",
        "                                        X,\n",
        "                                        maxlen=max_len,\n",
        "                                        dtype='int32',\n",
        "                                        padding=padding_type,\n",
        "                                        truncating=padding_type)\n",
        "    return X\n",
        "\n",
        "def for_testing(your_string_word, your_pos_string):\n",
        "\n",
        "    your_string_words=tf.constant([your_string_word])\n",
        "    X_test_words=vec_pad(your_string_words, 'words', max_len=max_len)\n",
        "    X_test_pos=vec_pad(your_pos_string, 'pos', max_len=max_len)\n",
        "    y_proba=model.predict((X_test_words,X_test_pos))\n",
        "    idxs=np.argmax(y_proba, axis=-1).flatten()\n",
        "    vocab=text_vec_tag.get_vocabulary()\n",
        "    ans=''\n",
        "    names=''\n",
        "\n",
        "    for idx,i in enumerate(idxs):\n",
        "        ans+=vocab[i]+' '\n",
        "        if i==0:\n",
        "            break\n",
        "\n",
        "        if idx<len(your_string_word.split()):\n",
        "            if vocab[i]!='o' and vocab[i].startswith('b'):\n",
        "                names+='\\nbegins '+vocab[i][1:]+f' at index: {idx} \\n'+your_string_word.split()[idx]+' '\n",
        "            elif idx>0 and vocab[idxs[idx-1]].startswith('i') and vocab[i].startswith('o') :\n",
        "                names+='\\nends '+vocab[idxs[idx-1]][1:]+f' at index: {idx} '\n",
        "            elif vocab[i]!='o':\n",
        "                names+=' '+ your_string_word.split()[idx]\n",
        "    return print(f'{ans}\\n {names}')\n"
      ]
    },
    {
      "cell_type": "markdown",
      "metadata": {
        "id": "reiYyooYEAmS"
      },
      "source": [
        "## EDA"
      ]
    },
    {
      "cell_type": "code",
      "execution_count": null,
      "metadata": {
        "id": "_MVtB5wrdnn9"
      },
      "outputs": [],
      "source": [
        "#elave bax explode--> ile Bio-nu tag for each ele"
      ]
    },
    {
      "cell_type": "code",
      "execution_count": null,
      "metadata": {
        "id": "JoJ9cTPDypVK"
      },
      "outputs": [],
      "source": [
        "nf=pd.read_csv('NER_Dataset.csv')"
      ]
    },
    {
      "cell_type": "code",
      "execution_count": null,
      "metadata": {
        "id": "nyBJy6H3y00V"
      },
      "outputs": [],
      "source": [
        "df=nf.drop('Sentence_ID', axis=1)"
      ]
    },
    {
      "cell_type": "code",
      "execution_count": null,
      "metadata": {
        "colab": {
          "base_uri": "https://localhost:8080/",
          "height": 36
        },
        "id": "1zCeFLMM3rbY",
        "outputId": "aa17c2b8-193e-488d-8378-bb34ee5abb17"
      },
      "outputs": [
        {
          "data": {
            "application/vnd.google.colaboratory.intrinsic+json": {
              "type": "string"
            },
            "text/plain": [
              "'The United Nations is praising the use of military helicopters to drop food and rescue survivors in tsunami-ravaged Indonesia , saying the aircraft are \" worth their weight in gold . \"'"
            ]
          },
          "execution_count": 10,
          "metadata": {},
          "output_type": "execute_result"
        }
      ],
      "source": [
        "df.iloc[-1].apply(eval_row_and_join)['Word']"
      ]
    },
    {
      "cell_type": "code",
      "execution_count": null,
      "metadata": {
        "id": "OuYSOn_G4GzM"
      },
      "outputs": [],
      "source": [
        "pos_1=df.iloc[-1].apply(eval_row_and_join)['POS']"
      ]
    },
    {
      "cell_type": "code",
      "execution_count": null,
      "metadata": {
        "id": "CMYpOOsR4JGd"
      },
      "outputs": [],
      "source": [
        "answers_1=df.iloc[-1].apply(eval_row_and_join)['Tag']"
      ]
    },
    {
      "cell_type": "code",
      "execution_count": null,
      "metadata": {
        "id": "kNChn9ux5S9x"
      },
      "outputs": [],
      "source": [
        "train_p=int(len(df)*0.8)\n",
        "val_p=train_p+int(len(df)*0.1)\n",
        "test_p=len(df)"
      ]
    },
    {
      "cell_type": "code",
      "execution_count": null,
      "metadata": {
        "id": "aiKMFoal6dvh"
      },
      "outputs": [],
      "source": [
        "train_data=df[:train_p]\n",
        "val_data=df[train_p:val_p]\n",
        "test_data=df[val_p:]"
      ]
    },
    {
      "cell_type": "code",
      "execution_count": null,
      "metadata": {
        "id": "bk_tehS4-C6h"
      },
      "outputs": [],
      "source": [
        "train_words=train_data['Word']\n",
        "train_POS=train_data['POS']\n",
        "\n",
        "train_tag=train_data['Tag']"
      ]
    },
    {
      "cell_type": "code",
      "execution_count": null,
      "metadata": {
        "colab": {
          "base_uri": "https://localhost:8080/",
          "height": 430
        },
        "id": "f3dbtY7tDLo8",
        "outputId": "98af3cd3-be61-4af2-c19d-58126c565c88"
      },
      "outputs": [
        {
          "data": {
            "image/png": "[encoded data removed]",
            "text/plain": [
              "<Figure size 640x480 with 1 Axes>"
            ]
          },
          "metadata": {},
          "output_type": "display_data"
        }
      ],
      "source": [
        "count_of_words=train_words.apply(len_of_rows).value_counts()\n",
        "plt.bar(x=count_of_words.index , height=count_of_words);"
      ]
    },
    {
      "cell_type": "code",
      "execution_count": null,
      "metadata": {
        "colab": {
          "base_uri": "https://localhost:8080/"
        },
        "id": "Y9ePfDj1EVC6",
        "outputId": "75e8ff02-9e71-4630-9406-dab01c03d3c0"
      },
      "outputs": [
        {
          "data": {
            "text/plain": [
              "104"
            ]
          },
          "execution_count": 17,
          "metadata": {},
          "output_type": "execute_result"
        }
      ],
      "source": [
        "max_len_of_words=max(train_words.apply(len_of_rows))\n",
        "max_len_of_words"
      ]
    },
    {
      "cell_type": "code",
      "execution_count": null,
      "metadata": {
        "id": "ZY3SLdrbHWv8"
      },
      "outputs": [],
      "source": [
        "max_len=int(np.percentile(train_words.apply(len_of_rows), q=99.9))"
      ]
    },
    {
      "cell_type": "markdown",
      "metadata": {
        "id": "9OY0-TK3-sPs"
      },
      "source": [
        "##Tokenization"
      ]
    },
    {
      "cell_type": "code",
      "execution_count": null,
      "metadata": {
        "id": "1M-p5S09PHSr"
      },
      "outputs": [],
      "source": [
        "#cumller bizde string formatinda idi deye , bele bir funksiya yazdim ki'[jj,''']' bele bir formatda olani list kim iqebul etsin , ve ordaki sozleri birleshdirsin ,e ve daaset kimi yazsin\n",
        "#neticede ['']-> '' her sutunda ., indi bizde pd .series oldu duzelmish shekilde onu men tensorlara bolurem ki rahat gonderim text vec-a ,\n",
        "#tebii ki etmek de olardi bu zamn gerek list ederdim butun cumlelri birlsehdirerdim\n",
        "train_words_joined = train_words.apply(eval_row_and_join).tolist()\n",
        "train_pos_joined = train_POS.apply(eval_row_and_join).tolist()\n",
        "train_tag_joined = train_tag.apply(eval_row_and_join).tolist()"
      ]
    },
    {
      "cell_type": "code",
      "execution_count": null,
      "metadata": {
        "id": "Dstj1Kty-Ira"
      },
      "outputs": [],
      "source": [
        "all_words_train=tf.data.Dataset.from_tensor_slices(train_words_joined).batch(1024).prefetch(tf.data.AUTOTUNE)\n",
        "all_pos_train=tf.data.Dataset.from_tensor_slices(train_pos_joined).batch(1024).prefetch(tf.data.AUTOTUNE)\n",
        "all_tag_train=tf.data.Dataset.from_tensor_slices(train_tag_joined).batch(1024).prefetch(tf.data.AUTOTUNE)"
      ]
    },
    {
      "cell_type": "code",
      "execution_count": null,
      "metadata": {
        "id": "4IExNf9B-XkX"
      },
      "outputs": [],
      "source": [
        "#Tokenization\n",
        "text_vec_words=tf.keras.layers.TextVectorization(split=\"whitespace\",\n",
        "                                  output_mode=\"int\",\n",
        "                                  output_sequence_length=max_len\n",
        "                                  )\n",
        "text_vec_pos=tf.keras.layers.TextVectorization(split=\"whitespace\",\n",
        "                                  output_mode=\"int\",\n",
        "                                  output_sequence_length=max_len\n",
        "                                  )\n",
        "text_vec_tag=tf.keras.layers.TextVectorization(split=\"whitespace\",\n",
        "                                  output_mode=\"int\",\n",
        "                                  output_sequence_length=max_len\n",
        "                                  )\n",
        "\n",
        "text_vec_words.adapt(all_words_train)\n",
        "text_vec_pos.adapt(all_pos_train)\n",
        "text_vec_tag.adapt(all_tag_train)\n"
      ]
    },
    {
      "cell_type": "code",
      "execution_count": null,
      "metadata": {
        "colab": {
          "base_uri": "https://localhost:8080/"
        },
        "id": "HZFgHfv_Bte1",
        "outputId": "ac421578-ff57-4471-9ea7-a028381a806d"
      },
      "outputs": [
        {
          "data": {
            "text/plain": [
              "(28372, 19, 36)"
            ]
          },
          "execution_count": 22,
          "metadata": {},
          "output_type": "execute_result"
        }
      ],
      "source": [
        "text_vec_words.vocabulary_size(),text_vec_tag.vocabulary_size(),text_vec_pos.vocabulary_size()"
      ]
    },
    {
      "cell_type": "code",
      "execution_count": null,
      "metadata": {
        "id": "jnU6ovxyg3Fx"
      },
      "outputs": [],
      "source": [
        "vocab_size_words=text_vec_words.vocabulary_size()\n",
        "vocab_size_pos=text_vec_pos.vocabulary_size()\n",
        "vocab_size_tag=text_vec_tag.vocabulary_size()\n"
      ]
    },
    {
      "cell_type": "code",
      "execution_count": null,
      "metadata": {
        "colab": {
          "background_save": true
        },
        "id": "9sTux9sNr-_R"
      },
      "outputs": [],
      "source": [
        "X_train_words=vec_pad(train_words, 'words', max_len=max_len)\n",
        "X_train_pos=vec_pad(train_POS, 'pos', max_len=max_len)\n",
        "y_train_tag=vec_pad(train_tag, 'tag', max_len=max_len)\n",
        "\n",
        "X_val_words=vec_pad(val_data['Word'], 'words', max_len=max_len)\n",
        "X_val_pos=vec_pad(val_data['POS'], 'pos', max_len=max_len)\n",
        "y_val_tag=vec_pad(val_data['Tag'], 'tag', max_len=max_len)\n",
        "\n",
        "X_test_words=vec_pad(test_data['Word'], 'words', max_len=max_len)\n",
        "X_test_pos=vec_pad(test_data['POS'], 'pos', max_len=max_len)\n",
        "y_test_tag=vec_pad(test_data['Tag'], 'tag', max_len=max_len)\n"
      ]
    },
    {
      "cell_type": "code",
      "execution_count": null,
      "metadata": {
        "colab": {
          "background_save": true
        },
        "id": "xvPJ1kcQQ2Mp"
      },
      "outputs": [],
      "source": [
        "embed_size=256\n",
        "# Input\n",
        "encoder_input_words=tf.keras.layers.Input(shape=(None,))\n",
        "encoder_input_pos=tf.keras.layers.Input(shape=(None,))\n",
        "\n",
        "# Embeding of words and POS\n",
        "encoder_words_embedding_layer=tf.keras.layers.Embedding(input_dim=vocab_size_words,\n",
        "                                            output_dim=embed_size,\n",
        "                                            mask_zero=True\n",
        "                                            )\n",
        "encoder_POS_embedding_layer=tf.keras.layers.Embedding(input_dim=vocab_size_pos,\n",
        "                                            output_dim=embed_size,\n",
        "                                            mask_zero=True\n",
        "                                            )\n",
        "\n",
        "encoder_words_embedding=encoder_words_embedding_layer(encoder_input_words)\n",
        "encoder_POS_embedding=encoder_POS_embedding_layer(encoder_input_pos)\n",
        "encoder_words_POS_embedding=encoder_words_embedding+encoder_POS_embedding\n",
        "\n",
        "\n",
        "#Positional embedding\n",
        "encoder_positional_embedding_layer=tf.keras.layers.Embedding(input_dim=max_len,\n",
        "                                                            output_dim=embed_size)\n",
        "encoder_positions=tf.keras.layers.Lambda(lambda x: tf.range(start=0, limit=x.shape[1], delta=1))(encoder_words_POS_embedding)\n",
        "\n",
        "encoder_positional_embedding=encoder_positional_embedding_layer(encoder_positions)\n",
        "\n",
        "encoder_full_embedding=encoder_positional_embedding+encoder_words_POS_embedding\n"
      ]
    },
    {
      "cell_type": "code",
      "execution_count": null,
      "metadata": {
        "colab": {
          "background_save": true
        },
        "id": "mIT5GcsPgm6v"
      },
      "outputs": [],
      "source": [
        "#Encoder Transformer\n",
        "encoder_attentions=tf.keras.layers.MultiHeadAttention(num_heads=5, key_dim=embed_size)(encoder_full_embedding,encoder_full_embedding)\n",
        "\n",
        "encoder_normlized=tf.keras.layers.LayerNormalization(epsilon=1e-6)(encoder_attentions+encoder_full_embedding)\n",
        "encoder_ff=tf.keras.layers.Dense(512,activation='relu', kernel_initializer='he_normal')(encoder_normlized)\n",
        "encoder_output=tf.keras.layers.Dense(vocab_size_tag,activation='softmax')(encoder_ff)\n",
        "\n"
      ]
    },
    {
      "cell_type": "code",
      "execution_count": null,
      "metadata": {
        "colab": {
          "background_save": true
        },
        "id": "6c1xLJr3p3--"
      },
      "outputs": [],
      "source": [
        "model=tf.keras.Model(inputs=(encoder_input_words,encoder_input_pos), outputs=encoder_output)"
      ]
    },
    {
      "cell_type": "markdown",
      "metadata": {
        "id": "bKlUDXyNwT3p"
      },
      "source": [
        "## Callbacks and learning scheduler"
      ]
    },
    {
      "cell_type": "code",
      "execution_count": null,
      "metadata": {
        "colab": {
          "background_save": true
        },
        "id": "ElOZM_a4wX_i"
      },
      "outputs": [],
      "source": [
        "model_ckp=tf.keras.callbacks.ModelCheckpoint(filepath='/content/drive/MyDrive/Colab Notebooks/NER.keras',\n",
        "                                   monitor='val_loss',\n",
        "                                   save_best_only=True)\n",
        "learnig_rate_scheduler=tf.keras.optimizers.schedules.ExponentialDecay(\n",
        "    initial_learning_rate=1e-4,\n",
        "    decay_steps=1050,\n",
        "    decay_rate=0.96,\n",
        "\n",
        "    name='ExponentialDecay'\n",
        ")\n",
        "model_early_stop=tf.keras.callbacks.EarlyStopping(\n",
        "    monitor='val_loss',\n",
        "    patience=10,\n",
        "     restore_best_weights=True,\n",
        "\n",
        ")\n",
        "optimizer=tf.keras.optimizers.Nadam(learnig_rate_scheduler)"
      ]
    },
    {
      "cell_type": "code",
      "execution_count": null,
      "metadata": {
        "colab": {
          "background_save": true
        },
        "id": "XnPeijOBqt0y"
      },
      "outputs": [],
      "source": [
        "model.compile(loss='sparse_categorical_crossentropy',optimizer=optimizer,metrics=['accuracy'] )"
      ]
    },
    {
      "cell_type": "markdown",
      "metadata": {
        "id": "jv6mLp_fzh1h"
      },
      "source": [
        "##Model compile and fit"
      ]
    },
    {
      "cell_type": "code",
      "execution_count": null,
      "metadata": {
        "colab": {
          "background_save": true
        },
        "id": "uUAAl_g7x3ky",
        "outputId": "ba4f52b6-0e03-4127-fabc-5bc5ea6bb857"
      },
      "outputs": [
        {
          "name": "stdout",
          "output_type": "stream",
          "text": [
            "Epoch 1/100\n",
            "\u001b[1m1199/1199\u001b[0m \u001b[32m━━━━━━━━━━━━━━━━━━━━\u001b[0m\u001b[37m\u001b[0m \u001b[1m38s\u001b[0m 25ms/step - accuracy: 0.9119 - loss: 0.3297 - val_accuracy: 0.9449 - val_loss: 0.1911\n",
            "Epoch 2/100\n",
            "\u001b[1m1199/1199\u001b[0m \u001b[32m━━━━━━━━━━━━━━━━━━━━\u001b[0m\u001b[37m\u001b[0m \u001b[1m24s\u001b[0m 14ms/step - accuracy: 0.9483 - loss: 0.1780 - val_accuracy: 0.9483 - val_loss: 0.1787\n",
            "Epoch 3/100\n",
            "\u001b[1m1199/1199\u001b[0m \u001b[32m━━━━━━━━━━━━━━━━━━━━\u001b[0m\u001b[37m\u001b[0m \u001b[1m16s\u001b[0m 13ms/step - accuracy: 0.9534 - loss: 0.1581 - val_accuracy: 0.9450 - val_loss: 0.1821\n",
            "Epoch 4/100\n",
            "\u001b[1m1199/1199\u001b[0m \u001b[32m━━━━━━━━━━━━━━━━━━━━\u001b[0m\u001b[37m\u001b[0m \u001b[1m17s\u001b[0m 14ms/step - accuracy: 0.9561 - loss: 0.1466 - val_accuracy: 0.9477 - val_loss: 0.1754\n",
            "Epoch 5/100\n",
            "\u001b[1m1199/1199\u001b[0m \u001b[32m━━━━━━━━━━━━━━━━━━━━\u001b[0m\u001b[37m\u001b[0m \u001b[1m20s\u001b[0m 14ms/step - accuracy: 0.9585 - loss: 0.1363 - val_accuracy: 0.9485 - val_loss: 0.1746\n",
            "Epoch 6/100\n",
            "\u001b[1m1199/1199\u001b[0m \u001b[32m━━━━━━━━━━━━━━━━━━━━\u001b[0m\u001b[37m\u001b[0m \u001b[1m17s\u001b[0m 14ms/step - accuracy: 0.9608 - loss: 0.1282 - val_accuracy: 0.9482 - val_loss: 0.1774\n",
            "Epoch 7/100\n",
            "\u001b[1m1199/1199\u001b[0m \u001b[32m━━━━━━━━━━━━━━━━━━━━\u001b[0m\u001b[37m\u001b[0m \u001b[1m16s\u001b[0m 13ms/step - accuracy: 0.9633 - loss: 0.1197 - val_accuracy: 0.9471 - val_loss: 0.1820\n",
            "Epoch 8/100\n",
            "\u001b[1m1199/1199\u001b[0m \u001b[32m━━━━━━━━━━━━━━━━━━━━\u001b[0m\u001b[37m\u001b[0m \u001b[1m20s\u001b[0m 13ms/step - accuracy: 0.9649 - loss: 0.1140 - val_accuracy: 0.9490 - val_loss: 0.1820\n",
            "Epoch 9/100\n",
            "\u001b[1m1199/1199\u001b[0m \u001b[32m━━━━━━━━━━━━━━━━━━━━\u001b[0m\u001b[37m\u001b[0m \u001b[1m16s\u001b[0m 14ms/step - accuracy: 0.9667 - loss: 0.1080 - val_accuracy: 0.9486 - val_loss: 0.1845\n",
            "Epoch 10/100\n",
            "\u001b[1m1199/1199\u001b[0m \u001b[32m━━━━━━━━━━━━━━━━━━━━\u001b[0m\u001b[37m\u001b[0m \u001b[1m20s\u001b[0m 13ms/step - accuracy: 0.9681 - loss: 0.1031 - val_accuracy: 0.9488 - val_loss: 0.1897\n",
            "Epoch 11/100\n",
            "\u001b[1m1199/1199\u001b[0m \u001b[32m━━━━━━━━━━━━━━━━━━━━\u001b[0m\u001b[37m\u001b[0m \u001b[1m21s\u001b[0m 13ms/step - accuracy: 0.9693 - loss: 0.0994 - val_accuracy: 0.9478 - val_loss: 0.1923\n",
            "Epoch 12/100\n",
            "\u001b[1m1199/1199\u001b[0m \u001b[32m━━━━━━━━━━━━━━━━━━━━\u001b[0m\u001b[37m\u001b[0m \u001b[1m21s\u001b[0m 13ms/step - accuracy: 0.9706 - loss: 0.0950 - val_accuracy: 0.9465 - val_loss: 0.1975\n",
            "Epoch 13/100\n",
            "\u001b[1m1199/1199\u001b[0m \u001b[32m━━━━━━━━━━━━━━━━━━━━\u001b[0m\u001b[37m\u001b[0m \u001b[1m16s\u001b[0m 13ms/step - accuracy: 0.9715 - loss: 0.0919 - val_accuracy: 0.9468 - val_loss: 0.2022\n",
            "Epoch 14/100\n",
            "\u001b[1m1199/1199\u001b[0m \u001b[32m━━━━━━━━━━━━━━━━━━━━\u001b[0m\u001b[37m\u001b[0m \u001b[1m20s\u001b[0m 13ms/step - accuracy: 0.9724 - loss: 0.0890 - val_accuracy: 0.9480 - val_loss: 0.2043\n",
            "Epoch 15/100\n",
            "\u001b[1m1199/1199\u001b[0m \u001b[32m━━━━━━━━━━━━━━━━━━━━\u001b[0m\u001b[37m\u001b[0m \u001b[1m21s\u001b[0m 13ms/step - accuracy: 0.9737 - loss: 0.0844 - val_accuracy: 0.9477 - val_loss: 0.2090\n"
          ]
        },
        {
          "data": {
            "text/plain": [
              "<keras.src.callbacks.history.History at 0x798c024922d0>"
            ]
          },
          "execution_count": 30,
          "metadata": {},
          "output_type": "execute_result"
        }
      ],
      "source": [
        "model.fit((X_train_words, X_train_pos), y_train_tag,validation_data=((X_val_words, X_val_pos),y_val_tag), epochs=100,callbacks=[model_early_stop,model_ckp] )"
      ]
    },
    {
      "cell_type": "code",
      "execution_count": null,
      "metadata": {
        "colab": {
          "background_save": true
        },
        "id": "9CB-M1lS3mdZ",
        "outputId": "5de6761b-cc6f-445c-e07f-1120a905d059"
      },
      "outputs": [
        {
          "name": "stdout",
          "output_type": "stream",
          "text": [
            "\u001b[1m1/1\u001b[0m \u001b[32m━━━━━━━━━━━━━━━━━━━━\u001b[0m\u001b[37m\u001b[0m \u001b[1m1s\u001b[0m 786ms/step\n",
            "o borg iorg o o o o o o o o o o o o o o o bgeo o o o o o o o o o o o o  \n",
            " \n",
            "begins org at index: 1 \n",
            "man  women\n",
            "ends org at index: 3 \n",
            "begins geo at index: 18 \n",
            "Baku \n"
          ]
        }
      ],
      "source": [
        "for_testing('the man women is praising the use of Army Plains to drop HONEY-MMC and escper survivors in Rain-ravaged Baku , saying the aircraft are \" worth their weight in SILVER ! ', pos_1)"
      ]
    }
  ],
  "metadata": {
    "accelerator": "GPU",
    "colab": {
      "gpuType": "T4",
      "provenance": [],
      "mount_file_id": "1JUWhBbxsWiIx5WtmPqiOvq3sFg8Avohf",
      "authorship_tag": "ABX9TyNQBtZkW3eW47VETxV4ysoQ",
      "include_colab_link": true
    },
    "kernelspec": {
      "display_name": "Python 3",
      "name": "python3"
    },
    "language_info": {
      "name": "python"
    }
  },
  "nbformat": 4,
  "nbformat_minor": 0
}