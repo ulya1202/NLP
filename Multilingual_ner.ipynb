{
  "cells": [
    {
      "cell_type": "markdown",
      "metadata": {
        "id": "view-in-github",
        "colab_type": "text"
      },
      "source": [
        "<a href=\"https://colab.research.google.com/github/ulya1202/NLP/blob/main/Multilingual_ner.ipynb\" target=\"_parent\"><img src=\"https://colab.research.google.com/assets/colab-badge.svg\" alt=\"Open In Colab\"/></a>"
      ]
    },
    {
      "cell_type": "markdown",
      "metadata": {
        "id": "Fm96E3m57V1J"
      },
      "source": [
        "#Multilingual NER"
      ]
    },
    {
      "cell_type": "code",
      "execution_count": null,
      "metadata": {
        "id": "k-QRVp2f7uk-"
      },
      "outputs": [],
      "source": [
        "#yaxinnasha terzi , --> brert her dilde olan  #100 dili oyreen bir modee , hetta 1 dil uzre classifiaction uyrensende o bir 200 dilid ebilmish olur"
      ]
    },
    {
      "cell_type": "code",
      "execution_count": null,
      "metadata": {
        "id": "lPo1-Svq7dKJ"
      },
      "outputs": [],
      "source": [
        "import pandas as pd\n"
      ]
    },
    {
      "cell_type": "code",
      "execution_count": null,
      "metadata": {
        "colab": {
          "base_uri": "https://localhost:8080/"
        },
        "id": "U0Vqpa759Y3f",
        "outputId": "fa824a5e-5b4f-4834-815a-9f44f4ab99ed"
      },
      "outputs": [
        {
          "name": "stdout",
          "output_type": "stream",
          "text": [
            "Requirement already satisfied: datasets in /usr/local/lib/python3.11/dist-packages (2.14.4)\n",
            "Collecting datasets\n",
            "  Downloading datasets-3.6.0-py3-none-any.whl.metadata (19 kB)\n",
            "Requirement already satisfied: fsspec in /usr/local/lib/python3.11/dist-packages (2025.3.2)\n",
            "Collecting fsspec\n",
            "  Downloading fsspec-2025.5.1-py3-none-any.whl.metadata (11 kB)\n",
            "Requirement already satisfied: filelock in /usr/local/lib/python3.11/dist-packages (from datasets) (3.18.0)\n",
            "Requirement already satisfied: numpy>=1.17 in /usr/local/lib/python3.11/dist-packages (from datasets) (2.0.2)\n",
            "Requirement already satisfied: pyarrow>=15.0.0 in /usr/local/lib/python3.11/dist-packages (from datasets) (18.1.0)\n",
            "Requirement already satisfied: dill<0.3.9,>=0.3.0 in /usr/local/lib/python3.11/dist-packages (from datasets) (0.3.7)\n",
            "Requirement already satisfied: pandas in /usr/local/lib/python3.11/dist-packages (from datasets) (2.2.2)\n",
            "Requirement already satisfied: requests>=2.32.2 in /usr/local/lib/python3.11/dist-packages (from datasets) (2.32.3)\n",
            "Requirement already satisfied: tqdm>=4.66.3 in /usr/local/lib/python3.11/dist-packages (from datasets) (4.67.1)\n",
            "Requirement already satisfied: xxhash in /usr/local/lib/python3.11/dist-packages (from datasets) (3.5.0)\n",
            "Requirement already satisfied: multiprocess<0.70.17 in /usr/local/lib/python3.11/dist-packages (from datasets) (0.70.15)\n",
            "  Downloading fsspec-2025.3.0-py3-none-any.whl.metadata (11 kB)\n",
            "Requirement already satisfied: huggingface-hub>=0.24.0 in /usr/local/lib/python3.11/dist-packages (from datasets) (0.31.4)\n",
            "Requirement already satisfied: packaging in /usr/local/lib/python3.11/dist-packages (from datasets) (24.2)\n",
            "Requirement already satisfied: pyyaml>=5.1 in /usr/local/lib/python3.11/dist-packages (from datasets) (6.0.2)\n",
            "Requirement already satisfied: aiohttp!=4.0.0a0,!=4.0.0a1 in /usr/local/lib/python3.11/dist-packages (from fsspec[http]<=2025.3.0,>=2023.1.0->datasets) (3.11.15)\n",
            "Requirement already satisfied: typing-extensions>=3.7.4.3 in /usr/local/lib/python3.11/dist-packages (from huggingface-hub>=0.24.0->datasets) (4.13.2)\n",
            "Requirement already satisfied: charset-normalizer<4,>=2 in /usr/local/lib/python3.11/dist-packages (from requests>=2.32.2->datasets) (3.4.2)\n",
            "Requirement already satisfied: idna<4,>=2.5 in /usr/local/lib/python3.11/dist-packages (from requests>=2.32.2->datasets) (3.10)\n",
            "Requirement already satisfied: urllib3<3,>=1.21.1 in /usr/local/lib/python3.11/dist-packages (from requests>=2.32.2->datasets) (2.4.0)\n",
            "Requirement already satisfied: certifi>=2017.4.17 in /usr/local/lib/python3.11/dist-packages (from requests>=2.32.2->datasets) (2025.4.26)\n",
            "Requirement already satisfied: python-dateutil>=2.8.2 in /usr/local/lib/python3.11/dist-packages (from pandas->datasets) (2.9.0.post0)\n",
            "Requirement already satisfied: pytz>=2020.1 in /usr/local/lib/python3.11/dist-packages (from pandas->datasets) (2025.2)\n",
            "Requirement already satisfied: tzdata>=2022.7 in /usr/local/lib/python3.11/dist-packages (from pandas->datasets) (2025.2)\n",
            "Requirement already satisfied: aiohappyeyeballs>=2.3.0 in /usr/local/lib/python3.11/dist-packages (from aiohttp!=4.0.0a0,!=4.0.0a1->fsspec[http]<=2025.3.0,>=2023.1.0->datasets) (2.6.1)\n",
            "Requirement already satisfied: aiosignal>=1.1.2 in /usr/local/lib/python3.11/dist-packages (from aiohttp!=4.0.0a0,!=4.0.0a1->fsspec[http]<=2025.3.0,>=2023.1.0->datasets) (1.3.2)\n",
            "Requirement already satisfied: attrs>=17.3.0 in /usr/local/lib/python3.11/dist-packages (from aiohttp!=4.0.0a0,!=4.0.0a1->fsspec[http]<=2025.3.0,>=2023.1.0->datasets) (25.3.0)\n",
            "Requirement already satisfied: frozenlist>=1.1.1 in /usr/local/lib/python3.11/dist-packages (from aiohttp!=4.0.0a0,!=4.0.0a1->fsspec[http]<=2025.3.0,>=2023.1.0->datasets) (1.6.0)\n",
            "Requirement already satisfied: multidict<7.0,>=4.5 in /usr/local/lib/python3.11/dist-packages (from aiohttp!=4.0.0a0,!=4.0.0a1->fsspec[http]<=2025.3.0,>=2023.1.0->datasets) (6.4.4)\n",
            "Requirement already satisfied: propcache>=0.2.0 in /usr/local/lib/python3.11/dist-packages (from aiohttp!=4.0.0a0,!=4.0.0a1->fsspec[http]<=2025.3.0,>=2023.1.0->datasets) (0.3.1)\n",
            "Requirement already satisfied: yarl<2.0,>=1.17.0 in /usr/local/lib/python3.11/dist-packages (from aiohttp!=4.0.0a0,!=4.0.0a1->fsspec[http]<=2025.3.0,>=2023.1.0->datasets) (1.20.0)\n",
            "Requirement already satisfied: six>=1.5 in /usr/local/lib/python3.11/dist-packages (from python-dateutil>=2.8.2->pandas->datasets) (1.17.0)\n",
            "Downloading datasets-3.6.0-py3-none-any.whl (491 kB)\n",
            "\u001b[2K   \u001b[90m━━━━━━━━━━━━━━━━━━━━━━━━━━━━━━━━━━━━━━━━\u001b[0m \u001b[32m491.5/491.5 kB\u001b[0m \u001b[31m3.0 MB/s\u001b[0m eta \u001b[36m0:00:00\u001b[0m\n",
            "\u001b[?25hDownloading fsspec-2025.3.0-py3-none-any.whl (193 kB)\n",
            "\u001b[2K   \u001b[90m━━━━━━━━━━━━━━━━━━━━━━━━━━━━━━━━━━━━━━━━\u001b[0m \u001b[32m193.6/193.6 kB\u001b[0m \u001b[31m8.0 MB/s\u001b[0m eta \u001b[36m0:00:00\u001b[0m\n",
            "\u001b[?25hInstalling collected packages: fsspec, datasets\n",
            "  Attempting uninstall: fsspec\n",
            "    Found existing installation: fsspec 2025.3.2\n",
            "    Uninstalling fsspec-2025.3.2:\n",
            "      Successfully uninstalled fsspec-2025.3.2\n",
            "  Attempting uninstall: datasets\n",
            "    Found existing installation: datasets 2.14.4\n",
            "    Uninstalling datasets-2.14.4:\n",
            "      Successfully uninstalled datasets-2.14.4\n",
            "\u001b[31mERROR: pip's dependency resolver does not currently take into account all the packages that are installed. This behaviour is the source of the following dependency conflicts.\n",
            "torch 2.6.0+cu124 requires nvidia-cublas-cu12==12.4.5.8; platform_system == \"Linux\" and platform_machine == \"x86_64\", but you have nvidia-cublas-cu12 12.5.3.2 which is incompatible.\n",
            "torch 2.6.0+cu124 requires nvidia-cuda-cupti-cu12==12.4.127; platform_system == \"Linux\" and platform_machine == \"x86_64\", but you have nvidia-cuda-cupti-cu12 12.5.82 which is incompatible.\n",
            "torch 2.6.0+cu124 requires nvidia-cuda-nvrtc-cu12==12.4.127; platform_system == \"Linux\" and platform_machine == \"x86_64\", but you have nvidia-cuda-nvrtc-cu12 12.5.82 which is incompatible.\n",
            "torch 2.6.0+cu124 requires nvidia-cuda-runtime-cu12==12.4.127; platform_system == \"Linux\" and platform_machine == \"x86_64\", but you have nvidia-cuda-runtime-cu12 12.5.82 which is incompatible.\n",
            "torch 2.6.0+cu124 requires nvidia-cudnn-cu12==9.1.0.70; platform_system == \"Linux\" and platform_machine == \"x86_64\", but you have nvidia-cudnn-cu12 9.3.0.75 which is incompatible.\n",
            "torch 2.6.0+cu124 requires nvidia-cufft-cu12==11.2.1.3; platform_system == \"Linux\" and platform_machine == \"x86_64\", but you have nvidia-cufft-cu12 11.2.3.61 which is incompatible.\n",
            "torch 2.6.0+cu124 requires nvidia-curand-cu12==10.3.5.147; platform_system == \"Linux\" and platform_machine == \"x86_64\", but you have nvidia-curand-cu12 10.3.6.82 which is incompatible.\n",
            "torch 2.6.0+cu124 requires nvidia-cusolver-cu12==11.6.1.9; platform_system == \"Linux\" and platform_machine == \"x86_64\", but you have nvidia-cusolver-cu12 11.6.3.83 which is incompatible.\n",
            "torch 2.6.0+cu124 requires nvidia-cusparse-cu12==12.3.1.170; platform_system == \"Linux\" and platform_machine == \"x86_64\", but you have nvidia-cusparse-cu12 12.5.1.3 which is incompatible.\n",
            "torch 2.6.0+cu124 requires nvidia-nvjitlink-cu12==12.4.127; platform_system == \"Linux\" and platform_machine == \"x86_64\", but you have nvidia-nvjitlink-cu12 12.5.82 which is incompatible.\n",
            "gcsfs 2025.3.2 requires fsspec==2025.3.2, but you have fsspec 2025.3.0 which is incompatible.\u001b[0m\u001b[31m\n",
            "\u001b[0mSuccessfully installed datasets-3.6.0 fsspec-2025.3.0\n"
          ]
        }
      ],
      "source": [
        "!pip install --upgrade datasets fsspec"
      ]
    },
    {
      "cell_type": "markdown",
      "metadata": {
        "id": "iq-k0joVvEGJ"
      },
      "source": [
        "1. xtreme nədir?\n",
        "XTREME (Cross-lingual TRansfer Evaluation of Multilingual Encoders) — bu, çoxdilli modellərin performansını qiymətləndirmək üçün bir neçə müxtəlif NLP vəzifəsindən ibarət olan benchmark-dır:\n",
        "\n",
        "    1.   XQuAD – sual-cavab\n",
        "    2.   MLQA – çoxdilli sual-cavab\n",
        "    3.   PAN-X – NER (Named Entity Recognition)\n",
        "    4.   TydiQA – sual-cavab\n",
        "    5.   BUCC – paralel cüt tapmaq\n"
      ]
    },
    {
      "cell_type": "code",
      "execution_count": null,
      "metadata": {
        "colab": {
          "base_uri": "https://localhost:8080/",
          "height": 608,
          "referenced_widgets": [
            "027adb4f13bc4c0eabd0c4e4b57dbde0",
            "b896e3120225464ebf2d903713a4d54c",
            "e1dded4cc6994f8f83bc12514ed1c3ba",
            "3e792a1d4b6e4fb88132783d20564453",
            "6b4e0b32c2bf4c4ea604f2f511977251",
            "fed0cf7247c74170a5cdb1358f35e9e1",
            "d3a63cc53fc64ff4994294710b759899",
            "5018e80b65464fbda576ac82d264d38f",
            "d6c276e4aecf4849b894a020b1bde4e9",
            "19c2927de39b435786d9475fa3a9b518",
            "fed94eb4528b40ccbe3c64ca836aa4e0",
            "f4b90d89c5f04bea9bb6d79504eaed99",
            "9cd663e5841042a283b83882765b03b7",
            "5ee5f076a9f84ce382f2ef0b23367450",
            "90475d976e4344cc96bb6b9524cb1be3",
            "6c9e82ca1eb94ea3928f4adbc0e6a4f8",
            "211553e7792f4ac1b24fba6086438aa1",
            "62214211deb847c9950da32caee28435",
            "c3572280f0644b97969340b3981430f8",
            "de1da1538b7f4224b2d9f9501c0ed135",
            "a273c8ba95444fa895d4be1f86897662",
            "43fa0490a26a4e67bb4aba993003a274",
            "66a99ab3ecad4a918751f2503f827561",
            "b8b7257be9cf4cde851b3e52d94fa4cf",
            "0cab50daef2148e1803f8582daa3137f",
            "c63161a650614038b352432b407256eb",
            "da0bcb8dd6f643e0b33cfc7868fc8d0c",
            "b36dfed8cdb64bed8ceb82533645f9f1",
            "74b13e7d9f8a4d0a8720d4bc7f892fbc",
            "e6e1eae62a5c4cf7b4b9775ff0f99418",
            "8ef5356654dc4f30a43f3444eb4cbfee",
            "6e7c68e6aba0494a91be9bf3503015ef",
            "34afb2c651fa4adab5dfbecd74c81525",
            "ccb0bd5bee66412e85d79ac06ce4a62c",
            "24f78e95c3c94619b219f90c857413e5",
            "bf289e492783495090dd53f83d2a6b41",
            "3667e5ec262443b79b61a43d98cdd40e",
            "9ec82f4e13c0459ca68269320f8ac3f0",
            "7e5d0f945c88432fb39e28749c096df8",
            "6532a5cc11be42759243b48f8c80b3a3",
            "777b4bb923104493aba8c5224c197f58",
            "ba41eeaefbdc4adc9bf58ba2e98e7475",
            "7dedcfb21c8c4bd79950a4501e00bf28",
            "2196a5fa42ad43aa9868345cd8dbec5b",
            "eb751636d2544ebe85ce769527fc4c80",
            "2dc947f970ae45d2941d49d62241ec68",
            "c93aab06f91c42368a12716c3cf48555",
            "8d433cc86965410790170ac7f691a47b",
            "8397d490adf14a4fb25a96faaa18e027",
            "fddb65f10bbc4fd2ae83cb7332048f2d",
            "70335d1a00fa4b7a8242b04552ee8148",
            "2728875afa174c8e95c06d99e25bc8e4",
            "013babb056b242cdb43299eff4ec8cf0",
            "0a5c379f60264e4e9441aa3ec1cb262a",
            "5d4ca8bb5d294e78a2fc7e3fe25c9193",
            "45f09c1d991847609a65c7c511b3e737",
            "b1bd04b106ab4302965f0c311baaffc6",
            "e003f54d924e495da698bcb71d378d00",
            "949e88d0103d49c3a175d31d8860dc5d",
            "2bd02b950a2b460581407847c058f970",
            "9c16968fc4904e68b2754ea584aad783",
            "d272d27b10c04f349b6747e3848496a3",
            "0836cd7f785348aab3bb48d509bee990",
            "213ac84ccd834e3382344a1c03a90e1f",
            "0a88cec7eca641c7ba9ad1f25308f7a3",
            "4f0c256549cc4c1c9fa4cb4e278abf67",
            "49b5d0be831a4c1ead38741d37cc57ba",
            "afc847cf77874a4c8013fa16c8b4cff2",
            "e777ea6d34a34087bc775988dee269f8",
            "8c3c83ed3e5349e3b2a5fbefda339cc9",
            "9fbc00a090f94905b92cf6941d2bcfc5",
            "634eef7965bf43e1876b72a5f0ac7d69",
            "933b65d061cc433e92ca4b27d6cbddf2",
            "88203f67a1da4736a7d1569e87c236e9",
            "9d3368dca5074ec5804f9a3a354c4f11",
            "195e7edf3a4b4a7492e8314d9860a784",
            "1e31c0ca97cb4303a9f8adb04b258575"
          ]
        },
        "id": "VWaVKrlE9M88",
        "outputId": "f3370608-d968-4fb5-c120-4362d78b5ea5"
      },
      "outputs": [
        {
          "name": "stderr",
          "output_type": "stream",
          "text": [
            "/usr/local/lib/python3.11/dist-packages/huggingface_hub/utils/_auth.py:94: UserWarning: \n",
            "The secret `HF_TOKEN` does not exist in your Colab secrets.\n",
            "To authenticate with the Hugging Face Hub, create a token in your settings tab (https://huggingface.co/settings/tokens), set it as secret in your Google Colab and restart your session.\n",
            "You will be able to reuse this secret in all of your notebooks.\n",
            "Please note that authentication is recommended but still optional to access public models or datasets.\n",
            "  warnings.warn(\n"
          ]
        },
        {
          "data": {
            "application/vnd.jupyter.widget-view+json": {
              "model_id": "027adb4f13bc4c0eabd0c4e4b57dbde0",
              "version_major": 2,
              "version_minor": 0
            },
            "text/plain": [
              "README.md:   0%|          | 0.00/131k [00:00<?, ?B/s]"
            ]
          },
          "metadata": {},
          "output_type": "display_data"
        },
        {
          "data": {
            "application/vnd.jupyter.widget-view+json": {
              "model_id": "f4b90d89c5f04bea9bb6d79504eaed99",
              "version_major": 2,
              "version_minor": 0
            },
            "text/plain": [
              "train-00000-of-00001.parquet:   0%|          | 0.00/1.18M [00:00<?, ?B/s]"
            ]
          },
          "metadata": {},
          "output_type": "display_data"
        },
        {
          "data": {
            "application/vnd.jupyter.widget-view+json": {
              "model_id": "66a99ab3ecad4a918751f2503f827561",
              "version_major": 2,
              "version_minor": 0
            },
            "text/plain": [
              "validation-00000-of-00001.parquet:   0%|          | 0.00/590k [00:00<?, ?B/s]"
            ]
          },
          "metadata": {},
          "output_type": "display_data"
        },
        {
          "data": {
            "application/vnd.jupyter.widget-view+json": {
              "model_id": "ccb0bd5bee66412e85d79ac06ce4a62c",
              "version_major": 2,
              "version_minor": 0
            },
            "text/plain": [
              "test-00000-of-00001.parquet:   0%|          | 0.00/588k [00:00<?, ?B/s]"
            ]
          },
          "metadata": {},
          "output_type": "display_data"
        },
        {
          "data": {
            "application/vnd.jupyter.widget-view+json": {
              "model_id": "eb751636d2544ebe85ce769527fc4c80",
              "version_major": 2,
              "version_minor": 0
            },
            "text/plain": [
              "Generating train split:   0%|          | 0/20000 [00:00<?, ? examples/s]"
            ]
          },
          "metadata": {},
          "output_type": "display_data"
        },
        {
          "data": {
            "application/vnd.jupyter.widget-view+json": {
              "model_id": "45f09c1d991847609a65c7c511b3e737",
              "version_major": 2,
              "version_minor": 0
            },
            "text/plain": [
              "Generating validation split:   0%|          | 0/10000 [00:00<?, ? examples/s]"
            ]
          },
          "metadata": {},
          "output_type": "display_data"
        },
        {
          "data": {
            "application/vnd.jupyter.widget-view+json": {
              "model_id": "49b5d0be831a4c1ead38741d37cc57ba",
              "version_major": 2,
              "version_minor": 0
            },
            "text/plain": [
              "Generating test split:   0%|          | 0/10000 [00:00<?, ? examples/s]"
            ]
          },
          "metadata": {},
          "output_type": "display_data"
        },
        {
          "data": {
            "text/plain": [
              "DatasetDict({\n",
              "    train: Dataset({\n",
              "        features: ['tokens', 'ner_tags', 'langs'],\n",
              "        num_rows: 20000\n",
              "    })\n",
              "    validation: Dataset({\n",
              "        features: ['tokens', 'ner_tags', 'langs'],\n",
              "        num_rows: 10000\n",
              "    })\n",
              "    test: Dataset({\n",
              "        features: ['tokens', 'ner_tags', 'langs'],\n",
              "        num_rows: 10000\n",
              "    })\n",
              "})"
            ]
          },
          "execution_count": 4,
          "metadata": {},
          "output_type": "execute_result"
        }
      ],
      "source": [
        "from datasets import load_dataset\n",
        "\n",
        "load_dataset('xtreme', name='PAN-X.de')\n",
        "#Bu, Hugging Face datasets kitabxanasından xtreme adlı böyük çoxdilli benchmark-dan bir alt-dataset yükləyir: \"PAN-X.de\", yəni Panx datasetinin Alman dili versiyası.\n",
        "#langs — dillər haqqında məlumat"
      ]
    },
    {
      "cell_type": "code",
      "execution_count": null,
      "metadata": {
        "colab": {
          "base_uri": "https://localhost:8080/",
          "height": 593,
          "referenced_widgets": [
            "5b1ecc45cace4d9f84daa056ef4ce04f",
            "db8cac7c576f4e7cb3af0f8d3edd9e30",
            "4a9c9c0ce58d4dadaab0762639cddd03",
            "aa88d28d1c70483cab9ba9d6711a0aac",
            "4dac412a3bca4c29b5f7877b525b948a",
            "11b76547cdae479aabbff006060077df",
            "a9470d47577c41da8ac1bd68fbd8cfa2",
            "b2a7decf3d174ea08574ff5deaf8dea8",
            "53e16cf590104466b25dc38467d92c25",
            "4c80e8936f3747de9e1a6903865655b2",
            "d1b450eb3e43419080713eb263dec146",
            "36b44f0f9f044c84affa7f94facf83c7",
            "1bb934ee3d194808b18065314a73bdc0",
            "7a591a24f5594bf7902e4771b091264f",
            "13a568a8e6ce459a91b88b3a80b3ffcb",
            "5eea915931f64fb8bcaa0e7616962cc7",
            "576d91cfcc7f4321aaaf0b6f6e23df27",
            "3565fbba716349978ea6839182c15ec8",
            "9e7a539cd6d04ff18664fa834bf7e76f",
            "efdabe27498b4e868662eb53b605b7fb",
            "440298e960164e7aa27d45f8e6e912c3",
            "0b19c4451f2746a9ae0015db7ae62497",
            "8a7eb98785aa492791d6df0b79705a25",
            "6cdffd3c34ee4b3691e319464193a4cb",
            "8610bd7555d947d580be79a0400bdc27",
            "4801d6999ca44899a0e9c114b884669d",
            "d2ebd12ac064455b9347bbe4816186ed",
            "67912506136244f2bd8f936292109ec9",
            "2fcf6f61ec1b461d97bdf853d88e6bcf",
            "d19e15e8c9cb4faf86146bae3f9e000b",
            "5a02e38ab29845aab5329a794c1df9ad",
            "c264b5447a6c402099965aa5cc150d90",
            "1a70b5c510bb4ab6b6d62d3baeba7889",
            "9fbf498978a641b083592b21cbbe5d28",
            "11e5ea3387d143c4b105a7f3b8014128",
            "f9103d31509344e6a2a00a42664445f5",
            "b25454410f6f4fe3bfeaafd3e680f219",
            "9c19033502434bc0a495e23626d44364",
            "987f701ae77540958105ffbdb19e3e5c",
            "578887b0f461462c9e79d9fb23f8e0f8",
            "23339909004544fb9957f9615db2eab5",
            "acc8808105a646ab8eb5b0b4159c7cf9",
            "55ce39b50d49420790801e87a85c5920",
            "8245b273a15949e69f7c5e3c71c812c7",
            "169ef051d626462385ddab3a087e8652",
            "caeba3b5f36b4990ac8c673df9837f5b",
            "8f1b461bd919474a81eff27eabcee6f9",
            "5911c604fd414b878e2ff64b1a47bf1a",
            "3c761a0f561846bfb08949c0fcba910e",
            "8a415ed4fd7f4290a27e567e085046f6",
            "2cdce838422340d2acaafd12b4450612",
            "9569ea6196e44bf7bbc158ebc4b88fa0",
            "5d20a26f44ce40acaf216cb9e7b5801b",
            "039d7639d5fc43fd8cb91ee10ca0e8df",
            "f877431f3b5f4ed2a97204d1174c5621",
            "5a2d609e12ab4de0a74ca8303bf962b2",
            "dcc99d8b87a64630b9efd416c364c193",
            "d78f1aa04179484e970e725d2baa16fd",
            "3a8f1d00274a4fb9818d39e8f5cdc432",
            "4deee89825044db880ea323e1224ddc2",
            "a71aeee8d7154e9ca83438b6fc2adc18",
            "bdd4f135591e4f8d9bba72a390ff6821",
            "4d1bedcf5b0c4f4db70370a8f5e75c18",
            "642632a7bed948f78baf62654c825183",
            "2c720478734a4d669f8520258317fd4b",
            "97af2a8e0f2e4769b2caccee4ba44d2d",
            "926f658ce61240d8af20a46c4734fd93",
            "f064bb6d9aa9405fb2dded34ad063f06",
            "d4dc789944814778ae3d63f88ef235bc",
            "c8f4e0977a4144cfa21f04cf45177faa",
            "75849cb1881f46b2a02a7bc82c17bbe5",
            "36eaaa90f2f74cf2aab02cc419b6febe",
            "ae273745caad4616826ecb3f2614f07f",
            "a49a55f7e9fe4fcb90b56e94975f8aea",
            "776fdf995fcb4474af1a56428e5e3b66",
            "c68f5133ffba49fabb6649f6905d0c15",
            "d71d64d7746c43dbbdb98c57de47a70d",
            "89fc7d9d381d4441aaa24800444821d8",
            "c0c0b05e05864b3ab67eb81a6592c42f",
            "0f5eb1aab2bf464e989048b67f0f0054",
            "1c8448d77cf14e778f74dc08b3ade2a5",
            "e56afdb0df9a49808675c9a97c27ddbe",
            "f49ccf79c40a4af2a1194a237d652428",
            "6ebf18a2bda44346b442ccd34e03f27b",
            "0cfc51d74d5142bd85c626cbbd844680",
            "6e0206a80bd6447ba9f0aec158339bc2",
            "be80bb09999a4384ba8eb1387e4f4ed2",
            "0ea268ae006f4904ad83085e9fd076e0",
            "bd575c25c178466d8d90a4349bae7cce",
            "becfc592dfd645a4995414d8b8695888",
            "3a6270c17e8b473ca730f4a36ced8b7e",
            "207f0e9ea99c428f803d1dbd0d42309b",
            "a2187bab0a3f48aa9bfdc513b53e5051",
            "f21e27c88fb040ea83d2b5312fe3d972",
            "537bfa579aca4b6d995d952ab3e21304",
            "78fc621aaf7043c9a427558d77b4d729",
            "cbb0d2365fcd4f46b3ab67f587d7883e",
            "582a38bb918d4947a8cc8b1b5d367c38",
            "47e90d4db1e04f3b95bd0ea16def6466",
            "93b7aeedc2d745adb2dc43720af2ce0e",
            "d99da20a9b874d929885bf491248873f",
            "035bf1e832e840d68160e3edef654a32",
            "6a69ca28dace4fbab543e054d2ee3fa7",
            "6ae7aaa6ee374426a9e0a53f2a34bef0",
            "aeec5e423f0a40908a02fd765feb5a06",
            "1171e66c53a949528037ccab8485c86c",
            "a1d2353c79a74c98b13912fa3f5bc9f3",
            "0f53b65b4c374d4aad00eb39f40b36b1",
            "e2aa19027d8b41c7be618e23e9769c45",
            "25f9910ce74948e2bc3d4486b7745800",
            "769b69c52e8d42a8b03eab9dbb47c33e",
            "233f6aceede54feca82e5732ae064f0d",
            "6b32b2a103f145fe8b672a1304763c40",
            "d610ae9ce3b64729922a928037fc80c7",
            "d7e2f44914df4fa5bfdc397c7e7552d0",
            "a6491b1a17e94c8eae49b296f32fc629",
            "66f3961b2dc3412693b67acfe8568d6a",
            "5d0b0ef947a8497ea2b0db96c593f6c6",
            "1c338d2a515f49d597491eb06a064f74",
            "614179618bd04a9aaa187e6748e77b85",
            "eb02934875b64c2286ef54325dc2951c",
            "06d81508bda14f16b43ccc00cb244f06",
            "1139d4e3eb194294b8a3ecb45a4c77d9",
            "0dc2b85e692243be99defa814a8f20e3",
            "c7188ea23de34753963d692c0d213bb6",
            "82ba4ad9e84047b1b748b3d9101baf6e",
            "cadbb60c89ca436e915bc51db777be36",
            "cb50cb758bba45328ce63fbc78159c77",
            "94eaba2538434057871b3c659c90c525",
            "fa60079cc7b84ea6a65930af1994f0f3",
            "5c0c328a2f81419bbe16c56b38030ce6",
            "a5497e52dadd4892914f5ffc70b48769",
            "fa6e2c82ba694597882afc55ea0ddb4c",
            "d1053199510949048d68e7625e1d608f",
            "6c022d7fa3bc474db03923af7af4d3ed",
            "9c0ddfeb809b4abfa05a0d2f5aba5d0f",
            "44a8edf5390e40779301991823549b6b",
            "cb6149e0af084ff9b510ecb87c8082fe",
            "68dc8a1beb1b48458d37261a44ad51dc",
            "07809ccdaf2b4f229ce13dd24d4c6a66",
            "68b942a41cd44b9f952386127b0e37eb",
            "9ba7443a14704f439e8f3f743b82a2fe",
            "c78cfaa75a0344b5a092b358ee82462e",
            "18ae09fbbc04411abe1657c3665908df",
            "b4ec85f6a1f9478484424e4d912e1e7c",
            "0da5c6a4d5154ca1be1ec81ee1450f63",
            "c20f59ecec7640fa8966ebdf7fb21a2c",
            "402ae9c569aa48739ef91cf3c322487c",
            "3f5f80d1aed04033a8a49c212429c483",
            "6e6edeef2c7441dda43832d96aa313ce",
            "be388fbd4a08453ead3d859ecb6c69c9",
            "1e87500ef75b475cba172ef6807e2dc9",
            "4f849ae58e3a4418a62985cfddd9d9bf",
            "d4c937380b8047ea8399cf2f7db6c57a",
            "6b3a609f0ccc47b1bdeaa4922144d766",
            "d18a89d1ae9e49db874f6c3d48cd78e6",
            "fe94e36c81fd4b869098ff14f7f7c313",
            "74f1f13f51e246dab8f9b4d0fe349ba3",
            "ecd21cddc68847cb92cc948b807034af",
            "b2e6635982d849b58fda0235fcb5292e",
            "e55b4f60c3274ed3a46ea5d5241d4c5f",
            "ceb88e4f4af14f27b78789d2ddef0407",
            "13faf17c3f204feb9f017ab76bab3b42",
            "55add23936f14f0aa66b42ae7244592d",
            "7f33ef5b053b4206a0bceb9399f9fd91",
            "c3daf3244cbb4967888644bc7cb666f4",
            "f3ef509b06964db5a0f5a1843e4d96b3",
            "732f532c7cf646d4a31096b03549fb00",
            "35ebb5dca3044d4c8eca03e4fca1b56a",
            "3ff4d67ef7e24de78b971a53d4546b2d",
            "a50d1a79167c430bab3ea1ebf190fdd2",
            "b10e4b81f6a541f0816bf41d45ea9779",
            "241b3bd2b9ab4cbca1f3fbfac5943aed",
            "0cf7e40e7ec3486684f53d1911d4ed07",
            "65c3ca999b724d2cb1d0f3324838a5cf",
            "aefb80b95b114a8bb38d3c5f8b9fe0a2",
            "d2ed7640dd854d52b897afa0236bc3da",
            "3b299197ea1142078180f4c989af5345",
            "975056db951a48e9a82d5ff8be732651",
            "15a8bf293b8c43978cf2633d035b905c",
            "88c86b3fc60b4ccb96492c10604a51a2",
            "7176f9df1a414cc3879cfaa58bb55941",
            "89de5b85572e491ea2886aee9fe4b6e8",
            "86a8b1de781b49cea1c805bcef7cb700",
            "70feddc968cb4379954d0425c416bc62",
            "542af4263f1b479e8435897bdce9837b",
            "6e645077afc94667a76462eae160274e",
            "22913cd6ff134c90b737b2a1d6d791bd",
            "e10707e7806a4b33ab5a9264529dd30c",
            "01d1319282744b43b601ebbe8251ae65",
            "2d289a9c422d470c966699a3cab0e0c6",
            "0b78daba3bc14e5b949b4e5d26e4097a",
            "d4cb576e5dd94ae0a95abd662e7a8ffc",
            "2c6284b9abff46e1956332480068355c",
            "f2b34fe105d54f23852723661e3dc794",
            "feb8d913fce34a808f03936be8c96333",
            "20c7f2fade104b1dbca2f968cffadda5",
            "12701779092a45d3bbacd0a201b42ff9"
          ]
        },
        "id": "lPDLQNa5_SU_",
        "outputId": "0dc5b595-ac98-4dc9-dda9-29b26b631b3f"
      },
      "outputs": [
        {
          "data": {
            "application/vnd.jupyter.widget-view+json": {
              "model_id": "5b1ecc45cace4d9f84daa056ef4ce04f",
              "version_major": 2,
              "version_minor": 0
            },
            "text/plain": [
              "train-00000-of-00001.parquet:   0%|          | 0.00/837k [00:00<?, ?B/s]"
            ]
          },
          "metadata": {},
          "output_type": "display_data"
        },
        {
          "data": {
            "application/vnd.jupyter.widget-view+json": {
              "model_id": "36b44f0f9f044c84affa7f94facf83c7",
              "version_major": 2,
              "version_minor": 0
            },
            "text/plain": [
              "validation-00000-of-00001.parquet:   0%|          | 0.00/419k [00:00<?, ?B/s]"
            ]
          },
          "metadata": {},
          "output_type": "display_data"
        },
        {
          "data": {
            "application/vnd.jupyter.widget-view+json": {
              "model_id": "8a7eb98785aa492791d6df0b79705a25",
              "version_major": 2,
              "version_minor": 0
            },
            "text/plain": [
              "test-00000-of-00001.parquet:   0%|          | 0.00/423k [00:00<?, ?B/s]"
            ]
          },
          "metadata": {},
          "output_type": "display_data"
        },
        {
          "data": {
            "application/vnd.jupyter.widget-view+json": {
              "model_id": "9fbf498978a641b083592b21cbbe5d28",
              "version_major": 2,
              "version_minor": 0
            },
            "text/plain": [
              "Generating train split:   0%|          | 0/20000 [00:00<?, ? examples/s]"
            ]
          },
          "metadata": {},
          "output_type": "display_data"
        },
        {
          "data": {
            "application/vnd.jupyter.widget-view+json": {
              "model_id": "169ef051d626462385ddab3a087e8652",
              "version_major": 2,
              "version_minor": 0
            },
            "text/plain": [
              "Generating validation split:   0%|          | 0/10000 [00:00<?, ? examples/s]"
            ]
          },
          "metadata": {},
          "output_type": "display_data"
        },
        {
          "data": {
            "application/vnd.jupyter.widget-view+json": {
              "model_id": "5a2d609e12ab4de0a74ca8303bf962b2",
              "version_major": 2,
              "version_minor": 0
            },
            "text/plain": [
              "Generating test split:   0%|          | 0/10000 [00:00<?, ? examples/s]"
            ]
          },
          "metadata": {},
          "output_type": "display_data"
        },
        {
          "data": {
            "application/vnd.jupyter.widget-view+json": {
              "model_id": "926f658ce61240d8af20a46c4734fd93",
              "version_major": 2,
              "version_minor": 0
            },
            "text/plain": [
              "train-00000-of-00001.parquet:   0%|          | 0.00/932k [00:00<?, ?B/s]"
            ]
          },
          "metadata": {},
          "output_type": "display_data"
        },
        {
          "data": {
            "application/vnd.jupyter.widget-view+json": {
              "model_id": "89fc7d9d381d4441aaa24800444821d8",
              "version_major": 2,
              "version_minor": 0
            },
            "text/plain": [
              "validation-00000-of-00001.parquet:   0%|          | 0.00/459k [00:00<?, ?B/s]"
            ]
          },
          "metadata": {},
          "output_type": "display_data"
        },
        {
          "data": {
            "application/vnd.jupyter.widget-view+json": {
              "model_id": "bd575c25c178466d8d90a4349bae7cce",
              "version_major": 2,
              "version_minor": 0
            },
            "text/plain": [
              "test-00000-of-00001.parquet:   0%|          | 0.00/464k [00:00<?, ?B/s]"
            ]
          },
          "metadata": {},
          "output_type": "display_data"
        },
        {
          "data": {
            "application/vnd.jupyter.widget-view+json": {
              "model_id": "93b7aeedc2d745adb2dc43720af2ce0e",
              "version_major": 2,
              "version_minor": 0
            },
            "text/plain": [
              "Generating train split:   0%|          | 0/20000 [00:00<?, ? examples/s]"
            ]
          },
          "metadata": {},
          "output_type": "display_data"
        },
        {
          "data": {
            "application/vnd.jupyter.widget-view+json": {
              "model_id": "769b69c52e8d42a8b03eab9dbb47c33e",
              "version_major": 2,
              "version_minor": 0
            },
            "text/plain": [
              "Generating validation split:   0%|          | 0/10000 [00:00<?, ? examples/s]"
            ]
          },
          "metadata": {},
          "output_type": "display_data"
        },
        {
          "data": {
            "application/vnd.jupyter.widget-view+json": {
              "model_id": "06d81508bda14f16b43ccc00cb244f06",
              "version_major": 2,
              "version_minor": 0
            },
            "text/plain": [
              "Generating test split:   0%|          | 0/10000 [00:00<?, ? examples/s]"
            ]
          },
          "metadata": {},
          "output_type": "display_data"
        },
        {
          "data": {
            "application/vnd.jupyter.widget-view+json": {
              "model_id": "fa6e2c82ba694597882afc55ea0ddb4c",
              "version_major": 2,
              "version_minor": 0
            },
            "text/plain": [
              "train-00000-of-00001.parquet:   0%|          | 0.00/942k [00:00<?, ?B/s]"
            ]
          },
          "metadata": {},
          "output_type": "display_data"
        },
        {
          "data": {
            "application/vnd.jupyter.widget-view+json": {
              "model_id": "18ae09fbbc04411abe1657c3665908df",
              "version_major": 2,
              "version_minor": 0
            },
            "text/plain": [
              "validation-00000-of-00001.parquet:   0%|          | 0.00/472k [00:00<?, ?B/s]"
            ]
          },
          "metadata": {},
          "output_type": "display_data"
        },
        {
          "data": {
            "application/vnd.jupyter.widget-view+json": {
              "model_id": "6b3a609f0ccc47b1bdeaa4922144d766",
              "version_major": 2,
              "version_minor": 0
            },
            "text/plain": [
              "test-00000-of-00001.parquet:   0%|          | 0.00/472k [00:00<?, ?B/s]"
            ]
          },
          "metadata": {},
          "output_type": "display_data"
        },
        {
          "data": {
            "application/vnd.jupyter.widget-view+json": {
              "model_id": "c3daf3244cbb4967888644bc7cb666f4",
              "version_major": 2,
              "version_minor": 0
            },
            "text/plain": [
              "Generating train split:   0%|          | 0/20000 [00:00<?, ? examples/s]"
            ]
          },
          "metadata": {},
          "output_type": "display_data"
        },
        {
          "data": {
            "application/vnd.jupyter.widget-view+json": {
              "model_id": "d2ed7640dd854d52b897afa0236bc3da",
              "version_major": 2,
              "version_minor": 0
            },
            "text/plain": [
              "Generating validation split:   0%|          | 0/10000 [00:00<?, ? examples/s]"
            ]
          },
          "metadata": {},
          "output_type": "display_data"
        },
        {
          "data": {
            "application/vnd.jupyter.widget-view+json": {
              "model_id": "22913cd6ff134c90b737b2a1d6d791bd",
              "version_major": 2,
              "version_minor": 0
            },
            "text/plain": [
              "Generating test split:   0%|          | 0/10000 [00:00<?, ? examples/s]"
            ]
          },
          "metadata": {},
          "output_type": "display_data"
        }
      ],
      "source": [
        "from collections import defaultdict\n",
        "from datasets import DatasetDict #dataset strukturu:train,valid,test kimi olan daatsetler ucun\n",
        "\n",
        "langs = [\"de\", \"fr\", \"it\", \"en\"] #4 dil\n",
        "fracs = [0.629, 0.229, 0.084, 0.059] #her dil ucun nece faiz data secilecek\n",
        "panx_ch = defaultdict(DatasetDict)#hər bir dil üçün bir DatasetDict (train/validation/test) saxlayacaq.\n",
        "\n",
        "\n",
        "#Bu kod, hər bir dil üçün PAN-X datasını yükləyir, train, validation, test hissələrini qarışdırır və onlardan yalnız müəyyən faiz (frac qədər)\n",
        "# nümunə seçərək panx_ch adlı sözlükdə saxlayır.\n",
        "for lang, frac in zip(langs, fracs):\n",
        "    ds = load_dataset(\"xtreme\", name=f\"PAN-X.{lang}\")\n",
        "    for split in ds:\n",
        "        panx_ch[lang][split] = (\n",
        "            ds[split]\n",
        "            .shuffle(seed=0)\n",
        "            .select(range(int(frac * ds[split].num_rows))))"
      ]
    },
    {
      "cell_type": "code",
      "execution_count": null,
      "metadata": {
        "colab": {
          "base_uri": "https://localhost:8080/"
        },
        "id": "EW90wUJ7xBHv",
        "outputId": "a2f8d969-d85f-4304-9445-2bc7f6eb6b3a"
      },
      "outputs": [
        {
          "data": {
            "text/plain": [
              "defaultdict(datasets.dataset_dict.DatasetDict,\n",
              "            {'de': DatasetDict({\n",
              "                 train: Dataset({\n",
              "                     features: ['tokens', 'ner_tags', 'langs'],\n",
              "                     num_rows: 12580\n",
              "                 })\n",
              "                 validation: Dataset({\n",
              "                     features: ['tokens', 'ner_tags', 'langs'],\n",
              "                     num_rows: 6290\n",
              "                 })\n",
              "                 test: Dataset({\n",
              "                     features: ['tokens', 'ner_tags', 'langs'],\n",
              "                     num_rows: 6290\n",
              "                 })\n",
              "             }),\n",
              "             'fr': DatasetDict({\n",
              "                 train: Dataset({\n",
              "                     features: ['tokens', 'ner_tags', 'langs'],\n",
              "                     num_rows: 4580\n",
              "                 })\n",
              "                 validation: Dataset({\n",
              "                     features: ['tokens', 'ner_tags', 'langs'],\n",
              "                     num_rows: 2290\n",
              "                 })\n",
              "                 test: Dataset({\n",
              "                     features: ['tokens', 'ner_tags', 'langs'],\n",
              "                     num_rows: 2290\n",
              "                 })\n",
              "             }),\n",
              "             'it': DatasetDict({\n",
              "                 train: Dataset({\n",
              "                     features: ['tokens', 'ner_tags', 'langs'],\n",
              "                     num_rows: 1680\n",
              "                 })\n",
              "                 validation: Dataset({\n",
              "                     features: ['tokens', 'ner_tags', 'langs'],\n",
              "                     num_rows: 840\n",
              "                 })\n",
              "                 test: Dataset({\n",
              "                     features: ['tokens', 'ner_tags', 'langs'],\n",
              "                     num_rows: 840\n",
              "                 })\n",
              "             }),\n",
              "             'en': DatasetDict({\n",
              "                 train: Dataset({\n",
              "                     features: ['tokens', 'ner_tags', 'langs'],\n",
              "                     num_rows: 1180\n",
              "                 })\n",
              "                 validation: Dataset({\n",
              "                     features: ['tokens', 'ner_tags', 'langs'],\n",
              "                     num_rows: 590\n",
              "                 })\n",
              "                 test: Dataset({\n",
              "                     features: ['tokens', 'ner_tags', 'langs'],\n",
              "                     num_rows: 590\n",
              "                 })\n",
              "             })})"
            ]
          },
          "execution_count": 6,
          "metadata": {},
          "output_type": "execute_result"
        }
      ],
      "source": [
        "panx_ch"
      ]
    },
    {
      "cell_type": "code",
      "execution_count": null,
      "metadata": {
        "colab": {
          "base_uri": "https://localhost:8080/"
        },
        "id": "TQpzcQg09VYX",
        "outputId": "5fa5831d-74a0-4bb8-a957-21e6452fbb33"
      },
      "outputs": [
        {
          "data": {
            "text/plain": [
              "(                                de    fr    it    en\n",
              " NUmber of training examples  12580  4580  1680  1180,)"
            ]
          },
          "execution_count": 7,
          "metadata": {},
          "output_type": "execute_result"
        }
      ],
      "source": [
        "import pandas as pd\n",
        "pd.DataFrame({lang:[panx_ch[lang]['train'].num_rows] for lang in langs}, #her language den nece example gelir\n",
        "             index=['Number of training examples'])"
      ]
    },
    {
      "cell_type": "code",
      "execution_count": null,
      "metadata": {
        "colab": {
          "base_uri": "https://localhost:8080/"
        },
        "id": "yprFOv_WxfQG",
        "outputId": "6979a82a-f286-4d94-e0cc-a817fdd49c61"
      },
      "outputs": [
        {
          "data": {
            "text/plain": [
              "{'tokens': ['2.000',\n",
              "  'Einwohnern',\n",
              "  'an',\n",
              "  'der',\n",
              "  'Danziger',\n",
              "  'Bucht',\n",
              "  'in',\n",
              "  'der',\n",
              "  'polnischen',\n",
              "  'Woiwodschaft',\n",
              "  'Pommern',\n",
              "  '.'],\n",
              " 'ner_tags': [0, 0, 0, 0, 5, 6, 0, 0, 5, 5, 6, 0],\n",
              " 'langs': ['de',\n",
              "  'de',\n",
              "  'de',\n",
              "  'de',\n",
              "  'de',\n",
              "  'de',\n",
              "  'de',\n",
              "  'de',\n",
              "  'de',\n",
              "  'de',\n",
              "  'de',\n",
              "  'de']}"
            ]
          },
          "execution_count": 8,
          "metadata": {},
          "output_type": "execute_result"
        }
      ],
      "source": [
        "panx_ch['de']['train'][0]"
      ]
    },
    {
      "cell_type": "code",
      "execution_count": null,
      "metadata": {
        "colab": {
          "base_uri": "https://localhost:8080/"
        },
        "id": "W4qr_WdaxxXQ",
        "outputId": "851b9863-c0ee-4d32-871b-421d2d492614"
      },
      "outputs": [
        {
          "data": {
            "text/plain": [
              "{'tokens': Sequence(feature=Value(dtype='string', id=None), length=-1, id=None),\n",
              " 'ner_tags': Sequence(feature=ClassLabel(names=['O', 'B-PER', 'I-PER', 'B-ORG', 'I-ORG', 'B-LOC', 'I-LOC'], id=None), length=-1, id=None),\n",
              " 'langs': Sequence(feature=Value(dtype='string', id=None), length=-1, id=None)}"
            ]
          },
          "execution_count": 9,
          "metadata": {},
          "output_type": "execute_result"
        }
      ],
      "source": [
        "panx_ch['de']['train'].features"
      ]
    },
    {
      "cell_type": "code",
      "execution_count": null,
      "metadata": {
        "colab": {
          "base_uri": "https://localhost:8080/"
        },
        "id": "RV5Rld8l_CZu",
        "outputId": "ee0a8be7-d063-4dc1-aa2d-3236e46e9a52"
      },
      "outputs": [
        {
          "name": "stdout",
          "output_type": "stream",
          "text": [
            "tokens:['2.000', 'Einwohnern', 'an', 'der', 'Danziger', 'Bucht', 'in', 'der', 'polnischen', 'Woiwodschaft', 'Pommern', '.']\n",
            "ner_tags:[0, 0, 0, 0, 5, 6, 0, 0, 5, 5, 6, 0]\n",
            "langs:['de', 'de', 'de', 'de', 'de', 'de', 'de', 'de', 'de', 'de', 'de', 'de']\n"
          ]
        }
      ],
      "source": [
        "element=panx_ch['de']['train'][0]\n",
        "for key, value in element.items():\n",
        "    print(f'{key}:{value}')"
      ]
    },
    {
      "cell_type": "code",
      "execution_count": null,
      "metadata": {
        "colab": {
          "base_uri": "https://localhost:8080/"
        },
        "id": "e0flRwIm_Xxx",
        "outputId": "c7fb5d3d-f0e8-47ff-a505-89afdeba5526"
      },
      "outputs": [
        {
          "name": "stdout",
          "output_type": "stream",
          "text": [
            "tokens:Sequence(feature=Value(dtype='string', id=None), length=-1, id=None)\n",
            "ner_tags:Sequence(feature=ClassLabel(names=['O', 'B-PER', 'I-PER', 'B-ORG', 'I-ORG', 'B-LOC', 'I-LOC'], id=None), length=-1, id=None)\n",
            "langs:Sequence(feature=Value(dtype='string', id=None), length=-1, id=None)\n"
          ]
        }
      ],
      "source": [
        "for key,value in panx_ch['de']['train'].features.items():\n",
        "    print(f'{key}:{value}') #length=-1 → bu o deməkdir ki, sıra uzunluğu dəyişkəndir, sabit deyil."
      ]
    },
    {
      "cell_type": "code",
      "execution_count": null,
      "metadata": {
        "colab": {
          "base_uri": "https://localhost:8080/"
        },
        "id": "LVvo2jdt_qqG",
        "outputId": "184d2a1f-86a8-4e25-e09d-046cdfa25388"
      },
      "outputs": [
        {
          "data": {
            "text/plain": [
              "ClassLabel(names=['O', 'B-PER', 'I-PER', 'B-ORG', 'I-ORG', 'B-LOC', 'I-LOC'], id=None)"
            ]
          },
          "execution_count": 12,
          "metadata": {},
          "output_type": "execute_result"
        }
      ],
      "source": [
        "panx_ch['de']['train'].features['ner_tags'].feature"
      ]
    },
    {
      "cell_type": "code",
      "execution_count": null,
      "metadata": {
        "colab": {
          "base_uri": "https://localhost:8080/",
          "height": 113,
          "referenced_widgets": [
            "f0bb5c8d9d854836be6eabf83c3b39d9",
            "d00dd9f77910431d8d7e3d8a30fef30f",
            "e38ac559561645099cd2e0c5d302392e",
            "ddc89b91aa314b6b9e4273d25fa3aa84",
            "897a07e7cd30406fb5d72f393e4cf4f0",
            "a36ad98bbcf54b8485b6553ff400558d",
            "a313d3a9a5884e8384d456e714884010",
            "9a716b5343d6430f815eca9305033df8",
            "a4c2883cb0ce4bbd93dcd12c2b7548a1",
            "e5465b96530742d1bcf657c2c7062585",
            "f2614ca794fd4c8f93cdf282a7d07688",
            "2eb836a4a19f436ebd88ff381ece3da1",
            "bcd0a7d07c5047d7b29cdec24bfd3817",
            "e1e1cdf11587426b8daa524c3fbc1942",
            "cae57d10ac3946fa873a02694d68fbb3",
            "fc3f528535344b0da4b8ef0d45570d0c",
            "f8f3527172f0402cbb4834cac987b07b",
            "07af1d857e934222a47b578e39273391",
            "2bb085c4e3f3435d8cefdace291b0a02",
            "b041c7dd311e4ca1a044a5e6fedbbb89",
            "649b82f3d9474f349c067f56d2c71f0a",
            "e7ce5164a7724e94bddbca3243710a9e",
            "ad033857c3574795b6644f65be85167c",
            "70ac4f6478724731b49336a0969bc756",
            "e8bcdec8afd84988b4325f57fb617529",
            "840e94b9a5d44e63afee8fc492dc14d5",
            "c2e7e451a1be4ee8bb501864f0cbac90",
            "c312452541f64a51880b2636ca35f7c9",
            "3c07b721af6d4d1bad44ffce503e8422",
            "aa0af0af80bf4daaa41dfee50e0863eb",
            "ff3b511d52a8408dabb9ebc6cbd7a13c",
            "5647ae5008774f64bb965276a8177b7d",
            "5be5b85017f64d74b362ab22a7784335"
          ]
        },
        "id": "hKVjW0XN_yoZ",
        "outputId": "e9203639-1f3d-4ad8-d848-0969687ea437"
      },
      "outputs": [
        {
          "data": {
            "application/vnd.jupyter.widget-view+json": {
              "model_id": "f0bb5c8d9d854836be6eabf83c3b39d9",
              "version_major": 2,
              "version_minor": 0
            },
            "text/plain": [
              "Map:   0%|          | 0/12580 [00:00<?, ? examples/s]"
            ]
          },
          "metadata": {},
          "output_type": "display_data"
        },
        {
          "data": {
            "application/vnd.jupyter.widget-view+json": {
              "model_id": "2eb836a4a19f436ebd88ff381ece3da1",
              "version_major": 2,
              "version_minor": 0
            },
            "text/plain": [
              "Map:   0%|          | 0/6290 [00:00<?, ? examples/s]"
            ]
          },
          "metadata": {},
          "output_type": "display_data"
        },
        {
          "data": {
            "application/vnd.jupyter.widget-view+json": {
              "model_id": "ad033857c3574795b6644f65be85167c",
              "version_major": 2,
              "version_minor": 0
            },
            "text/plain": [
              "Map:   0%|          | 0/6290 [00:00<?, ? examples/s]"
            ]
          },
          "metadata": {},
          "output_type": "display_data"
        }
      ],
      "source": [
        "def create_tag_names(batch, tags):#!!!!!!!!!!!!!!!!!!!!!!!!!!!!!!!!!!!!!!!!!!\n",
        "\n",
        "    return {'ner_tags_str':[tags.int2str(idx) for idx in batch['ner_tags']]} #int2str → ClassLabel obyektində olan etiket indeksini (int) onun adına (str) çevirir.\n",
        "\n",
        "ner_tags_feature = panx_ch['de']['train'].features['ner_tags'].feature\n",
        "panx_de = panx_ch['de'].map(create_tag_names, fn_kwargs={'tags': ner_tags_feature})#funksiyay elave  qarumentler otur"
      ]
    },
    {
      "cell_type": "code",
      "execution_count": null,
      "metadata": {
        "colab": {
          "base_uri": "https://localhost:8080/"
        },
        "id": "ll854kb7AQxb",
        "outputId": "122632a2-bc26-40b1-b0ea-8ea87a171a64"
      },
      "outputs": [
        {
          "data": {
            "text/plain": [
              "ClassLabel(names=['O', 'B-PER', 'I-PER', 'B-ORG', 'I-ORG', 'B-LOC', 'I-LOC'], id=None)"
            ]
          },
          "execution_count": 14,
          "metadata": {},
          "output_type": "execute_result"
        }
      ],
      "source": [
        "panx_ch['de']['train'].features['ner_tags'].feature"
      ]
    },
    {
      "cell_type": "markdown",
      "metadata": {
        "id": "wPqWoZ0pNM7X"
      },
      "source": [
        "#MultiLingual"
      ]
    },
    {
      "cell_type": "code",
      "execution_count": null,
      "metadata": {
        "colab": {
          "base_uri": "https://localhost:8080/",
          "height": 273,
          "referenced_widgets": [
            "821b1c03ea344fb68b05fa3434276d79",
            "a87eb9f1796c47f9b8e047c69ce4990f",
            "424ca6f9b9174127926ab94e1c969302",
            "7e6ed7c281944128ad6a02bfcbbdd5dd",
            "1f7bf103386649c09abe2b4b2289b679",
            "26eadf45a06c4aee82efb87b4fe8cb90",
            "4416992e89524e7482c81d0e1f3a51a9",
            "b248a92dd35943d7b9cbf78da314871d",
            "1a8272c605de4fc58091d12ae8445218",
            "357596d4a42e4635821dac2b8bac362a",
            "30b0c985a8a84a118293ec5500d07fb0",
            "f40ef035ff4043d5a41cd16acb0bca5d",
            "135000b23d8943edb9e53b0b52a44a4c",
            "2e471dab466e4d0ea0a4d5e823f02471",
            "6505eebd77bd4deeb1fddc2b1a7b3749",
            "f88926802f7d43aa8c5788e473892ba0",
            "91151cb2292f44b18f43a3cddcb6aaa6",
            "d92d2581279743708a238b692da35e40",
            "37bd009b29184b678d4f58a35085058e",
            "bf78580e886d4c75b9bd4cfb4563dcab",
            "0094aea290644dd4b55d325926a1657e",
            "0c89e56c028f492387d551b0cb5be102",
            "9ee1ceb892914ccca8c7428b2e5acb70",
            "18455d3aeac2468faa96d174d959ec2b",
            "1e9f285d5a194e1796b9f94d92c85c6e",
            "000e50e5593643d2a5d4126a57a3eaaf",
            "566ce50d67da43059625a3946fdf5ee8",
            "72fe4e2b5c104b5491f4f3b047d79ac5",
            "c646b937891448278be619d46750c173",
            "c502e6b1b8bd44119e5dbeffd1a7a7ae",
            "b34cba3db0ae4ef4b39986b9570569c7",
            "7598760789ee42109907bfc9d14e0475",
            "831c38aaa5374059a680577ca7967458",
            "c8434b6730cf4586ad4bd22d719a5956",
            "9069db5ac2c448b4ba2610901898aa80",
            "27d94e3026b044469d33ff34cf074efe",
            "3120341931884aa799efdd5a0f79835d",
            "3a533889b69e49d6a10d75bfdd36a2a2",
            "1c9831f4064546ddb670f3e1f0444d5c",
            "faf29d565a614a6fa2ff326f4f084739",
            "d6ad3e1e07f54187aa8a1ceb80f5fddd",
            "7594816ebb644ef8a4998555f9a1cd2f",
            "96c9445485b34d7185d3a210101680c2",
            "0faeea362ec945eaa0549a1eff07790b",
            "152fca0c99ab41289f1fa9c88ac0202c",
            "6dfbe83f35e844689c0effd3566d3cd0",
            "0e6ed21c593c4e6caa93532a5f72092b",
            "89d5f317377547439b501a12f5a0ff0c",
            "a14a508ef5ab46e5bac05735cd57ee30",
            "f85a5ef082b94054b638c745df39bb3c",
            "20473ae9910c44d9a12ddbf0d673208c",
            "553bd4aad0784ec3a89e5ed2e53224db",
            "0e7ffd543327490b8ae978ca548b721c",
            "cfafef0ba8214c1c965518fd3a7b38f2",
            "3ec962a5a6fb4230abe8120f6b93fcb6",
            "e3d8be072a1c4131ba2dfe0678dd3fc1",
            "dc9ce883913548a783a9cf62ed7568a4",
            "b24b222a425e41a795401f45863cdcd6",
            "1271422e991348ec9929615d0b7e16c2",
            "0be8631a7e7b4e749fd46465601edd48",
            "ed0598cbd1964e96b8243e7f20a81d4f",
            "f5161a83c22f48aea7b8cd25a789a61e",
            "943fe35694644d5a8637d2dbbc11f0b6",
            "2f56f9f70602485d80b1e46b812ad742",
            "bb0a058cd8304fc492ddabc306b9fc2b",
            "4d733bb6889b4f5e9e59375b0d33311a",
            "e5972138209d4414b9d7d03d41c191cb",
            "f23d032b85aa427bbf3772ca995d72dc",
            "c031916b98424f5dbcc7e459060c3117",
            "ba52fa5488124caaa7c1fd371f0e15af",
            "3fc45fcc05334d3a9871404b6616ed67",
            "822428b4b30c49b694b1645a0a4f3e47",
            "243676e2273a4d43bb09ba6a1d675ed8",
            "c09218120dc745918b49cb641231578c",
            "8b0b07f17f1a42329ecc0265af44d9d4",
            "b65b7e513b0042aea46c0575fe0a7f9b",
            "e117ba289d1846cc9139865b18b7b7c6",
            "4b4ac45008c44b7182b1f1cb9e6315b3",
            "b4e969463fa04dffafb1c9638784acb8",
            "042c3f7230f44f198a1b2848f7ad5ab1",
            "583f1abaaa154e5ebe7ccea57d3ce36e",
            "ac6fd792dece4680a298c1b8b11493c9",
            "ffc376a71b7f42c4ac986a61f2993e3b",
            "3dbcd52739d6422aa0a6504dd43b8c8a",
            "d84630b344e34953b530b74b30915383",
            "5db7922a85ad4bc9b21c9c23a2c34343",
            "1c984281f08047ebbc940431160529d9",
            "2aac251dfc4142b5a82cf9ebac31bad6"
          ]
        },
        "id": "FmjDDZSwNRDU",
        "outputId": "eb2fab9d-0d9b-44da-a573-4d6360ad4213"
      },
      "outputs": [
        {
          "data": {
            "application/vnd.jupyter.widget-view+json": {
              "model_id": "821b1c03ea344fb68b05fa3434276d79",
              "version_major": 2,
              "version_minor": 0
            },
            "text/plain": [
              "tokenizer_config.json:   0%|          | 0.00/49.0 [00:00<?, ?B/s]"
            ]
          },
          "metadata": {},
          "output_type": "display_data"
        },
        {
          "data": {
            "application/vnd.jupyter.widget-view+json": {
              "model_id": "f40ef035ff4043d5a41cd16acb0bca5d",
              "version_major": 2,
              "version_minor": 0
            },
            "text/plain": [
              "config.json:   0%|          | 0.00/570 [00:00<?, ?B/s]"
            ]
          },
          "metadata": {},
          "output_type": "display_data"
        },
        {
          "data": {
            "application/vnd.jupyter.widget-view+json": {
              "model_id": "9ee1ceb892914ccca8c7428b2e5acb70",
              "version_major": 2,
              "version_minor": 0
            },
            "text/plain": [
              "vocab.txt:   0%|          | 0.00/213k [00:00<?, ?B/s]"
            ]
          },
          "metadata": {},
          "output_type": "display_data"
        },
        {
          "data": {
            "application/vnd.jupyter.widget-view+json": {
              "model_id": "c8434b6730cf4586ad4bd22d719a5956",
              "version_major": 2,
              "version_minor": 0
            },
            "text/plain": [
              "tokenizer.json:   0%|          | 0.00/436k [00:00<?, ?B/s]"
            ]
          },
          "metadata": {},
          "output_type": "display_data"
        },
        {
          "data": {
            "application/vnd.jupyter.widget-view+json": {
              "model_id": "152fca0c99ab41289f1fa9c88ac0202c",
              "version_major": 2,
              "version_minor": 0
            },
            "text/plain": [
              "tokenizer_config.json:   0%|          | 0.00/25.0 [00:00<?, ?B/s]"
            ]
          },
          "metadata": {},
          "output_type": "display_data"
        },
        {
          "data": {
            "application/vnd.jupyter.widget-view+json": {
              "model_id": "e3d8be072a1c4131ba2dfe0678dd3fc1",
              "version_major": 2,
              "version_minor": 0
            },
            "text/plain": [
              "config.json:   0%|          | 0.00/615 [00:00<?, ?B/s]"
            ]
          },
          "metadata": {},
          "output_type": "display_data"
        },
        {
          "data": {
            "application/vnd.jupyter.widget-view+json": {
              "model_id": "e5972138209d4414b9d7d03d41c191cb",
              "version_major": 2,
              "version_minor": 0
            },
            "text/plain": [
              "sentencepiece.bpe.model:   0%|          | 0.00/5.07M [00:00<?, ?B/s]"
            ]
          },
          "metadata": {},
          "output_type": "display_data"
        },
        {
          "data": {
            "application/vnd.jupyter.widget-view+json": {
              "model_id": "4b4ac45008c44b7182b1f1cb9e6315b3",
              "version_major": 2,
              "version_minor": 0
            },
            "text/plain": [
              "tokenizer.json:   0%|          | 0.00/9.10M [00:00<?, ?B/s]"
            ]
          },
          "metadata": {},
          "output_type": "display_data"
        }
      ],
      "source": [
        "from transformers import AutoTokenizer\n",
        "#roberta bertin inkishaf olunmush , robert facebook, daha data cox dat internet , dah ayaxsi hyperparametr tuning, cox epoch train, bert-->wiki,kitab\n",
        "#roberta NSP -ni atiblar yoxdu pretrainde\n",
        "#xlm roberta--sentence piece\n",
        "#bert --wordpiece\n",
        "\n",
        "#xlm--arxitektura eyni--> 100 den cox dil\n",
        "bert_model_name='bert-base-cased'#case sensetive , sentiment lazim deyil, NER de amma lazimdi\n",
        "xlmr_model_name='xlm-roberta-base'\n",
        "bert_tokenizer=AutoTokenizer.from_pretrained(bert_model_name)\n",
        "xlmr_tokenizer=AutoTokenizer.from_pretrained(xlmr_model_name)"
      ]
    },
    {
      "cell_type": "code",
      "execution_count": null,
      "metadata": {
        "id": "AfRwFtVSNRAP"
      },
      "outputs": [],
      "source": [
        "text='Jack Sparrow love New York'\n",
        "bert_tokens=bert_tokenizer(text).tokens()\n",
        "xlmr_tokens=xlmr_tokenizer(text).tokens()#senetnce piece <s> </s>\n",
        "#normalization boyu-->balaca , eyni formata salir , boshluqlari silir,\n",
        "#pretokenizer boshluqlara gore, xlm de yoxdu\n",
        "#postprocessing bizim basha dusheeyimiz dilde"
      ]
    },
    {
      "cell_type": "code",
      "execution_count": null,
      "metadata": {
        "colab": {
          "base_uri": "https://localhost:8080/",
          "height": 125
        },
        "id": "_KqGgq8iPAEs",
        "outputId": "d4e1ab44-da6a-4f75-b198-fa777fb671f2"
      },
      "outputs": [
        {
          "data": {
            "application/vnd.google.colaboratory.intrinsic+json": {
              "summary": "{\n  \"name\": \"df\",\n  \"rows\": 2,\n  \"fields\": [\n    {\n      \"column\": 0,\n      \"properties\": {\n        \"dtype\": \"string\",\n        \"num_unique_values\": 2,\n        \"samples\": [\n          \"<s>\",\n          \"[CLS]\"\n        ],\n        \"semantic_type\": \"\",\n        \"description\": \"\"\n      }\n    },\n    {\n      \"column\": 1,\n      \"properties\": {\n        \"dtype\": \"string\",\n        \"num_unique_values\": 2,\n        \"samples\": [\n          \"\\u2581Jack\",\n          \"Jack\"\n        ],\n        \"semantic_type\": \"\",\n        \"description\": \"\"\n      }\n    },\n    {\n      \"column\": 2,\n      \"properties\": {\n        \"dtype\": \"string\",\n        \"num_unique_values\": 2,\n        \"samples\": [\n          \"\\u2581Spar\",\n          \"Spa\"\n        ],\n        \"semantic_type\": \"\",\n        \"description\": \"\"\n      }\n    },\n    {\n      \"column\": 3,\n      \"properties\": {\n        \"dtype\": \"string\",\n        \"num_unique_values\": 2,\n        \"samples\": [\n          \"row\",\n          \"##rrow\"\n        ],\n        \"semantic_type\": \"\",\n        \"description\": \"\"\n      }\n    },\n    {\n      \"column\": 4,\n      \"properties\": {\n        \"dtype\": \"string\",\n        \"num_unique_values\": 2,\n        \"samples\": [\n          \"\\u2581love\",\n          \"love\"\n        ],\n        \"semantic_type\": \"\",\n        \"description\": \"\"\n      }\n    },\n    {\n      \"column\": 5,\n      \"properties\": {\n        \"dtype\": \"string\",\n        \"num_unique_values\": 2,\n        \"samples\": [\n          \"\\u2581New\",\n          \"New\"\n        ],\n        \"semantic_type\": \"\",\n        \"description\": \"\"\n      }\n    },\n    {\n      \"column\": 6,\n      \"properties\": {\n        \"dtype\": \"string\",\n        \"num_unique_values\": 2,\n        \"samples\": [\n          \"\\u2581York\",\n          \"York\"\n        ],\n        \"semantic_type\": \"\",\n        \"description\": \"\"\n      }\n    },\n    {\n      \"column\": 7,\n      \"properties\": {\n        \"dtype\": \"string\",\n        \"num_unique_values\": 2,\n        \"samples\": [\n          \"</s>\",\n          \"[SEP]\"\n        ],\n        \"semantic_type\": \"\",\n        \"description\": \"\"\n      }\n    }\n  ]\n}",
              "type": "dataframe",
              "variable_name": "df"
            },
            "text/html": [
              "\n",
              "  <div id=\"df-e51e9b2b-9ce6-4bd0-9429-2d915b04a1b4\" class=\"colab-df-container\">\n",
              "    <div>\n",
              "<style scoped>\n",
              "    .dataframe tbody tr th:only-of-type {\n",
              "        vertical-align: middle;\n",
              "    }\n",
              "\n",
              "    .dataframe tbody tr th {\n",
              "        vertical-align: top;\n",
              "    }\n",
              "\n",
              "    .dataframe thead th {\n",
              "        text-align: right;\n",
              "    }\n",
              "</style>\n",
              "<table border=\"1\" class=\"dataframe\">\n",
              "  <thead>\n",
              "    <tr style=\"text-align: right;\">\n",
              "      <th></th>\n",
              "      <th>0</th>\n",
              "      <th>1</th>\n",
              "      <th>2</th>\n",
              "      <th>3</th>\n",
              "      <th>4</th>\n",
              "      <th>5</th>\n",
              "      <th>6</th>\n",
              "      <th>7</th>\n",
              "    </tr>\n",
              "  </thead>\n",
              "  <tbody>\n",
              "    <tr>\n",
              "      <th>Bert</th>\n",
              "      <td>[CLS]</td>\n",
              "      <td>Jack</td>\n",
              "      <td>Spa</td>\n",
              "      <td>##rrow</td>\n",
              "      <td>love</td>\n",
              "      <td>New</td>\n",
              "      <td>York</td>\n",
              "      <td>[SEP]</td>\n",
              "    </tr>\n",
              "    <tr>\n",
              "      <th>XLM-R</th>\n",
              "      <td>&lt;s&gt;</td>\n",
              "      <td>▁Jack</td>\n",
              "      <td>▁Spar</td>\n",
              "      <td>row</td>\n",
              "      <td>▁love</td>\n",
              "      <td>▁New</td>\n",
              "      <td>▁York</td>\n",
              "      <td>&lt;/s&gt;</td>\n",
              "    </tr>\n",
              "  </tbody>\n",
              "</table>\n",
              "</div>\n",
              "    <div class=\"colab-df-buttons\">\n",
              "\n",
              "  <div class=\"colab-df-container\">\n",
              "    <button class=\"colab-df-convert\" onclick=\"convertToInteractive('df-e51e9b2b-9ce6-4bd0-9429-2d915b04a1b4')\"\n",
              "            title=\"Convert this dataframe to an interactive table.\"\n",
              "            style=\"display:none;\">\n",
              "\n",
              "  <svg xmlns=\"http://www.w3.org/2000/svg\" height=\"24px\" viewBox=\"0 -960 960 960\">\n",
              "    <path d=\"M120-120v-720h720v720H120Zm60-500h600v-160H180v160Zm220 220h160v-160H400v160Zm0 220h160v-160H400v160ZM180-400h160v-160H180v160Zm440 0h160v-160H620v160ZM180-180h160v-160H180v160Zm440 0h160v-160H620v160Z\"/>\n",
              "  </svg>\n",
              "    </button>\n",
              "\n",
              "  <style>\n",
              "    .colab-df-container {\n",
              "      display:flex;\n",
              "      gap: 12px;\n",
              "    }\n",
              "\n",
              "    .colab-df-convert {\n",
              "      background-color: #E8F0FE;\n",
              "      border: none;\n",
              "      border-radius: 50%;\n",
              "      cursor: pointer;\n",
              "      display: none;\n",
              "      fill: #1967D2;\n",
              "      height: 32px;\n",
              "      padding: 0 0 0 0;\n",
              "      width: 32px;\n",
              "    }\n",
              "\n",
              "    .colab-df-convert:hover {\n",
              "      background-color: #E2EBFA;\n",
              "      box-shadow: 0px 1px 2px rgba(60, 64, 67, 0.3), 0px 1px 3px 1px rgba(60, 64, 67, 0.15);\n",
              "      fill: #174EA6;\n",
              "    }\n",
              "\n",
              "    .colab-df-buttons div {\n",
              "      margin-bottom: 4px;\n",
              "    }\n",
              "\n",
              "    [theme=dark] .colab-df-convert {\n",
              "      background-color: #3B4455;\n",
              "      fill: #D2E3FC;\n",
              "    }\n",
              "\n",
              "    [theme=dark] .colab-df-convert:hover {\n",
              "      background-color: #434B5C;\n",
              "      box-shadow: 0px 1px 3px 1px rgba(0, 0, 0, 0.15);\n",
              "      filter: drop-shadow(0px 1px 2px rgba(0, 0, 0, 0.3));\n",
              "      fill: #FFFFFF;\n",
              "    }\n",
              "  </style>\n",
              "\n",
              "    <script>\n",
              "      const buttonEl =\n",
              "        document.querySelector('#df-e51e9b2b-9ce6-4bd0-9429-2d915b04a1b4 button.colab-df-convert');\n",
              "      buttonEl.style.display =\n",
              "        google.colab.kernel.accessAllowed ? 'block' : 'none';\n",
              "\n",
              "      async function convertToInteractive(key) {\n",
              "        const element = document.querySelector('#df-e51e9b2b-9ce6-4bd0-9429-2d915b04a1b4');\n",
              "        const dataTable =\n",
              "          await google.colab.kernel.invokeFunction('convertToInteractive',\n",
              "                                                    [key], {});\n",
              "        if (!dataTable) return;\n",
              "\n",
              "        const docLinkHtml = 'Like what you see? Visit the ' +\n",
              "          '<a target=\"_blank\" href=https://colab.research.google.com/notebooks/data_table.ipynb>data table notebook</a>'\n",
              "          + ' to learn more about interactive tables.';\n",
              "        element.innerHTML = '';\n",
              "        dataTable['output_type'] = 'display_data';\n",
              "        await google.colab.output.renderOutput(dataTable, element);\n",
              "        const docLink = document.createElement('div');\n",
              "        docLink.innerHTML = docLinkHtml;\n",
              "        element.appendChild(docLink);\n",
              "      }\n",
              "    </script>\n",
              "  </div>\n",
              "\n",
              "\n",
              "    <div id=\"df-1ed7b368-6e47-4dc6-a443-1ddd4665244a\">\n",
              "      <button class=\"colab-df-quickchart\" onclick=\"quickchart('df-1ed7b368-6e47-4dc6-a443-1ddd4665244a')\"\n",
              "                title=\"Suggest charts\"\n",
              "                style=\"display:none;\">\n",
              "\n",
              "<svg xmlns=\"http://www.w3.org/2000/svg\" height=\"24px\"viewBox=\"0 0 24 24\"\n",
              "     width=\"24px\">\n",
              "    <g>\n",
              "        <path d=\"M19 3H5c-1.1 0-2 .9-2 2v14c0 1.1.9 2 2 2h14c1.1 0 2-.9 2-2V5c0-1.1-.9-2-2-2zM9 17H7v-7h2v7zm4 0h-2V7h2v10zm4 0h-2v-4h2v4z\"/>\n",
              "    </g>\n",
              "</svg>\n",
              "      </button>\n",
              "\n",
              "<style>\n",
              "  .colab-df-quickchart {\n",
              "      --bg-color: #E8F0FE;\n",
              "      --fill-color: #1967D2;\n",
              "      --hover-bg-color: #E2EBFA;\n",
              "      --hover-fill-color: #174EA6;\n",
              "      --disabled-fill-color: #AAA;\n",
              "      --disabled-bg-color: #DDD;\n",
              "  }\n",
              "\n",
              "  [theme=dark] .colab-df-quickchart {\n",
              "      --bg-color: #3B4455;\n",
              "      --fill-color: #D2E3FC;\n",
              "      --hover-bg-color: #434B5C;\n",
              "      --hover-fill-color: #FFFFFF;\n",
              "      --disabled-bg-color: #3B4455;\n",
              "      --disabled-fill-color: #666;\n",
              "  }\n",
              "\n",
              "  .colab-df-quickchart {\n",
              "    background-color: var(--bg-color);\n",
              "    border: none;\n",
              "    border-radius: 50%;\n",
              "    cursor: pointer;\n",
              "    display: none;\n",
              "    fill: var(--fill-color);\n",
              "    height: 32px;\n",
              "    padding: 0;\n",
              "    width: 32px;\n",
              "  }\n",
              "\n",
              "  .colab-df-quickchart:hover {\n",
              "    background-color: var(--hover-bg-color);\n",
              "    box-shadow: 0 1px 2px rgba(60, 64, 67, 0.3), 0 1px 3px 1px rgba(60, 64, 67, 0.15);\n",
              "    fill: var(--button-hover-fill-color);\n",
              "  }\n",
              "\n",
              "  .colab-df-quickchart-complete:disabled,\n",
              "  .colab-df-quickchart-complete:disabled:hover {\n",
              "    background-color: var(--disabled-bg-color);\n",
              "    fill: var(--disabled-fill-color);\n",
              "    box-shadow: none;\n",
              "  }\n",
              "\n",
              "  .colab-df-spinner {\n",
              "    border: 2px solid var(--fill-color);\n",
              "    border-color: transparent;\n",
              "    border-bottom-color: var(--fill-color);\n",
              "    animation:\n",
              "      spin 1s steps(1) infinite;\n",
              "  }\n",
              "\n",
              "  @keyframes spin {\n",
              "    0% {\n",
              "      border-color: transparent;\n",
              "      border-bottom-color: var(--fill-color);\n",
              "      border-left-color: var(--fill-color);\n",
              "    }\n",
              "    20% {\n",
              "      border-color: transparent;\n",
              "      border-left-color: var(--fill-color);\n",
              "      border-top-color: var(--fill-color);\n",
              "    }\n",
              "    30% {\n",
              "      border-color: transparent;\n",
              "      border-left-color: var(--fill-color);\n",
              "      border-top-color: var(--fill-color);\n",
              "      border-right-color: var(--fill-color);\n",
              "    }\n",
              "    40% {\n",
              "      border-color: transparent;\n",
              "      border-right-color: var(--fill-color);\n",
              "      border-top-color: var(--fill-color);\n",
              "    }\n",
              "    60% {\n",
              "      border-color: transparent;\n",
              "      border-right-color: var(--fill-color);\n",
              "    }\n",
              "    80% {\n",
              "      border-color: transparent;\n",
              "      border-right-color: var(--fill-color);\n",
              "      border-bottom-color: var(--fill-color);\n",
              "    }\n",
              "    90% {\n",
              "      border-color: transparent;\n",
              "      border-bottom-color: var(--fill-color);\n",
              "    }\n",
              "  }\n",
              "</style>\n",
              "\n",
              "      <script>\n",
              "        async function quickchart(key) {\n",
              "          const quickchartButtonEl =\n",
              "            document.querySelector('#' + key + ' button');\n",
              "          quickchartButtonEl.disabled = true;  // To prevent multiple clicks.\n",
              "          quickchartButtonEl.classList.add('colab-df-spinner');\n",
              "          try {\n",
              "            const charts = await google.colab.kernel.invokeFunction(\n",
              "                'suggestCharts', [key], {});\n",
              "          } catch (error) {\n",
              "            console.error('Error during call to suggestCharts:', error);\n",
              "          }\n",
              "          quickchartButtonEl.classList.remove('colab-df-spinner');\n",
              "          quickchartButtonEl.classList.add('colab-df-quickchart-complete');\n",
              "        }\n",
              "        (() => {\n",
              "          let quickchartButtonEl =\n",
              "            document.querySelector('#df-1ed7b368-6e47-4dc6-a443-1ddd4665244a button');\n",
              "          quickchartButtonEl.style.display =\n",
              "            google.colab.kernel.accessAllowed ? 'block' : 'none';\n",
              "        })();\n",
              "      </script>\n",
              "    </div>\n",
              "\n",
              "  <div id=\"id_515b2e13-e09c-4063-bc4c-40dd1b699394\">\n",
              "    <style>\n",
              "      .colab-df-generate {\n",
              "        background-color: #E8F0FE;\n",
              "        border: none;\n",
              "        border-radius: 50%;\n",
              "        cursor: pointer;\n",
              "        display: none;\n",
              "        fill: #1967D2;\n",
              "        height: 32px;\n",
              "        padding: 0 0 0 0;\n",
              "        width: 32px;\n",
              "      }\n",
              "\n",
              "      .colab-df-generate:hover {\n",
              "        background-color: #E2EBFA;\n",
              "        box-shadow: 0px 1px 2px rgba(60, 64, 67, 0.3), 0px 1px 3px 1px rgba(60, 64, 67, 0.15);\n",
              "        fill: #174EA6;\n",
              "      }\n",
              "\n",
              "      [theme=dark] .colab-df-generate {\n",
              "        background-color: #3B4455;\n",
              "        fill: #D2E3FC;\n",
              "      }\n",
              "\n",
              "      [theme=dark] .colab-df-generate:hover {\n",
              "        background-color: #434B5C;\n",
              "        box-shadow: 0px 1px 3px 1px rgba(0, 0, 0, 0.15);\n",
              "        filter: drop-shadow(0px 1px 2px rgba(0, 0, 0, 0.3));\n",
              "        fill: #FFFFFF;\n",
              "      }\n",
              "    </style>\n",
              "    <button class=\"colab-df-generate\" onclick=\"generateWithVariable('df')\"\n",
              "            title=\"Generate code using this dataframe.\"\n",
              "            style=\"display:none;\">\n",
              "\n",
              "  <svg xmlns=\"http://www.w3.org/2000/svg\" height=\"24px\"viewBox=\"0 0 24 24\"\n",
              "       width=\"24px\">\n",
              "    <path d=\"M7,19H8.4L18.45,9,17,7.55,7,17.6ZM5,21V16.75L18.45,3.32a2,2,0,0,1,2.83,0l1.4,1.43a1.91,1.91,0,0,1,.58,1.4,1.91,1.91,0,0,1-.58,1.4L9.25,21ZM18.45,9,17,7.55Zm-12,3A5.31,5.31,0,0,0,4.9,8.1,5.31,5.31,0,0,0,1,6.5,5.31,5.31,0,0,0,4.9,4.9,5.31,5.31,0,0,0,6.5,1,5.31,5.31,0,0,0,8.1,4.9,5.31,5.31,0,0,0,12,6.5,5.46,5.46,0,0,0,6.5,12Z\"/>\n",
              "  </svg>\n",
              "    </button>\n",
              "    <script>\n",
              "      (() => {\n",
              "      const buttonEl =\n",
              "        document.querySelector('#id_515b2e13-e09c-4063-bc4c-40dd1b699394 button.colab-df-generate');\n",
              "      buttonEl.style.display =\n",
              "        google.colab.kernel.accessAllowed ? 'block' : 'none';\n",
              "\n",
              "      buttonEl.onclick = () => {\n",
              "        google.colab.notebook.generateWithVariable('df');\n",
              "      }\n",
              "      })();\n",
              "    </script>\n",
              "  </div>\n",
              "\n",
              "    </div>\n",
              "  </div>\n"
            ],
            "text/plain": [
              "           0      1      2       3      4     5      6      7\n",
              "Bert   [CLS]   Jack    Spa  ##rrow   love   New   York  [SEP]\n",
              "XLM-R    <s>  ▁Jack  ▁Spar     row  ▁love  ▁New  ▁York   </s>"
            ]
          },
          "execution_count": 17,
          "metadata": {},
          "output_type": "execute_result"
        }
      ],
      "source": [
        "df=pd.DataFrame([bert_tokens, xlmr_tokens],\n",
        "                 index=['Bert','XLM-R']) #yanida hecne yoxdurss_\n",
        "#robert-->robust fln\n",
        "df"
      ]
    },
    {
      "cell_type": "markdown",
      "metadata": {
        "id": "3FzsYsa9PXjf"
      },
      "source": [
        "# SentencePiece Tokenize"
      ]
    },
    {
      "cell_type": "code",
      "execution_count": null,
      "metadata": {
        "colab": {
          "base_uri": "https://localhost:8080/",
          "height": 35
        },
        "id": "hO8ZnYn0QvJd",
        "outputId": "c4f35208-44b8-4124-e959-91d8ea7978b5"
      },
      "outputs": [
        {
          "data": {
            "application/vnd.google.colaboratory.intrinsic+json": {
              "type": "string"
            },
            "text/plain": [
              "'<s> Jack Sparrow love New York</s>'"
            ]
          },
          "execution_count": 18,
          "metadata": {},
          "output_type": "execute_result"
        }
      ],
      "source": [
        "''.join(xlmr_tokens).replace('\\u2581',' ') #bu _ xettin kodud unicod \\u2581"
      ]
    },
    {
      "cell_type": "markdown",
      "metadata": {
        "id": "V28t7o8fQ35g"
      },
      "source": [
        "#Creating Customer Model for Token Classification"
      ]
    },
    {
      "cell_type": "code",
      "execution_count": null,
      "metadata": {
        "id": "q0kBiFs_RVii"
      },
      "outputs": [],
      "source": [
        "import torch.nn as nn\n",
        "from transformers import XLMRobertaConfig\n",
        "from transformers.modeling_outputs import TokenClassifierOutput #bir tensor qaytarir , tensoru suzgunnformat--> spesifik format loss, bu o\n",
        "from transformers.models.roberta.modeling_roberta import RobertaModel #xlmRobert adah asan olardi , amma arxitektura eynu, biz amma xlm weightlerin yukleyirik\n",
        "from transformers.models.roberta.modeling_roberta import RobertaPreTrainedModel #weight initilizer\n",
        "\n",
        "\n"
      ]
    },
    {
      "cell_type": "code",
      "execution_count": null,
      "metadata": {
        "id": "DjiKSdG5U7Em"
      },
      "outputs": [],
      "source": [
        "# Head--> Ber for ne uchun Body oyrenib Head 0 dan  , onu oyredirik, bizde HEAd olamsa?? HUggingFace 'token classificton'--body+head-NER-di"
      ]
    },
    {
      "cell_type": "markdown",
      "metadata": {
        "id": "bFkjI3sWU3qL"
      },
      "source": [
        "![image.png](data:image/png;base64,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)"
      ]
    },
    {
      "cell_type": "code",
      "execution_count": null,
      "metadata": {
        "id": "WrXNhDxKSFlP"
      },
      "outputs": [],
      "source": [
        "#ozuumz duzeldirik\n",
        "class XLMRobertaForTokenClassification(RobertaPreTrainedModel):\n",
        "    config_class=XLMRobertaConfig\n",
        "\n",
        "    def __init__(self, config):\n",
        "        super().__init__(config)#-nniye burada config yazdiq--------?\n",
        "        self.num_labels=config.num_labels\n",
        "\n",
        "        self.roberta=RobertaModel(config, add_pooling_layer=False) #cls tokeni var istemirem\n",
        "        self.dropout=nn.Dropout(config.hidden_dropout_prob)\n",
        "        self.classifier=nn.Linear(config.hidden_size, config.num_labels)\n",
        "\n",
        "        self.init_weights()#hans iactivation fln\n",
        "\n",
        "    def forward(self, input_ids, attention_mask=None, token_type_ids=None, labels=None, **kwargs):\n",
        "        outputs=self.roberta(input_ids, attention_mask=attention_mask,token_type_ids=None, **kwargs )\n",
        "\n",
        "        sequence_output=self.dropout(outputs[0])#outputs[0]--->hidden_state\n",
        "        logits=self.classifier(sequence_output)#softmaxsiz\n",
        "\n",
        "        loss=None\n",
        "        if labels is not None:\n",
        "            loss_fct=nn.CrossEntropyLoss()\n",
        "            loss=loss_fct(logits.view(-1, self.num_labels), labels.view(-1))#reshape output label--> 2d , cavab 1d olmalidi 4*8--32, 32-8, bu daha suretli , pytrochum matrixle ishleme , pytorch duz baxirr, view olani modifiksiya edir,\n",
        "\n",
        "        return TokenClassifierOutput(loss=loss, logits=logits,\n",
        "                                     hiddden_states=outputs.hidden_states, attention=outputs.attentions)#TokenClassifierOutput"
      ]
    },
    {
      "cell_type": "markdown",
      "metadata": {
        "id": "0zY68cBNT9UE"
      },
      "source": [
        "#Loading a Cutom Model"
      ]
    },
    {
      "cell_type": "code",
      "execution_count": null,
      "metadata": {
        "id": "9E5IlvuLYGhv"
      },
      "outputs": [],
      "source": [
        "# Loading a Cutom Model\n",
        "tags=ner_tags_feature\n",
        "index2tag = {idx: tag for idx, tag in enumerate(tags.names)}\n",
        "tag2index = {tag: idx for idx, tag in enumerate(tags.names)}"
      ]
    },
    {
      "cell_type": "code",
      "execution_count": null,
      "metadata": {
        "colab": {
          "base_uri": "https://localhost:8080/"
        },
        "id": "w3YZP-uLZRQG",
        "outputId": "c26078a7-044b-440a-a0cd-033c580168eb"
      },
      "outputs": [
        {
          "data": {
            "text/plain": [
              "{0: 'O',\n",
              " 1: 'B-PER',\n",
              " 2: 'I-PER',\n",
              " 3: 'B-ORG',\n",
              " 4: 'I-ORG',\n",
              " 5: 'B-LOC',\n",
              " 6: 'I-LOC'}"
            ]
          },
          "execution_count": 23,
          "metadata": {},
          "output_type": "execute_result"
        }
      ],
      "source": [
        "index2tag"
      ]
    },
    {
      "cell_type": "code",
      "execution_count": null,
      "metadata": {
        "id": "lJQ9ZSujYWx3"
      },
      "outputs": [],
      "source": [
        "from transformers import AutoConfig\n",
        "\n",
        "xlmr_config=AutoConfig.from_pretrained(xlmr_model_name,\n",
        "                                       num_labels=tags.num_classes,#ne qedr layer\n",
        "                                       id2labels=index2tag, #nece ves.\n",
        "                                       label2id=tag2index)"
      ]
    },
    {
      "cell_type": "code",
      "execution_count": null,
      "metadata": {
        "colab": {
          "base_uri": "https://localhost:8080/"
        },
        "id": "mIAm7RabZWaQ",
        "outputId": "00c26fc3-7a7c-4bef-a66d-43cf29afd01c"
      },
      "outputs": [
        {
          "data": {
            "text/plain": [
              "XLMRobertaConfig {\n",
              "  \"architectures\": [\n",
              "    \"XLMRobertaForMaskedLM\"\n",
              "  ],\n",
              "  \"attention_probs_dropout_prob\": 0.1,\n",
              "  \"bos_token_id\": 0,\n",
              "  \"classifier_dropout\": null,\n",
              "  \"eos_token_id\": 2,\n",
              "  \"hidden_act\": \"gelu\",\n",
              "  \"hidden_dropout_prob\": 0.1,\n",
              "  \"hidden_size\": 768,\n",
              "  \"id2label\": {\n",
              "    \"0\": \"LABEL_0\",\n",
              "    \"1\": \"LABEL_1\",\n",
              "    \"2\": \"LABEL_2\",\n",
              "    \"3\": \"LABEL_3\",\n",
              "    \"4\": \"LABEL_4\",\n",
              "    \"5\": \"LABEL_5\",\n",
              "    \"6\": \"LABEL_6\"\n",
              "  },\n",
              "  \"initializer_range\": 0.02,\n",
              "  \"intermediate_size\": 3072,\n",
              "  \"label2id\": {\n",
              "    \"B-LOC\": 5,\n",
              "    \"B-ORG\": 3,\n",
              "    \"B-PER\": 1,\n",
              "    \"I-LOC\": 6,\n",
              "    \"I-ORG\": 4,\n",
              "    \"I-PER\": 2,\n",
              "    \"O\": 0\n",
              "  },\n",
              "  \"layer_norm_eps\": 1e-05,\n",
              "  \"max_position_embeddings\": 514,\n",
              "  \"model_type\": \"xlm-roberta\",\n",
              "  \"num_attention_heads\": 12,\n",
              "  \"num_hidden_layers\": 12,\n",
              "  \"output_past\": true,\n",
              "  \"pad_token_id\": 1,\n",
              "  \"position_embedding_type\": \"absolute\",\n",
              "  \"transformers_version\": \"4.52.2\",\n",
              "  \"type_vocab_size\": 1,\n",
              "  \"use_cache\": true,\n",
              "  \"vocab_size\": 250002\n",
              "}"
            ]
          },
          "execution_count": 25,
          "metadata": {},
          "output_type": "execute_result"
        }
      ],
      "source": [
        "xlmr_config"
      ]
    },
    {
      "cell_type": "code",
      "execution_count": null,
      "metadata": {
        "colab": {
          "base_uri": "https://localhost:8080/",
          "height": 138,
          "referenced_widgets": [
            "74d9c1e7aade4e15a55da2effe317eb7",
            "5c3c52553b1441c5ad1f8d7b7751ad17",
            "dd3f5d2cc1bf4a7fac21ad2e24ae453a",
            "7f48950f1a4249008bcd797c5f9843e5",
            "b79dd522c7f74123867ab1b8a56bb476",
            "f19ea65fa9424e05a464bc0f39356ad7",
            "9930f027062a4a0197c9b69c4e1c747d",
            "d431dfca12414f7d9c34fe05b8a7db04",
            "4397f60763ee42ceba068ca12ad1271e",
            "ed33c0eb1cb94a6fae4146fc375d8d1b",
            "4e38b41bd3394c3fb8a68b965ca5cf3f"
          ]
        },
        "id": "6wuXTzUCZXg0",
        "outputId": "c591986e-eac5-411b-f1f8-d5954d27fddf"
      },
      "outputs": [
        {
          "name": "stderr",
          "output_type": "stream",
          "text": [
            "Xet Storage is enabled for this repo, but the 'hf_xet' package is not installed. Falling back to regular HTTP download. For better performance, install the package with: `pip install huggingface_hub[hf_xet]` or `pip install hf_xet`\n",
            "WARNING:huggingface_hub.file_download:Xet Storage is enabled for this repo, but the 'hf_xet' package is not installed. Falling back to regular HTTP download. For better performance, install the package with: `pip install huggingface_hub[hf_xet]` or `pip install hf_xet`\n"
          ]
        },
        {
          "data": {
            "application/vnd.jupyter.widget-view+json": {
              "model_id": "74d9c1e7aade4e15a55da2effe317eb7",
              "version_major": 2,
              "version_minor": 0
            },
            "text/plain": [
              "model.safetensors:   0%|          | 0.00/1.12G [00:00<?, ?B/s]"
            ]
          },
          "metadata": {},
          "output_type": "display_data"
        },
        {
          "name": "stderr",
          "output_type": "stream",
          "text": [
            "Some weights of XLMRobertaForTokenClassification were not initialized from the model checkpoint at xlm-roberta-base and are newly initialized: ['classifier.bias', 'classifier.weight']\n",
            "You should probably TRAIN this model on a down-stream task to be able to use it for predictions and inference.\n"
          ]
        }
      ],
      "source": [
        "import torch\n",
        "\n",
        "device=torch.device('cuda' if torch.cuda.is_available() else 'cpu') #DEVICE GPUU!!!!!!!!!!!!!!!\n",
        "xlmr_model=XLMRobertaForTokenClassification.from_pretrained(xlmr_model_name, config=xlmr_config).to(device) #heritage etdiyiu uchun pretrained olur\n"
      ]
    },
    {
      "cell_type": "code",
      "execution_count": null,
      "metadata": {
        "colab": {
          "base_uri": "https://localhost:8080/",
          "height": 112
        },
        "id": "eJTZ36l4Z01z",
        "outputId": "c5cea981-1b8f-45b9-ca51-9f2e8e828adb"
      },
      "outputs": [
        {
          "data": {
            "application/vnd.google.colaboratory.intrinsic+json": {
              "summary": "{\n  \"name\": \"pd\",\n  \"rows\": 2,\n  \"fields\": [\n    {\n      \"column\": 0,\n      \"properties\": {\n        \"dtype\": \"string\",\n        \"num_unique_values\": 2,\n        \"samples\": [\n          \"0\",\n          \"<s>\"\n        ],\n        \"semantic_type\": \"\",\n        \"description\": \"\"\n      }\n    },\n    {\n      \"column\": 1,\n      \"properties\": {\n        \"dtype\": \"string\",\n        \"num_unique_values\": 2,\n        \"samples\": [\n          \"21763\",\n          \"\\u2581Jack\"\n        ],\n        \"semantic_type\": \"\",\n        \"description\": \"\"\n      }\n    },\n    {\n      \"column\": 2,\n      \"properties\": {\n        \"dtype\": \"string\",\n        \"num_unique_values\": 2,\n        \"samples\": [\n          \"37456\",\n          \"\\u2581Spar\"\n        ],\n        \"semantic_type\": \"\",\n        \"description\": \"\"\n      }\n    },\n    {\n      \"column\": 3,\n      \"properties\": {\n        \"dtype\": \"string\",\n        \"num_unique_values\": 2,\n        \"samples\": [\n          \"15555\",\n          \"row\"\n        ],\n        \"semantic_type\": \"\",\n        \"description\": \"\"\n      }\n    },\n    {\n      \"column\": 4,\n      \"properties\": {\n        \"dtype\": \"string\",\n        \"num_unique_values\": 2,\n        \"samples\": [\n          \"5161\",\n          \"\\u2581love\"\n        ],\n        \"semantic_type\": \"\",\n        \"description\": \"\"\n      }\n    },\n    {\n      \"column\": 5,\n      \"properties\": {\n        \"dtype\": \"string\",\n        \"num_unique_values\": 2,\n        \"samples\": [\n          \"2356\",\n          \"\\u2581New\"\n        ],\n        \"semantic_type\": \"\",\n        \"description\": \"\"\n      }\n    },\n    {\n      \"column\": 6,\n      \"properties\": {\n        \"dtype\": \"string\",\n        \"num_unique_values\": 2,\n        \"samples\": [\n          \"5753\",\n          \"\\u2581York\"\n        ],\n        \"semantic_type\": \"\",\n        \"description\": \"\"\n      }\n    },\n    {\n      \"column\": 7,\n      \"properties\": {\n        \"dtype\": \"string\",\n        \"num_unique_values\": 2,\n        \"samples\": [\n          \"2\",\n          \"</s>\"\n        ],\n        \"semantic_type\": \"\",\n        \"description\": \"\"\n      }\n    }\n  ]\n}",
              "type": "dataframe"
            },
            "text/html": [
              "\n",
              "  <div id=\"df-61524add-9983-4fbd-9628-9d4a807e8682\" class=\"colab-df-container\">\n",
              "    <div>\n",
              "<style scoped>\n",
              "    .dataframe tbody tr th:only-of-type {\n",
              "        vertical-align: middle;\n",
              "    }\n",
              "\n",
              "    .dataframe tbody tr th {\n",
              "        vertical-align: top;\n",
              "    }\n",
              "\n",
              "    .dataframe thead th {\n",
              "        text-align: right;\n",
              "    }\n",
              "</style>\n",
              "<table border=\"1\" class=\"dataframe\">\n",
              "  <thead>\n",
              "    <tr style=\"text-align: right;\">\n",
              "      <th></th>\n",
              "      <th>0</th>\n",
              "      <th>1</th>\n",
              "      <th>2</th>\n",
              "      <th>3</th>\n",
              "      <th>4</th>\n",
              "      <th>5</th>\n",
              "      <th>6</th>\n",
              "      <th>7</th>\n",
              "    </tr>\n",
              "  </thead>\n",
              "  <tbody>\n",
              "    <tr>\n",
              "      <th>Tokens</th>\n",
              "      <td>&lt;s&gt;</td>\n",
              "      <td>▁Jack</td>\n",
              "      <td>▁Spar</td>\n",
              "      <td>row</td>\n",
              "      <td>▁love</td>\n",
              "      <td>▁New</td>\n",
              "      <td>▁York</td>\n",
              "      <td>&lt;/s&gt;</td>\n",
              "    </tr>\n",
              "    <tr>\n",
              "      <th>Input IDs</th>\n",
              "      <td>0</td>\n",
              "      <td>21763</td>\n",
              "      <td>37456</td>\n",
              "      <td>15555</td>\n",
              "      <td>5161</td>\n",
              "      <td>2356</td>\n",
              "      <td>5753</td>\n",
              "      <td>2</td>\n",
              "    </tr>\n",
              "  </tbody>\n",
              "</table>\n",
              "</div>\n",
              "    <div class=\"colab-df-buttons\">\n",
              "\n",
              "  <div class=\"colab-df-container\">\n",
              "    <button class=\"colab-df-convert\" onclick=\"convertToInteractive('df-61524add-9983-4fbd-9628-9d4a807e8682')\"\n",
              "            title=\"Convert this dataframe to an interactive table.\"\n",
              "            style=\"display:none;\">\n",
              "\n",
              "  <svg xmlns=\"http://www.w3.org/2000/svg\" height=\"24px\" viewBox=\"0 -960 960 960\">\n",
              "    <path d=\"M120-120v-720h720v720H120Zm60-500h600v-160H180v160Zm220 220h160v-160H400v160Zm0 220h160v-160H400v160ZM180-400h160v-160H180v160Zm440 0h160v-160H620v160ZM180-180h160v-160H180v160Zm440 0h160v-160H620v160Z\"/>\n",
              "  </svg>\n",
              "    </button>\n",
              "\n",
              "  <style>\n",
              "    .colab-df-container {\n",
              "      display:flex;\n",
              "      gap: 12px;\n",
              "    }\n",
              "\n",
              "    .colab-df-convert {\n",
              "      background-color: #E8F0FE;\n",
              "      border: none;\n",
              "      border-radius: 50%;\n",
              "      cursor: pointer;\n",
              "      display: none;\n",
              "      fill: #1967D2;\n",
              "      height: 32px;\n",
              "      padding: 0 0 0 0;\n",
              "      width: 32px;\n",
              "    }\n",
              "\n",
              "    .colab-df-convert:hover {\n",
              "      background-color: #E2EBFA;\n",
              "      box-shadow: 0px 1px 2px rgba(60, 64, 67, 0.3), 0px 1px 3px 1px rgba(60, 64, 67, 0.15);\n",
              "      fill: #174EA6;\n",
              "    }\n",
              "\n",
              "    .colab-df-buttons div {\n",
              "      margin-bottom: 4px;\n",
              "    }\n",
              "\n",
              "    [theme=dark] .colab-df-convert {\n",
              "      background-color: #3B4455;\n",
              "      fill: #D2E3FC;\n",
              "    }\n",
              "\n",
              "    [theme=dark] .colab-df-convert:hover {\n",
              "      background-color: #434B5C;\n",
              "      box-shadow: 0px 1px 3px 1px rgba(0, 0, 0, 0.15);\n",
              "      filter: drop-shadow(0px 1px 2px rgba(0, 0, 0, 0.3));\n",
              "      fill: #FFFFFF;\n",
              "    }\n",
              "  </style>\n",
              "\n",
              "    <script>\n",
              "      const buttonEl =\n",
              "        document.querySelector('#df-61524add-9983-4fbd-9628-9d4a807e8682 button.colab-df-convert');\n",
              "      buttonEl.style.display =\n",
              "        google.colab.kernel.accessAllowed ? 'block' : 'none';\n",
              "\n",
              "      async function convertToInteractive(key) {\n",
              "        const element = document.querySelector('#df-61524add-9983-4fbd-9628-9d4a807e8682');\n",
              "        const dataTable =\n",
              "          await google.colab.kernel.invokeFunction('convertToInteractive',\n",
              "                                                    [key], {});\n",
              "        if (!dataTable) return;\n",
              "\n",
              "        const docLinkHtml = 'Like what you see? Visit the ' +\n",
              "          '<a target=\"_blank\" href=https://colab.research.google.com/notebooks/data_table.ipynb>data table notebook</a>'\n",
              "          + ' to learn more about interactive tables.';\n",
              "        element.innerHTML = '';\n",
              "        dataTable['output_type'] = 'display_data';\n",
              "        await google.colab.output.renderOutput(dataTable, element);\n",
              "        const docLink = document.createElement('div');\n",
              "        docLink.innerHTML = docLinkHtml;\n",
              "        element.appendChild(docLink);\n",
              "      }\n",
              "    </script>\n",
              "  </div>\n",
              "\n",
              "\n",
              "    <div id=\"df-686b0fb2-58eb-4608-9619-18f40c054215\">\n",
              "      <button class=\"colab-df-quickchart\" onclick=\"quickchart('df-686b0fb2-58eb-4608-9619-18f40c054215')\"\n",
              "                title=\"Suggest charts\"\n",
              "                style=\"display:none;\">\n",
              "\n",
              "<svg xmlns=\"http://www.w3.org/2000/svg\" height=\"24px\"viewBox=\"0 0 24 24\"\n",
              "     width=\"24px\">\n",
              "    <g>\n",
              "        <path d=\"M19 3H5c-1.1 0-2 .9-2 2v14c0 1.1.9 2 2 2h14c1.1 0 2-.9 2-2V5c0-1.1-.9-2-2-2zM9 17H7v-7h2v7zm4 0h-2V7h2v10zm4 0h-2v-4h2v4z\"/>\n",
              "    </g>\n",
              "</svg>\n",
              "      </button>\n",
              "\n",
              "<style>\n",
              "  .colab-df-quickchart {\n",
              "      --bg-color: #E8F0FE;\n",
              "      --fill-color: #1967D2;\n",
              "      --hover-bg-color: #E2EBFA;\n",
              "      --hover-fill-color: #174EA6;\n",
              "      --disabled-fill-color: #AAA;\n",
              "      --disabled-bg-color: #DDD;\n",
              "  }\n",
              "\n",
              "  [theme=dark] .colab-df-quickchart {\n",
              "      --bg-color: #3B4455;\n",
              "      --fill-color: #D2E3FC;\n",
              "      --hover-bg-color: #434B5C;\n",
              "      --hover-fill-color: #FFFFFF;\n",
              "      --disabled-bg-color: #3B4455;\n",
              "      --disabled-fill-color: #666;\n",
              "  }\n",
              "\n",
              "  .colab-df-quickchart {\n",
              "    background-color: var(--bg-color);\n",
              "    border: none;\n",
              "    border-radius: 50%;\n",
              "    cursor: pointer;\n",
              "    display: none;\n",
              "    fill: var(--fill-color);\n",
              "    height: 32px;\n",
              "    padding: 0;\n",
              "    width: 32px;\n",
              "  }\n",
              "\n",
              "  .colab-df-quickchart:hover {\n",
              "    background-color: var(--hover-bg-color);\n",
              "    box-shadow: 0 1px 2px rgba(60, 64, 67, 0.3), 0 1px 3px 1px rgba(60, 64, 67, 0.15);\n",
              "    fill: var(--button-hover-fill-color);\n",
              "  }\n",
              "\n",
              "  .colab-df-quickchart-complete:disabled,\n",
              "  .colab-df-quickchart-complete:disabled:hover {\n",
              "    background-color: var(--disabled-bg-color);\n",
              "    fill: var(--disabled-fill-color);\n",
              "    box-shadow: none;\n",
              "  }\n",
              "\n",
              "  .colab-df-spinner {\n",
              "    border: 2px solid var(--fill-color);\n",
              "    border-color: transparent;\n",
              "    border-bottom-color: var(--fill-color);\n",
              "    animation:\n",
              "      spin 1s steps(1) infinite;\n",
              "  }\n",
              "\n",
              "  @keyframes spin {\n",
              "    0% {\n",
              "      border-color: transparent;\n",
              "      border-bottom-color: var(--fill-color);\n",
              "      border-left-color: var(--fill-color);\n",
              "    }\n",
              "    20% {\n",
              "      border-color: transparent;\n",
              "      border-left-color: var(--fill-color);\n",
              "      border-top-color: var(--fill-color);\n",
              "    }\n",
              "    30% {\n",
              "      border-color: transparent;\n",
              "      border-left-color: var(--fill-color);\n",
              "      border-top-color: var(--fill-color);\n",
              "      border-right-color: var(--fill-color);\n",
              "    }\n",
              "    40% {\n",
              "      border-color: transparent;\n",
              "      border-right-color: var(--fill-color);\n",
              "      border-top-color: var(--fill-color);\n",
              "    }\n",
              "    60% {\n",
              "      border-color: transparent;\n",
              "      border-right-color: var(--fill-color);\n",
              "    }\n",
              "    80% {\n",
              "      border-color: transparent;\n",
              "      border-right-color: var(--fill-color);\n",
              "      border-bottom-color: var(--fill-color);\n",
              "    }\n",
              "    90% {\n",
              "      border-color: transparent;\n",
              "      border-bottom-color: var(--fill-color);\n",
              "    }\n",
              "  }\n",
              "</style>\n",
              "\n",
              "      <script>\n",
              "        async function quickchart(key) {\n",
              "          const quickchartButtonEl =\n",
              "            document.querySelector('#' + key + ' button');\n",
              "          quickchartButtonEl.disabled = true;  // To prevent multiple clicks.\n",
              "          quickchartButtonEl.classList.add('colab-df-spinner');\n",
              "          try {\n",
              "            const charts = await google.colab.kernel.invokeFunction(\n",
              "                'suggestCharts', [key], {});\n",
              "          } catch (error) {\n",
              "            console.error('Error during call to suggestCharts:', error);\n",
              "          }\n",
              "          quickchartButtonEl.classList.remove('colab-df-spinner');\n",
              "          quickchartButtonEl.classList.add('colab-df-quickchart-complete');\n",
              "        }\n",
              "        (() => {\n",
              "          let quickchartButtonEl =\n",
              "            document.querySelector('#df-686b0fb2-58eb-4608-9619-18f40c054215 button');\n",
              "          quickchartButtonEl.style.display =\n",
              "            google.colab.kernel.accessAllowed ? 'block' : 'none';\n",
              "        })();\n",
              "      </script>\n",
              "    </div>\n",
              "\n",
              "    </div>\n",
              "  </div>\n"
            ],
            "text/plain": [
              "             0      1      2      3      4     5      6     7\n",
              "Tokens     <s>  ▁Jack  ▁Spar    row  ▁love  ▁New  ▁York  </s>\n",
              "Input IDs    0  21763  37456  15555   5161  2356   5753     2"
            ]
          },
          "execution_count": 27,
          "metadata": {},
          "output_type": "execute_result"
        }
      ],
      "source": [
        "#datani hazirla\n",
        "input_ids=xlmr_tokenizer.encode(text, return_tensors='pt') #encode ne dirdi?? niye bele\n",
        "pd.DataFrame([xlmr_tokens, input_ids[0].numpy()], index=['Tokens','Input IDs'])"
      ]
    },
    {
      "cell_type": "code",
      "execution_count": null,
      "metadata": {
        "colab": {
          "base_uri": "https://localhost:8080/"
        },
        "id": "ZkdacVxQalGY",
        "outputId": "5e67b783-0351-4e3d-dd2f-8bddc74a0273"
      },
      "outputs": [
        {
          "name": "stdout",
          "output_type": "stream",
          "text": [
            "Num of token in sequence: 8\n",
            "Shape of outputs tensor: torch.Size([1, 8, 7])\n"
          ]
        }
      ],
      "source": [
        "############################DUZET YUXARINI\n",
        "import torch.nn as nn\n",
        "from transformers import XLMRobertaConfig\n",
        "from transformers.modeling_outputs import TokenClassifierOutput\n",
        "from transformers.models.roberta.modeling_roberta import RobertaModel\n",
        "from transformers.models.roberta.modeling_roberta import RobertaPreTrainedModel\n",
        "from transformers import AutoTokenizer, AutoConfig\n",
        "import torch\n",
        "\n",
        "# Define the custom model class\n",
        "class XLMRobertaForTokenClassification(RobertaPreTrainedModel):\n",
        "    config_class=XLMRobertaConfig\n",
        "\n",
        "    def __init__(self, config):\n",
        "        super().__init__(config)\n",
        "        self.num_labels=config.num_labels\n",
        "\n",
        "        self.roberta=RobertaModel(config, add_pooling_layer=False)\n",
        "        self.dropout=nn.Dropout(config.hidden_dropout_prob)\n",
        "        self.classifier=nn.Linear(config.hidden_size, config.num_labels)\n",
        "\n",
        "        self.init_weights()\n",
        "\n",
        "    def forward(self, input_ids, attention_mask=None, token_type_ids=None, labels=None,num_items_in_batch=None, **kwargs):\n",
        "        # Remove labels=None from the call to self.roberta\n",
        "        outputs=self.roberta(input_ids, attention_mask=attention_mask,token_type_ids=None, **kwargs)\n",
        "\n",
        "        sequence_output=self.dropout(outputs[0])\n",
        "        logits=self.classifier(sequence_output)\n",
        "\n",
        "        loss=None\n",
        "        if labels is not None:\n",
        "            loss_fct=nn.CrossEntropyLoss()\n",
        "            # Ensure logits and labels are reshaped correctly for CrossEntropyLoss\n",
        "            loss=loss_fct(logits.view(-1, self.num_labels), labels.view(-1))\n",
        "\n",
        "        # Correct the return value key for hidden states (should be hidden_states, not hiddden_states)\n",
        "        return TokenClassifierOutput(loss=loss, logits=logits,\n",
        "                                     hidden_states=outputs.hidden_states, attentions=outputs.attentions)\n",
        "\n",
        "# Assuming these variables are already defined from previous cells\n",
        "# ner_tags_feature = panx_ch['de']['train'].features['ner_tags'].feature\n",
        "# tags = ner_tags_feature\n",
        "# index2tag = {idx: tag for idx, tag in enumerate(tags.names)}\n",
        "# tag2index = {tag: idx for idx, tag in enumerate(tags.names)}\n",
        "# xlmr_model_name = 'xlm-roberta-base'\n",
        "# text = 'Jack Sparrow love New York'\n",
        "\n",
        "# Define tags and mappers (assuming they are defined elsewhere)\n",
        "tags = panx_ch['de']['train'].features['ner_tags'].feature\n",
        "index2tag = {idx: tag for idx, tag in enumerate(tags.names)}\n",
        "tag2index = {tag: idx for idx, tag in enumerate(tags.names)}\n",
        "\n",
        "\n",
        "# Load configuration\n",
        "xlmr_config=AutoConfig.from_pretrained(xlmr_model_name,\n",
        "                                       num_labels=tags.num_classes,\n",
        "                                       id2labels=index2tag,\n",
        "                                       label2id=tag2index)\n",
        "\n",
        "# Set device\n",
        "device=torch.device('cuda' if torch.cuda.is_available() else 'cpu')\n",
        "\n",
        "# Load the custom model\n",
        "xlmr_model=XLMRobertaForTokenClassification.from_pretrained(xlmr_model_name, config=xlmr_config).to(device)\n",
        "\n",
        "# Tokenize input text\n",
        "xlmr_tokenizer=AutoTokenizer.from_pretrained(xlmr_model_name)\n",
        "input_ids=xlmr_tokenizer.encode(text, return_tensors='pt')\n",
        "xlmr_tokens=xlmr_tokenizer(text).tokens()\n",
        "\n",
        "# Get model outputs and predictions\n",
        "outputs=xlmr_model(input_ids.to(device)).logits\n",
        "predictions=torch.argmax(outputs, dim=-1)\n",
        "\n",
        "print(f'Num of token in sequence: {len(predictions[0])}')\n",
        "print(f'Shape of outputs tensor: {outputs.shape}')"
      ]
    },
    {
      "cell_type": "code",
      "execution_count": null,
      "metadata": {
        "colab": {
          "base_uri": "https://localhost:8080/"
        },
        "id": "ZUZGrzaEbS2e",
        "outputId": "1f722dc4-7986-4aad-c157-20336673aaf0"
      },
      "outputs": [
        {
          "data": {
            "text/plain": [
              "tensor([[[-4.0034e-01,  2.5072e-01, -2.3815e-01, -5.1776e-01,  1.0177e-01,\n",
              "           8.1291e-01,  1.7350e-02],\n",
              "         [-3.1795e-01,  1.7164e-01,  6.6548e-02, -5.3782e-01, -6.2002e-02,\n",
              "           6.4139e-01, -3.4896e-02],\n",
              "         [-3.7690e-01,  4.4164e-02,  1.1145e-01, -5.5668e-01,  3.5889e-02,\n",
              "           6.1349e-01,  3.0429e-02],\n",
              "         [-3.7934e-01,  1.7546e-01,  9.2623e-03, -5.5410e-01, -6.1755e-02,\n",
              "           5.5320e-01, -5.3435e-03],\n",
              "         [-3.3731e-01,  2.3147e-01,  3.3132e-02, -4.9790e-01,  4.6873e-04,\n",
              "           5.4025e-01,  2.3432e-02],\n",
              "         [-2.4475e-01,  1.8267e-01,  1.2544e-02, -6.1766e-01, -6.6564e-02,\n",
              "           5.9193e-01,  2.8623e-02],\n",
              "         [-2.7101e-01,  1.4455e-01,  7.0657e-02, -6.1833e-01, -1.0862e-01,\n",
              "           5.6642e-01,  1.7324e-02],\n",
              "         [-3.7720e-01,  2.6436e-01, -2.5031e-01, -5.3399e-01,  9.6206e-02,\n",
              "           8.0437e-01, -1.2523e-02]]], grad_fn=<ViewBackward0>)"
            ]
          },
          "execution_count": 29,
          "metadata": {},
          "output_type": "execute_result"
        }
      ],
      "source": [
        "outputs"
      ]
    },
    {
      "cell_type": "code",
      "execution_count": null,
      "metadata": {
        "colab": {
          "base_uri": "https://localhost:8080/"
        },
        "id": "qYHwmGRQbqTY",
        "outputId": "027f88c2-50cf-4ef6-969e-fb87d04a144c"
      },
      "outputs": [
        {
          "data": {
            "text/plain": [
              "tensor([[5, 5, 5, 5, 5, 5, 5, 5]])"
            ]
          },
          "execution_count": 30,
          "metadata": {},
          "output_type": "execute_result"
        }
      ],
      "source": [
        "predictions"
      ]
    },
    {
      "cell_type": "code",
      "execution_count": null,
      "metadata": {
        "colab": {
          "base_uri": "https://localhost:8080/",
          "height": 112
        },
        "id": "l2FJgB0Bbsla",
        "outputId": "d37d57e4-3386-419e-90fd-3ecfa7bbd4cc"
      },
      "outputs": [
        {
          "data": {
            "application/vnd.google.colaboratory.intrinsic+json": {
              "summary": "{\n  \"name\": \"pd\",\n  \"rows\": 2,\n  \"fields\": [\n    {\n      \"column\": 0,\n      \"properties\": {\n        \"dtype\": \"string\",\n        \"num_unique_values\": 2,\n        \"samples\": [\n          \"B-LOC\",\n          \"<s>\"\n        ],\n        \"semantic_type\": \"\",\n        \"description\": \"\"\n      }\n    },\n    {\n      \"column\": 1,\n      \"properties\": {\n        \"dtype\": \"string\",\n        \"num_unique_values\": 2,\n        \"samples\": [\n          \"B-LOC\",\n          \"\\u2581Jack\"\n        ],\n        \"semantic_type\": \"\",\n        \"description\": \"\"\n      }\n    },\n    {\n      \"column\": 2,\n      \"properties\": {\n        \"dtype\": \"string\",\n        \"num_unique_values\": 2,\n        \"samples\": [\n          \"B-LOC\",\n          \"\\u2581Spar\"\n        ],\n        \"semantic_type\": \"\",\n        \"description\": \"\"\n      }\n    },\n    {\n      \"column\": 3,\n      \"properties\": {\n        \"dtype\": \"string\",\n        \"num_unique_values\": 2,\n        \"samples\": [\n          \"B-LOC\",\n          \"row\"\n        ],\n        \"semantic_type\": \"\",\n        \"description\": \"\"\n      }\n    },\n    {\n      \"column\": 4,\n      \"properties\": {\n        \"dtype\": \"string\",\n        \"num_unique_values\": 2,\n        \"samples\": [\n          \"B-LOC\",\n          \"\\u2581love\"\n        ],\n        \"semantic_type\": \"\",\n        \"description\": \"\"\n      }\n    },\n    {\n      \"column\": 5,\n      \"properties\": {\n        \"dtype\": \"string\",\n        \"num_unique_values\": 2,\n        \"samples\": [\n          \"B-LOC\",\n          \"\\u2581New\"\n        ],\n        \"semantic_type\": \"\",\n        \"description\": \"\"\n      }\n    },\n    {\n      \"column\": 6,\n      \"properties\": {\n        \"dtype\": \"string\",\n        \"num_unique_values\": 2,\n        \"samples\": [\n          \"B-LOC\",\n          \"\\u2581York\"\n        ],\n        \"semantic_type\": \"\",\n        \"description\": \"\"\n      }\n    },\n    {\n      \"column\": 7,\n      \"properties\": {\n        \"dtype\": \"string\",\n        \"num_unique_values\": 2,\n        \"samples\": [\n          \"B-LOC\",\n          \"</s>\"\n        ],\n        \"semantic_type\": \"\",\n        \"description\": \"\"\n      }\n    }\n  ]\n}",
              "type": "dataframe"
            },
            "text/html": [
              "\n",
              "  <div id=\"df-fb078a21-2191-4545-a3c9-a377dc112726\" class=\"colab-df-container\">\n",
              "    <div>\n",
              "<style scoped>\n",
              "    .dataframe tbody tr th:only-of-type {\n",
              "        vertical-align: middle;\n",
              "    }\n",
              "\n",
              "    .dataframe tbody tr th {\n",
              "        vertical-align: top;\n",
              "    }\n",
              "\n",
              "    .dataframe thead th {\n",
              "        text-align: right;\n",
              "    }\n",
              "</style>\n",
              "<table border=\"1\" class=\"dataframe\">\n",
              "  <thead>\n",
              "    <tr style=\"text-align: right;\">\n",
              "      <th></th>\n",
              "      <th>0</th>\n",
              "      <th>1</th>\n",
              "      <th>2</th>\n",
              "      <th>3</th>\n",
              "      <th>4</th>\n",
              "      <th>5</th>\n",
              "      <th>6</th>\n",
              "      <th>7</th>\n",
              "    </tr>\n",
              "  </thead>\n",
              "  <tbody>\n",
              "    <tr>\n",
              "      <th>0</th>\n",
              "      <td>&lt;s&gt;</td>\n",
              "      <td>▁Jack</td>\n",
              "      <td>▁Spar</td>\n",
              "      <td>row</td>\n",
              "      <td>▁love</td>\n",
              "      <td>▁New</td>\n",
              "      <td>▁York</td>\n",
              "      <td>&lt;/s&gt;</td>\n",
              "    </tr>\n",
              "    <tr>\n",
              "      <th>1</th>\n",
              "      <td>B-LOC</td>\n",
              "      <td>B-LOC</td>\n",
              "      <td>B-LOC</td>\n",
              "      <td>B-LOC</td>\n",
              "      <td>B-LOC</td>\n",
              "      <td>B-LOC</td>\n",
              "      <td>B-LOC</td>\n",
              "      <td>B-LOC</td>\n",
              "    </tr>\n",
              "  </tbody>\n",
              "</table>\n",
              "</div>\n",
              "    <div class=\"colab-df-buttons\">\n",
              "\n",
              "  <div class=\"colab-df-container\">\n",
              "    <button class=\"colab-df-convert\" onclick=\"convertToInteractive('df-fb078a21-2191-4545-a3c9-a377dc112726')\"\n",
              "            title=\"Convert this dataframe to an interactive table.\"\n",
              "            style=\"display:none;\">\n",
              "\n",
              "  <svg xmlns=\"http://www.w3.org/2000/svg\" height=\"24px\" viewBox=\"0 -960 960 960\">\n",
              "    <path d=\"M120-120v-720h720v720H120Zm60-500h600v-160H180v160Zm220 220h160v-160H400v160Zm0 220h160v-160H400v160ZM180-400h160v-160H180v160Zm440 0h160v-160H620v160ZM180-180h160v-160H180v160Zm440 0h160v-160H620v160Z\"/>\n",
              "  </svg>\n",
              "    </button>\n",
              "\n",
              "  <style>\n",
              "    .colab-df-container {\n",
              "      display:flex;\n",
              "      gap: 12px;\n",
              "    }\n",
              "\n",
              "    .colab-df-convert {\n",
              "      background-color: #E8F0FE;\n",
              "      border: none;\n",
              "      border-radius: 50%;\n",
              "      cursor: pointer;\n",
              "      display: none;\n",
              "      fill: #1967D2;\n",
              "      height: 32px;\n",
              "      padding: 0 0 0 0;\n",
              "      width: 32px;\n",
              "    }\n",
              "\n",
              "    .colab-df-convert:hover {\n",
              "      background-color: #E2EBFA;\n",
              "      box-shadow: 0px 1px 2px rgba(60, 64, 67, 0.3), 0px 1px 3px 1px rgba(60, 64, 67, 0.15);\n",
              "      fill: #174EA6;\n",
              "    }\n",
              "\n",
              "    .colab-df-buttons div {\n",
              "      margin-bottom: 4px;\n",
              "    }\n",
              "\n",
              "    [theme=dark] .colab-df-convert {\n",
              "      background-color: #3B4455;\n",
              "      fill: #D2E3FC;\n",
              "    }\n",
              "\n",
              "    [theme=dark] .colab-df-convert:hover {\n",
              "      background-color: #434B5C;\n",
              "      box-shadow: 0px 1px 3px 1px rgba(0, 0, 0, 0.15);\n",
              "      filter: drop-shadow(0px 1px 2px rgba(0, 0, 0, 0.3));\n",
              "      fill: #FFFFFF;\n",
              "    }\n",
              "  </style>\n",
              "\n",
              "    <script>\n",
              "      const buttonEl =\n",
              "        document.querySelector('#df-fb078a21-2191-4545-a3c9-a377dc112726 button.colab-df-convert');\n",
              "      buttonEl.style.display =\n",
              "        google.colab.kernel.accessAllowed ? 'block' : 'none';\n",
              "\n",
              "      async function convertToInteractive(key) {\n",
              "        const element = document.querySelector('#df-fb078a21-2191-4545-a3c9-a377dc112726');\n",
              "        const dataTable =\n",
              "          await google.colab.kernel.invokeFunction('convertToInteractive',\n",
              "                                                    [key], {});\n",
              "        if (!dataTable) return;\n",
              "\n",
              "        const docLinkHtml = 'Like what you see? Visit the ' +\n",
              "          '<a target=\"_blank\" href=https://colab.research.google.com/notebooks/data_table.ipynb>data table notebook</a>'\n",
              "          + ' to learn more about interactive tables.';\n",
              "        element.innerHTML = '';\n",
              "        dataTable['output_type'] = 'display_data';\n",
              "        await google.colab.output.renderOutput(dataTable, element);\n",
              "        const docLink = document.createElement('div');\n",
              "        docLink.innerHTML = docLinkHtml;\n",
              "        element.appendChild(docLink);\n",
              "      }\n",
              "    </script>\n",
              "  </div>\n",
              "\n",
              "\n",
              "    <div id=\"df-efd989ef-6eeb-42a7-b6fc-4e1e0f6b80d5\">\n",
              "      <button class=\"colab-df-quickchart\" onclick=\"quickchart('df-efd989ef-6eeb-42a7-b6fc-4e1e0f6b80d5')\"\n",
              "                title=\"Suggest charts\"\n",
              "                style=\"display:none;\">\n",
              "\n",
              "<svg xmlns=\"http://www.w3.org/2000/svg\" height=\"24px\"viewBox=\"0 0 24 24\"\n",
              "     width=\"24px\">\n",
              "    <g>\n",
              "        <path d=\"M19 3H5c-1.1 0-2 .9-2 2v14c0 1.1.9 2 2 2h14c1.1 0 2-.9 2-2V5c0-1.1-.9-2-2-2zM9 17H7v-7h2v7zm4 0h-2V7h2v10zm4 0h-2v-4h2v4z\"/>\n",
              "    </g>\n",
              "</svg>\n",
              "      </button>\n",
              "\n",
              "<style>\n",
              "  .colab-df-quickchart {\n",
              "      --bg-color: #E8F0FE;\n",
              "      --fill-color: #1967D2;\n",
              "      --hover-bg-color: #E2EBFA;\n",
              "      --hover-fill-color: #174EA6;\n",
              "      --disabled-fill-color: #AAA;\n",
              "      --disabled-bg-color: #DDD;\n",
              "  }\n",
              "\n",
              "  [theme=dark] .colab-df-quickchart {\n",
              "      --bg-color: #3B4455;\n",
              "      --fill-color: #D2E3FC;\n",
              "      --hover-bg-color: #434B5C;\n",
              "      --hover-fill-color: #FFFFFF;\n",
              "      --disabled-bg-color: #3B4455;\n",
              "      --disabled-fill-color: #666;\n",
              "  }\n",
              "\n",
              "  .colab-df-quickchart {\n",
              "    background-color: var(--bg-color);\n",
              "    border: none;\n",
              "    border-radius: 50%;\n",
              "    cursor: pointer;\n",
              "    display: none;\n",
              "    fill: var(--fill-color);\n",
              "    height: 32px;\n",
              "    padding: 0;\n",
              "    width: 32px;\n",
              "  }\n",
              "\n",
              "  .colab-df-quickchart:hover {\n",
              "    background-color: var(--hover-bg-color);\n",
              "    box-shadow: 0 1px 2px rgba(60, 64, 67, 0.3), 0 1px 3px 1px rgba(60, 64, 67, 0.15);\n",
              "    fill: var(--button-hover-fill-color);\n",
              "  }\n",
              "\n",
              "  .colab-df-quickchart-complete:disabled,\n",
              "  .colab-df-quickchart-complete:disabled:hover {\n",
              "    background-color: var(--disabled-bg-color);\n",
              "    fill: var(--disabled-fill-color);\n",
              "    box-shadow: none;\n",
              "  }\n",
              "\n",
              "  .colab-df-spinner {\n",
              "    border: 2px solid var(--fill-color);\n",
              "    border-color: transparent;\n",
              "    border-bottom-color: var(--fill-color);\n",
              "    animation:\n",
              "      spin 1s steps(1) infinite;\n",
              "  }\n",
              "\n",
              "  @keyframes spin {\n",
              "    0% {\n",
              "      border-color: transparent;\n",
              "      border-bottom-color: var(--fill-color);\n",
              "      border-left-color: var(--fill-color);\n",
              "    }\n",
              "    20% {\n",
              "      border-color: transparent;\n",
              "      border-left-color: var(--fill-color);\n",
              "      border-top-color: var(--fill-color);\n",
              "    }\n",
              "    30% {\n",
              "      border-color: transparent;\n",
              "      border-left-color: var(--fill-color);\n",
              "      border-top-color: var(--fill-color);\n",
              "      border-right-color: var(--fill-color);\n",
              "    }\n",
              "    40% {\n",
              "      border-color: transparent;\n",
              "      border-right-color: var(--fill-color);\n",
              "      border-top-color: var(--fill-color);\n",
              "    }\n",
              "    60% {\n",
              "      border-color: transparent;\n",
              "      border-right-color: var(--fill-color);\n",
              "    }\n",
              "    80% {\n",
              "      border-color: transparent;\n",
              "      border-right-color: var(--fill-color);\n",
              "      border-bottom-color: var(--fill-color);\n",
              "    }\n",
              "    90% {\n",
              "      border-color: transparent;\n",
              "      border-bottom-color: var(--fill-color);\n",
              "    }\n",
              "  }\n",
              "</style>\n",
              "\n",
              "      <script>\n",
              "        async function quickchart(key) {\n",
              "          const quickchartButtonEl =\n",
              "            document.querySelector('#' + key + ' button');\n",
              "          quickchartButtonEl.disabled = true;  // To prevent multiple clicks.\n",
              "          quickchartButtonEl.classList.add('colab-df-spinner');\n",
              "          try {\n",
              "            const charts = await google.colab.kernel.invokeFunction(\n",
              "                'suggestCharts', [key], {});\n",
              "          } catch (error) {\n",
              "            console.error('Error during call to suggestCharts:', error);\n",
              "          }\n",
              "          quickchartButtonEl.classList.remove('colab-df-spinner');\n",
              "          quickchartButtonEl.classList.add('colab-df-quickchart-complete');\n",
              "        }\n",
              "        (() => {\n",
              "          let quickchartButtonEl =\n",
              "            document.querySelector('#df-efd989ef-6eeb-42a7-b6fc-4e1e0f6b80d5 button');\n",
              "          quickchartButtonEl.style.display =\n",
              "            google.colab.kernel.accessAllowed ? 'block' : 'none';\n",
              "        })();\n",
              "      </script>\n",
              "    </div>\n",
              "\n",
              "    </div>\n",
              "  </div>\n"
            ],
            "text/plain": [
              "       0      1      2      3      4      5      6      7\n",
              "0    <s>  ▁Jack  ▁Spar    row  ▁love   ▁New  ▁York   </s>\n",
              "1  B-LOC  B-LOC  B-LOC  B-LOC  B-LOC  B-LOC  B-LOC  B-LOC"
            ]
          },
          "execution_count": 31,
          "metadata": {},
          "output_type": "execute_result"
        }
      ],
      "source": [
        "preds = [tags.names[p] for p in predictions[0].cpu().numpy()]\n",
        "pd.DataFrame([xlmr_tokens, preds])"
      ]
    },
    {
      "cell_type": "code",
      "execution_count": null,
      "metadata": {
        "id": "Vh1s5KajcMZo"
      },
      "outputs": [],
      "source": [
        "def tag_text(text, tags, model, tokenizer):#kecendefeki\n",
        "    tokens = tokenizer(text).tokens() #Bu isə, yuxarıdakı tokenizer nəticəsindən sadəcə tokenləri çıxarır (yəni [‘play’, ‘##ing’] kimi nəticə verir).\n",
        "    input_ids = tokenizer.encode(text, return_tensors='pt')#reqem kim --Bu hissə text mətnini alır və onu token ID-lərinə çevirir.Yəni sözlər → subword tokenlər → rəqəmlər (ID-lər)\n",
        "    outputs = model(input_ids.to(device))[0] #last_hidden_state\n",
        "    predictions = torch.argmax(outputs, dim=-1) #calssi verir yeni BIO-da hansi calssa argmaxi coxdu--> bu\n",
        "    preds = [tags.names[p] for p in predictions[0].cpu().numpy()]\n",
        "    return pd.DataFrame([tokens, preds], index=[\"Tokens\", \"Tags\"])\n",
        "# text = \"Obama\"\n",
        "# tokens = ['O', '##bam', '##a']\n",
        "# input_ids = [101, 1234, 5678, 102]\n",
        "#outputs=outputs.shape = [batch_size, sequence_length, num_tags]\n",
        "#predictions = [[0, 2, 2, 0, 4, 5, 0, 3, 3, 0]]\n",
        "# predictions = [0, 2, 2, 1]\n",
        "# tags.names = ['O', 'B-PER', 'I-PER']\n",
        "# preds = ['O', 'I-PER', 'I-PER', 'B-PER']\n"
      ]
    },
    {
      "cell_type": "code",
      "execution_count": null,
      "metadata": {
        "id": "pSIlIdC4mtwl"
      },
      "outputs": [],
      "source": [
        "# 1. tokenizer(text)\n",
        "    # Bu hissə, tokenizer obyektinə text adlı mətni verir və tokenizer onu emal edir.\n",
        "    # Məsələn: text = \"playing\"\n",
        "    # Tokenizer: WordPiece, Unigram və s.\n",
        "    # Nəticə: Tokenizer obyektindən çıxan bir Encoded object (məs: Encoding).\n",
        "\n",
        "# output = (\n",
        "#     last_hidden_state,     # [0] → əsas nəticə (ən çox istifadə olunan)\n",
        "#     pooled_output,         # [1] → CLS tokenin çıxışı (ən çox klassifikasiya üçün istifadə olunur)\n",
        "#     hidden_states (optional),\n",
        "#     attentions (optional)\n",
        "# )"
      ]
    },
    {
      "cell_type": "markdown",
      "metadata": {
        "id": "bxgsJOwzh3Kz"
      },
      "source": [
        "#Tokenizing Texts for NER"
      ]
    },
    {
      "cell_type": "code",
      "execution_count": null,
      "metadata": {
        "colab": {
          "base_uri": "https://localhost:8080/",
          "height": 112
        },
        "id": "c6Z_z4KviWDA",
        "outputId": "aed585ec-09c5-4d27-cc8a-140513b1d684"
      },
      "outputs": [
        {
          "data": {
            "application/vnd.google.colaboratory.intrinsic+json": {
              "summary": "{\n  \"name\": \"['Tokens', 'Tags'])\",\n  \"rows\": 2,\n  \"fields\": [\n    {\n      \"column\": 0,\n      \"properties\": {\n        \"dtype\": \"string\",\n        \"num_unique_values\": 2,\n        \"samples\": [\n          \"O\",\n          \"2.000\"\n        ],\n        \"semantic_type\": \"\",\n        \"description\": \"\"\n      }\n    },\n    {\n      \"column\": 1,\n      \"properties\": {\n        \"dtype\": \"string\",\n        \"num_unique_values\": 2,\n        \"samples\": [\n          \"O\",\n          \"Einwohnern\"\n        ],\n        \"semantic_type\": \"\",\n        \"description\": \"\"\n      }\n    },\n    {\n      \"column\": 2,\n      \"properties\": {\n        \"dtype\": \"string\",\n        \"num_unique_values\": 2,\n        \"samples\": [\n          \"O\",\n          \"an\"\n        ],\n        \"semantic_type\": \"\",\n        \"description\": \"\"\n      }\n    },\n    {\n      \"column\": 3,\n      \"properties\": {\n        \"dtype\": \"string\",\n        \"num_unique_values\": 2,\n        \"samples\": [\n          \"O\",\n          \"der\"\n        ],\n        \"semantic_type\": \"\",\n        \"description\": \"\"\n      }\n    },\n    {\n      \"column\": 4,\n      \"properties\": {\n        \"dtype\": \"string\",\n        \"num_unique_values\": 2,\n        \"samples\": [\n          \"B-LOC\",\n          \"Danziger\"\n        ],\n        \"semantic_type\": \"\",\n        \"description\": \"\"\n      }\n    },\n    {\n      \"column\": 5,\n      \"properties\": {\n        \"dtype\": \"string\",\n        \"num_unique_values\": 2,\n        \"samples\": [\n          \"I-LOC\",\n          \"Bucht\"\n        ],\n        \"semantic_type\": \"\",\n        \"description\": \"\"\n      }\n    },\n    {\n      \"column\": 6,\n      \"properties\": {\n        \"dtype\": \"string\",\n        \"num_unique_values\": 2,\n        \"samples\": [\n          \"O\",\n          \"in\"\n        ],\n        \"semantic_type\": \"\",\n        \"description\": \"\"\n      }\n    },\n    {\n      \"column\": 7,\n      \"properties\": {\n        \"dtype\": \"string\",\n        \"num_unique_values\": 2,\n        \"samples\": [\n          \"O\",\n          \"der\"\n        ],\n        \"semantic_type\": \"\",\n        \"description\": \"\"\n      }\n    },\n    {\n      \"column\": 8,\n      \"properties\": {\n        \"dtype\": \"string\",\n        \"num_unique_values\": 2,\n        \"samples\": [\n          \"B-LOC\",\n          \"polnischen\"\n        ],\n        \"semantic_type\": \"\",\n        \"description\": \"\"\n      }\n    },\n    {\n      \"column\": 9,\n      \"properties\": {\n        \"dtype\": \"string\",\n        \"num_unique_values\": 2,\n        \"samples\": [\n          \"B-LOC\",\n          \"Woiwodschaft\"\n        ],\n        \"semantic_type\": \"\",\n        \"description\": \"\"\n      }\n    },\n    {\n      \"column\": 10,\n      \"properties\": {\n        \"dtype\": \"string\",\n        \"num_unique_values\": 2,\n        \"samples\": [\n          \"I-LOC\",\n          \"Pommern\"\n        ],\n        \"semantic_type\": \"\",\n        \"description\": \"\"\n      }\n    },\n    {\n      \"column\": 11,\n      \"properties\": {\n        \"dtype\": \"string\",\n        \"num_unique_values\": 2,\n        \"samples\": [\n          \"O\",\n          \".\"\n        ],\n        \"semantic_type\": \"\",\n        \"description\": \"\"\n      }\n    }\n  ]\n}",
              "type": "dataframe"
            },
            "text/html": [
              "\n",
              "  <div id=\"df-0d344e66-e454-4c90-8888-70f35141fd65\" class=\"colab-df-container\">\n",
              "    <div>\n",
              "<style scoped>\n",
              "    .dataframe tbody tr th:only-of-type {\n",
              "        vertical-align: middle;\n",
              "    }\n",
              "\n",
              "    .dataframe tbody tr th {\n",
              "        vertical-align: top;\n",
              "    }\n",
              "\n",
              "    .dataframe thead th {\n",
              "        text-align: right;\n",
              "    }\n",
              "</style>\n",
              "<table border=\"1\" class=\"dataframe\">\n",
              "  <thead>\n",
              "    <tr style=\"text-align: right;\">\n",
              "      <th></th>\n",
              "      <th>0</th>\n",
              "      <th>1</th>\n",
              "      <th>2</th>\n",
              "      <th>3</th>\n",
              "      <th>4</th>\n",
              "      <th>5</th>\n",
              "      <th>6</th>\n",
              "      <th>7</th>\n",
              "      <th>8</th>\n",
              "      <th>9</th>\n",
              "      <th>10</th>\n",
              "      <th>11</th>\n",
              "    </tr>\n",
              "  </thead>\n",
              "  <tbody>\n",
              "    <tr>\n",
              "      <th>Tokens</th>\n",
              "      <td>2.000</td>\n",
              "      <td>Einwohnern</td>\n",
              "      <td>an</td>\n",
              "      <td>der</td>\n",
              "      <td>Danziger</td>\n",
              "      <td>Bucht</td>\n",
              "      <td>in</td>\n",
              "      <td>der</td>\n",
              "      <td>polnischen</td>\n",
              "      <td>Woiwodschaft</td>\n",
              "      <td>Pommern</td>\n",
              "      <td>.</td>\n",
              "    </tr>\n",
              "    <tr>\n",
              "      <th>Tags</th>\n",
              "      <td>O</td>\n",
              "      <td>O</td>\n",
              "      <td>O</td>\n",
              "      <td>O</td>\n",
              "      <td>B-LOC</td>\n",
              "      <td>I-LOC</td>\n",
              "      <td>O</td>\n",
              "      <td>O</td>\n",
              "      <td>B-LOC</td>\n",
              "      <td>B-LOC</td>\n",
              "      <td>I-LOC</td>\n",
              "      <td>O</td>\n",
              "    </tr>\n",
              "  </tbody>\n",
              "</table>\n",
              "</div>\n",
              "    <div class=\"colab-df-buttons\">\n",
              "\n",
              "  <div class=\"colab-df-container\">\n",
              "    <button class=\"colab-df-convert\" onclick=\"convertToInteractive('df-0d344e66-e454-4c90-8888-70f35141fd65')\"\n",
              "            title=\"Convert this dataframe to an interactive table.\"\n",
              "            style=\"display:none;\">\n",
              "\n",
              "  <svg xmlns=\"http://www.w3.org/2000/svg\" height=\"24px\" viewBox=\"0 -960 960 960\">\n",
              "    <path d=\"M120-120v-720h720v720H120Zm60-500h600v-160H180v160Zm220 220h160v-160H400v160Zm0 220h160v-160H400v160ZM180-400h160v-160H180v160Zm440 0h160v-160H620v160ZM180-180h160v-160H180v160Zm440 0h160v-160H620v160Z\"/>\n",
              "  </svg>\n",
              "    </button>\n",
              "\n",
              "  <style>\n",
              "    .colab-df-container {\n",
              "      display:flex;\n",
              "      gap: 12px;\n",
              "    }\n",
              "\n",
              "    .colab-df-convert {\n",
              "      background-color: #E8F0FE;\n",
              "      border: none;\n",
              "      border-radius: 50%;\n",
              "      cursor: pointer;\n",
              "      display: none;\n",
              "      fill: #1967D2;\n",
              "      height: 32px;\n",
              "      padding: 0 0 0 0;\n",
              "      width: 32px;\n",
              "    }\n",
              "\n",
              "    .colab-df-convert:hover {\n",
              "      background-color: #E2EBFA;\n",
              "      box-shadow: 0px 1px 2px rgba(60, 64, 67, 0.3), 0px 1px 3px 1px rgba(60, 64, 67, 0.15);\n",
              "      fill: #174EA6;\n",
              "    }\n",
              "\n",
              "    .colab-df-buttons div {\n",
              "      margin-bottom: 4px;\n",
              "    }\n",
              "\n",
              "    [theme=dark] .colab-df-convert {\n",
              "      background-color: #3B4455;\n",
              "      fill: #D2E3FC;\n",
              "    }\n",
              "\n",
              "    [theme=dark] .colab-df-convert:hover {\n",
              "      background-color: #434B5C;\n",
              "      box-shadow: 0px 1px 3px 1px rgba(0, 0, 0, 0.15);\n",
              "      filter: drop-shadow(0px 1px 2px rgba(0, 0, 0, 0.3));\n",
              "      fill: #FFFFFF;\n",
              "    }\n",
              "  </style>\n",
              "\n",
              "    <script>\n",
              "      const buttonEl =\n",
              "        document.querySelector('#df-0d344e66-e454-4c90-8888-70f35141fd65 button.colab-df-convert');\n",
              "      buttonEl.style.display =\n",
              "        google.colab.kernel.accessAllowed ? 'block' : 'none';\n",
              "\n",
              "      async function convertToInteractive(key) {\n",
              "        const element = document.querySelector('#df-0d344e66-e454-4c90-8888-70f35141fd65');\n",
              "        const dataTable =\n",
              "          await google.colab.kernel.invokeFunction('convertToInteractive',\n",
              "                                                    [key], {});\n",
              "        if (!dataTable) return;\n",
              "\n",
              "        const docLinkHtml = 'Like what you see? Visit the ' +\n",
              "          '<a target=\"_blank\" href=https://colab.research.google.com/notebooks/data_table.ipynb>data table notebook</a>'\n",
              "          + ' to learn more about interactive tables.';\n",
              "        element.innerHTML = '';\n",
              "        dataTable['output_type'] = 'display_data';\n",
              "        await google.colab.output.renderOutput(dataTable, element);\n",
              "        const docLink = document.createElement('div');\n",
              "        docLink.innerHTML = docLinkHtml;\n",
              "        element.appendChild(docLink);\n",
              "      }\n",
              "    </script>\n",
              "  </div>\n",
              "\n",
              "\n",
              "    <div id=\"df-87faf094-8fdc-4aff-ae25-fe9e870ba466\">\n",
              "      <button class=\"colab-df-quickchart\" onclick=\"quickchart('df-87faf094-8fdc-4aff-ae25-fe9e870ba466')\"\n",
              "                title=\"Suggest charts\"\n",
              "                style=\"display:none;\">\n",
              "\n",
              "<svg xmlns=\"http://www.w3.org/2000/svg\" height=\"24px\"viewBox=\"0 0 24 24\"\n",
              "     width=\"24px\">\n",
              "    <g>\n",
              "        <path d=\"M19 3H5c-1.1 0-2 .9-2 2v14c0 1.1.9 2 2 2h14c1.1 0 2-.9 2-2V5c0-1.1-.9-2-2-2zM9 17H7v-7h2v7zm4 0h-2V7h2v10zm4 0h-2v-4h2v4z\"/>\n",
              "    </g>\n",
              "</svg>\n",
              "      </button>\n",
              "\n",
              "<style>\n",
              "  .colab-df-quickchart {\n",
              "      --bg-color: #E8F0FE;\n",
              "      --fill-color: #1967D2;\n",
              "      --hover-bg-color: #E2EBFA;\n",
              "      --hover-fill-color: #174EA6;\n",
              "      --disabled-fill-color: #AAA;\n",
              "      --disabled-bg-color: #DDD;\n",
              "  }\n",
              "\n",
              "  [theme=dark] .colab-df-quickchart {\n",
              "      --bg-color: #3B4455;\n",
              "      --fill-color: #D2E3FC;\n",
              "      --hover-bg-color: #434B5C;\n",
              "      --hover-fill-color: #FFFFFF;\n",
              "      --disabled-bg-color: #3B4455;\n",
              "      --disabled-fill-color: #666;\n",
              "  }\n",
              "\n",
              "  .colab-df-quickchart {\n",
              "    background-color: var(--bg-color);\n",
              "    border: none;\n",
              "    border-radius: 50%;\n",
              "    cursor: pointer;\n",
              "    display: none;\n",
              "    fill: var(--fill-color);\n",
              "    height: 32px;\n",
              "    padding: 0;\n",
              "    width: 32px;\n",
              "  }\n",
              "\n",
              "  .colab-df-quickchart:hover {\n",
              "    background-color: var(--hover-bg-color);\n",
              "    box-shadow: 0 1px 2px rgba(60, 64, 67, 0.3), 0 1px 3px 1px rgba(60, 64, 67, 0.15);\n",
              "    fill: var(--button-hover-fill-color);\n",
              "  }\n",
              "\n",
              "  .colab-df-quickchart-complete:disabled,\n",
              "  .colab-df-quickchart-complete:disabled:hover {\n",
              "    background-color: var(--disabled-bg-color);\n",
              "    fill: var(--disabled-fill-color);\n",
              "    box-shadow: none;\n",
              "  }\n",
              "\n",
              "  .colab-df-spinner {\n",
              "    border: 2px solid var(--fill-color);\n",
              "    border-color: transparent;\n",
              "    border-bottom-color: var(--fill-color);\n",
              "    animation:\n",
              "      spin 1s steps(1) infinite;\n",
              "  }\n",
              "\n",
              "  @keyframes spin {\n",
              "    0% {\n",
              "      border-color: transparent;\n",
              "      border-bottom-color: var(--fill-color);\n",
              "      border-left-color: var(--fill-color);\n",
              "    }\n",
              "    20% {\n",
              "      border-color: transparent;\n",
              "      border-left-color: var(--fill-color);\n",
              "      border-top-color: var(--fill-color);\n",
              "    }\n",
              "    30% {\n",
              "      border-color: transparent;\n",
              "      border-left-color: var(--fill-color);\n",
              "      border-top-color: var(--fill-color);\n",
              "      border-right-color: var(--fill-color);\n",
              "    }\n",
              "    40% {\n",
              "      border-color: transparent;\n",
              "      border-right-color: var(--fill-color);\n",
              "      border-top-color: var(--fill-color);\n",
              "    }\n",
              "    60% {\n",
              "      border-color: transparent;\n",
              "      border-right-color: var(--fill-color);\n",
              "    }\n",
              "    80% {\n",
              "      border-color: transparent;\n",
              "      border-right-color: var(--fill-color);\n",
              "      border-bottom-color: var(--fill-color);\n",
              "    }\n",
              "    90% {\n",
              "      border-color: transparent;\n",
              "      border-bottom-color: var(--fill-color);\n",
              "    }\n",
              "  }\n",
              "</style>\n",
              "\n",
              "      <script>\n",
              "        async function quickchart(key) {\n",
              "          const quickchartButtonEl =\n",
              "            document.querySelector('#' + key + ' button');\n",
              "          quickchartButtonEl.disabled = true;  // To prevent multiple clicks.\n",
              "          quickchartButtonEl.classList.add('colab-df-spinner');\n",
              "          try {\n",
              "            const charts = await google.colab.kernel.invokeFunction(\n",
              "                'suggestCharts', [key], {});\n",
              "          } catch (error) {\n",
              "            console.error('Error during call to suggestCharts:', error);\n",
              "          }\n",
              "          quickchartButtonEl.classList.remove('colab-df-spinner');\n",
              "          quickchartButtonEl.classList.add('colab-df-quickchart-complete');\n",
              "        }\n",
              "        (() => {\n",
              "          let quickchartButtonEl =\n",
              "            document.querySelector('#df-87faf094-8fdc-4aff-ae25-fe9e870ba466 button');\n",
              "          quickchartButtonEl.style.display =\n",
              "            google.colab.kernel.accessAllowed ? 'block' : 'none';\n",
              "        })();\n",
              "      </script>\n",
              "    </div>\n",
              "\n",
              "    </div>\n",
              "  </div>\n"
            ],
            "text/plain": [
              "           0           1   2    3         4      5   6    7           8   \\\n",
              "Tokens  2.000  Einwohnern  an  der  Danziger  Bucht  in  der  polnischen   \n",
              "Tags        O           O   O    O     B-LOC  I-LOC   O    O       B-LOC   \n",
              "\n",
              "                  9        10 11  \n",
              "Tokens  Woiwodschaft  Pommern  .  \n",
              "Tags           B-LOC    I-LOC  O  "
            ]
          },
          "execution_count": 33,
          "metadata": {},
          "output_type": "execute_result"
        }
      ],
      "source": [
        "de_example = panx_de[\"train\"][0]\n",
        "pd.DataFrame([de_example[\"tokens\"], de_example[\"ner_tags_str\"]],\n",
        "['Tokens', 'Tags'])"
      ]
    },
    {
      "cell_type": "code",
      "execution_count": null,
      "metadata": {
        "id": "wz7ul_-Xh7VY"
      },
      "outputs": [],
      "source": [
        "words, labels=de_example['tokens'], de_example['ner_tags']"
      ]
    },
    {
      "cell_type": "code",
      "execution_count": null,
      "metadata": {
        "colab": {
          "base_uri": "https://localhost:8080/"
        },
        "id": "3o2GzQmJiWhi",
        "outputId": "0a7e4fbf-ee3d-4a4d-c98c-02f3e7448d79"
      },
      "outputs": [
        {
          "data": {
            "text/plain": [
              "['2.000',\n",
              " 'Einwohnern',\n",
              " 'an',\n",
              " 'der',\n",
              " 'Danziger',\n",
              " 'Bucht',\n",
              " 'in',\n",
              " 'der',\n",
              " 'polnischen',\n",
              " 'Woiwodschaft',\n",
              " 'Pommern',\n",
              " '.']"
            ]
          },
          "execution_count": 53,
          "metadata": {},
          "output_type": "execute_result"
        }
      ],
      "source": [
        "words"
      ]
    },
    {
      "cell_type": "code",
      "execution_count": null,
      "metadata": {
        "colab": {
          "base_uri": "https://localhost:8080/",
          "height": 141
        },
        "id": "-zYVVDDGixOO",
        "outputId": "5b15647d-3827-44fc-c5ae-7e172e7a4624"
      },
      "outputs": [
        {
          "data": {
            "application/vnd.google.colaboratory.intrinsic+json": {
              "type": "dataframe"
            },
            "text/html": [
              "\n",
              "  <div id=\"df-336d2943-087e-4561-8d89-4d677c3c900f\" class=\"colab-df-container\">\n",
              "    <div>\n",
              "<style scoped>\n",
              "    .dataframe tbody tr th:only-of-type {\n",
              "        vertical-align: middle;\n",
              "    }\n",
              "\n",
              "    .dataframe tbody tr th {\n",
              "        vertical-align: top;\n",
              "    }\n",
              "\n",
              "    .dataframe thead th {\n",
              "        text-align: right;\n",
              "    }\n",
              "</style>\n",
              "<table border=\"1\" class=\"dataframe\">\n",
              "  <thead>\n",
              "    <tr style=\"text-align: right;\">\n",
              "      <th></th>\n",
              "      <th>0</th>\n",
              "      <th>1</th>\n",
              "      <th>2</th>\n",
              "      <th>3</th>\n",
              "      <th>4</th>\n",
              "      <th>5</th>\n",
              "      <th>6</th>\n",
              "      <th>7</th>\n",
              "      <th>8</th>\n",
              "      <th>9</th>\n",
              "      <th>...</th>\n",
              "      <th>15</th>\n",
              "      <th>16</th>\n",
              "      <th>17</th>\n",
              "      <th>18</th>\n",
              "      <th>19</th>\n",
              "      <th>20</th>\n",
              "      <th>21</th>\n",
              "      <th>22</th>\n",
              "      <th>23</th>\n",
              "      <th>24</th>\n",
              "    </tr>\n",
              "  </thead>\n",
              "  <tbody>\n",
              "    <tr>\n",
              "      <th>Tokens</th>\n",
              "      <td>&lt;s&gt;</td>\n",
              "      <td>▁2.000</td>\n",
              "      <td>▁Einwohner</td>\n",
              "      <td>n</td>\n",
              "      <td>▁an</td>\n",
              "      <td>▁der</td>\n",
              "      <td>▁Dan</td>\n",
              "      <td>zi</td>\n",
              "      <td>ger</td>\n",
              "      <td>▁Buch</td>\n",
              "      <td>...</td>\n",
              "      <td>▁Wo</td>\n",
              "      <td>i</td>\n",
              "      <td>wod</td>\n",
              "      <td>schaft</td>\n",
              "      <td>▁Po</td>\n",
              "      <td>mmer</td>\n",
              "      <td>n</td>\n",
              "      <td>▁</td>\n",
              "      <td>.</td>\n",
              "      <td>&lt;/s&gt;</td>\n",
              "    </tr>\n",
              "    <tr>\n",
              "      <th>Labels</th>\n",
              "      <td>0</td>\n",
              "      <td>0</td>\n",
              "      <td>0</td>\n",
              "      <td>0</td>\n",
              "      <td>5</td>\n",
              "      <td>6</td>\n",
              "      <td>0</td>\n",
              "      <td>0</td>\n",
              "      <td>5</td>\n",
              "      <td>5</td>\n",
              "      <td>...</td>\n",
              "      <td>None</td>\n",
              "      <td>None</td>\n",
              "      <td>None</td>\n",
              "      <td>None</td>\n",
              "      <td>None</td>\n",
              "      <td>None</td>\n",
              "      <td>None</td>\n",
              "      <td>None</td>\n",
              "      <td>None</td>\n",
              "      <td>None</td>\n",
              "    </tr>\n",
              "  </tbody>\n",
              "</table>\n",
              "<p>2 rows × 25 columns</p>\n",
              "</div>\n",
              "    <div class=\"colab-df-buttons\">\n",
              "\n",
              "  <div class=\"colab-df-container\">\n",
              "    <button class=\"colab-df-convert\" onclick=\"convertToInteractive('df-336d2943-087e-4561-8d89-4d677c3c900f')\"\n",
              "            title=\"Convert this dataframe to an interactive table.\"\n",
              "            style=\"display:none;\">\n",
              "\n",
              "  <svg xmlns=\"http://www.w3.org/2000/svg\" height=\"24px\" viewBox=\"0 -960 960 960\">\n",
              "    <path d=\"M120-120v-720h720v720H120Zm60-500h600v-160H180v160Zm220 220h160v-160H400v160Zm0 220h160v-160H400v160ZM180-400h160v-160H180v160Zm440 0h160v-160H620v160ZM180-180h160v-160H180v160Zm440 0h160v-160H620v160Z\"/>\n",
              "  </svg>\n",
              "    </button>\n",
              "\n",
              "  <style>\n",
              "    .colab-df-container {\n",
              "      display:flex;\n",
              "      gap: 12px;\n",
              "    }\n",
              "\n",
              "    .colab-df-convert {\n",
              "      background-color: #E8F0FE;\n",
              "      border: none;\n",
              "      border-radius: 50%;\n",
              "      cursor: pointer;\n",
              "      display: none;\n",
              "      fill: #1967D2;\n",
              "      height: 32px;\n",
              "      padding: 0 0 0 0;\n",
              "      width: 32px;\n",
              "    }\n",
              "\n",
              "    .colab-df-convert:hover {\n",
              "      background-color: #E2EBFA;\n",
              "      box-shadow: 0px 1px 2px rgba(60, 64, 67, 0.3), 0px 1px 3px 1px rgba(60, 64, 67, 0.15);\n",
              "      fill: #174EA6;\n",
              "    }\n",
              "\n",
              "    .colab-df-buttons div {\n",
              "      margin-bottom: 4px;\n",
              "    }\n",
              "\n",
              "    [theme=dark] .colab-df-convert {\n",
              "      background-color: #3B4455;\n",
              "      fill: #D2E3FC;\n",
              "    }\n",
              "\n",
              "    [theme=dark] .colab-df-convert:hover {\n",
              "      background-color: #434B5C;\n",
              "      box-shadow: 0px 1px 3px 1px rgba(0, 0, 0, 0.15);\n",
              "      filter: drop-shadow(0px 1px 2px rgba(0, 0, 0, 0.3));\n",
              "      fill: #FFFFFF;\n",
              "    }\n",
              "  </style>\n",
              "\n",
              "    <script>\n",
              "      const buttonEl =\n",
              "        document.querySelector('#df-336d2943-087e-4561-8d89-4d677c3c900f button.colab-df-convert');\n",
              "      buttonEl.style.display =\n",
              "        google.colab.kernel.accessAllowed ? 'block' : 'none';\n",
              "\n",
              "      async function convertToInteractive(key) {\n",
              "        const element = document.querySelector('#df-336d2943-087e-4561-8d89-4d677c3c900f');\n",
              "        const dataTable =\n",
              "          await google.colab.kernel.invokeFunction('convertToInteractive',\n",
              "                                                    [key], {});\n",
              "        if (!dataTable) return;\n",
              "\n",
              "        const docLinkHtml = 'Like what you see? Visit the ' +\n",
              "          '<a target=\"_blank\" href=https://colab.research.google.com/notebooks/data_table.ipynb>data table notebook</a>'\n",
              "          + ' to learn more about interactive tables.';\n",
              "        element.innerHTML = '';\n",
              "        dataTable['output_type'] = 'display_data';\n",
              "        await google.colab.output.renderOutput(dataTable, element);\n",
              "        const docLink = document.createElement('div');\n",
              "        docLink.innerHTML = docLinkHtml;\n",
              "        element.appendChild(docLink);\n",
              "      }\n",
              "    </script>\n",
              "  </div>\n",
              "\n",
              "\n",
              "    <div id=\"df-d4f1de63-20f4-492f-9e44-de2b1832ca74\">\n",
              "      <button class=\"colab-df-quickchart\" onclick=\"quickchart('df-d4f1de63-20f4-492f-9e44-de2b1832ca74')\"\n",
              "                title=\"Suggest charts\"\n",
              "                style=\"display:none;\">\n",
              "\n",
              "<svg xmlns=\"http://www.w3.org/2000/svg\" height=\"24px\"viewBox=\"0 0 24 24\"\n",
              "     width=\"24px\">\n",
              "    <g>\n",
              "        <path d=\"M19 3H5c-1.1 0-2 .9-2 2v14c0 1.1.9 2 2 2h14c1.1 0 2-.9 2-2V5c0-1.1-.9-2-2-2zM9 17H7v-7h2v7zm4 0h-2V7h2v10zm4 0h-2v-4h2v4z\"/>\n",
              "    </g>\n",
              "</svg>\n",
              "      </button>\n",
              "\n",
              "<style>\n",
              "  .colab-df-quickchart {\n",
              "      --bg-color: #E8F0FE;\n",
              "      --fill-color: #1967D2;\n",
              "      --hover-bg-color: #E2EBFA;\n",
              "      --hover-fill-color: #174EA6;\n",
              "      --disabled-fill-color: #AAA;\n",
              "      --disabled-bg-color: #DDD;\n",
              "  }\n",
              "\n",
              "  [theme=dark] .colab-df-quickchart {\n",
              "      --bg-color: #3B4455;\n",
              "      --fill-color: #D2E3FC;\n",
              "      --hover-bg-color: #434B5C;\n",
              "      --hover-fill-color: #FFFFFF;\n",
              "      --disabled-bg-color: #3B4455;\n",
              "      --disabled-fill-color: #666;\n",
              "  }\n",
              "\n",
              "  .colab-df-quickchart {\n",
              "    background-color: var(--bg-color);\n",
              "    border: none;\n",
              "    border-radius: 50%;\n",
              "    cursor: pointer;\n",
              "    display: none;\n",
              "    fill: var(--fill-color);\n",
              "    height: 32px;\n",
              "    padding: 0;\n",
              "    width: 32px;\n",
              "  }\n",
              "\n",
              "  .colab-df-quickchart:hover {\n",
              "    background-color: var(--hover-bg-color);\n",
              "    box-shadow: 0 1px 2px rgba(60, 64, 67, 0.3), 0 1px 3px 1px rgba(60, 64, 67, 0.15);\n",
              "    fill: var(--button-hover-fill-color);\n",
              "  }\n",
              "\n",
              "  .colab-df-quickchart-complete:disabled,\n",
              "  .colab-df-quickchart-complete:disabled:hover {\n",
              "    background-color: var(--disabled-bg-color);\n",
              "    fill: var(--disabled-fill-color);\n",
              "    box-shadow: none;\n",
              "  }\n",
              "\n",
              "  .colab-df-spinner {\n",
              "    border: 2px solid var(--fill-color);\n",
              "    border-color: transparent;\n",
              "    border-bottom-color: var(--fill-color);\n",
              "    animation:\n",
              "      spin 1s steps(1) infinite;\n",
              "  }\n",
              "\n",
              "  @keyframes spin {\n",
              "    0% {\n",
              "      border-color: transparent;\n",
              "      border-bottom-color: var(--fill-color);\n",
              "      border-left-color: var(--fill-color);\n",
              "    }\n",
              "    20% {\n",
              "      border-color: transparent;\n",
              "      border-left-color: var(--fill-color);\n",
              "      border-top-color: var(--fill-color);\n",
              "    }\n",
              "    30% {\n",
              "      border-color: transparent;\n",
              "      border-left-color: var(--fill-color);\n",
              "      border-top-color: var(--fill-color);\n",
              "      border-right-color: var(--fill-color);\n",
              "    }\n",
              "    40% {\n",
              "      border-color: transparent;\n",
              "      border-right-color: var(--fill-color);\n",
              "      border-top-color: var(--fill-color);\n",
              "    }\n",
              "    60% {\n",
              "      border-color: transparent;\n",
              "      border-right-color: var(--fill-color);\n",
              "    }\n",
              "    80% {\n",
              "      border-color: transparent;\n",
              "      border-right-color: var(--fill-color);\n",
              "      border-bottom-color: var(--fill-color);\n",
              "    }\n",
              "    90% {\n",
              "      border-color: transparent;\n",
              "      border-bottom-color: var(--fill-color);\n",
              "    }\n",
              "  }\n",
              "</style>\n",
              "\n",
              "      <script>\n",
              "        async function quickchart(key) {\n",
              "          const quickchartButtonEl =\n",
              "            document.querySelector('#' + key + ' button');\n",
              "          quickchartButtonEl.disabled = true;  // To prevent multiple clicks.\n",
              "          quickchartButtonEl.classList.add('colab-df-spinner');\n",
              "          try {\n",
              "            const charts = await google.colab.kernel.invokeFunction(\n",
              "                'suggestCharts', [key], {});\n",
              "          } catch (error) {\n",
              "            console.error('Error during call to suggestCharts:', error);\n",
              "          }\n",
              "          quickchartButtonEl.classList.remove('colab-df-spinner');\n",
              "          quickchartButtonEl.classList.add('colab-df-quickchart-complete');\n",
              "        }\n",
              "        (() => {\n",
              "          let quickchartButtonEl =\n",
              "            document.querySelector('#df-d4f1de63-20f4-492f-9e44-de2b1832ca74 button');\n",
              "          quickchartButtonEl.style.display =\n",
              "            google.colab.kernel.accessAllowed ? 'block' : 'none';\n",
              "        })();\n",
              "      </script>\n",
              "    </div>\n",
              "\n",
              "    </div>\n",
              "  </div>\n"
            ],
            "text/plain": [
              "         0       1           2  3    4     5     6   7    8      9   ...  \\\n",
              "Tokens  <s>  ▁2.000  ▁Einwohner  n  ▁an  ▁der  ▁Dan  zi  ger  ▁Buch  ...   \n",
              "Labels    0       0           0  0    5     6     0   0    5      5  ...   \n",
              "\n",
              "          15    16    17      18    19    20    21    22    23    24  \n",
              "Tokens   ▁Wo     i   wod  schaft   ▁Po  mmer     n     ▁     .  </s>  \n",
              "Labels  None  None  None    None  None  None  None  None  None  None  \n",
              "\n",
              "[2 rows x 25 columns]"
            ]
          },
          "execution_count": 54,
          "metadata": {},
          "output_type": "execute_result"
        }
      ],
      "source": [
        "tokenized_input=xlmr_tokenizer(words, is_split_into_words=True) #sozlere bolunu b yoxsa yox, string olara false\n",
        "tokens=xlmr_tokenizer.convert_ids_to_tokens(tokenized_input['input_ids'])\n",
        "pd.DataFrame([tokens,labels], index=['Tokens','Labels'])#sozler bolunu  label ile solzer ust uste duhmur"
      ]
    },
    {
      "cell_type": "code",
      "execution_count": null,
      "metadata": {
        "colab": {
          "base_uri": "https://localhost:8080/"
        },
        "id": "IDHC23htjOxY",
        "outputId": "f4953804-8aef-4c43-e31a-69bc55575225"
      },
      "outputs": [
        {
          "data": {
            "text/plain": [
              "{'input_ids': [0, 70101, 176581, 19, 142, 122, 2290, 708, 1505, 18363, 18, 23, 122, 127474, 15439, 13787, 14, 15263, 18917, 663, 6947, 19, 6, 5, 2], 'attention_mask': [1, 1, 1, 1, 1, 1, 1, 1, 1, 1, 1, 1, 1, 1, 1, 1, 1, 1, 1, 1, 1, 1, 1, 1, 1]}"
            ]
          },
          "execution_count": 55,
          "metadata": {},
          "output_type": "execute_result"
        }
      ],
      "source": [
        "tokenized_input #etxt--reqem"
      ]
    },
    {
      "cell_type": "code",
      "execution_count": null,
      "metadata": {
        "colab": {
          "base_uri": "https://localhost:8080/"
        },
        "id": "LGih96oEkBrn",
        "outputId": "9d8cffb5-fd3b-436b-d947-669baaa42086"
      },
      "outputs": [
        {
          "data": {
            "text/plain": [
              "[None,\n",
              " 0,\n",
              " 1,\n",
              " 1,\n",
              " 2,\n",
              " 3,\n",
              " 4,\n",
              " 4,\n",
              " 4,\n",
              " 5,\n",
              " 5,\n",
              " 6,\n",
              " 7,\n",
              " 8,\n",
              " 8,\n",
              " 9,\n",
              " 9,\n",
              " 9,\n",
              " 9,\n",
              " 10,\n",
              " 10,\n",
              " 10,\n",
              " 11,\n",
              " 11,\n",
              " None]"
            ]
          },
          "execution_count": 42,
          "metadata": {},
          "output_type": "execute_result"
        }
      ],
      "source": [
        "tokenized_input.word_ids()"
      ]
    },
    {
      "cell_type": "code",
      "execution_count": null,
      "metadata": {
        "colab": {
          "base_uri": "https://localhost:8080/",
          "height": 141
        },
        "id": "44bvRJGXjgD_",
        "outputId": "cd287044-893a-4462-ba94-267c3bbb770f"
      },
      "outputs": [
        {
          "data": {
            "application/vnd.google.colaboratory.intrinsic+json": {
              "type": "dataframe"
            },
            "text/html": [
              "\n",
              "  <div id=\"df-5f0d5111-883e-4f54-b484-c36acfca1891\" class=\"colab-df-container\">\n",
              "    <div>\n",
              "<style scoped>\n",
              "    .dataframe tbody tr th:only-of-type {\n",
              "        vertical-align: middle;\n",
              "    }\n",
              "\n",
              "    .dataframe tbody tr th {\n",
              "        vertical-align: top;\n",
              "    }\n",
              "\n",
              "    .dataframe thead th {\n",
              "        text-align: right;\n",
              "    }\n",
              "</style>\n",
              "<table border=\"1\" class=\"dataframe\">\n",
              "  <thead>\n",
              "    <tr style=\"text-align: right;\">\n",
              "      <th></th>\n",
              "      <th>0</th>\n",
              "      <th>1</th>\n",
              "      <th>2</th>\n",
              "      <th>3</th>\n",
              "      <th>4</th>\n",
              "      <th>5</th>\n",
              "      <th>6</th>\n",
              "      <th>7</th>\n",
              "      <th>8</th>\n",
              "      <th>9</th>\n",
              "      <th>...</th>\n",
              "      <th>15</th>\n",
              "      <th>16</th>\n",
              "      <th>17</th>\n",
              "      <th>18</th>\n",
              "      <th>19</th>\n",
              "      <th>20</th>\n",
              "      <th>21</th>\n",
              "      <th>22</th>\n",
              "      <th>23</th>\n",
              "      <th>24</th>\n",
              "    </tr>\n",
              "  </thead>\n",
              "  <tbody>\n",
              "    <tr>\n",
              "      <th>Tokens</th>\n",
              "      <td>&lt;s&gt;</td>\n",
              "      <td>▁2.000</td>\n",
              "      <td>▁Einwohner</td>\n",
              "      <td>n</td>\n",
              "      <td>▁an</td>\n",
              "      <td>▁der</td>\n",
              "      <td>▁Dan</td>\n",
              "      <td>zi</td>\n",
              "      <td>ger</td>\n",
              "      <td>▁Buch</td>\n",
              "      <td>...</td>\n",
              "      <td>▁Wo</td>\n",
              "      <td>i</td>\n",
              "      <td>wod</td>\n",
              "      <td>schaft</td>\n",
              "      <td>▁Po</td>\n",
              "      <td>mmer</td>\n",
              "      <td>n</td>\n",
              "      <td>▁</td>\n",
              "      <td>.</td>\n",
              "      <td>&lt;/s&gt;</td>\n",
              "    </tr>\n",
              "    <tr>\n",
              "      <th>Word IDs</th>\n",
              "      <td>None</td>\n",
              "      <td>0</td>\n",
              "      <td>1</td>\n",
              "      <td>1</td>\n",
              "      <td>2</td>\n",
              "      <td>3</td>\n",
              "      <td>4</td>\n",
              "      <td>4</td>\n",
              "      <td>4</td>\n",
              "      <td>5</td>\n",
              "      <td>...</td>\n",
              "      <td>9</td>\n",
              "      <td>9</td>\n",
              "      <td>9</td>\n",
              "      <td>9</td>\n",
              "      <td>10</td>\n",
              "      <td>10</td>\n",
              "      <td>10</td>\n",
              "      <td>11</td>\n",
              "      <td>11</td>\n",
              "      <td>None</td>\n",
              "    </tr>\n",
              "  </tbody>\n",
              "</table>\n",
              "<p>2 rows × 25 columns</p>\n",
              "</div>\n",
              "    <div class=\"colab-df-buttons\">\n",
              "\n",
              "  <div class=\"colab-df-container\">\n",
              "    <button class=\"colab-df-convert\" onclick=\"convertToInteractive('df-5f0d5111-883e-4f54-b484-c36acfca1891')\"\n",
              "            title=\"Convert this dataframe to an interactive table.\"\n",
              "            style=\"display:none;\">\n",
              "\n",
              "  <svg xmlns=\"http://www.w3.org/2000/svg\" height=\"24px\" viewBox=\"0 -960 960 960\">\n",
              "    <path d=\"M120-120v-720h720v720H120Zm60-500h600v-160H180v160Zm220 220h160v-160H400v160Zm0 220h160v-160H400v160ZM180-400h160v-160H180v160Zm440 0h160v-160H620v160ZM180-180h160v-160H180v160Zm440 0h160v-160H620v160Z\"/>\n",
              "  </svg>\n",
              "    </button>\n",
              "\n",
              "  <style>\n",
              "    .colab-df-container {\n",
              "      display:flex;\n",
              "      gap: 12px;\n",
              "    }\n",
              "\n",
              "    .colab-df-convert {\n",
              "      background-color: #E8F0FE;\n",
              "      border: none;\n",
              "      border-radius: 50%;\n",
              "      cursor: pointer;\n",
              "      display: none;\n",
              "      fill: #1967D2;\n",
              "      height: 32px;\n",
              "      padding: 0 0 0 0;\n",
              "      width: 32px;\n",
              "    }\n",
              "\n",
              "    .colab-df-convert:hover {\n",
              "      background-color: #E2EBFA;\n",
              "      box-shadow: 0px 1px 2px rgba(60, 64, 67, 0.3), 0px 1px 3px 1px rgba(60, 64, 67, 0.15);\n",
              "      fill: #174EA6;\n",
              "    }\n",
              "\n",
              "    .colab-df-buttons div {\n",
              "      margin-bottom: 4px;\n",
              "    }\n",
              "\n",
              "    [theme=dark] .colab-df-convert {\n",
              "      background-color: #3B4455;\n",
              "      fill: #D2E3FC;\n",
              "    }\n",
              "\n",
              "    [theme=dark] .colab-df-convert:hover {\n",
              "      background-color: #434B5C;\n",
              "      box-shadow: 0px 1px 3px 1px rgba(0, 0, 0, 0.15);\n",
              "      filter: drop-shadow(0px 1px 2px rgba(0, 0, 0, 0.3));\n",
              "      fill: #FFFFFF;\n",
              "    }\n",
              "  </style>\n",
              "\n",
              "    <script>\n",
              "      const buttonEl =\n",
              "        document.querySelector('#df-5f0d5111-883e-4f54-b484-c36acfca1891 button.colab-df-convert');\n",
              "      buttonEl.style.display =\n",
              "        google.colab.kernel.accessAllowed ? 'block' : 'none';\n",
              "\n",
              "      async function convertToInteractive(key) {\n",
              "        const element = document.querySelector('#df-5f0d5111-883e-4f54-b484-c36acfca1891');\n",
              "        const dataTable =\n",
              "          await google.colab.kernel.invokeFunction('convertToInteractive',\n",
              "                                                    [key], {});\n",
              "        if (!dataTable) return;\n",
              "\n",
              "        const docLinkHtml = 'Like what you see? Visit the ' +\n",
              "          '<a target=\"_blank\" href=https://colab.research.google.com/notebooks/data_table.ipynb>data table notebook</a>'\n",
              "          + ' to learn more about interactive tables.';\n",
              "        element.innerHTML = '';\n",
              "        dataTable['output_type'] = 'display_data';\n",
              "        await google.colab.output.renderOutput(dataTable, element);\n",
              "        const docLink = document.createElement('div');\n",
              "        docLink.innerHTML = docLinkHtml;\n",
              "        element.appendChild(docLink);\n",
              "      }\n",
              "    </script>\n",
              "  </div>\n",
              "\n",
              "\n",
              "    <div id=\"df-5e71ebe4-d714-4acf-ad26-642351f45d74\">\n",
              "      <button class=\"colab-df-quickchart\" onclick=\"quickchart('df-5e71ebe4-d714-4acf-ad26-642351f45d74')\"\n",
              "                title=\"Suggest charts\"\n",
              "                style=\"display:none;\">\n",
              "\n",
              "<svg xmlns=\"http://www.w3.org/2000/svg\" height=\"24px\"viewBox=\"0 0 24 24\"\n",
              "     width=\"24px\">\n",
              "    <g>\n",
              "        <path d=\"M19 3H5c-1.1 0-2 .9-2 2v14c0 1.1.9 2 2 2h14c1.1 0 2-.9 2-2V5c0-1.1-.9-2-2-2zM9 17H7v-7h2v7zm4 0h-2V7h2v10zm4 0h-2v-4h2v4z\"/>\n",
              "    </g>\n",
              "</svg>\n",
              "      </button>\n",
              "\n",
              "<style>\n",
              "  .colab-df-quickchart {\n",
              "      --bg-color: #E8F0FE;\n",
              "      --fill-color: #1967D2;\n",
              "      --hover-bg-color: #E2EBFA;\n",
              "      --hover-fill-color: #174EA6;\n",
              "      --disabled-fill-color: #AAA;\n",
              "      --disabled-bg-color: #DDD;\n",
              "  }\n",
              "\n",
              "  [theme=dark] .colab-df-quickchart {\n",
              "      --bg-color: #3B4455;\n",
              "      --fill-color: #D2E3FC;\n",
              "      --hover-bg-color: #434B5C;\n",
              "      --hover-fill-color: #FFFFFF;\n",
              "      --disabled-bg-color: #3B4455;\n",
              "      --disabled-fill-color: #666;\n",
              "  }\n",
              "\n",
              "  .colab-df-quickchart {\n",
              "    background-color: var(--bg-color);\n",
              "    border: none;\n",
              "    border-radius: 50%;\n",
              "    cursor: pointer;\n",
              "    display: none;\n",
              "    fill: var(--fill-color);\n",
              "    height: 32px;\n",
              "    padding: 0;\n",
              "    width: 32px;\n",
              "  }\n",
              "\n",
              "  .colab-df-quickchart:hover {\n",
              "    background-color: var(--hover-bg-color);\n",
              "    box-shadow: 0 1px 2px rgba(60, 64, 67, 0.3), 0 1px 3px 1px rgba(60, 64, 67, 0.15);\n",
              "    fill: var(--button-hover-fill-color);\n",
              "  }\n",
              "\n",
              "  .colab-df-quickchart-complete:disabled,\n",
              "  .colab-df-quickchart-complete:disabled:hover {\n",
              "    background-color: var(--disabled-bg-color);\n",
              "    fill: var(--disabled-fill-color);\n",
              "    box-shadow: none;\n",
              "  }\n",
              "\n",
              "  .colab-df-spinner {\n",
              "    border: 2px solid var(--fill-color);\n",
              "    border-color: transparent;\n",
              "    border-bottom-color: var(--fill-color);\n",
              "    animation:\n",
              "      spin 1s steps(1) infinite;\n",
              "  }\n",
              "\n",
              "  @keyframes spin {\n",
              "    0% {\n",
              "      border-color: transparent;\n",
              "      border-bottom-color: var(--fill-color);\n",
              "      border-left-color: var(--fill-color);\n",
              "    }\n",
              "    20% {\n",
              "      border-color: transparent;\n",
              "      border-left-color: var(--fill-color);\n",
              "      border-top-color: var(--fill-color);\n",
              "    }\n",
              "    30% {\n",
              "      border-color: transparent;\n",
              "      border-left-color: var(--fill-color);\n",
              "      border-top-color: var(--fill-color);\n",
              "      border-right-color: var(--fill-color);\n",
              "    }\n",
              "    40% {\n",
              "      border-color: transparent;\n",
              "      border-right-color: var(--fill-color);\n",
              "      border-top-color: var(--fill-color);\n",
              "    }\n",
              "    60% {\n",
              "      border-color: transparent;\n",
              "      border-right-color: var(--fill-color);\n",
              "    }\n",
              "    80% {\n",
              "      border-color: transparent;\n",
              "      border-right-color: var(--fill-color);\n",
              "      border-bottom-color: var(--fill-color);\n",
              "    }\n",
              "    90% {\n",
              "      border-color: transparent;\n",
              "      border-bottom-color: var(--fill-color);\n",
              "    }\n",
              "  }\n",
              "</style>\n",
              "\n",
              "      <script>\n",
              "        async function quickchart(key) {\n",
              "          const quickchartButtonEl =\n",
              "            document.querySelector('#' + key + ' button');\n",
              "          quickchartButtonEl.disabled = true;  // To prevent multiple clicks.\n",
              "          quickchartButtonEl.classList.add('colab-df-spinner');\n",
              "          try {\n",
              "            const charts = await google.colab.kernel.invokeFunction(\n",
              "                'suggestCharts', [key], {});\n",
              "          } catch (error) {\n",
              "            console.error('Error during call to suggestCharts:', error);\n",
              "          }\n",
              "          quickchartButtonEl.classList.remove('colab-df-spinner');\n",
              "          quickchartButtonEl.classList.add('colab-df-quickchart-complete');\n",
              "        }\n",
              "        (() => {\n",
              "          let quickchartButtonEl =\n",
              "            document.querySelector('#df-5e71ebe4-d714-4acf-ad26-642351f45d74 button');\n",
              "          quickchartButtonEl.style.display =\n",
              "            google.colab.kernel.accessAllowed ? 'block' : 'none';\n",
              "        })();\n",
              "      </script>\n",
              "    </div>\n",
              "\n",
              "    </div>\n",
              "  </div>\n"
            ],
            "text/plain": [
              "            0       1           2  3    4     5     6   7    8      9   ...  \\\n",
              "Tokens     <s>  ▁2.000  ▁Einwohner  n  ▁an  ▁der  ▁Dan  zi  ger  ▁Buch  ...   \n",
              "Word IDs  None       0           1  1    2     3     4   4    4      5  ...   \n",
              "\n",
              "           15 16   17      18   19    20  21  22  23    24  \n",
              "Tokens    ▁Wo  i  wod  schaft  ▁Po  mmer   n   ▁   .  </s>  \n",
              "Word IDs    9  9    9       9   10    10  10  11  11  None  \n",
              "\n",
              "[2 rows x 25 columns]"
            ]
          },
          "execution_count": 56,
          "metadata": {},
          "output_type": "execute_result"
        }
      ],
      "source": [
        "word_ids=tokenized_input.word_ids()\n",
        "pd.DataFrame([tokens, word_ids], index=['Tokens','Word IDs'])# eyni soelr yeni reqemlerle, NONElere -100 deyeceyik,  pytorchda -100 ignore edir"
      ]
    },
    {
      "cell_type": "code",
      "execution_count": null,
      "metadata": {
        "colab": {
          "base_uri": "https://localhost:8080/"
        },
        "id": "zkjZV3GfmBLz",
        "outputId": "895c038c-9ffa-4724-e79a-9966249fb846"
      },
      "outputs": [
        {
          "data": {
            "text/plain": [
              "[-100,\n",
              " 'IGN',\n",
              " 'O',\n",
              " -100,\n",
              " 'O',\n",
              " 'IGN',\n",
              " 'O',\n",
              " -100,\n",
              " -100,\n",
              " 'O',\n",
              " -100,\n",
              " 'B-LOC',\n",
              " 'IGN',\n",
              " 'IGN',\n",
              " -100,\n",
              " 'I-LOC',\n",
              " -100,\n",
              " -100,\n",
              " -100,\n",
              " 'IGN',\n",
              " -100,\n",
              " -100,\n",
              " 'O',\n",
              " -100,\n",
              " -100]"
            ]
          },
          "execution_count": 57,
          "metadata": {},
          "output_type": "execute_result"
        }
      ],
      "source": [
        "label_ids"
      ]
    },
    {
      "cell_type": "code",
      "execution_count": null,
      "metadata": {
        "colab": {
          "base_uri": "https://localhost:8080/"
        },
        "id": "n2dQ_vVIl8b6",
        "outputId": "13341297-c68c-4cd4-c2d7-e74b5cdaadd2"
      },
      "outputs": [
        {
          "data": {
            "text/plain": [
              "{0: 'O',\n",
              " 1: 'B-PER',\n",
              " 2: 'I-PER',\n",
              " 3: 'B-ORG',\n",
              " 4: 'I-ORG',\n",
              " 5: 'B-LOC',\n",
              " 6: 'I-LOC'}"
            ]
          },
          "execution_count": 49,
          "metadata": {},
          "output_type": "execute_result"
        }
      ],
      "source": [
        "index2tag"
      ]
    },
    {
      "cell_type": "code",
      "execution_count": null,
      "metadata": {
        "colab": {
          "base_uri": "https://localhost:8080/",
          "height": 204
        },
        "id": "ifqTGKzAj_QT",
        "outputId": "0b9cdf64-ff03-42d5-91b1-ad7b0059bc11"
      },
      "outputs": [
        {
          "data": {
            "application/vnd.google.colaboratory.intrinsic+json": {
              "type": "dataframe",
              "variable_name": "df"
            },
            "text/html": [
              "\n",
              "  <div id=\"df-bd01db82-73c5-4da0-87ba-0a9c1a3cd586\" class=\"colab-df-container\">\n",
              "    <div>\n",
              "<style scoped>\n",
              "    .dataframe tbody tr th:only-of-type {\n",
              "        vertical-align: middle;\n",
              "    }\n",
              "\n",
              "    .dataframe tbody tr th {\n",
              "        vertical-align: top;\n",
              "    }\n",
              "\n",
              "    .dataframe thead th {\n",
              "        text-align: right;\n",
              "    }\n",
              "</style>\n",
              "<table border=\"1\" class=\"dataframe\">\n",
              "  <thead>\n",
              "    <tr style=\"text-align: right;\">\n",
              "      <th></th>\n",
              "      <th>0</th>\n",
              "      <th>1</th>\n",
              "      <th>2</th>\n",
              "      <th>3</th>\n",
              "      <th>4</th>\n",
              "      <th>5</th>\n",
              "      <th>6</th>\n",
              "      <th>7</th>\n",
              "      <th>8</th>\n",
              "      <th>9</th>\n",
              "      <th>...</th>\n",
              "      <th>15</th>\n",
              "      <th>16</th>\n",
              "      <th>17</th>\n",
              "      <th>18</th>\n",
              "      <th>19</th>\n",
              "      <th>20</th>\n",
              "      <th>21</th>\n",
              "      <th>22</th>\n",
              "      <th>23</th>\n",
              "      <th>24</th>\n",
              "    </tr>\n",
              "  </thead>\n",
              "  <tbody>\n",
              "    <tr>\n",
              "      <th>Tokens</th>\n",
              "      <td>&lt;s&gt;</td>\n",
              "      <td>▁2.000</td>\n",
              "      <td>▁Einwohner</td>\n",
              "      <td>n</td>\n",
              "      <td>▁an</td>\n",
              "      <td>▁der</td>\n",
              "      <td>▁Dan</td>\n",
              "      <td>zi</td>\n",
              "      <td>ger</td>\n",
              "      <td>▁Buch</td>\n",
              "      <td>...</td>\n",
              "      <td>▁Wo</td>\n",
              "      <td>i</td>\n",
              "      <td>wod</td>\n",
              "      <td>schaft</td>\n",
              "      <td>▁Po</td>\n",
              "      <td>mmer</td>\n",
              "      <td>n</td>\n",
              "      <td>▁</td>\n",
              "      <td>.</td>\n",
              "      <td>&lt;/s&gt;</td>\n",
              "    </tr>\n",
              "    <tr>\n",
              "      <th>Word IDs</th>\n",
              "      <td>None</td>\n",
              "      <td>0</td>\n",
              "      <td>1</td>\n",
              "      <td>1</td>\n",
              "      <td>2</td>\n",
              "      <td>3</td>\n",
              "      <td>4</td>\n",
              "      <td>4</td>\n",
              "      <td>4</td>\n",
              "      <td>5</td>\n",
              "      <td>...</td>\n",
              "      <td>9</td>\n",
              "      <td>9</td>\n",
              "      <td>9</td>\n",
              "      <td>9</td>\n",
              "      <td>10</td>\n",
              "      <td>10</td>\n",
              "      <td>10</td>\n",
              "      <td>11</td>\n",
              "      <td>11</td>\n",
              "      <td>None</td>\n",
              "    </tr>\n",
              "    <tr>\n",
              "      <th>Label IDs</th>\n",
              "      <td>-100</td>\n",
              "      <td>0</td>\n",
              "      <td>0</td>\n",
              "      <td>-100</td>\n",
              "      <td>0</td>\n",
              "      <td>0</td>\n",
              "      <td>5</td>\n",
              "      <td>-100</td>\n",
              "      <td>-100</td>\n",
              "      <td>6</td>\n",
              "      <td>...</td>\n",
              "      <td>5</td>\n",
              "      <td>-100</td>\n",
              "      <td>-100</td>\n",
              "      <td>-100</td>\n",
              "      <td>6</td>\n",
              "      <td>-100</td>\n",
              "      <td>-100</td>\n",
              "      <td>0</td>\n",
              "      <td>-100</td>\n",
              "      <td>-100</td>\n",
              "    </tr>\n",
              "    <tr>\n",
              "      <th>Labels</th>\n",
              "      <td>IGN</td>\n",
              "      <td>O</td>\n",
              "      <td>O</td>\n",
              "      <td>IGN</td>\n",
              "      <td>O</td>\n",
              "      <td>O</td>\n",
              "      <td>B-LOC</td>\n",
              "      <td>IGN</td>\n",
              "      <td>IGN</td>\n",
              "      <td>I-LOC</td>\n",
              "      <td>...</td>\n",
              "      <td>B-LOC</td>\n",
              "      <td>IGN</td>\n",
              "      <td>IGN</td>\n",
              "      <td>IGN</td>\n",
              "      <td>I-LOC</td>\n",
              "      <td>IGN</td>\n",
              "      <td>IGN</td>\n",
              "      <td>O</td>\n",
              "      <td>IGN</td>\n",
              "      <td>IGN</td>\n",
              "    </tr>\n",
              "  </tbody>\n",
              "</table>\n",
              "<p>4 rows × 25 columns</p>\n",
              "</div>\n",
              "    <div class=\"colab-df-buttons\">\n",
              "\n",
              "  <div class=\"colab-df-container\">\n",
              "    <button class=\"colab-df-convert\" onclick=\"convertToInteractive('df-bd01db82-73c5-4da0-87ba-0a9c1a3cd586')\"\n",
              "            title=\"Convert this dataframe to an interactive table.\"\n",
              "            style=\"display:none;\">\n",
              "\n",
              "  <svg xmlns=\"http://www.w3.org/2000/svg\" height=\"24px\" viewBox=\"0 -960 960 960\">\n",
              "    <path d=\"M120-120v-720h720v720H120Zm60-500h600v-160H180v160Zm220 220h160v-160H400v160Zm0 220h160v-160H400v160ZM180-400h160v-160H180v160Zm440 0h160v-160H620v160ZM180-180h160v-160H180v160Zm440 0h160v-160H620v160Z\"/>\n",
              "  </svg>\n",
              "    </button>\n",
              "\n",
              "  <style>\n",
              "    .colab-df-container {\n",
              "      display:flex;\n",
              "      gap: 12px;\n",
              "    }\n",
              "\n",
              "    .colab-df-convert {\n",
              "      background-color: #E8F0FE;\n",
              "      border: none;\n",
              "      border-radius: 50%;\n",
              "      cursor: pointer;\n",
              "      display: none;\n",
              "      fill: #1967D2;\n",
              "      height: 32px;\n",
              "      padding: 0 0 0 0;\n",
              "      width: 32px;\n",
              "    }\n",
              "\n",
              "    .colab-df-convert:hover {\n",
              "      background-color: #E2EBFA;\n",
              "      box-shadow: 0px 1px 2px rgba(60, 64, 67, 0.3), 0px 1px 3px 1px rgba(60, 64, 67, 0.15);\n",
              "      fill: #174EA6;\n",
              "    }\n",
              "\n",
              "    .colab-df-buttons div {\n",
              "      margin-bottom: 4px;\n",
              "    }\n",
              "\n",
              "    [theme=dark] .colab-df-convert {\n",
              "      background-color: #3B4455;\n",
              "      fill: #D2E3FC;\n",
              "    }\n",
              "\n",
              "    [theme=dark] .colab-df-convert:hover {\n",
              "      background-color: #434B5C;\n",
              "      box-shadow: 0px 1px 3px 1px rgba(0, 0, 0, 0.15);\n",
              "      filter: drop-shadow(0px 1px 2px rgba(0, 0, 0, 0.3));\n",
              "      fill: #FFFFFF;\n",
              "    }\n",
              "  </style>\n",
              "\n",
              "    <script>\n",
              "      const buttonEl =\n",
              "        document.querySelector('#df-bd01db82-73c5-4da0-87ba-0a9c1a3cd586 button.colab-df-convert');\n",
              "      buttonEl.style.display =\n",
              "        google.colab.kernel.accessAllowed ? 'block' : 'none';\n",
              "\n",
              "      async function convertToInteractive(key) {\n",
              "        const element = document.querySelector('#df-bd01db82-73c5-4da0-87ba-0a9c1a3cd586');\n",
              "        const dataTable =\n",
              "          await google.colab.kernel.invokeFunction('convertToInteractive',\n",
              "                                                    [key], {});\n",
              "        if (!dataTable) return;\n",
              "\n",
              "        const docLinkHtml = 'Like what you see? Visit the ' +\n",
              "          '<a target=\"_blank\" href=https://colab.research.google.com/notebooks/data_table.ipynb>data table notebook</a>'\n",
              "          + ' to learn more about interactive tables.';\n",
              "        element.innerHTML = '';\n",
              "        dataTable['output_type'] = 'display_data';\n",
              "        await google.colab.output.renderOutput(dataTable, element);\n",
              "        const docLink = document.createElement('div');\n",
              "        docLink.innerHTML = docLinkHtml;\n",
              "        element.appendChild(docLink);\n",
              "      }\n",
              "    </script>\n",
              "  </div>\n",
              "\n",
              "\n",
              "    <div id=\"df-e86e6732-1671-40bf-a462-0d7dc005c08f\">\n",
              "      <button class=\"colab-df-quickchart\" onclick=\"quickchart('df-e86e6732-1671-40bf-a462-0d7dc005c08f')\"\n",
              "                title=\"Suggest charts\"\n",
              "                style=\"display:none;\">\n",
              "\n",
              "<svg xmlns=\"http://www.w3.org/2000/svg\" height=\"24px\"viewBox=\"0 0 24 24\"\n",
              "     width=\"24px\">\n",
              "    <g>\n",
              "        <path d=\"M19 3H5c-1.1 0-2 .9-2 2v14c0 1.1.9 2 2 2h14c1.1 0 2-.9 2-2V5c0-1.1-.9-2-2-2zM9 17H7v-7h2v7zm4 0h-2V7h2v10zm4 0h-2v-4h2v4z\"/>\n",
              "    </g>\n",
              "</svg>\n",
              "      </button>\n",
              "\n",
              "<style>\n",
              "  .colab-df-quickchart {\n",
              "      --bg-color: #E8F0FE;\n",
              "      --fill-color: #1967D2;\n",
              "      --hover-bg-color: #E2EBFA;\n",
              "      --hover-fill-color: #174EA6;\n",
              "      --disabled-fill-color: #AAA;\n",
              "      --disabled-bg-color: #DDD;\n",
              "  }\n",
              "\n",
              "  [theme=dark] .colab-df-quickchart {\n",
              "      --bg-color: #3B4455;\n",
              "      --fill-color: #D2E3FC;\n",
              "      --hover-bg-color: #434B5C;\n",
              "      --hover-fill-color: #FFFFFF;\n",
              "      --disabled-bg-color: #3B4455;\n",
              "      --disabled-fill-color: #666;\n",
              "  }\n",
              "\n",
              "  .colab-df-quickchart {\n",
              "    background-color: var(--bg-color);\n",
              "    border: none;\n",
              "    border-radius: 50%;\n",
              "    cursor: pointer;\n",
              "    display: none;\n",
              "    fill: var(--fill-color);\n",
              "    height: 32px;\n",
              "    padding: 0;\n",
              "    width: 32px;\n",
              "  }\n",
              "\n",
              "  .colab-df-quickchart:hover {\n",
              "    background-color: var(--hover-bg-color);\n",
              "    box-shadow: 0 1px 2px rgba(60, 64, 67, 0.3), 0 1px 3px 1px rgba(60, 64, 67, 0.15);\n",
              "    fill: var(--button-hover-fill-color);\n",
              "  }\n",
              "\n",
              "  .colab-df-quickchart-complete:disabled,\n",
              "  .colab-df-quickchart-complete:disabled:hover {\n",
              "    background-color: var(--disabled-bg-color);\n",
              "    fill: var(--disabled-fill-color);\n",
              "    box-shadow: none;\n",
              "  }\n",
              "\n",
              "  .colab-df-spinner {\n",
              "    border: 2px solid var(--fill-color);\n",
              "    border-color: transparent;\n",
              "    border-bottom-color: var(--fill-color);\n",
              "    animation:\n",
              "      spin 1s steps(1) infinite;\n",
              "  }\n",
              "\n",
              "  @keyframes spin {\n",
              "    0% {\n",
              "      border-color: transparent;\n",
              "      border-bottom-color: var(--fill-color);\n",
              "      border-left-color: var(--fill-color);\n",
              "    }\n",
              "    20% {\n",
              "      border-color: transparent;\n",
              "      border-left-color: var(--fill-color);\n",
              "      border-top-color: var(--fill-color);\n",
              "    }\n",
              "    30% {\n",
              "      border-color: transparent;\n",
              "      border-left-color: var(--fill-color);\n",
              "      border-top-color: var(--fill-color);\n",
              "      border-right-color: var(--fill-color);\n",
              "    }\n",
              "    40% {\n",
              "      border-color: transparent;\n",
              "      border-right-color: var(--fill-color);\n",
              "      border-top-color: var(--fill-color);\n",
              "    }\n",
              "    60% {\n",
              "      border-color: transparent;\n",
              "      border-right-color: var(--fill-color);\n",
              "    }\n",
              "    80% {\n",
              "      border-color: transparent;\n",
              "      border-right-color: var(--fill-color);\n",
              "      border-bottom-color: var(--fill-color);\n",
              "    }\n",
              "    90% {\n",
              "      border-color: transparent;\n",
              "      border-bottom-color: var(--fill-color);\n",
              "    }\n",
              "  }\n",
              "</style>\n",
              "\n",
              "      <script>\n",
              "        async function quickchart(key) {\n",
              "          const quickchartButtonEl =\n",
              "            document.querySelector('#' + key + ' button');\n",
              "          quickchartButtonEl.disabled = true;  // To prevent multiple clicks.\n",
              "          quickchartButtonEl.classList.add('colab-df-spinner');\n",
              "          try {\n",
              "            const charts = await google.colab.kernel.invokeFunction(\n",
              "                'suggestCharts', [key], {});\n",
              "          } catch (error) {\n",
              "            console.error('Error during call to suggestCharts:', error);\n",
              "          }\n",
              "          quickchartButtonEl.classList.remove('colab-df-spinner');\n",
              "          quickchartButtonEl.classList.add('colab-df-quickchart-complete');\n",
              "        }\n",
              "        (() => {\n",
              "          let quickchartButtonEl =\n",
              "            document.querySelector('#df-e86e6732-1671-40bf-a462-0d7dc005c08f button');\n",
              "          quickchartButtonEl.style.display =\n",
              "            google.colab.kernel.accessAllowed ? 'block' : 'none';\n",
              "        })();\n",
              "      </script>\n",
              "    </div>\n",
              "\n",
              "  <div id=\"id_864d3ee9-cde5-45f7-8017-11b8b1b75a0e\">\n",
              "    <style>\n",
              "      .colab-df-generate {\n",
              "        background-color: #E8F0FE;\n",
              "        border: none;\n",
              "        border-radius: 50%;\n",
              "        cursor: pointer;\n",
              "        display: none;\n",
              "        fill: #1967D2;\n",
              "        height: 32px;\n",
              "        padding: 0 0 0 0;\n",
              "        width: 32px;\n",
              "      }\n",
              "\n",
              "      .colab-df-generate:hover {\n",
              "        background-color: #E2EBFA;\n",
              "        box-shadow: 0px 1px 2px rgba(60, 64, 67, 0.3), 0px 1px 3px 1px rgba(60, 64, 67, 0.15);\n",
              "        fill: #174EA6;\n",
              "      }\n",
              "\n",
              "      [theme=dark] .colab-df-generate {\n",
              "        background-color: #3B4455;\n",
              "        fill: #D2E3FC;\n",
              "      }\n",
              "\n",
              "      [theme=dark] .colab-df-generate:hover {\n",
              "        background-color: #434B5C;\n",
              "        box-shadow: 0px 1px 3px 1px rgba(0, 0, 0, 0.15);\n",
              "        filter: drop-shadow(0px 1px 2px rgba(0, 0, 0, 0.3));\n",
              "        fill: #FFFFFF;\n",
              "      }\n",
              "    </style>\n",
              "    <button class=\"colab-df-generate\" onclick=\"generateWithVariable('df')\"\n",
              "            title=\"Generate code using this dataframe.\"\n",
              "            style=\"display:none;\">\n",
              "\n",
              "  <svg xmlns=\"http://www.w3.org/2000/svg\" height=\"24px\"viewBox=\"0 0 24 24\"\n",
              "       width=\"24px\">\n",
              "    <path d=\"M7,19H8.4L18.45,9,17,7.55,7,17.6ZM5,21V16.75L18.45,3.32a2,2,0,0,1,2.83,0l1.4,1.43a1.91,1.91,0,0,1,.58,1.4,1.91,1.91,0,0,1-.58,1.4L9.25,21ZM18.45,9,17,7.55Zm-12,3A5.31,5.31,0,0,0,4.9,8.1,5.31,5.31,0,0,0,1,6.5,5.31,5.31,0,0,0,4.9,4.9,5.31,5.31,0,0,0,6.5,1,5.31,5.31,0,0,0,8.1,4.9,5.31,5.31,0,0,0,12,6.5,5.46,5.46,0,0,0,6.5,12Z\"/>\n",
              "  </svg>\n",
              "    </button>\n",
              "    <script>\n",
              "      (() => {\n",
              "      const buttonEl =\n",
              "        document.querySelector('#id_864d3ee9-cde5-45f7-8017-11b8b1b75a0e button.colab-df-generate');\n",
              "      buttonEl.style.display =\n",
              "        google.colab.kernel.accessAllowed ? 'block' : 'none';\n",
              "\n",
              "      buttonEl.onclick = () => {\n",
              "        google.colab.notebook.generateWithVariable('df');\n",
              "      }\n",
              "      })();\n",
              "    </script>\n",
              "  </div>\n",
              "\n",
              "    </div>\n",
              "  </div>\n"
            ],
            "text/plain": [
              "             0       1           2     3    4     5      6     7     8   \\\n",
              "Tokens      <s>  ▁2.000  ▁Einwohner     n  ▁an  ▁der   ▁Dan    zi   ger   \n",
              "Word IDs   None       0           1     1    2     3      4     4     4   \n",
              "Label IDs  -100       0           0  -100    0     0      5  -100  -100   \n",
              "Labels      IGN       O           O   IGN    O     O  B-LOC   IGN   IGN   \n",
              "\n",
              "              9   ...     15    16    17      18     19    20    21  22    23  \\\n",
              "Tokens     ▁Buch  ...    ▁Wo     i   wod  schaft    ▁Po  mmer     n   ▁     .   \n",
              "Word IDs       5  ...      9     9     9       9     10    10    10  11    11   \n",
              "Label IDs      6  ...      5  -100  -100    -100      6  -100  -100   0  -100   \n",
              "Labels     I-LOC  ...  B-LOC   IGN   IGN     IGN  I-LOC   IGN   IGN   O   IGN   \n",
              "\n",
              "             24  \n",
              "Tokens     </s>  \n",
              "Word IDs   None  \n",
              "Label IDs  -100  \n",
              "Labels      IGN  \n",
              "\n",
              "[4 rows x 25 columns]"
            ]
          },
          "execution_count": 58,
          "metadata": {},
          "output_type": "execute_result"
        }
      ],
      "source": [
        "previous_word_idx=None\n",
        "label_ids=[]\n",
        "\n",
        "for word_idx in word_ids:\n",
        "    if word_idx is None or word_idx==previous_word_idx:\n",
        "        label_ids.append(-100)\n",
        "    else:\n",
        "        label_ids.append(labels[word_idx])\n",
        "    previous_word_idx=word_idx\n",
        "\n",
        "labels=[index2tag[l] if l!=-100 else 'IGN' for l in label_ids]\n",
        "index=['Tokens','Word IDs','Label IDs','Labels']\n",
        "df=pd.DataFrame([tokens, word_ids,label_ids, labels], index=index)\n",
        "df"
      ]
    },
    {
      "cell_type": "code",
      "execution_count": null,
      "metadata": {
        "colab": {
          "base_uri": "https://localhost:8080/",
          "height": 150,
          "referenced_widgets": [
            "808c9bb7cc624e9eaacdd998eaff591b",
            "8f8a7fc09c0f453b9002e0cc94128550",
            "19552cb38d5344bc8ccd929b75786aa7",
            "606bded1ab3341f4906f71cb1146fb5d",
            "4aed3c50b17d4194a70964898a885049",
            "71b084e6921f4485a3d1796fcd6e1067",
            "57c8f123a4e34639b726e52e295e895d",
            "f1fab15db4ca40318736ed27726023c6",
            "b5b48f699ec146e886036391c9bea1ab",
            "260ebf553cab489385eeab122ba40567",
            "88c5a69bb69d4f9e969411cc15ed0207",
            "3c80f69c13494fedba9e34dfbea7a16d",
            "6f2c2262587c40dcbfcb8f5db2f9c9c3",
            "32b75dbc283749ad8829215c855c71b0",
            "540088d3ad5b4249989658cd63262e83",
            "b50f27e58c7542fc90da1259322c2c58",
            "de051e8c1c8d425ab2a9d278dcb87ca8",
            "222dff5094434d798a00d4f53c7e44e5",
            "97c37e99ee2b4e6385afdebbea76a58c",
            "7c7ff20963d0484ba935b27811bfeeca",
            "366ff3f7b4fa4740a94b78b97f48c7eb",
            "c4fa3b1ee27c49b0a06826fb91b25dbd",
            "02654f49f6dc43e6a1dc34b2496e486c",
            "9e998d61b474407f819a6b514a36b3dd",
            "39999c76e3c547d1a65cc26fd1217688",
            "5a82e38eee7e410ba9f4182343261e84",
            "5417fdd045ad4922b824d9a7cc354cfe",
            "5caf9a32c4a048d88a9513e245dc2c14",
            "39081f087fb44b6c96a1b1a61c8603ec",
            "d46e9633aafb429b941f0d101ddf161b",
            "f04a1141473644c5b5f3be2264d8bcf2",
            "dd5d1870ddfc4022b281daae57f0f0d2",
            "e7aa0737ed1648578804ad070c876af5"
          ]
        },
        "id": "wTpa-CsclYoG",
        "outputId": "9e69d7be-09c5-4917-9c2b-928557010ade"
      },
      "outputs": [
        {
          "data": {
            "application/vnd.jupyter.widget-view+json": {
              "model_id": "808c9bb7cc624e9eaacdd998eaff591b",
              "version_major": 2,
              "version_minor": 0
            },
            "text/plain": [
              "Map:   0%|          | 0/12580 [00:00<?, ? examples/s]"
            ]
          },
          "metadata": {},
          "output_type": "display_data"
        },
        {
          "data": {
            "application/vnd.jupyter.widget-view+json": {
              "model_id": "3c80f69c13494fedba9e34dfbea7a16d",
              "version_major": 2,
              "version_minor": 0
            },
            "text/plain": [
              "Map:   0%|          | 0/6290 [00:00<?, ? examples/s]"
            ]
          },
          "metadata": {},
          "output_type": "display_data"
        },
        {
          "data": {
            "application/vnd.jupyter.widget-view+json": {
              "model_id": "02654f49f6dc43e6a1dc34b2496e486c",
              "version_major": 2,
              "version_minor": 0
            },
            "text/plain": [
              "Map:   0%|          | 0/6290 [00:00<?, ? examples/s]"
            ]
          },
          "metadata": {},
          "output_type": "display_data"
        },
        {
          "name": "stdout",
          "output_type": "stream",
          "text": [
            "{'input_ids': [0, 70101, 176581, 19, 142, 122, 2290, 708, 1505, 18363, 18, 23, 122, 127474, 15439, 13787, 14, 15263, 18917, 663, 6947, 19, 6, 5, 2, 1, 1, 1, 1, 1, 1, 1, 1, 1, 1, 1, 1, 1, 1, 1, 1, 1, 1, 1, 1, 1, 1, 1, 1, 1, 1, 1, 1, 1, 1, 1, 1, 1, 1, 1, 1, 1, 1, 1, 1, 1, 1, 1, 1, 1, 1, 1, 1, 1, 1, 1, 1, 1, 1, 1, 1, 1, 1, 1, 1, 1, 1, 1, 1, 1, 1, 1, 1, 1, 1, 1, 1, 1, 1, 1, 1, 1, 1, 1, 1], 'attention_mask': [1, 1, 1, 1, 1, 1, 1, 1, 1, 1, 1, 1, 1, 1, 1, 1, 1, 1, 1, 1, 1, 1, 1, 1, 1, 0, 0, 0, 0, 0, 0, 0, 0, 0, 0, 0, 0, 0, 0, 0, 0, 0, 0, 0, 0, 0, 0, 0, 0, 0, 0, 0, 0, 0, 0, 0, 0, 0, 0, 0, 0, 0, 0, 0, 0, 0, 0, 0, 0, 0, 0, 0, 0, 0, 0, 0, 0, 0, 0, 0, 0, 0, 0, 0, 0, 0, 0, 0, 0, 0, 0, 0, 0, 0, 0, 0, 0, 0, 0, 0, 0, 0, 0, 0, 0], 'labels': [-100, 0, 0, -100, 0, 0, 5, -100, -100, 6, -100, 0, 0, 5, -100, 5, -100, -100, -100, 6, -100, -100, 0, -100, -100, -100, -100, -100, -100, -100, -100, -100, -100, -100, -100, -100, -100, -100, -100, -100, -100, -100, -100, -100, -100, -100, -100, -100, -100, -100, -100, -100, -100, -100, -100, -100, -100, -100, -100, -100, -100, -100, -100, -100, -100, -100, -100, -100, -100, -100, -100, -100, -100, -100, -100, -100, -100, -100, -100, -100, -100, -100, -100, -100, -100, -100, -100, -100, -100, -100, -100, -100, -100, -100, -100, -100, -100, -100, -100, -100, -100, -100, -100, -100, -100]}\n"
          ]
        }
      ],
      "source": [
        "def tokenize_and_align_labels(examples):\n",
        "    tokenized_inputs = xlmr_tokenizer(\n",
        "        examples[\"tokens\"],\n",
        "        truncation=True,\n",
        "        is_split_into_words=True,\n",
        "        padding=True\n",
        "    )\n",
        "\n",
        "    all_labels = []\n",
        "\n",
        "    for i in range(len(examples[\"tokens\"])):\n",
        "        word_ids = tokenized_inputs.word_ids(batch_index=i)\n",
        "        labels = []\n",
        "        previous_word_idx = None\n",
        "        for word_idx in word_ids:\n",
        "            if word_idx is None or word_idx == previous_word_idx:\n",
        "                labels.append(-100)\n",
        "            else:\n",
        "                labels.append(examples[\"ner_tags\"][i][word_idx])\n",
        "            previous_word_idx = word_idx\n",
        "        all_labels.append(labels)\n",
        "\n",
        "    tokenized_inputs[\"labels\"] = all_labels\n",
        "    return tokenized_inputs\n",
        "\n",
        "\n",
        "def encode_panx_dataset(corpus):\n",
        "    encoded_corpus = DatasetDict()\n",
        "    for split, dataset in corpus.items():\n",
        "        encoded_corpus[split] = dataset.map(\n",
        "            tokenize_and_align_labels,\n",
        "            batched=True,  # Doğrudur burada\n",
        "            remove_columns=[\"langs\", \"ner_tags\", \"tokens\"]\n",
        "        )\n",
        "    return encoded_corpus\n",
        "\n",
        "\n",
        "panx_de_encoded = encode_panx_dataset(panx_ch[\"de\"])\n",
        "print(panx_de_encoded[\"train\"][0])\n"
      ]
    },
    {
      "cell_type": "code",
      "execution_count": null,
      "metadata": {
        "colab": {
          "base_uri": "https://localhost:8080/"
        },
        "id": "WC8UzOstsJkG",
        "outputId": "48e9d4bd-c8d8-4203-f4bd-25753c605d67"
      },
      "outputs": [
        {
          "name": "stdout",
          "output_type": "stream",
          "text": [
            "Collecting seqeval\n",
            "  Downloading seqeval-1.2.2.tar.gz (43 kB)\n",
            "\u001b[?25l     \u001b[90m━━━━━━━━━━━━━━━━━━━━━━━━━━━━━━━━━━━━━━━━\u001b[0m \u001b[32m0.0/43.6 kB\u001b[0m \u001b[31m?\u001b[0m eta \u001b[36m-:--:--\u001b[0m\r",
            "\u001b[2K     \u001b[90m━━━━━━━━━━━━━━━━━━━━━━━━━━━━━━━━━━━━━━━━\u001b[0m \u001b[32m43.6/43.6 kB\u001b[0m \u001b[31m1.9 MB/s\u001b[0m eta \u001b[36m0:00:00\u001b[0m\n",
            "\u001b[?25h  Preparing metadata (setup.py) ... \u001b[?25l\u001b[?25hdone\n",
            "Requirement already satisfied: numpy>=1.14.0 in /usr/local/lib/python3.11/dist-packages (from seqeval) (2.0.2)\n",
            "Requirement already satisfied: scikit-learn>=0.21.3 in /usr/local/lib/python3.11/dist-packages (from seqeval) (1.6.1)\n",
            "Requirement already satisfied: scipy>=1.6.0 in /usr/local/lib/python3.11/dist-packages (from scikit-learn>=0.21.3->seqeval) (1.15.3)\n",
            "Requirement already satisfied: joblib>=1.2.0 in /usr/local/lib/python3.11/dist-packages (from scikit-learn>=0.21.3->seqeval) (1.5.0)\n",
            "Requirement already satisfied: threadpoolctl>=3.1.0 in /usr/local/lib/python3.11/dist-packages (from scikit-learn>=0.21.3->seqeval) (3.6.0)\n",
            "Building wheels for collected packages: seqeval\n",
            "  Building wheel for seqeval (setup.py) ... \u001b[?25l\u001b[?25hdone\n",
            "  Created wheel for seqeval: filename=seqeval-1.2.2-py3-none-any.whl size=16162 sha256=271e7d14ebcebfbc3e5ade059d82dbb659f1384c35a2150d7f4b241192bf7213\n",
            "  Stored in directory: /root/.cache/pip/wheels/bc/92/f0/243288f899c2eacdfa8c5f9aede4c71a9bad0ee26a01dc5ead\n",
            "Successfully built seqeval\n",
            "Installing collected packages: seqeval\n",
            "Successfully installed seqeval-1.2.2\n"
          ]
        }
      ],
      "source": [
        "!pip install seqeval"
      ]
    },
    {
      "cell_type": "code",
      "execution_count": null,
      "metadata": {
        "colab": {
          "base_uri": "https://localhost:8080/"
        },
        "id": "AAfKuuuYsnsF",
        "outputId": "d2814074-34a0-4bf1-b4f8-137a57d8d10e"
      },
      "outputs": [
        {
          "name": "stdout",
          "output_type": "stream",
          "text": [
            "              precision    recall  f1-score   support\n",
            "\n",
            "        MISC       0.00      0.00      0.00         1\n",
            "         PER       1.00      1.00      1.00         1\n",
            "\n",
            "   micro avg       0.50      0.50      0.50         2\n",
            "   macro avg       0.50      0.50      0.50         2\n",
            "weighted avg       0.50      0.50      0.50         2\n",
            "\n"
          ]
        }
      ],
      "source": [
        "from seqeval.metrics import classification_report\n",
        "\n",
        "y_true = [['O', 'O', 'O', 'B-MISC', 'I-MISC', 'I-MISC', 'O'], ['B-PER', 'I-PER', 'O']]\n",
        "y_pred = [['O', 'O', 'B-MISC', 'I-MISC', 'I-MISC', 'I-MISC', 'O'], ['B-PER', 'I-PER', 'O']]\n",
        "\n",
        "# You can now use the corrected function:\n",
        "print(classification_report(y_true, y_pred))"
      ]
    },
    {
      "cell_type": "code",
      "execution_count": null,
      "metadata": {
        "id": "r7q8_5aStUZQ"
      },
      "outputs": [],
      "source": [
        "import numpy as np #hugging face list ichind elist gozleyir\n",
        "def align_predictions(predictions, label_ids):\n",
        "    preds=np.argmax(predictions, axis=2)\n",
        "    batch_size, seq_len=preds.shape\n",
        "    label_list, preds_list=[],[]\n",
        "\n",
        "    for batch_idx in range(batch_size):\n",
        "        example_labels, example_preds=[],[]\n",
        "        for seq_idx in range(seq_len):\n",
        "            if label_ids[batch_idx, seq_idx]!=-100:\n",
        "                example_labels.append(index2tag[label_ids[batch_idx][seq_idx]])\n",
        "                example_preds.append(index2tag[preds[batch_idx][seq_idx]])\n",
        "        label_list.append(example_labels)\n",
        "        preds_list.append(example_preds)\n",
        "    return preds_list, label_list\n"
      ]
    },
    {
      "cell_type": "markdown",
      "metadata": {
        "id": "eApVhJbguWhJ"
      },
      "source": [
        "#Fine-Tuning XLM-RoBerta"
      ]
    },
    {
      "cell_type": "code",
      "execution_count": null,
      "metadata": {
        "id": "QYqgDEylvJ8V"
      },
      "outputs": [],
      "source": [
        "from transformers import TrainingArguments\n",
        "\n",
        "num_epochs=3\n",
        "batch_size=24\n",
        "logging_steps=len(panx_de_encoded['train'])//batch_size\n",
        "\n",
        "model_name=f'{xlmr_model_name}-finetuned-panx-de'\n",
        "training_args=TrainingArguments(\n",
        "    output_dir=model_name, log_level='error', num_train_epochs=num_epochs,\n",
        "    per_device_train_batch_size=batch_size,\n",
        "    per_device_eval_batch_size=batch_size,\n",
        "    eval_strategy='epoch',\n",
        "    save_steps=1e6, #100 000 addimdan bir save etsin yeni etmesin  her iterasiyada  save etmek istemirk, istesek epoch yaz\n",
        "    weight_decay=0.01,\n",
        "    disable_tqdm=False,\n",
        "    logging_steps=logging_steps,\n",
        "    push_to_hub=True\n",
        ")"
      ]
    },
    {
      "cell_type": "code",
      "execution_count": null,
      "metadata": {
        "colab": {
          "base_uri": "https://localhost:8080/",
          "height": 17,
          "referenced_widgets": [
            "81fad715009e480aaf3eba71d208a89a",
            "6dae465748fc44c788439588c0c4c5f8",
            "228d44b521054f8fb341a2aa40d96b85",
            "a6c32f1ded104d82a9685cac18a95689",
            "9696a96b9aa94a029ed355a54397062e",
            "aa892f91990e4bc3aad437960979d162",
            "ffa0cc45a27d43d78bf69203d405ed14",
            "c1f69b488b7846158a56ba64e682fff9",
            "ec6360f1da914c56acb6c6aaa2886d50",
            "19b6f5004a0349b685afd20cfb6b9220",
            "e25feb14f9544413be06ba85cd39a936",
            "6023ac3afc4d49e9a914cb426014d218",
            "fec36990918a4a14bd2d998d14383425",
            "4c3f5ca5883e4421961b6df3a94e3886",
            "820dad1841e74676a4e3fe95a9f45563",
            "e236c715c3314faa9343216a328c1efa",
            "14a07fd2b11e4a80baebc632e8da3281",
            "321939fa8c1b4053bbab8cce66fbe753",
            "794ff446359f495a9741baf90023c4f6",
            "0ac5ac02b2a44e63add20e0d07bf659a"
          ]
        },
        "id": "qKwnL9RzwNCq",
        "outputId": "a35a2e6e-9289-4e65-b49f-648c961ba6a3"
      },
      "outputs": [
        {
          "data": {
            "application/vnd.jupyter.widget-view+json": {
              "model_id": "81fad715009e480aaf3eba71d208a89a",
              "version_major": 2,
              "version_minor": 0
            },
            "text/plain": [
              "VBox(children=(HTML(value='<center> <img\\nsrc=https://huggingface.co/front/assets/huggingface_logo-noborder.sv…"
            ]
          },
          "metadata": {},
          "output_type": "display_data"
        }
      ],
      "source": [
        "from huggingface_hub import notebook_login\n",
        "\n",
        "notebook_login()"
      ]
    },
    {
      "cell_type": "code",
      "execution_count": null,
      "metadata": {
        "id": "81yoSoloxOyA"
      },
      "outputs": [],
      "source": [
        "from seqeval.metrics import f1_score\n",
        "\n",
        "def compute_metrics(eval_pred):\n",
        "    y_pred, y_true=align_predictions(eval_pred.predictions, eval_pred.label_ids)\n",
        "    return {'f1':f1_score(y_true, y_pred)} #butun duhmeldui ust uste"
      ]
    },
    {
      "cell_type": "code",
      "execution_count": null,
      "metadata": {
        "id": "vv7QgQlRxluB"
      },
      "outputs": [],
      "source": [
        "from transformers import DataCollatorForTokenClassification #Ner uchun Pad etmeye, her defe ramd ayer tutur model , funkdiyani ichine yukleyek modlei ordan caqirsin\n",
        "\n",
        "# Correct the typo in the class name\n",
        "data_collator = DataCollatorForTokenClassification(xlmr_tokenizer)"
      ]
    },
    {
      "cell_type": "code",
      "execution_count": null,
      "metadata": {
        "id": "5MkpqY0Cx9Cm"
      },
      "outputs": [],
      "source": [
        "def model_init():\n",
        "    return XLMRobertaForTokenClassification.from_pretrained(xlmr_model_name,\n",
        "                                                            config=xlmr_config).to(device)\n",
        "\n"
      ]
    },
    {
      "cell_type": "code",
      "execution_count": null,
      "metadata": {
        "colab": {
          "base_uri": "https://localhost:8080/"
        },
        "id": "AMLuWUwcylhN",
        "outputId": "884f3425-9abb-4eb5-d6a4-fdb5f6fa8b45"
      },
      "outputs": [
        {
          "name": "stderr",
          "output_type": "stream",
          "text": [
            "<ipython-input-89-6e7e6c71e77c>:3: FutureWarning: `tokenizer` is deprecated and will be removed in version 5.0.0 for `Trainer.__init__`. Use `processing_class` instead.\n",
            "  trainer=Trainer(model_init=model_init, args=training_args,\n"
          ]
        }
      ],
      "source": [
        "from transformers import Trainer\n",
        "\n",
        "trainer=Trainer(model_init=model_init,\n",
        "                args=training_args, #compile\n",
        "                data_collator=data_collator,#nece pad\n",
        "                compute_metrics=compute_metrics, #hani metrics\n",
        "                train_dataset=panx_de_encoded['train'],\n",
        "                eval_dataset=panx_de_encoded['validation'],\n",
        "                tokenizer=xlmr_tokenizer)"
      ]
    },
    {
      "cell_type": "code",
      "execution_count": null,
      "metadata": {
        "colab": {
          "base_uri": "https://localhost:8080/",
          "height": 304
        },
        "id": "Ok4Nhh_Cze84",
        "outputId": "bca2a87a-e532-4ecf-8a38-71e0ceb039af"
      },
      "outputs": [
        {
          "ename": "TypeError",
          "evalue": "RobertaModel.forward() got an unexpected keyword argument 'num_items_in_batch'",
          "output_type": "error",
          "traceback": [
            "\u001b[0;31m---------------------------------------------------------------------------\u001b[0m",
            "\u001b[0;31mTypeError\u001b[0m                                 Traceback (most recent call last)",
            "\u001b[0;32m<ipython-input-91-2d05fdaeaad1>\u001b[0m in \u001b[0;36m<cell line: 0>\u001b[0;34m()\u001b[0m\n\u001b[0;32m----> 1\u001b[0;31m \u001b[0mtrainer\u001b[0m\u001b[0;34m.\u001b[0m\u001b[0mtrain\u001b[0m\u001b[0;34m(\u001b[0m\u001b[0;34m)\u001b[0m\u001b[0;34m\u001b[0m\u001b[0;34m\u001b[0m\u001b[0m\n\u001b[0m\u001b[1;32m      2\u001b[0m \u001b[0;31m# trainer.push_to_hub(config)\u001b[0m\u001b[0;34m\u001b[0m\u001b[0;34m\u001b[0m\u001b[0m\n",
            "\u001b[0;32m/usr/local/lib/python3.11/dist-packages/transformers/trainer.py\u001b[0m in \u001b[0;36mtrain\u001b[0;34m(self, resume_from_checkpoint, trial, ignore_keys_for_eval, **kwargs)\u001b[0m\n\u001b[1;32m   2229\u001b[0m                 \u001b[0;31m# Disable progress bars when uploading models during checkpoints to avoid polluting stdout\u001b[0m\u001b[0;34m\u001b[0m\u001b[0;34m\u001b[0m\u001b[0m\n\u001b[1;32m   2230\u001b[0m                 \u001b[0mhf_hub_utils\u001b[0m\u001b[0;34m.\u001b[0m\u001b[0mdisable_progress_bars\u001b[0m\u001b[0;34m(\u001b[0m\u001b[0;34m)\u001b[0m\u001b[0;34m\u001b[0m\u001b[0;34m\u001b[0m\u001b[0m\n\u001b[0;32m-> 2231\u001b[0;31m                 return inner_training_loop(\n\u001b[0m\u001b[1;32m   2232\u001b[0m                     \u001b[0margs\u001b[0m\u001b[0;34m=\u001b[0m\u001b[0margs\u001b[0m\u001b[0;34m,\u001b[0m\u001b[0;34m\u001b[0m\u001b[0;34m\u001b[0m\u001b[0m\n\u001b[1;32m   2233\u001b[0m                     \u001b[0mresume_from_checkpoint\u001b[0m\u001b[0;34m=\u001b[0m\u001b[0mresume_from_checkpoint\u001b[0m\u001b[0;34m,\u001b[0m\u001b[0;34m\u001b[0m\u001b[0;34m\u001b[0m\u001b[0m\n",
            "\u001b[0;32m/usr/local/lib/python3.11/dist-packages/transformers/trainer.py\u001b[0m in \u001b[0;36m_inner_training_loop\u001b[0;34m(self, batch_size, args, resume_from_checkpoint, trial, ignore_keys_for_eval)\u001b[0m\n\u001b[1;32m   2553\u001b[0m                     )\n\u001b[1;32m   2554\u001b[0m                     \u001b[0;32mwith\u001b[0m \u001b[0mcontext\u001b[0m\u001b[0;34m(\u001b[0m\u001b[0;34m)\u001b[0m\u001b[0;34m:\u001b[0m\u001b[0;34m\u001b[0m\u001b[0;34m\u001b[0m\u001b[0m\n\u001b[0;32m-> 2555\u001b[0;31m                         \u001b[0mtr_loss_step\u001b[0m \u001b[0;34m=\u001b[0m \u001b[0mself\u001b[0m\u001b[0;34m.\u001b[0m\u001b[0mtraining_step\u001b[0m\u001b[0;34m(\u001b[0m\u001b[0mmodel\u001b[0m\u001b[0;34m,\u001b[0m \u001b[0minputs\u001b[0m\u001b[0;34m,\u001b[0m \u001b[0mnum_items_in_batch\u001b[0m\u001b[0;34m)\u001b[0m\u001b[0;34m\u001b[0m\u001b[0;34m\u001b[0m\u001b[0m\n\u001b[0m\u001b[1;32m   2556\u001b[0m \u001b[0;34m\u001b[0m\u001b[0m\n\u001b[1;32m   2557\u001b[0m                     if (\n",
            "\u001b[0;32m/usr/local/lib/python3.11/dist-packages/transformers/trainer.py\u001b[0m in \u001b[0;36mtraining_step\u001b[0;34m(self, model, inputs, num_items_in_batch)\u001b[0m\n\u001b[1;32m   3743\u001b[0m \u001b[0;34m\u001b[0m\u001b[0m\n\u001b[1;32m   3744\u001b[0m         \u001b[0;32mwith\u001b[0m \u001b[0mself\u001b[0m\u001b[0;34m.\u001b[0m\u001b[0mcompute_loss_context_manager\u001b[0m\u001b[0;34m(\u001b[0m\u001b[0;34m)\u001b[0m\u001b[0;34m:\u001b[0m\u001b[0;34m\u001b[0m\u001b[0;34m\u001b[0m\u001b[0m\n\u001b[0;32m-> 3745\u001b[0;31m             \u001b[0mloss\u001b[0m \u001b[0;34m=\u001b[0m \u001b[0mself\u001b[0m\u001b[0;34m.\u001b[0m\u001b[0mcompute_loss\u001b[0m\u001b[0;34m(\u001b[0m\u001b[0mmodel\u001b[0m\u001b[0;34m,\u001b[0m \u001b[0minputs\u001b[0m\u001b[0;34m,\u001b[0m \u001b[0mnum_items_in_batch\u001b[0m\u001b[0;34m=\u001b[0m\u001b[0mnum_items_in_batch\u001b[0m\u001b[0;34m)\u001b[0m\u001b[0;34m\u001b[0m\u001b[0;34m\u001b[0m\u001b[0m\n\u001b[0m\u001b[1;32m   3746\u001b[0m \u001b[0;34m\u001b[0m\u001b[0m\n\u001b[1;32m   3747\u001b[0m         \u001b[0;32mdel\u001b[0m \u001b[0minputs\u001b[0m\u001b[0;34m\u001b[0m\u001b[0;34m\u001b[0m\u001b[0m\n",
            "\u001b[0;32m/usr/local/lib/python3.11/dist-packages/transformers/trainer.py\u001b[0m in \u001b[0;36mcompute_loss\u001b[0;34m(self, model, inputs, return_outputs, num_items_in_batch)\u001b[0m\n\u001b[1;32m   3808\u001b[0m                 \u001b[0mloss_kwargs\u001b[0m\u001b[0;34m[\u001b[0m\u001b[0;34m\"num_items_in_batch\"\u001b[0m\u001b[0;34m]\u001b[0m \u001b[0;34m=\u001b[0m \u001b[0mnum_items_in_batch\u001b[0m\u001b[0;34m\u001b[0m\u001b[0;34m\u001b[0m\u001b[0m\n\u001b[1;32m   3809\u001b[0m             \u001b[0minputs\u001b[0m \u001b[0;34m=\u001b[0m \u001b[0;34m{\u001b[0m\u001b[0;34m**\u001b[0m\u001b[0minputs\u001b[0m\u001b[0;34m,\u001b[0m \u001b[0;34m**\u001b[0m\u001b[0mloss_kwargs\u001b[0m\u001b[0;34m}\u001b[0m\u001b[0;34m\u001b[0m\u001b[0;34m\u001b[0m\u001b[0m\n\u001b[0;32m-> 3810\u001b[0;31m         \u001b[0moutputs\u001b[0m \u001b[0;34m=\u001b[0m \u001b[0mmodel\u001b[0m\u001b[0;34m(\u001b[0m\u001b[0;34m**\u001b[0m\u001b[0minputs\u001b[0m\u001b[0;34m)\u001b[0m\u001b[0;34m\u001b[0m\u001b[0;34m\u001b[0m\u001b[0m\n\u001b[0m\u001b[1;32m   3811\u001b[0m         \u001b[0;31m# Save past state if it exists\u001b[0m\u001b[0;34m\u001b[0m\u001b[0;34m\u001b[0m\u001b[0m\n\u001b[1;32m   3812\u001b[0m         \u001b[0;31m# TODO: this needs to be fixed and made cleaner later.\u001b[0m\u001b[0;34m\u001b[0m\u001b[0;34m\u001b[0m\u001b[0m\n",
            "\u001b[0;32m/usr/local/lib/python3.11/dist-packages/torch/nn/modules/module.py\u001b[0m in \u001b[0;36m_wrapped_call_impl\u001b[0;34m(self, *args, **kwargs)\u001b[0m\n\u001b[1;32m   1737\u001b[0m             \u001b[0;32mreturn\u001b[0m \u001b[0mself\u001b[0m\u001b[0;34m.\u001b[0m\u001b[0m_compiled_call_impl\u001b[0m\u001b[0;34m(\u001b[0m\u001b[0;34m*\u001b[0m\u001b[0margs\u001b[0m\u001b[0;34m,\u001b[0m \u001b[0;34m**\u001b[0m\u001b[0mkwargs\u001b[0m\u001b[0;34m)\u001b[0m  \u001b[0;31m# type: ignore[misc]\u001b[0m\u001b[0;34m\u001b[0m\u001b[0;34m\u001b[0m\u001b[0m\n\u001b[1;32m   1738\u001b[0m         \u001b[0;32melse\u001b[0m\u001b[0;34m:\u001b[0m\u001b[0;34m\u001b[0m\u001b[0;34m\u001b[0m\u001b[0m\n\u001b[0;32m-> 1739\u001b[0;31m             \u001b[0;32mreturn\u001b[0m \u001b[0mself\u001b[0m\u001b[0;34m.\u001b[0m\u001b[0m_call_impl\u001b[0m\u001b[0;34m(\u001b[0m\u001b[0;34m*\u001b[0m\u001b[0margs\u001b[0m\u001b[0;34m,\u001b[0m \u001b[0;34m**\u001b[0m\u001b[0mkwargs\u001b[0m\u001b[0;34m)\u001b[0m\u001b[0;34m\u001b[0m\u001b[0;34m\u001b[0m\u001b[0m\n\u001b[0m\u001b[1;32m   1740\u001b[0m \u001b[0;34m\u001b[0m\u001b[0m\n\u001b[1;32m   1741\u001b[0m     \u001b[0;31m# torchrec tests the code consistency with the following code\u001b[0m\u001b[0;34m\u001b[0m\u001b[0;34m\u001b[0m\u001b[0m\n",
            "\u001b[0;32m/usr/local/lib/python3.11/dist-packages/torch/nn/modules/module.py\u001b[0m in \u001b[0;36m_call_impl\u001b[0;34m(self, *args, **kwargs)\u001b[0m\n\u001b[1;32m   1748\u001b[0m                 \u001b[0;32mor\u001b[0m \u001b[0m_global_backward_pre_hooks\u001b[0m \u001b[0;32mor\u001b[0m \u001b[0m_global_backward_hooks\u001b[0m\u001b[0;34m\u001b[0m\u001b[0;34m\u001b[0m\u001b[0m\n\u001b[1;32m   1749\u001b[0m                 or _global_forward_hooks or _global_forward_pre_hooks):\n\u001b[0;32m-> 1750\u001b[0;31m             \u001b[0;32mreturn\u001b[0m \u001b[0mforward_call\u001b[0m\u001b[0;34m(\u001b[0m\u001b[0;34m*\u001b[0m\u001b[0margs\u001b[0m\u001b[0;34m,\u001b[0m \u001b[0;34m**\u001b[0m\u001b[0mkwargs\u001b[0m\u001b[0;34m)\u001b[0m\u001b[0;34m\u001b[0m\u001b[0;34m\u001b[0m\u001b[0m\n\u001b[0m\u001b[1;32m   1751\u001b[0m \u001b[0;34m\u001b[0m\u001b[0m\n\u001b[1;32m   1752\u001b[0m         \u001b[0mresult\u001b[0m \u001b[0;34m=\u001b[0m \u001b[0;32mNone\u001b[0m\u001b[0;34m\u001b[0m\u001b[0;34m\u001b[0m\u001b[0m\n",
            "\u001b[0;32m<ipython-input-28-f569ac78a8a6>\u001b[0m in \u001b[0;36mforward\u001b[0;34m(self, input_ids, attention_mask, token_type_ids, labels, **kwargs)\u001b[0m\n\u001b[1;32m     24\u001b[0m     \u001b[0;32mdef\u001b[0m \u001b[0mforward\u001b[0m\u001b[0;34m(\u001b[0m\u001b[0mself\u001b[0m\u001b[0;34m,\u001b[0m \u001b[0minput_ids\u001b[0m\u001b[0;34m,\u001b[0m \u001b[0mattention_mask\u001b[0m\u001b[0;34m=\u001b[0m\u001b[0;32mNone\u001b[0m\u001b[0;34m,\u001b[0m \u001b[0mtoken_type_ids\u001b[0m\u001b[0;34m=\u001b[0m\u001b[0;32mNone\u001b[0m\u001b[0;34m,\u001b[0m \u001b[0mlabels\u001b[0m\u001b[0;34m=\u001b[0m\u001b[0;32mNone\u001b[0m\u001b[0;34m,\u001b[0m \u001b[0;34m**\u001b[0m\u001b[0mkwargs\u001b[0m\u001b[0;34m)\u001b[0m\u001b[0;34m:\u001b[0m\u001b[0;34m\u001b[0m\u001b[0;34m\u001b[0m\u001b[0m\n\u001b[1;32m     25\u001b[0m         \u001b[0;31m# Remove labels=None from the call to self.roberta\u001b[0m\u001b[0;34m\u001b[0m\u001b[0;34m\u001b[0m\u001b[0m\n\u001b[0;32m---> 26\u001b[0;31m         \u001b[0moutputs\u001b[0m\u001b[0;34m=\u001b[0m\u001b[0mself\u001b[0m\u001b[0;34m.\u001b[0m\u001b[0mroberta\u001b[0m\u001b[0;34m(\u001b[0m\u001b[0minput_ids\u001b[0m\u001b[0;34m,\u001b[0m \u001b[0mattention_mask\u001b[0m\u001b[0;34m=\u001b[0m\u001b[0mattention_mask\u001b[0m\u001b[0;34m,\u001b[0m\u001b[0mtoken_type_ids\u001b[0m\u001b[0;34m=\u001b[0m\u001b[0;32mNone\u001b[0m\u001b[0;34m,\u001b[0m \u001b[0;34m**\u001b[0m\u001b[0mkwargs\u001b[0m\u001b[0;34m)\u001b[0m\u001b[0;34m\u001b[0m\u001b[0;34m\u001b[0m\u001b[0m\n\u001b[0m\u001b[1;32m     27\u001b[0m \u001b[0;34m\u001b[0m\u001b[0m\n\u001b[1;32m     28\u001b[0m         \u001b[0msequence_output\u001b[0m\u001b[0;34m=\u001b[0m\u001b[0mself\u001b[0m\u001b[0;34m.\u001b[0m\u001b[0mdropout\u001b[0m\u001b[0;34m(\u001b[0m\u001b[0moutputs\u001b[0m\u001b[0;34m[\u001b[0m\u001b[0;36m0\u001b[0m\u001b[0;34m]\u001b[0m\u001b[0;34m)\u001b[0m\u001b[0;34m\u001b[0m\u001b[0;34m\u001b[0m\u001b[0m\n",
            "\u001b[0;32m/usr/local/lib/python3.11/dist-packages/torch/nn/modules/module.py\u001b[0m in \u001b[0;36m_wrapped_call_impl\u001b[0;34m(self, *args, **kwargs)\u001b[0m\n\u001b[1;32m   1737\u001b[0m             \u001b[0;32mreturn\u001b[0m \u001b[0mself\u001b[0m\u001b[0;34m.\u001b[0m\u001b[0m_compiled_call_impl\u001b[0m\u001b[0;34m(\u001b[0m\u001b[0;34m*\u001b[0m\u001b[0margs\u001b[0m\u001b[0;34m,\u001b[0m \u001b[0;34m**\u001b[0m\u001b[0mkwargs\u001b[0m\u001b[0;34m)\u001b[0m  \u001b[0;31m# type: ignore[misc]\u001b[0m\u001b[0;34m\u001b[0m\u001b[0;34m\u001b[0m\u001b[0m\n\u001b[1;32m   1738\u001b[0m         \u001b[0;32melse\u001b[0m\u001b[0;34m:\u001b[0m\u001b[0;34m\u001b[0m\u001b[0;34m\u001b[0m\u001b[0m\n\u001b[0;32m-> 1739\u001b[0;31m             \u001b[0;32mreturn\u001b[0m \u001b[0mself\u001b[0m\u001b[0;34m.\u001b[0m\u001b[0m_call_impl\u001b[0m\u001b[0;34m(\u001b[0m\u001b[0;34m*\u001b[0m\u001b[0margs\u001b[0m\u001b[0;34m,\u001b[0m \u001b[0;34m**\u001b[0m\u001b[0mkwargs\u001b[0m\u001b[0;34m)\u001b[0m\u001b[0;34m\u001b[0m\u001b[0;34m\u001b[0m\u001b[0m\n\u001b[0m\u001b[1;32m   1740\u001b[0m \u001b[0;34m\u001b[0m\u001b[0m\n\u001b[1;32m   1741\u001b[0m     \u001b[0;31m# torchrec tests the code consistency with the following code\u001b[0m\u001b[0;34m\u001b[0m\u001b[0;34m\u001b[0m\u001b[0m\n",
            "\u001b[0;32m/usr/local/lib/python3.11/dist-packages/torch/nn/modules/module.py\u001b[0m in \u001b[0;36m_call_impl\u001b[0;34m(self, *args, **kwargs)\u001b[0m\n\u001b[1;32m   1748\u001b[0m                 \u001b[0;32mor\u001b[0m \u001b[0m_global_backward_pre_hooks\u001b[0m \u001b[0;32mor\u001b[0m \u001b[0m_global_backward_hooks\u001b[0m\u001b[0;34m\u001b[0m\u001b[0;34m\u001b[0m\u001b[0m\n\u001b[1;32m   1749\u001b[0m                 or _global_forward_hooks or _global_forward_pre_hooks):\n\u001b[0;32m-> 1750\u001b[0;31m             \u001b[0;32mreturn\u001b[0m \u001b[0mforward_call\u001b[0m\u001b[0;34m(\u001b[0m\u001b[0;34m*\u001b[0m\u001b[0margs\u001b[0m\u001b[0;34m,\u001b[0m \u001b[0;34m**\u001b[0m\u001b[0mkwargs\u001b[0m\u001b[0;34m)\u001b[0m\u001b[0;34m\u001b[0m\u001b[0;34m\u001b[0m\u001b[0m\n\u001b[0m\u001b[1;32m   1751\u001b[0m \u001b[0;34m\u001b[0m\u001b[0m\n\u001b[1;32m   1752\u001b[0m         \u001b[0mresult\u001b[0m \u001b[0;34m=\u001b[0m \u001b[0;32mNone\u001b[0m\u001b[0;34m\u001b[0m\u001b[0;34m\u001b[0m\u001b[0m\n",
            "\u001b[0;31mTypeError\u001b[0m: RobertaModel.forward() got an unexpected keyword argument 'num_items_in_batch'"
          ]
        }
      ],
      "source": [
        "trainer.train()\n",
        "# trainer.push_to_hub(config)\n"
      ]
    },
    {
      "cell_type": "code",
      "execution_count": null,
      "metadata": {
        "id": "X2-6k7VozRfv"
      },
      "outputs": [],
      "source": [
        "trainer.push_to_hub()"
      ]
    }
  ],
  "metadata": {
    "colab": {
      "provenance": [],
      "authorship_tag": "ABX9TyPe+fxPIyAfbvC4OvKX5VEk",
      "include_colab_link": true
    },
    "kernelspec": {
      "display_name": "Python 3",
      "name": "python3"
    },
    "language_info": {
      "name": "python"
    }
  },
  "nbformat": 4,
  "nbformat_minor": 0
}