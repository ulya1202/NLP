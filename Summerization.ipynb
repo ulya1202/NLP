{
  "nbformat": 4,
  "nbformat_minor": 0,
  "metadata": {
    "colab": {
      "provenance": [],
      "gpuType": "T4",
      "authorship_tag": "ABX9TyMuOPGxODxC5/JymhAvW7E8",
      "include_colab_link": true
    },
    "kernelspec": {
      "name": "python3",
      "display_name": "Python 3"
    },
    "language_info": {
      "name": "python"
    },
    "accelerator": "GPU"
  },
  "cells": [
    {
      "cell_type": "markdown",
      "metadata": {
        "id": "view-in-github",
        "colab_type": "text"
      },
      "source": [
        "<a href=\"https://colab.research.google.com/github/ulya1202/NLP/blob/main/Summeration.ipynb\" target=\"_parent\"><img src=\"https://colab.research.google.com/assets/colab-badge.svg\" alt=\"Open In Colab\"/></a>"
      ]
    },
    {
      "cell_type": "code",
      "source": [
        "from transformers import pipeline, set_seed"
      ],
      "metadata": {
        "id": "OUpoxjZT9hs-"
      },
      "execution_count": null,
      "outputs": []
    },
    {
      "cell_type": "code",
      "source": [
        "!pip install datasets --upgrade #en axirnci versiyasin qaytarsin"
      ],
      "metadata": {
        "colab": {
          "base_uri": "https://localhost:8080/"
        },
        "id": "tfRBQ_eJ9mxF",
        "outputId": "228a812c-dc6a-468f-ce4e-c7a3b4222e51"
      },
      "execution_count": null,
      "outputs": [
        {
          "output_type": "stream",
          "name": "stdout",
          "text": [
            "Requirement already satisfied: datasets in /usr/local/lib/python3.11/dist-packages (2.14.4)\n",
            "Collecting datasets\n",
            "  Downloading datasets-3.6.0-py3-none-any.whl.metadata (19 kB)\n",
            "Requirement already satisfied: filelock in /usr/local/lib/python3.11/dist-packages (from datasets) (3.18.0)\n",
            "Requirement already satisfied: numpy>=1.17 in /usr/local/lib/python3.11/dist-packages (from datasets) (2.0.2)\n",
            "Requirement already satisfied: pyarrow>=15.0.0 in /usr/local/lib/python3.11/dist-packages (from datasets) (18.1.0)\n",
            "Requirement already satisfied: dill<0.3.9,>=0.3.0 in /usr/local/lib/python3.11/dist-packages (from datasets) (0.3.7)\n",
            "Requirement already satisfied: pandas in /usr/local/lib/python3.11/dist-packages (from datasets) (2.2.2)\n",
            "Requirement already satisfied: requests>=2.32.2 in /usr/local/lib/python3.11/dist-packages (from datasets) (2.32.3)\n",
            "Requirement already satisfied: tqdm>=4.66.3 in /usr/local/lib/python3.11/dist-packages (from datasets) (4.67.1)\n",
            "Requirement already satisfied: xxhash in /usr/local/lib/python3.11/dist-packages (from datasets) (3.5.0)\n",
            "Requirement already satisfied: multiprocess<0.70.17 in /usr/local/lib/python3.11/dist-packages (from datasets) (0.70.15)\n",
            "Collecting fsspec<=2025.3.0,>=2023.1.0 (from fsspec[http]<=2025.3.0,>=2023.1.0->datasets)\n",
            "  Downloading fsspec-2025.3.0-py3-none-any.whl.metadata (11 kB)\n",
            "Requirement already satisfied: huggingface-hub>=0.24.0 in /usr/local/lib/python3.11/dist-packages (from datasets) (0.33.0)\n",
            "Requirement already satisfied: packaging in /usr/local/lib/python3.11/dist-packages (from datasets) (24.2)\n",
            "Requirement already satisfied: pyyaml>=5.1 in /usr/local/lib/python3.11/dist-packages (from datasets) (6.0.2)\n",
            "Requirement already satisfied: aiohttp!=4.0.0a0,!=4.0.0a1 in /usr/local/lib/python3.11/dist-packages (from fsspec[http]<=2025.3.0,>=2023.1.0->datasets) (3.11.15)\n",
            "Requirement already satisfied: typing-extensions>=3.7.4.3 in /usr/local/lib/python3.11/dist-packages (from huggingface-hub>=0.24.0->datasets) (4.14.0)\n",
            "Requirement already satisfied: hf-xet<2.0.0,>=1.1.2 in /usr/local/lib/python3.11/dist-packages (from huggingface-hub>=0.24.0->datasets) (1.1.3)\n",
            "Requirement already satisfied: charset-normalizer<4,>=2 in /usr/local/lib/python3.11/dist-packages (from requests>=2.32.2->datasets) (3.4.2)\n",
            "Requirement already satisfied: idna<4,>=2.5 in /usr/local/lib/python3.11/dist-packages (from requests>=2.32.2->datasets) (3.10)\n",
            "Requirement already satisfied: urllib3<3,>=1.21.1 in /usr/local/lib/python3.11/dist-packages (from requests>=2.32.2->datasets) (2.4.0)\n",
            "Requirement already satisfied: certifi>=2017.4.17 in /usr/local/lib/python3.11/dist-packages (from requests>=2.32.2->datasets) (2025.6.15)\n",
            "Requirement already satisfied: python-dateutil>=2.8.2 in /usr/local/lib/python3.11/dist-packages (from pandas->datasets) (2.9.0.post0)\n",
            "Requirement already satisfied: pytz>=2020.1 in /usr/local/lib/python3.11/dist-packages (from pandas->datasets) (2025.2)\n",
            "Requirement already satisfied: tzdata>=2022.7 in /usr/local/lib/python3.11/dist-packages (from pandas->datasets) (2025.2)\n",
            "Requirement already satisfied: aiohappyeyeballs>=2.3.0 in /usr/local/lib/python3.11/dist-packages (from aiohttp!=4.0.0a0,!=4.0.0a1->fsspec[http]<=2025.3.0,>=2023.1.0->datasets) (2.6.1)\n",
            "Requirement already satisfied: aiosignal>=1.1.2 in /usr/local/lib/python3.11/dist-packages (from aiohttp!=4.0.0a0,!=4.0.0a1->fsspec[http]<=2025.3.0,>=2023.1.0->datasets) (1.3.2)\n",
            "Requirement already satisfied: attrs>=17.3.0 in /usr/local/lib/python3.11/dist-packages (from aiohttp!=4.0.0a0,!=4.0.0a1->fsspec[http]<=2025.3.0,>=2023.1.0->datasets) (25.3.0)\n",
            "Requirement already satisfied: frozenlist>=1.1.1 in /usr/local/lib/python3.11/dist-packages (from aiohttp!=4.0.0a0,!=4.0.0a1->fsspec[http]<=2025.3.0,>=2023.1.0->datasets) (1.7.0)\n",
            "Requirement already satisfied: multidict<7.0,>=4.5 in /usr/local/lib/python3.11/dist-packages (from aiohttp!=4.0.0a0,!=4.0.0a1->fsspec[http]<=2025.3.0,>=2023.1.0->datasets) (6.4.4)\n",
            "Requirement already satisfied: propcache>=0.2.0 in /usr/local/lib/python3.11/dist-packages (from aiohttp!=4.0.0a0,!=4.0.0a1->fsspec[http]<=2025.3.0,>=2023.1.0->datasets) (0.3.2)\n",
            "Requirement already satisfied: yarl<2.0,>=1.17.0 in /usr/local/lib/python3.11/dist-packages (from aiohttp!=4.0.0a0,!=4.0.0a1->fsspec[http]<=2025.3.0,>=2023.1.0->datasets) (1.20.1)\n",
            "Requirement already satisfied: six>=1.5 in /usr/local/lib/python3.11/dist-packages (from python-dateutil>=2.8.2->pandas->datasets) (1.17.0)\n",
            "Downloading datasets-3.6.0-py3-none-any.whl (491 kB)\n",
            "\u001b[2K   \u001b[90m━━━━━━━━━━━━━━━━━━━━━━━━━━━━━━━━━━━━━━━━\u001b[0m \u001b[32m491.5/491.5 kB\u001b[0m \u001b[31m16.6 MB/s\u001b[0m eta \u001b[36m0:00:00\u001b[0m\n",
            "\u001b[?25hDownloading fsspec-2025.3.0-py3-none-any.whl (193 kB)\n",
            "\u001b[2K   \u001b[90m━━━━━━━━━━━━━━━━━━━━━━━━━━━━━━━━━━━━━━━━\u001b[0m \u001b[32m193.6/193.6 kB\u001b[0m \u001b[31m16.0 MB/s\u001b[0m eta \u001b[36m0:00:00\u001b[0m\n",
            "\u001b[?25hInstalling collected packages: fsspec, datasets\n",
            "  Attempting uninstall: fsspec\n",
            "    Found existing installation: fsspec 2025.3.2\n",
            "    Uninstalling fsspec-2025.3.2:\n",
            "      Successfully uninstalled fsspec-2025.3.2\n",
            "  Attempting uninstall: datasets\n",
            "    Found existing installation: datasets 2.14.4\n",
            "    Uninstalling datasets-2.14.4:\n",
            "      Successfully uninstalled datasets-2.14.4\n",
            "\u001b[31mERROR: pip's dependency resolver does not currently take into account all the packages that are installed. This behaviour is the source of the following dependency conflicts.\n",
            "gcsfs 2025.3.2 requires fsspec==2025.3.2, but you have fsspec 2025.3.0 which is incompatible.\n",
            "torch 2.6.0+cu124 requires nvidia-cublas-cu12==12.4.5.8; platform_system == \"Linux\" and platform_machine == \"x86_64\", but you have nvidia-cublas-cu12 12.5.3.2 which is incompatible.\n",
            "torch 2.6.0+cu124 requires nvidia-cuda-cupti-cu12==12.4.127; platform_system == \"Linux\" and platform_machine == \"x86_64\", but you have nvidia-cuda-cupti-cu12 12.5.82 which is incompatible.\n",
            "torch 2.6.0+cu124 requires nvidia-cuda-nvrtc-cu12==12.4.127; platform_system == \"Linux\" and platform_machine == \"x86_64\", but you have nvidia-cuda-nvrtc-cu12 12.5.82 which is incompatible.\n",
            "torch 2.6.0+cu124 requires nvidia-cuda-runtime-cu12==12.4.127; platform_system == \"Linux\" and platform_machine == \"x86_64\", but you have nvidia-cuda-runtime-cu12 12.5.82 which is incompatible.\n",
            "torch 2.6.0+cu124 requires nvidia-cudnn-cu12==9.1.0.70; platform_system == \"Linux\" and platform_machine == \"x86_64\", but you have nvidia-cudnn-cu12 9.3.0.75 which is incompatible.\n",
            "torch 2.6.0+cu124 requires nvidia-cufft-cu12==11.2.1.3; platform_system == \"Linux\" and platform_machine == \"x86_64\", but you have nvidia-cufft-cu12 11.2.3.61 which is incompatible.\n",
            "torch 2.6.0+cu124 requires nvidia-curand-cu12==10.3.5.147; platform_system == \"Linux\" and platform_machine == \"x86_64\", but you have nvidia-curand-cu12 10.3.6.82 which is incompatible.\n",
            "torch 2.6.0+cu124 requires nvidia-cusolver-cu12==11.6.1.9; platform_system == \"Linux\" and platform_machine == \"x86_64\", but you have nvidia-cusolver-cu12 11.6.3.83 which is incompatible.\n",
            "torch 2.6.0+cu124 requires nvidia-cusparse-cu12==12.3.1.170; platform_system == \"Linux\" and platform_machine == \"x86_64\", but you have nvidia-cusparse-cu12 12.5.1.3 which is incompatible.\n",
            "torch 2.6.0+cu124 requires nvidia-nvjitlink-cu12==12.4.127; platform_system == \"Linux\" and platform_machine == \"x86_64\", but you have nvidia-nvjitlink-cu12 12.5.82 which is incompatible.\u001b[0m\u001b[31m\n",
            "\u001b[0mSuccessfully installed datasets-3.6.0 fsspec-2025.3.0\n"
          ]
        }
      ]
    },
    {
      "cell_type": "code",
      "execution_count": null,
      "metadata": {
        "colab": {
          "base_uri": "https://localhost:8080/",
          "height": 652,
          "referenced_widgets": [
            "1639b6b395ee4d638e534a91febeee84",
            "ebf959b022c24d1fbf1fb0726afc6dd8",
            "cd77d9816a57407f840eb35363d147eb",
            "bb9a48c49b3e49b2bde9d0a15c35aed9",
            "03213e76329e45f88f0597436cbd6b7d",
            "af5cd1308b9a42cebc885e0a551aca2e",
            "137ea3a7f7004a8a9728a2c9a4b83ef9",
            "31731c4780614f2a88f5a9b925021059",
            "d6742303ba13470ca9b2ed2e6f07a834",
            "dc00f00dda914258921dde7217ea0ddc",
            "e5f646f9a1454383b03780ab232fc347",
            "b70b87f4eba94ee79da99bd421b923cf",
            "0f35d17436a1495cbc270fc98288efca",
            "78f69af0b2a2480e8a871464d57761e8",
            "0fae72b447944b94a051d4e9504a5584",
            "cfde1cee182a472ea001bb6db58cd56c",
            "1e62c30dea6e4416b0e9f3fccdb27ef8",
            "366c34e5b27446cd9b922034da75c99b",
            "872540b87f4d43789c0e79cce9a286e2",
            "c57456b781f24333bc40525b25d745c4",
            "06ace04665394a23ae94bcdb0aef8750",
            "4cd6409a7cbe4452a66537bfec56a425",
            "bc8a1b5b280f4f73ab2a60e397889787",
            "6decc6d6d7e94123b2c57ee59c651f1f",
            "a8cbc8a73ff94994aede7308b8a88ccb",
            "3c74d7aa7dd04e6688e967747db4b55e",
            "1b79ffec58b84ba5ab8745734ab5e697",
            "4c53015d8d00440ba4b2e15e52a0e95a",
            "26c6181b205a4f96af843211a972b73b",
            "f3167ed9aa014405b9f1ef18a54b94dd",
            "2ceb6634eb9c47dc9ede0a616aac9aa8",
            "5e77c8b6e6c340b0bc66b66fd2ccf87d",
            "82568b9990ca47eea408217172557b17",
            "4f96a15a388f4c11bcd9ee9d8c8e3172",
            "9024e337d55c4b549f7a6f7e0e3cec18",
            "5b7d8c0d894e419089f3b9253fd139de",
            "28b6ff04310b416a82b4c018731bbbf3",
            "6561b289edbc42aaa02b0515350baf18",
            "9d7b787f84ed44f49a533b8246fd9c9e",
            "520490ed79b549f0a2523992655302ff",
            "24648f32d2504d4fae6aa06b9ca739de",
            "381a5730f6d84f11914218c8a7b7f212",
            "675ea440696b4abeb4a737e75f5e162d",
            "c3a70e27724f44e5949b44badf6a6c0a",
            "a6cfc3300be84fb1926f2c65ed7de863",
            "7826a467553a40bb804f34639850f49f",
            "029cc287757a41fcb7e6c9dc30790a19",
            "e63b1ad668df41c8a317bffd3aacaad7",
            "bf9519f09e12430eb97b74f47a73982c",
            "efd5b7796efa4bfbab1cfd6a3425d931",
            "2a62e2ad4ce74179852731ea258725ce",
            "1fafa23395ca4460a12469ebc12686d2",
            "c1f58ec5a06144d4892813e5bdd1c947",
            "31c5bdb3c2f6471eb4bf267de307fd3d",
            "86f25eecd5864bdf820c4047ca3dcf0c",
            "cb1f4cb7026348d29524d60a728f3863",
            "a6bf4614bed9476e9b0900bd2208963f",
            "9e98177075314bd0a4f97851bcf2603c",
            "3d356fd722964b858732ad7db474b606",
            "9d4081cd764c449f9532a00bf499b738",
            "c660e900ebc44452971e123053c2fdd9",
            "d4f04d4c7b814b1093d1abbb92da590f",
            "50f7e76f2ae644f0bcf3a581ddef84e5",
            "8509a7259ce142028b0d35ac36490de8",
            "57f5f2395f53498395ea9abf10b9df7f",
            "5a9d36d8ffee40d18546985511ca46ae",
            "4ea67087624c4ca0a184bc0fc66d57d7",
            "8a2c2cd3cf2e48aca9cbbd129c0f766c",
            "252a98aab1c14f9f83419c17ffbfeb81",
            "707e0b4ed9274f32896bb56a015955c5",
            "bcdc4c9e41124136995491a38388d673",
            "7ed8eaf83aad472d93186120631ee4ed",
            "bc744b968d914269a95e7595b8a361c6",
            "369b633bf3e542a2b0f73650777b492f",
            "6f2356ca19bd4b5d8811a0ce33dc3e94",
            "15d6ee0525a94984ba95ff47b6619b6f",
            "e3422a08c23c4ed8893d44851fe7d5d5",
            "7efaaa30c6e244d9b8b616fcfdc3eabc",
            "7304f7f6c42c461c884faed48d07180a",
            "a6bc61eaddc0494abe97ad17f170adc2",
            "3044a655f81b47ebaee65348762e143a",
            "8aafcb4dd97e42d1baa2aa5a2d1d2e7a",
            "3c40dec3169e40e7b4063cc89c93c973",
            "5e67a0aa979c47ddb86c58c6c99f9ef4",
            "f30ca723f46d4be8a13dd36d387f972f",
            "3e36c35c0d35454eadfab528ca803d26",
            "73e434d90e7b4ca5a208ef2303a7b59a",
            "51b004a400324a3eba835a31f430d804",
            "8a82a8c5c18743929b392f1fc95793d0",
            "5c31a1fc8ab6446d892af69a8b8a4e2d",
            "a81e1d4c962743df93a5ed0393902e9a",
            "43025805ba08439e99bea4f1927981ee",
            "dc51cccd891044de9b4345598c2ada5e",
            "33c017fcf5fb4466a14b7be171dae523",
            "d4404b3c7c5c4d22900629d27f581320",
            "ace202bd3f3c434d93bb3f6cd4966c24",
            "3ad4095ea48343b8a0b42702fc95cf4a",
            "e91f370f5258419d930344230fa28dd9",
            "666b0eddef0d4aa8832b5099ca2059ad"
          ]
        },
        "id": "elAhk8is8OV1",
        "outputId": "d4f2739a-f2f6-44b4-f317-fc6c6a2a8128"
      },
      "outputs": [
        {
          "output_type": "stream",
          "name": "stderr",
          "text": [
            "/usr/local/lib/python3.11/dist-packages/huggingface_hub/utils/_auth.py:94: UserWarning: \n",
            "The secret `HF_TOKEN` does not exist in your Colab secrets.\n",
            "To authenticate with the Hugging Face Hub, create a token in your settings tab (https://huggingface.co/settings/tokens), set it as secret in your Google Colab and restart your session.\n",
            "You will be able to reuse this secret in all of your notebooks.\n",
            "Please note that authentication is recommended but still optional to access public models or datasets.\n",
            "  warnings.warn(\n"
          ]
        },
        {
          "output_type": "display_data",
          "data": {
            "text/plain": [
              "README.md:   0%|          | 0.00/15.6k [00:00<?, ?B/s]"
            ],
            "application/vnd.jupyter.widget-view+json": {
              "version_major": 2,
              "version_minor": 0,
              "model_id": "1639b6b395ee4d638e534a91febeee84"
            }
          },
          "metadata": {}
        },
        {
          "output_type": "display_data",
          "data": {
            "text/plain": [
              "train-00000-of-00003.parquet:   0%|          | 0.00/257M [00:00<?, ?B/s]"
            ],
            "application/vnd.jupyter.widget-view+json": {
              "version_major": 2,
              "version_minor": 0,
              "model_id": "b70b87f4eba94ee79da99bd421b923cf"
            }
          },
          "metadata": {}
        },
        {
          "output_type": "display_data",
          "data": {
            "text/plain": [
              "train-00001-of-00003.parquet:   0%|          | 0.00/257M [00:00<?, ?B/s]"
            ],
            "application/vnd.jupyter.widget-view+json": {
              "version_major": 2,
              "version_minor": 0,
              "model_id": "bc8a1b5b280f4f73ab2a60e397889787"
            }
          },
          "metadata": {}
        },
        {
          "output_type": "display_data",
          "data": {
            "text/plain": [
              "train-00002-of-00003.parquet:   0%|          | 0.00/259M [00:00<?, ?B/s]"
            ],
            "application/vnd.jupyter.widget-view+json": {
              "version_major": 2,
              "version_minor": 0,
              "model_id": "4f96a15a388f4c11bcd9ee9d8c8e3172"
            }
          },
          "metadata": {}
        },
        {
          "output_type": "display_data",
          "data": {
            "text/plain": [
              "validation-00000-of-00001.parquet:   0%|          | 0.00/34.7M [00:00<?, ?B/s]"
            ],
            "application/vnd.jupyter.widget-view+json": {
              "version_major": 2,
              "version_minor": 0,
              "model_id": "a6cfc3300be84fb1926f2c65ed7de863"
            }
          },
          "metadata": {}
        },
        {
          "output_type": "display_data",
          "data": {
            "text/plain": [
              "test-00000-of-00001.parquet:   0%|          | 0.00/30.0M [00:00<?, ?B/s]"
            ],
            "application/vnd.jupyter.widget-view+json": {
              "version_major": 2,
              "version_minor": 0,
              "model_id": "cb1f4cb7026348d29524d60a728f3863"
            }
          },
          "metadata": {}
        },
        {
          "output_type": "display_data",
          "data": {
            "text/plain": [
              "Generating train split:   0%|          | 0/287113 [00:00<?, ? examples/s]"
            ],
            "application/vnd.jupyter.widget-view+json": {
              "version_major": 2,
              "version_minor": 0,
              "model_id": "4ea67087624c4ca0a184bc0fc66d57d7"
            }
          },
          "metadata": {}
        },
        {
          "output_type": "display_data",
          "data": {
            "text/plain": [
              "Generating validation split:   0%|          | 0/13368 [00:00<?, ? examples/s]"
            ],
            "application/vnd.jupyter.widget-view+json": {
              "version_major": 2,
              "version_minor": 0,
              "model_id": "7efaaa30c6e244d9b8b616fcfdc3eabc"
            }
          },
          "metadata": {}
        },
        {
          "output_type": "display_data",
          "data": {
            "text/plain": [
              "Generating test split:   0%|          | 0/11490 [00:00<?, ? examples/s]"
            ],
            "application/vnd.jupyter.widget-view+json": {
              "version_major": 2,
              "version_minor": 0,
              "model_id": "8a82a8c5c18743929b392f1fc95793d0"
            }
          },
          "metadata": {}
        },
        {
          "output_type": "execute_result",
          "data": {
            "text/plain": [
              "DatasetDict({\n",
              "    train: Dataset({\n",
              "        features: ['article', 'highlights', 'id'],\n",
              "        num_rows: 287113\n",
              "    })\n",
              "    validation: Dataset({\n",
              "        features: ['article', 'highlights', 'id'],\n",
              "        num_rows: 13368\n",
              "    })\n",
              "    test: Dataset({\n",
              "        features: ['article', 'highlights', 'id'],\n",
              "        num_rows: 11490\n",
              "    })\n",
              "})"
            ]
          },
          "metadata": {},
          "execution_count": 3
        }
      ],
      "source": [
        "from datasets import load_dataset\n",
        "\n",
        "dataset=load_dataset('cnn_dailymail','3.0.0') #xebrler\n",
        "dataset"
      ]
    },
    {
      "cell_type": "code",
      "source": [
        "dataset['train'].features"
      ],
      "metadata": {
        "colab": {
          "base_uri": "https://localhost:8080/"
        },
        "id": "tB3k-lZL-HSJ",
        "outputId": "5a9cfe5d-7bba-4f42-894f-f73814de018d"
      },
      "execution_count": null,
      "outputs": [
        {
          "output_type": "execute_result",
          "data": {
            "text/plain": [
              "{'article': Value(dtype='string', id=None),\n",
              " 'highlights': Value(dtype='string', id=None),\n",
              " 'id': Value(dtype='string', id=None)}"
            ]
          },
          "metadata": {},
          "execution_count": 4
        }
      ]
    },
    {
      "cell_type": "code",
      "source": [
        "dataset['train'].column_names #sutun adlarini qaytarir"
      ],
      "metadata": {
        "colab": {
          "base_uri": "https://localhost:8080/"
        },
        "id": "zLJfSCnT-f1A",
        "outputId": "e60bca63-df16-4409-b3bb-80ad06aa2cb6"
      },
      "execution_count": null,
      "outputs": [
        {
          "output_type": "execute_result",
          "data": {
            "text/plain": [
              "['article', 'highlights', 'id']"
            ]
          },
          "metadata": {},
          "execution_count": 5
        }
      ]
    },
    {
      "cell_type": "code",
      "source": [
        "sample=dataset['train'][0]\n",
        "print(f\"\"\"\n",
        "Article (except of 500 characters, total length:{ len(sample['article']) } characters):\n",
        "\"\"\")\n",
        "print(sample['article'][:500])\n",
        "print(f\"\\nSummary (length:{len(sample['highlights'])} characters):\")\n",
        "print(sample['highlights'])"
      ],
      "metadata": {
        "colab": {
          "base_uri": "https://localhost:8080/"
        },
        "id": "LJH0ZUmn-j9w",
        "outputId": "77dd0856-18d2-4bd7-ed83-798002d3ab22"
      },
      "execution_count": null,
      "outputs": [
        {
          "output_type": "stream",
          "name": "stdout",
          "text": [
            "\n",
            "Article (except of 500 characters, total length:2527 characters):\n",
            "\n",
            "LONDON, England (Reuters) -- Harry Potter star Daniel Radcliffe gains access to a reported £20 million ($41.1 million) fortune as he turns 18 on Monday, but he insists the money won't cast a spell on him. Daniel Radcliffe as Harry Potter in \"Harry Potter and the Order of the Phoenix\" To the disappointment of gossip columnists around the world, the young actor says he has no plans to fritter his cash away on fast cars, drink and celebrity parties. \"I don't plan to be one of those people who, as s\n",
            "\n",
            "Summary (length:217 characters):\n",
            "Harry Potter star Daniel Radcliffe gets £20M fortune as he turns 18 Monday .\n",
            "Young actor says he has no plans to fritter his cash away .\n",
            "Radcliffe's earnings from first five Potter films have been held in trust fund .\n"
          ]
        }
      ]
    },
    {
      "cell_type": "markdown",
      "source": [
        "#Text Summarizatioin Pipeline"
      ],
      "metadata": {
        "id": "FSyErkDk_WBt"
      }
    },
    {
      "cell_type": "code",
      "source": [
        "sample_text=dataset['train'][0]['article'][:2000] #ilk 2000 herifi\n",
        "#bezileri uzundu isteyrik  uzundursa sileeeyik\n",
        "summarize={}"
      ],
      "metadata": {
        "id": "5l6QGkh-ARYq"
      },
      "execution_count": null,
      "outputs": []
    },
    {
      "cell_type": "code",
      "source": [
        "import nltk\n",
        "from nltk.tokenize import sent_tokenize #\n",
        "\n",
        "nltk.download('punkt_tab')#setirleri bolecek hazi rmodeldi #ferqli cumleer  noqte gore novbeti setir ,  amma U.s de problem olur,"
      ],
      "metadata": {
        "colab": {
          "base_uri": "https://localhost:8080/"
        },
        "id": "SOASer3WAZ7G",
        "outputId": "0b84b7de-b77a-4329-dcbe-b7b7dcd498dd"
      },
      "execution_count": null,
      "outputs": [
        {
          "output_type": "stream",
          "name": "stderr",
          "text": [
            "[nltk_data] Downloading package punkt_tab to /root/nltk_data...\n",
            "[nltk_data]   Unzipping tokenizers/punkt_tab.zip.\n"
          ]
        },
        {
          "output_type": "execute_result",
          "data": {
            "text/plain": [
              "True"
            ]
          },
          "metadata": {},
          "execution_count": 8
        }
      ]
    },
    {
      "cell_type": "code",
      "source": [
        "string='The U.S. are a country. Then U.N.  is an organization ' #noqteye gor yox cumleye gore\n",
        "sent_tokenize(string)"
      ],
      "metadata": {
        "colab": {
          "base_uri": "https://localhost:8080/"
        },
        "id": "gTfww3OlAhIH",
        "outputId": "c1051b64-70df-4cfa-bc64-188b4911130f"
      },
      "execution_count": null,
      "outputs": [
        {
          "output_type": "execute_result",
          "data": {
            "text/plain": [
              "['The U.S. are a country.', 'Then U.N.  is an organization']"
            ]
          },
          "metadata": {},
          "execution_count": 9
        }
      ]
    },
    {
      "cell_type": "code",
      "source": [
        "#baseline duzltmek lazimdi\n",
        "#baselin e timeseriesede son gun\n",
        "#bezi modeelrd exetti model\n",
        "#ilk 3 cumle  burda\n",
        "\n",
        "\n",
        "def three_sentence_summary(text):\n",
        "    return '\\n'.join(sent_tokenize(text)[:3])"
      ],
      "metadata": {
        "id": "EXanQd3BBfSJ"
      },
      "execution_count": null,
      "outputs": []
    },
    {
      "cell_type": "code",
      "source": [
        "summarize['baseline']=three_sentence_summary(sample_text)"
      ],
      "metadata": {
        "id": "jVi52BSiCIWo"
      },
      "execution_count": null,
      "outputs": []
    },
    {
      "cell_type": "markdown",
      "source": [
        "#GPT-2"
      ],
      "metadata": {
        "id": "GD-Rk7keCQf7"
      }
    },
    {
      "cell_type": "markdown",
      "source": [],
      "metadata": {
        "id": "sdxGmWxvK0PZ"
      }
    },
    {
      "cell_type": "code",
      "source": [],
      "metadata": {
        "id": "BdWzugi0Ku0s"
      },
      "execution_count": null,
      "outputs": []
    },
    {
      "cell_type": "code",
      "source": [
        "from transformers import pipeline, set_seed\n",
        "\n",
        "set_seed(42)\n",
        "pipe=pipeline('text-generation', model='gpt2')#-xl lsa idi dah ayaxsi oalrdi , bu en balacasidi , bu model cumlenien arxsin igetiri, sual caavb vere n edeyil, eger osnra simmarize: yazsaq onun summarizidin getireck\n",
        "\n",
        "gpt2_query=sample_text+'\\nTL;DR:\\n' #too long didnt read , cox yazand abunu elave dir \\summary yazsaq summaryde olur,\n",
        "\n",
        "pipe_out=pipe(gpt2_query, max_length=512, clean_up_tokenization_spaces=True)\n",
        "\n",
        "summarize['gpt2']='\\n'.join(sent_tokenize(pipe_out[0]['generated_text'][len(gpt2_query):])) #menim"
      ],
      "metadata": {
        "colab": {
          "base_uri": "https://localhost:8080/",
          "height": 330,
          "referenced_widgets": [
            "a3495b01c38241588c1bad9eaa6deff8",
            "d1976a1e991442309d84726a111fe6c0",
            "c6e72afa7507494b873f00c79d635ba4",
            "8ed2e882337443e69d4fee76ec5cfe94",
            "2d473a91a0fe46f69bb03d289a84c737",
            "11e731fe8db04cb9b61a8b8ef80ad9a5",
            "cd28267ce4d84a1e85c388c10fcc47b9",
            "4dc0ac2fdfec4036a0d547a06313e047",
            "720df2867d54405f84a15f95ace09527",
            "2111040e7f4a413389de013d62fcea22",
            "d9032bfee00748a6b6a06c212af71b57",
            "44aa2c21689a4d4d96169f0ba27775e8",
            "24f83aac4f584529a12f78d80bfc6a30",
            "e97e1dfe3dcf4956bbad701f8c09816e",
            "873d9c76644d4397820eaa34d452c3bf",
            "c5953d8c75e1451a8094d3eea7249eaf",
            "059c31965a8d4a739d5525f1fa00786f",
            "c0f3f4e60e0c4a1bb44df99ad0a4c21e",
            "89624530279442feb2179babfa78101d",
            "7e52cb5ca42744e38ea7733f98995284",
            "4dbd3dda3c3b43b9a9549298f34212bd",
            "4f72e1dde84a48e9b6e50dc467390c5d",
            "2d552268f1b8432c98c865e3e3320a0b",
            "be7e83e7eec9465e8491b8b2d6fdd8a5",
            "435db86f91874d4d980bfe32963ee09f",
            "117cd4ed36eb473182ea5ae4dde33570",
            "940c70d20a49417b9a0481f3c3d9ae69",
            "6cbc40c8a530471d9425769b5b4dc2a3",
            "c60b8003243041eca36fd586f989ee53",
            "6796f61dc1234736bc1418e03c7fd6df",
            "2dd7b0a4fd7b4004b121acc3ac289c90",
            "4544bc8ddea64e529b6a84ee6ffb98af",
            "f3bcc31b18bd427d9f2740228bdae0de",
            "9e9cad889eae4f3d89d4974ad658cbbb",
            "b5c1e56f50de4b9981075124e0e01e88",
            "92129385923d4e71a49adad64414a6c9",
            "26111aa86b434d04a7a45c7bc27e5e24",
            "b2edaad109b24858bc208537b70214a2",
            "292ceb9f737a4cdd8acf5e43da635177",
            "9c2db690749a4e54bf4442d7b75d845e",
            "01c4dd50ac6b4b7aa88324bbc7238f6b",
            "0f744a78e1e84a63b3d06340c8f784e9",
            "23ed0081cfd24e12a0c307d7059ac4a8",
            "38d798437e9a4ac097d4eefb8cae35f5",
            "e43680567a2a4c6cb74406416bda0a81",
            "a1f61ea592514b33891f5be060638fbc",
            "be4b42fe649d4255bb23db3b091a4bdf",
            "0f7cdc7b20a24e58971a101167359fc2",
            "2304c89f3caf4a75a11232331dabb26a",
            "303412c635d64ab497869023ac8e1dc1",
            "3f5df703adf84d4f9b44cece46364183",
            "38833f9cf2cb42ae86f95c3bc1b2de1d",
            "25c46aa755b74a7b9363d48c4311d59d",
            "5f0342838c7140c7bddaabc7177e1a8c",
            "f023b383f7444891bdf76e4b9e3c141c",
            "73ccbf1291d34ab2ac43e332e7d9010f",
            "2f820ad6df4e45d28e1196597cfdbf25",
            "dfde77dc057d409fbe2ec9d6099e21b4",
            "825c1461c35d4b7f994fb51efc2c4334",
            "e593ee41bdcd401681bc65626bfcc4c2",
            "035f7f4c2d904fb991b09e87ba2bd476",
            "4f1260e46d6146fcaeb18b06f7075f23",
            "1bc8e980e7e24cf9a18b6a48f2e61857",
            "aae6647dd2c34f159b5d10bde87188f0",
            "f50b10b12ed64406a1d9a980017bd3cb",
            "7582433b63cd401a980e2167e3b9df3f",
            "4daa63e99f5e42d8b83a92b92fb407ec",
            "0215f63dbbd5493c91d4e1ee59774514",
            "5a7c4158cd644be09ffc90bce7a7c7ce",
            "09a519210aff43e4854cbc234b7ece7a",
            "3f822aef54084d2e907798e1f131035e",
            "726071f4077e42e89040b2dc648efd32",
            "21a9b608720d4665bf8a1628cfa62995",
            "522a4e97ef094b47b018d017dd56652b",
            "6fc533efc18446caa86bd7a233b642d1",
            "89e2b9caf81b4d8ebbbb13b78b25debb",
            "ce3ea56b43d540508a6dae108f0fef3e"
          ]
        },
        "id": "EtDGwo5GDAsR",
        "outputId": "25c54fd9-1b48-4b4c-f141-479e24a5072e"
      },
      "execution_count": null,
      "outputs": [
        {
          "output_type": "display_data",
          "data": {
            "text/plain": [
              "config.json:   0%|          | 0.00/665 [00:00<?, ?B/s]"
            ],
            "application/vnd.jupyter.widget-view+json": {
              "version_major": 2,
              "version_minor": 0,
              "model_id": "a3495b01c38241588c1bad9eaa6deff8"
            }
          },
          "metadata": {}
        },
        {
          "output_type": "display_data",
          "data": {
            "text/plain": [
              "model.safetensors:   0%|          | 0.00/548M [00:00<?, ?B/s]"
            ],
            "application/vnd.jupyter.widget-view+json": {
              "version_major": 2,
              "version_minor": 0,
              "model_id": "44aa2c21689a4d4d96169f0ba27775e8"
            }
          },
          "metadata": {}
        },
        {
          "output_type": "display_data",
          "data": {
            "text/plain": [
              "generation_config.json:   0%|          | 0.00/124 [00:00<?, ?B/s]"
            ],
            "application/vnd.jupyter.widget-view+json": {
              "version_major": 2,
              "version_minor": 0,
              "model_id": "2d552268f1b8432c98c865e3e3320a0b"
            }
          },
          "metadata": {}
        },
        {
          "output_type": "display_data",
          "data": {
            "text/plain": [
              "tokenizer_config.json:   0%|          | 0.00/26.0 [00:00<?, ?B/s]"
            ],
            "application/vnd.jupyter.widget-view+json": {
              "version_major": 2,
              "version_minor": 0,
              "model_id": "9e9cad889eae4f3d89d4974ad658cbbb"
            }
          },
          "metadata": {}
        },
        {
          "output_type": "display_data",
          "data": {
            "text/plain": [
              "vocab.json:   0%|          | 0.00/1.04M [00:00<?, ?B/s]"
            ],
            "application/vnd.jupyter.widget-view+json": {
              "version_major": 2,
              "version_minor": 0,
              "model_id": "e43680567a2a4c6cb74406416bda0a81"
            }
          },
          "metadata": {}
        },
        {
          "output_type": "display_data",
          "data": {
            "text/plain": [
              "merges.txt:   0%|          | 0.00/456k [00:00<?, ?B/s]"
            ],
            "application/vnd.jupyter.widget-view+json": {
              "version_major": 2,
              "version_minor": 0,
              "model_id": "73ccbf1291d34ab2ac43e332e7d9010f"
            }
          },
          "metadata": {}
        },
        {
          "output_type": "display_data",
          "data": {
            "text/plain": [
              "tokenizer.json:   0%|          | 0.00/1.36M [00:00<?, ?B/s]"
            ],
            "application/vnd.jupyter.widget-view+json": {
              "version_major": 2,
              "version_minor": 0,
              "model_id": "4daa63e99f5e42d8b83a92b92fb407ec"
            }
          },
          "metadata": {}
        },
        {
          "output_type": "stream",
          "name": "stderr",
          "text": [
            "Device set to use cuda:0\n",
            "Truncation was not explicitly activated but `max_length` is provided a specific value, please use `truncation=True` to explicitly truncate examples to max length. Defaulting to 'longest_first' truncation strategy. If you encode pairs of sequences (GLUE-style) with the tokenizer you can select this strategy more precisely by providing a specific strategy to `truncation`.\n",
            "Setting `pad_token_id` to `eos_token_id`:50256 for open-end generation.\n",
            "Both `max_new_tokens` (=256) and `max_length`(=512) seem to have been set. `max_new_tokens` will take precedence. Please refer to the documentation for more information. (https://huggingface.co/docs/transformers/main/en/main_classes/text_generation)\n"
          ]
        }
      ]
    },
    {
      "cell_type": "markdown",
      "source": [
        "#T5"
      ],
      "metadata": {
        "id": "FiqTvecmD1JL"
      }
    },
    {
      "cell_type": "code",
      "source": [
        "pipe=pipeline('summarization', model='t5-small')\n",
        "pipe_out=pipe(sample_text)\n",
        "summarize['t5']='\\n'.join(sent_tokenize(pipe_out[0]['summary_text']))"
      ],
      "metadata": {
        "colab": {
          "base_uri": "https://localhost:8080/",
          "height": 226,
          "referenced_widgets": [
            "f3662535a5354a97b8417fa0e7fc04ca",
            "67ee74d8df894a9d87e304d3d54d2860",
            "64317d060f2647118d2e7f446fc1dda3",
            "1dc0ae1d2eaf44cb972cc04cfeeb5cdd",
            "f5e7e68456eb46ffb3bc7d675dd681a7",
            "667dfce81bec4c0693d5f2215136f8d1",
            "50a97adaf9204212b8489481abeb24c5",
            "fc0f1124b39d4ea58f57a0e6010c0f55",
            "1146351ba6694b8ea054fe662b1f0c1f",
            "358cd2907a03449a8b77cab4721fd9d5",
            "af5eba997c2d411f8550ad0f77acbd71",
            "89374797da8940c290b05b653baa2b6b",
            "421e0e1a19fb4816a902e5c2d8678bfa",
            "51ac2523d5ab40089c41a40db02edb67",
            "69e59946952e410eaff31e0bfd566626",
            "4ad0c0f5011842e999002a3d60fd60c3",
            "b356cc82d3cf4ba796e6338f046de83a",
            "025349b57f9a4e8d82ed1e0e61e2a865",
            "a33894f9239942c3808d5f43ffb0791b",
            "36422d09f5d94212a23a588210579604",
            "6581f05a0a8346cebac9508542be25ec",
            "7c43412340874064ae5f170ce7760361",
            "12abe1428fdb4fd38231db21cb49960b",
            "017d6248ac20449282e325c0b5d4f85d",
            "5edf3ab9661c4eea979f0c04a383590b",
            "9d56768b4dbd4559a9b2fe487323f876",
            "d2672ab326764d2ab2a73575962ed338",
            "2b925473fa98465d9ec7874952a5692e",
            "e1ee64091bc04f09927621c933f13d99",
            "cc5146de56ce46cd8e9b668f34c66395",
            "be8e4b86133e402e9bf3446596343881",
            "bc8bbd5211974087b4e793e3816ec47e",
            "a6a922294bad4c659ed4bfcaeb4cd045",
            "cc31902947b94ce488e08f85a99a321a",
            "ad978bab5c514fbe9eb3bb4023885110",
            "e0fb458bec78455eaa1663f2ac50847f",
            "c3011cbaf3424273a7eca1a53d630a12",
            "7ea18c669aa946999e43358d34ed64f5",
            "418ce3aa9fea4a709456f9ca4f5f9539",
            "ecc4a2455698456ebbe657e13d37e2c1",
            "42377298fd2e45629eebcda508d8216f",
            "a8a9790d26094968a3ef68442179d5a5",
            "24960a2426394f31998bcbf36a8ed265",
            "4bb79781e3fd47ae97f3ccf229ecf65f",
            "aee0e33f058c428386e48ff46995ed77",
            "2561c5536c9a43eb87a40de8ddc35f1e",
            "ceb981dbf43b4da09659d8843a593e46",
            "2312d8ed543b44e4969a3936938c6fd4",
            "bd07e450fa3445938bdfaf380d967426",
            "adb78c531d6743c8a2b6001aa01fb818",
            "ea9f0d63ac49459bb02380d3d264d6c6",
            "fed65d47eb8e46f1a377696441f2d3eb",
            "8dea5779861e43f1bf6f0940711a0990",
            "407a4e81b3d74091a4f13d8eb0703662",
            "c653c63329ce4294b29d4d5f3b0323ac",
            "e334b8e9d78c44b09b115758e57d8046",
            "b005a5b5f39a4de2a94eb88b3b9b0791",
            "d453d074e4914a139d4a0a4e77d4e784",
            "660c5dceb2794153ab739fbb1720bd55",
            "41b833f9e9914d499494e9529e0e97b8",
            "6260fccd8fcf43c39dc5d8d78c42b934",
            "6bd431340e95467caebda481e9468a7f",
            "131a2e0ec8ba469799bf1dc324a10903",
            "b19f71bb1ab24935818b3ccc602a1bb1",
            "a63f0aebb56b4eabb1114843ce2314de",
            "de9cb8af5f424d9cb5835f1ba0ca5d2d"
          ]
        },
        "id": "7AVJcuBFFHn8",
        "outputId": "4dcbb306-5bfc-4b0c-e107-623528314570"
      },
      "execution_count": null,
      "outputs": [
        {
          "output_type": "display_data",
          "data": {
            "text/plain": [
              "config.json:   0%|          | 0.00/1.21k [00:00<?, ?B/s]"
            ],
            "application/vnd.jupyter.widget-view+json": {
              "version_major": 2,
              "version_minor": 0,
              "model_id": "f3662535a5354a97b8417fa0e7fc04ca"
            }
          },
          "metadata": {}
        },
        {
          "output_type": "display_data",
          "data": {
            "text/plain": [
              "model.safetensors:   0%|          | 0.00/242M [00:00<?, ?B/s]"
            ],
            "application/vnd.jupyter.widget-view+json": {
              "version_major": 2,
              "version_minor": 0,
              "model_id": "89374797da8940c290b05b653baa2b6b"
            }
          },
          "metadata": {}
        },
        {
          "output_type": "display_data",
          "data": {
            "text/plain": [
              "generation_config.json:   0%|          | 0.00/147 [00:00<?, ?B/s]"
            ],
            "application/vnd.jupyter.widget-view+json": {
              "version_major": 2,
              "version_minor": 0,
              "model_id": "12abe1428fdb4fd38231db21cb49960b"
            }
          },
          "metadata": {}
        },
        {
          "output_type": "display_data",
          "data": {
            "text/plain": [
              "tokenizer_config.json:   0%|          | 0.00/2.32k [00:00<?, ?B/s]"
            ],
            "application/vnd.jupyter.widget-view+json": {
              "version_major": 2,
              "version_minor": 0,
              "model_id": "cc31902947b94ce488e08f85a99a321a"
            }
          },
          "metadata": {}
        },
        {
          "output_type": "display_data",
          "data": {
            "text/plain": [
              "spiece.model:   0%|          | 0.00/792k [00:00<?, ?B/s]"
            ],
            "application/vnd.jupyter.widget-view+json": {
              "version_major": 2,
              "version_minor": 0,
              "model_id": "aee0e33f058c428386e48ff46995ed77"
            }
          },
          "metadata": {}
        },
        {
          "output_type": "display_data",
          "data": {
            "text/plain": [
              "tokenizer.json:   0%|          | 0.00/1.39M [00:00<?, ?B/s]"
            ],
            "application/vnd.jupyter.widget-view+json": {
              "version_major": 2,
              "version_minor": 0,
              "model_id": "e334b8e9d78c44b09b115758e57d8046"
            }
          },
          "metadata": {}
        },
        {
          "output_type": "stream",
          "name": "stderr",
          "text": [
            "Device set to use cuda:0\n"
          ]
        }
      ]
    },
    {
      "cell_type": "code",
      "source": [
        "#unnsupervised , mueyyen qederde supervised summeriaation classification uchun"
      ],
      "metadata": {
        "id": "cgJjXhq3FcMQ"
      },
      "execution_count": null,
      "outputs": []
    },
    {
      "cell_type": "markdown",
      "source": [
        "#BART"
      ],
      "metadata": {
        "id": "jiOmhDl7F98X"
      }
    },
    {
      "cell_type": "code",
      "source": [
        "pipe=pipeline('summarization', model='facebook/bart-large-cnn')\n",
        "pipe_out=pipe(sample_text)\n",
        "summarize['bart']='\\n'.join(sent_tokenize(pipe_out[0]['summary_text']))"
      ],
      "metadata": {
        "colab": {
          "base_uri": "https://localhost:8080/",
          "height": 226,
          "referenced_widgets": [
            "64c8515db8c543c8a0149e87282d73e3",
            "92cf8932e0d447bb91319fdedab5082d",
            "6ddc9dbd390b4f1898e3aebd904f8319",
            "59310f9730f2499c9d873bb589a5863b",
            "be915336fd604ee0854ae0f777894890",
            "7c4d88c423c6481ea97fab79147e4bfa",
            "042cc6a67d6a4819bf54cb5373006203",
            "a5dc108ed4904723bf5a3464b147e54a",
            "de46c9350e954d86ad9b0942afdfded7",
            "8bb407ceae8043bfa5da74adee796ee1",
            "d0c3fe93f2244ecfb3624b5be4f7659e",
            "8e0dff742b084d0c80813e8164329dca",
            "5f8495b91e5f4718a3e07b154425abdd",
            "def980762c474701870dce42916118cd",
            "c5a88fe44a024824ae575280e9306dbb",
            "6b809f18b1be460e82de40ebb5355df5",
            "41a98a5076af4ad0aac220cdd3355de5",
            "1069f4d759484cd5aad4b11656c6f73a",
            "d67bdba4705a4fe38b6ba6b83977d01d",
            "fcc614229d2648e78e007001938bde84",
            "e838ec1356914fc094bb92ea3ced02d1",
            "231091a34fcb48ca869b20cfa9fd4a1a",
            "bbfc8fc33d7e4093b13f0f1405c6bf0e",
            "d554a520b8ee4c109f0ea05a5bd74383",
            "ca62545083fb45878804b3bf05f4d638",
            "b5a8e890dac8460590076eeca577b767",
            "ad1544725089481682dc59b330f3ac50",
            "f55e2359f6874d9ba5461be211878193",
            "692f52038b3e4a95b07621683f346565",
            "676b416288e441ae832c306f8c6e29a3",
            "8e1d460dd84b44cb80e123bdc067bfab",
            "b9897614c3284a9fa1280c4c1b2ae88b",
            "e61a1e8a09774511b9e21363046bee15",
            "62a0e4b3e1cd45b0bc7c3bdc7cfb609e",
            "ab67f490cfa34016933b0c51632ca2fb",
            "0ad297bb54e94b888114ee5157f7757a",
            "f5ce753672ab448c961a713b529f0a4f",
            "baa6c69536d54471b792e5af16473910",
            "93aded898bb94d69a68099bcdd22fd02",
            "07e4461926e540dd8747520dcd014c2e",
            "d9d614472ade4d55b41586a71e5b1f98",
            "8a76a776c66d4ac4851de0fb8f291746",
            "17b2f2c3bc9d4072a27c7730e60122ea",
            "243d17a245b74ac482357af66d08108d",
            "b40d67b19fe14d55a0eddd7c22ec87d0",
            "3ea85a305e15480fb8f40b4ef4fdddab",
            "5549b966198247918b735534fbeb6661",
            "f6dfe2fffe114db5a638babf5e12b05b",
            "09c38ed1544b412e9b5de2d497994b5d",
            "8282413eba684a158cdaf532b02c7c1a",
            "f70d80815aed4985948ce5e0bf81be92",
            "7c71f58a294f4293a0989a3bd3d6439a",
            "cb156810f5c74dd2b46e31b671d95858",
            "c3355a3d652340c0a72b0ddbf9670b63",
            "2790b289af0f42abb1539c6f6a7b0c16",
            "188fa57053e9456194d61e85be52cd82",
            "b3d11a61a4d3463693fd8e02b7f4dbef",
            "a5307a37efb341debd0dedf44954bee5",
            "b9d25e92687d4679a669bc3cbc7ebf37",
            "c42b195c9bc54d11a5ef5badce8a1bef",
            "9903ce8671204754b43f28ef1828e016",
            "f894c07bce4e4dd89b6a714bd9642e77",
            "71da03fcbd534fc8b3a3c19a228edfa3",
            "0d83210dcc954115a086071ec9a078c0",
            "268ec71061494e1faa2db371de1a22af",
            "11d5c9dc6abd451884ee5e2579ca0376"
          ]
        },
        "id": "83NHlkPvGAuo",
        "outputId": "0a3eefee-bedb-41ba-b4da-c7085c7d5b35"
      },
      "execution_count": null,
      "outputs": [
        {
          "output_type": "display_data",
          "data": {
            "text/plain": [
              "config.json:   0%|          | 0.00/1.58k [00:00<?, ?B/s]"
            ],
            "application/vnd.jupyter.widget-view+json": {
              "version_major": 2,
              "version_minor": 0,
              "model_id": "64c8515db8c543c8a0149e87282d73e3"
            }
          },
          "metadata": {}
        },
        {
          "output_type": "display_data",
          "data": {
            "text/plain": [
              "model.safetensors:   0%|          | 0.00/1.63G [00:00<?, ?B/s]"
            ],
            "application/vnd.jupyter.widget-view+json": {
              "version_major": 2,
              "version_minor": 0,
              "model_id": "8e0dff742b084d0c80813e8164329dca"
            }
          },
          "metadata": {}
        },
        {
          "output_type": "display_data",
          "data": {
            "text/plain": [
              "generation_config.json:   0%|          | 0.00/363 [00:00<?, ?B/s]"
            ],
            "application/vnd.jupyter.widget-view+json": {
              "version_major": 2,
              "version_minor": 0,
              "model_id": "bbfc8fc33d7e4093b13f0f1405c6bf0e"
            }
          },
          "metadata": {}
        },
        {
          "output_type": "display_data",
          "data": {
            "text/plain": [
              "vocab.json:   0%|          | 0.00/899k [00:00<?, ?B/s]"
            ],
            "application/vnd.jupyter.widget-view+json": {
              "version_major": 2,
              "version_minor": 0,
              "model_id": "62a0e4b3e1cd45b0bc7c3bdc7cfb609e"
            }
          },
          "metadata": {}
        },
        {
          "output_type": "display_data",
          "data": {
            "text/plain": [
              "merges.txt:   0%|          | 0.00/456k [00:00<?, ?B/s]"
            ],
            "application/vnd.jupyter.widget-view+json": {
              "version_major": 2,
              "version_minor": 0,
              "model_id": "b40d67b19fe14d55a0eddd7c22ec87d0"
            }
          },
          "metadata": {}
        },
        {
          "output_type": "display_data",
          "data": {
            "text/plain": [
              "tokenizer.json:   0%|          | 0.00/1.36M [00:00<?, ?B/s]"
            ],
            "application/vnd.jupyter.widget-view+json": {
              "version_major": 2,
              "version_minor": 0,
              "model_id": "188fa57053e9456194d61e85be52cd82"
            }
          },
          "metadata": {}
        },
        {
          "output_type": "stream",
          "name": "stderr",
          "text": [
            "Device set to use cuda:0\n"
          ]
        }
      ]
    },
    {
      "cell_type": "code",
      "source": [
        "#bart enc-decoder, bu dataset uzerinde fine_tunig olunub"
      ],
      "metadata": {
        "id": "aGL4WxikGVZ9"
      },
      "execution_count": null,
      "outputs": []
    },
    {
      "cell_type": "markdown",
      "source": [
        "#PEGASUS"
      ],
      "metadata": {
        "id": "EtoWi7YFGiB_"
      }
    },
    {
      "cell_type": "code",
      "source": [
        "pipe=pipeline('summarization', model='google/pegasus-cnn_dailymail')\n",
        "pipe_out=pipe(sample_text)\n",
        "summarize['pegasus']=pipe_out[0]['summary_text'].replace(' .', '.\\n')"
      ],
      "metadata": {
        "colab": {
          "base_uri": "https://localhost:8080/"
        },
        "id": "BhvZfd_yGkoh",
        "outputId": "0d47f141-ad11-45cb-e281-465225ad392e"
      },
      "execution_count": null,
      "outputs": [
        {
          "output_type": "stream",
          "name": "stderr",
          "text": [
            "Some weights of PegasusForConditionalGeneration were not initialized from the model checkpoint at google/pegasus-cnn_dailymail and are newly initialized: ['model.decoder.embed_positions.weight', 'model.encoder.embed_positions.weight']\n",
            "You should probably TRAIN this model on a down-stream task to be able to use it for predictions and inference.\n",
            "Device set to use cuda:0\n"
          ]
        }
      ]
    },
    {
      "cell_type": "code",
      "source": [
        "#xususuile nezerde tutlub summarizaton , pre trainig"
      ],
      "metadata": {
        "id": "8Vrh8vHQG6Zn"
      },
      "execution_count": null,
      "outputs": []
    },
    {
      "cell_type": "markdown",
      "source": [
        "#Comparing Different Summaries"
      ],
      "metadata": {
        "id": "6jSRKVSmHZM6"
      }
    },
    {
      "cell_type": "code",
      "source": [
        "print('GROUND TRUTH')\n",
        "print(dataset['train'][0]['highlights'])\n",
        "print(\"\")\n",
        "\n",
        "\n",
        "for model_name in summarize:\n",
        "    print(model_name.upper())\n",
        "    print(summarize[model_name])\n",
        "    print(\"\")\n",
        "#cavabla rekstraktiv uzerinden oyrenilib"
      ],
      "metadata": {
        "id": "BQaFWvnxHjzB"
      },
      "execution_count": null,
      "outputs": []
    },
    {
      "cell_type": "markdown",
      "source": [
        "#Measuring the Quality of Generated Text"
      ],
      "metadata": {
        "id": "wJ-TI2cHIDKF"
      }
    },
    {
      "cell_type": "code",
      "source": [
        "!pip install evaluate"
      ],
      "metadata": {
        "colab": {
          "base_uri": "https://localhost:8080/"
        },
        "id": "e8p89HUcJB6N",
        "outputId": "2e3d0186-2759-4abe-e3fd-bc43cfc1f9a2"
      },
      "execution_count": null,
      "outputs": [
        {
          "output_type": "stream",
          "name": "stdout",
          "text": [
            "Collecting evaluate\n",
            "  Downloading evaluate-0.4.4-py3-none-any.whl.metadata (9.5 kB)\n",
            "Requirement already satisfied: datasets>=2.0.0 in /usr/local/lib/python3.11/dist-packages (from evaluate) (3.6.0)\n",
            "Requirement already satisfied: numpy>=1.17 in /usr/local/lib/python3.11/dist-packages (from evaluate) (2.0.2)\n",
            "Requirement already satisfied: dill in /usr/local/lib/python3.11/dist-packages (from evaluate) (0.3.7)\n",
            "Requirement already satisfied: pandas in /usr/local/lib/python3.11/dist-packages (from evaluate) (2.2.2)\n",
            "Requirement already satisfied: requests>=2.19.0 in /usr/local/lib/python3.11/dist-packages (from evaluate) (2.32.3)\n",
            "Requirement already satisfied: tqdm>=4.62.1 in /usr/local/lib/python3.11/dist-packages (from evaluate) (4.67.1)\n",
            "Requirement already satisfied: xxhash in /usr/local/lib/python3.11/dist-packages (from evaluate) (3.5.0)\n",
            "Requirement already satisfied: multiprocess in /usr/local/lib/python3.11/dist-packages (from evaluate) (0.70.15)\n",
            "Requirement already satisfied: fsspec>=2021.05.0 in /usr/local/lib/python3.11/dist-packages (from fsspec[http]>=2021.05.0->evaluate) (2025.3.0)\n",
            "Requirement already satisfied: huggingface-hub>=0.7.0 in /usr/local/lib/python3.11/dist-packages (from evaluate) (0.33.0)\n",
            "Requirement already satisfied: packaging in /usr/local/lib/python3.11/dist-packages (from evaluate) (24.2)\n",
            "Requirement already satisfied: filelock in /usr/local/lib/python3.11/dist-packages (from datasets>=2.0.0->evaluate) (3.18.0)\n",
            "Requirement already satisfied: pyarrow>=15.0.0 in /usr/local/lib/python3.11/dist-packages (from datasets>=2.0.0->evaluate) (18.1.0)\n",
            "Requirement already satisfied: pyyaml>=5.1 in /usr/local/lib/python3.11/dist-packages (from datasets>=2.0.0->evaluate) (6.0.2)\n",
            "Requirement already satisfied: aiohttp!=4.0.0a0,!=4.0.0a1 in /usr/local/lib/python3.11/dist-packages (from fsspec[http]>=2021.05.0->evaluate) (3.11.15)\n",
            "Requirement already satisfied: typing-extensions>=3.7.4.3 in /usr/local/lib/python3.11/dist-packages (from huggingface-hub>=0.7.0->evaluate) (4.14.0)\n",
            "Requirement already satisfied: hf-xet<2.0.0,>=1.1.2 in /usr/local/lib/python3.11/dist-packages (from huggingface-hub>=0.7.0->evaluate) (1.1.3)\n",
            "Requirement already satisfied: charset-normalizer<4,>=2 in /usr/local/lib/python3.11/dist-packages (from requests>=2.19.0->evaluate) (3.4.2)\n",
            "Requirement already satisfied: idna<4,>=2.5 in /usr/local/lib/python3.11/dist-packages (from requests>=2.19.0->evaluate) (3.10)\n",
            "Requirement already satisfied: urllib3<3,>=1.21.1 in /usr/local/lib/python3.11/dist-packages (from requests>=2.19.0->evaluate) (2.4.0)\n",
            "Requirement already satisfied: certifi>=2017.4.17 in /usr/local/lib/python3.11/dist-packages (from requests>=2.19.0->evaluate) (2025.6.15)\n",
            "Requirement already satisfied: python-dateutil>=2.8.2 in /usr/local/lib/python3.11/dist-packages (from pandas->evaluate) (2.9.0.post0)\n",
            "Requirement already satisfied: pytz>=2020.1 in /usr/local/lib/python3.11/dist-packages (from pandas->evaluate) (2025.2)\n",
            "Requirement already satisfied: tzdata>=2022.7 in /usr/local/lib/python3.11/dist-packages (from pandas->evaluate) (2025.2)\n",
            "Requirement already satisfied: aiohappyeyeballs>=2.3.0 in /usr/local/lib/python3.11/dist-packages (from aiohttp!=4.0.0a0,!=4.0.0a1->fsspec[http]>=2021.05.0->evaluate) (2.6.1)\n",
            "Requirement already satisfied: aiosignal>=1.1.2 in /usr/local/lib/python3.11/dist-packages (from aiohttp!=4.0.0a0,!=4.0.0a1->fsspec[http]>=2021.05.0->evaluate) (1.3.2)\n",
            "Requirement already satisfied: attrs>=17.3.0 in /usr/local/lib/python3.11/dist-packages (from aiohttp!=4.0.0a0,!=4.0.0a1->fsspec[http]>=2021.05.0->evaluate) (25.3.0)\n",
            "Requirement already satisfied: frozenlist>=1.1.1 in /usr/local/lib/python3.11/dist-packages (from aiohttp!=4.0.0a0,!=4.0.0a1->fsspec[http]>=2021.05.0->evaluate) (1.7.0)\n",
            "Requirement already satisfied: multidict<7.0,>=4.5 in /usr/local/lib/python3.11/dist-packages (from aiohttp!=4.0.0a0,!=4.0.0a1->fsspec[http]>=2021.05.0->evaluate) (6.4.4)\n",
            "Requirement already satisfied: propcache>=0.2.0 in /usr/local/lib/python3.11/dist-packages (from aiohttp!=4.0.0a0,!=4.0.0a1->fsspec[http]>=2021.05.0->evaluate) (0.3.2)\n",
            "Requirement already satisfied: yarl<2.0,>=1.17.0 in /usr/local/lib/python3.11/dist-packages (from aiohttp!=4.0.0a0,!=4.0.0a1->fsspec[http]>=2021.05.0->evaluate) (1.20.1)\n",
            "Requirement already satisfied: six>=1.5 in /usr/local/lib/python3.11/dist-packages (from python-dateutil>=2.8.2->pandas->evaluate) (1.17.0)\n",
            "Downloading evaluate-0.4.4-py3-none-any.whl (84 kB)\n",
            "\u001b[2K   \u001b[90m━━━━━━━━━━━━━━━━━━━━━━━━━━━━━━━━━━━━━━━━\u001b[0m \u001b[32m84.1/84.1 kB\u001b[0m \u001b[31m3.2 MB/s\u001b[0m eta \u001b[36m0:00:00\u001b[0m\n",
            "\u001b[?25hInstalling collected packages: evaluate\n",
            "Successfully installed evaluate-0.4.4\n"
          ]
        }
      ]
    },
    {
      "cell_type": "code",
      "source": [
        "!pip install sacrebleu"
      ],
      "metadata": {
        "colab": {
          "base_uri": "https://localhost:8080/"
        },
        "id": "dHLgKPrEJB2A",
        "outputId": "25c8865e-e77f-48c5-d31e-a12c1be845ca"
      },
      "execution_count": null,
      "outputs": [
        {
          "output_type": "stream",
          "name": "stdout",
          "text": [
            "Collecting sacrebleu\n",
            "  Downloading sacrebleu-2.5.1-py3-none-any.whl.metadata (51 kB)\n",
            "\u001b[?25l     \u001b[90m━━━━━━━━━━━━━━━━━━━━━━━━━━━━━━━━━━━━━━━━\u001b[0m \u001b[32m0.0/51.8 kB\u001b[0m \u001b[31m?\u001b[0m eta \u001b[36m-:--:--\u001b[0m\r\u001b[2K     \u001b[90m━━━━━━━━━━━━━━━━━━━━━━━━━━━━━━━━━━━━━━━━\u001b[0m \u001b[32m51.8/51.8 kB\u001b[0m \u001b[31m3.3 MB/s\u001b[0m eta \u001b[36m0:00:00\u001b[0m\n",
            "\u001b[?25hCollecting portalocker (from sacrebleu)\n",
            "  Downloading portalocker-3.2.0-py3-none-any.whl.metadata (8.7 kB)\n",
            "Requirement already satisfied: regex in /usr/local/lib/python3.11/dist-packages (from sacrebleu) (2024.11.6)\n",
            "Requirement already satisfied: tabulate>=0.8.9 in /usr/local/lib/python3.11/dist-packages (from sacrebleu) (0.9.0)\n",
            "Requirement already satisfied: numpy>=1.17 in /usr/local/lib/python3.11/dist-packages (from sacrebleu) (2.0.2)\n",
            "Collecting colorama (from sacrebleu)\n",
            "  Downloading colorama-0.4.6-py2.py3-none-any.whl.metadata (17 kB)\n",
            "Requirement already satisfied: lxml in /usr/local/lib/python3.11/dist-packages (from sacrebleu) (5.4.0)\n",
            "Downloading sacrebleu-2.5.1-py3-none-any.whl (104 kB)\n",
            "\u001b[2K   \u001b[90m━━━━━━━━━━━━━━━━━━━━━━━━━━━━━━━━━━━━━━━━\u001b[0m \u001b[32m104.1/104.1 kB\u001b[0m \u001b[31m6.8 MB/s\u001b[0m eta \u001b[36m0:00:00\u001b[0m\n",
            "\u001b[?25hDownloading colorama-0.4.6-py2.py3-none-any.whl (25 kB)\n",
            "Downloading portalocker-3.2.0-py3-none-any.whl (22 kB)\n",
            "Installing collected packages: portalocker, colorama, sacrebleu\n",
            "Successfully installed colorama-0.4.6 portalocker-3.2.0 sacrebleu-2.5.1\n"
          ]
        }
      ]
    },
    {
      "cell_type": "code",
      "source": [
        "from evaluate import load #xuusile tercumede ! axi bir cumle 2-3 cur tercme olunur\n",
        "bleu_metric=load('sacrebleu') #n-grmalara gore , penalytisede var"
      ],
      "metadata": {
        "colab": {
          "base_uri": "https://localhost:8080/",
          "referenced_widgets": [
            "02c2e14360934d0e935369ce21407c20",
            "76968be8a5c640a79a758e3c19a80af0",
            "91084d65f3504d8988974b2c71b10aed",
            "2a161e4914f34c3ea8f23eb85b4665aa",
            "04344c998689455583198953d728cc22",
            "f5e0856f5cb645248730ce0be958b45b",
            "6a37a87a17cd4cfcbc83d45c27732966",
            "a7e998f42d8347dfb81b3afa472f24ce",
            "824efd6a1daf44deb4baba2c275dfb04",
            "83515a5f2d9442b89fdc2baa4230c418",
            "2fb119953c4649cb8c7458c43c5ffa9f"
          ]
        },
        "id": "QsncjdWHJLFn",
        "outputId": "7918c60b-6991-4201-9be1-60b2b7c6257c"
      },
      "execution_count": null,
      "outputs": [
        {
          "output_type": "display_data",
          "data": {
            "text/plain": [
              "Downloading builder script:   0%|          | 0.00/8.15k [00:00<?, ?B/s]"
            ],
            "application/vnd.jupyter.widget-view+json": {
              "version_major": 2,
              "version_minor": 0,
              "model_id": "02c2e14360934d0e935369ce21407c20"
            }
          },
          "metadata": {}
        }
      ]
    },
    {
      "cell_type": "code",
      "source": [
        "import pandas as pd\n",
        "import numpy as np\n",
        "\n",
        "bleu_metric.add(\n",
        "    prediction='the the the the the ', reference=['the cat is on the mat']\n",
        ")\n",
        "\n",
        "results=bleu_metric.compute(smooth_method='floor', smooth_value=0) #smoothe yerine 1 qaytarsin 1 qoy onu yerine\n",
        "#four gram 4 soe kimi baxir\n",
        "#bi gram +unigram +  geomatrec mena  root/unigram *bigram*3gram*4gram kok atda 4 dereceden , word net !!! ARAShdir nec eolur  , nece olur sozler\n",
        "results['precisions']=[np.round(p,2) for p in results['precisions']]\n",
        "pd.DataFrame.from_dict(results, orient='index')"
      ],
      "metadata": {
        "colab": {
          "base_uri": "https://localhost:8080/"
        },
        "id": "aZRHS419JTuj",
        "outputId": "8e0f9236-35b8-498f-c0f7-3900b133246e"
      },
      "execution_count": null,
      "outputs": [
        {
          "output_type": "execute_result",
          "data": {
            "text/plain": [
              "                                0\n",
              "score                         0.0\n",
              "counts               [2, 0, 0, 0]\n",
              "totals               [5, 4, 3, 2]\n",
              "precisions  [40.0, 0.0, 0.0, 0.0]\n",
              "bp                       0.818731\n",
              "sys_len                         5\n",
              "ref_len                         6"
            ],
            "text/html": [
              "\n",
              "  <div id=\"df-e51d7629-4c9c-400a-8821-bca3215d7261\" class=\"colab-df-container\">\n",
              "    <div>\n",
              "<style scoped>\n",
              "    .dataframe tbody tr th:only-of-type {\n",
              "        vertical-align: middle;\n",
              "    }\n",
              "\n",
              "    .dataframe tbody tr th {\n",
              "        vertical-align: top;\n",
              "    }\n",
              "\n",
              "    .dataframe thead th {\n",
              "        text-align: right;\n",
              "    }\n",
              "</style>\n",
              "<table border=\"1\" class=\"dataframe\">\n",
              "  <thead>\n",
              "    <tr style=\"text-align: right;\">\n",
              "      <th></th>\n",
              "      <th>0</th>\n",
              "    </tr>\n",
              "  </thead>\n",
              "  <tbody>\n",
              "    <tr>\n",
              "      <th>score</th>\n",
              "      <td>0.0</td>\n",
              "    </tr>\n",
              "    <tr>\n",
              "      <th>counts</th>\n",
              "      <td>[2, 0, 0, 0]</td>\n",
              "    </tr>\n",
              "    <tr>\n",
              "      <th>totals</th>\n",
              "      <td>[5, 4, 3, 2]</td>\n",
              "    </tr>\n",
              "    <tr>\n",
              "      <th>precisions</th>\n",
              "      <td>[40.0, 0.0, 0.0, 0.0]</td>\n",
              "    </tr>\n",
              "    <tr>\n",
              "      <th>bp</th>\n",
              "      <td>0.818731</td>\n",
              "    </tr>\n",
              "    <tr>\n",
              "      <th>sys_len</th>\n",
              "      <td>5</td>\n",
              "    </tr>\n",
              "    <tr>\n",
              "      <th>ref_len</th>\n",
              "      <td>6</td>\n",
              "    </tr>\n",
              "  </tbody>\n",
              "</table>\n",
              "</div>\n",
              "    <div class=\"colab-df-buttons\">\n",
              "\n",
              "  <div class=\"colab-df-container\">\n",
              "    <button class=\"colab-df-convert\" onclick=\"convertToInteractive('df-e51d7629-4c9c-400a-8821-bca3215d7261')\"\n",
              "            title=\"Convert this dataframe to an interactive table.\"\n",
              "            style=\"display:none;\">\n",
              "\n",
              "  <svg xmlns=\"http://www.w3.org/2000/svg\" height=\"24px\" viewBox=\"0 -960 960 960\">\n",
              "    <path d=\"M120-120v-720h720v720H120Zm60-500h600v-160H180v160Zm220 220h160v-160H400v160Zm0 220h160v-160H400v160ZM180-400h160v-160H180v160Zm440 0h160v-160H620v160ZM180-180h160v-160H180v160Zm440 0h160v-160H620v160Z\"/>\n",
              "  </svg>\n",
              "    </button>\n",
              "\n",
              "  <style>\n",
              "    .colab-df-container {\n",
              "      display:flex;\n",
              "      gap: 12px;\n",
              "    }\n",
              "\n",
              "    .colab-df-convert {\n",
              "      background-color: #E8F0FE;\n",
              "      border: none;\n",
              "      border-radius: 50%;\n",
              "      cursor: pointer;\n",
              "      display: none;\n",
              "      fill: #1967D2;\n",
              "      height: 32px;\n",
              "      padding: 0 0 0 0;\n",
              "      width: 32px;\n",
              "    }\n",
              "\n",
              "    .colab-df-convert:hover {\n",
              "      background-color: #E2EBFA;\n",
              "      box-shadow: 0px 1px 2px rgba(60, 64, 67, 0.3), 0px 1px 3px 1px rgba(60, 64, 67, 0.15);\n",
              "      fill: #174EA6;\n",
              "    }\n",
              "\n",
              "    .colab-df-buttons div {\n",
              "      margin-bottom: 4px;\n",
              "    }\n",
              "\n",
              "    [theme=dark] .colab-df-convert {\n",
              "      background-color: #3B4455;\n",
              "      fill: #D2E3FC;\n",
              "    }\n",
              "\n",
              "    [theme=dark] .colab-df-convert:hover {\n",
              "      background-color: #434B5C;\n",
              "      box-shadow: 0px 1px 3px 1px rgba(0, 0, 0, 0.15);\n",
              "      filter: drop-shadow(0px 1px 2px rgba(0, 0, 0, 0.3));\n",
              "      fill: #FFFFFF;\n",
              "    }\n",
              "  </style>\n",
              "\n",
              "    <script>\n",
              "      const buttonEl =\n",
              "        document.querySelector('#df-e51d7629-4c9c-400a-8821-bca3215d7261 button.colab-df-convert');\n",
              "      buttonEl.style.display =\n",
              "        google.colab.kernel.accessAllowed ? 'block' : 'none';\n",
              "\n",
              "      async function convertToInteractive(key) {\n",
              "        const element = document.querySelector('#df-e51d7629-4c9c-400a-8821-bca3215d7261');\n",
              "        const dataTable =\n",
              "          await google.colab.kernel.invokeFunction('convertToInteractive',\n",
              "                                                    [key], {});\n",
              "        if (!dataTable) return;\n",
              "\n",
              "        const docLinkHtml = 'Like what you see? Visit the ' +\n",
              "          '<a target=\"_blank\" href=https://colab.research.google.com/notebooks/data_table.ipynb>data table notebook</a>'\n",
              "          + ' to learn more about interactive tables.';\n",
              "        element.innerHTML = '';\n",
              "        dataTable['output_type'] = 'display_data';\n",
              "        await google.colab.output.renderOutput(dataTable, element);\n",
              "        const docLink = document.createElement('div');\n",
              "        docLink.innerHTML = docLinkHtml;\n",
              "        element.appendChild(docLink);\n",
              "      }\n",
              "    </script>\n",
              "  </div>\n",
              "\n",
              "\n",
              "    <div id=\"df-692d5b91-54b0-4b3f-bada-df60f1c356fa\">\n",
              "      <button class=\"colab-df-quickchart\" onclick=\"quickchart('df-692d5b91-54b0-4b3f-bada-df60f1c356fa')\"\n",
              "                title=\"Suggest charts\"\n",
              "                style=\"display:none;\">\n",
              "\n",
              "<svg xmlns=\"http://www.w3.org/2000/svg\" height=\"24px\"viewBox=\"0 0 24 24\"\n",
              "     width=\"24px\">\n",
              "    <g>\n",
              "        <path d=\"M19 3H5c-1.1 0-2 .9-2 2v14c0 1.1.9 2 2 2h14c1.1 0 2-.9 2-2V5c0-1.1-.9-2-2-2zM9 17H7v-7h2v7zm4 0h-2V7h2v10zm4 0h-2v-4h2v4z\"/>\n",
              "    </g>\n",
              "</svg>\n",
              "      </button>\n",
              "\n",
              "<style>\n",
              "  .colab-df-quickchart {\n",
              "      --bg-color: #E8F0FE;\n",
              "      --fill-color: #1967D2;\n",
              "      --hover-bg-color: #E2EBFA;\n",
              "      --hover-fill-color: #174EA6;\n",
              "      --disabled-fill-color: #AAA;\n",
              "      --disabled-bg-color: #DDD;\n",
              "  }\n",
              "\n",
              "  [theme=dark] .colab-df-quickchart {\n",
              "      --bg-color: #3B4455;\n",
              "      --fill-color: #D2E3FC;\n",
              "      --hover-bg-color: #434B5C;\n",
              "      --hover-fill-color: #FFFFFF;\n",
              "      --disabled-bg-color: #3B4455;\n",
              "      --disabled-fill-color: #666;\n",
              "  }\n",
              "\n",
              "  .colab-df-quickchart {\n",
              "    background-color: var(--bg-color);\n",
              "    border: none;\n",
              "    border-radius: 50%;\n",
              "    cursor: pointer;\n",
              "    display: none;\n",
              "    fill: var(--fill-color);\n",
              "    height: 32px;\n",
              "    padding: 0;\n",
              "    width: 32px;\n",
              "  }\n",
              "\n",
              "  .colab-df-quickchart:hover {\n",
              "    background-color: var(--hover-bg-color);\n",
              "    box-shadow: 0 1px 2px rgba(60, 64, 67, 0.3), 0 1px 3px 1px rgba(60, 64, 67, 0.15);\n",
              "    fill: var(--button-hover-fill-color);\n",
              "  }\n",
              "\n",
              "  .colab-df-quickchart-complete:disabled,\n",
              "  .colab-df-quickchart-complete:disabled:hover {\n",
              "    background-color: var(--disabled-bg-color);\n",
              "    fill: var(--disabled-fill-color);\n",
              "    box-shadow: none;\n",
              "  }\n",
              "\n",
              "  .colab-df-spinner {\n",
              "    border: 2px solid var(--fill-color);\n",
              "    border-color: transparent;\n",
              "    border-bottom-color: var(--fill-color);\n",
              "    animation:\n",
              "      spin 1s steps(1) infinite;\n",
              "  }\n",
              "\n",
              "  @keyframes spin {\n",
              "    0% {\n",
              "      border-color: transparent;\n",
              "      border-bottom-color: var(--fill-color);\n",
              "      border-left-color: var(--fill-color);\n",
              "    }\n",
              "    20% {\n",
              "      border-color: transparent;\n",
              "      border-left-color: var(--fill-color);\n",
              "      border-top-color: var(--fill-color);\n",
              "    }\n",
              "    30% {\n",
              "      border-color: transparent;\n",
              "      border-left-color: var(--fill-color);\n",
              "      border-top-color: var(--fill-color);\n",
              "      border-right-color: var(--fill-color);\n",
              "    }\n",
              "    40% {\n",
              "      border-color: transparent;\n",
              "      border-right-color: var(--fill-color);\n",
              "      border-top-color: var(--fill-color);\n",
              "    }\n",
              "    60% {\n",
              "      border-color: transparent;\n",
              "      border-right-color: var(--fill-color);\n",
              "    }\n",
              "    80% {\n",
              "      border-color: transparent;\n",
              "      border-right-color: var(--fill-color);\n",
              "      border-bottom-color: var(--fill-color);\n",
              "    }\n",
              "    90% {\n",
              "      border-color: transparent;\n",
              "      border-bottom-color: var(--fill-color);\n",
              "    }\n",
              "  }\n",
              "</style>\n",
              "\n",
              "      <script>\n",
              "        async function quickchart(key) {\n",
              "          const quickchartButtonEl =\n",
              "            document.querySelector('#' + key + ' button');\n",
              "          quickchartButtonEl.disabled = true;  // To prevent multiple clicks.\n",
              "          quickchartButtonEl.classList.add('colab-df-spinner');\n",
              "          try {\n",
              "            const charts = await google.colab.kernel.invokeFunction(\n",
              "                'suggestCharts', [key], {});\n",
              "          } catch (error) {\n",
              "            console.error('Error during call to suggestCharts:', error);\n",
              "          }\n",
              "          quickchartButtonEl.classList.remove('colab-df-spinner');\n",
              "          quickchartButtonEl.classList.add('colab-df-quickchart-complete');\n",
              "        }\n",
              "        (() => {\n",
              "          let quickchartButtonEl =\n",
              "            document.querySelector('#df-692d5b91-54b0-4b3f-bada-df60f1c356fa button');\n",
              "          quickchartButtonEl.style.display =\n",
              "            google.colab.kernel.accessAllowed ? 'block' : 'none';\n",
              "        })();\n",
              "      </script>\n",
              "    </div>\n",
              "\n",
              "    </div>\n",
              "  </div>\n"
            ],
            "application/vnd.google.colaboratory.intrinsic+json": {
              "type": "dataframe",
              "summary": "{\n  \"name\": \"pd\",\n  \"rows\": 7,\n  \"fields\": [\n    {\n      \"column\": 0,\n      \"properties\": {\n        \"dtype\": \"object\",\n        \"semantic_type\": \"\",\n        \"description\": \"\"\n      }\n    }\n  ]\n}"
            }
          },
          "metadata": {},
          "execution_count": 15
        }
      ]
    },
    {
      "cell_type": "code",
      "source": [
        "\n",
        "bleu_metric.add(\n",
        "    prediction='the cat sat on the mat ', reference=['the cat is on the mat']\n",
        ")\n",
        "\n",
        "results=bleu_metric.compute(smooth_method='floor', smooth_value=0) #smoothe yerine 1 qaytarsin 1 qoy onu yerine\n",
        "#four gram 4 soe kimi baxir\n",
        "#bi gram +unigram +  geomatrec mena  root/unigram *bigram*3gram*4gram kok atda 4 dereceden , word net !!! ARAShdir nec eolur  , nece olur sozler\n",
        "results['precisions']=[np.round(p,2) for p in results['precisions']]\n",
        "pd.DataFrame.from_dict(results, orient='index')"
      ],
      "metadata": {
        "colab": {
          "base_uri": "https://localhost:8080/"
        },
        "id": "RAFXQVeoLrn9",
        "outputId": "c6181d40-2be9-4f93-fffc-bf596d65526e"
      },
      "execution_count": null,
      "outputs": [
        {
          "output_type": "execute_result",
          "data": {
            "text/plain": [
              "                                   0\n",
              "score                            0.0\n",
              "counts                  [5, 3, 1, 0]\n",
              "totals                  [6, 5, 4, 3]\n",
              "precisions  [83.33, 60.0, 25.0, 0.0]\n",
              "bp                               1.0\n",
              "sys_len                            6\n",
              "ref_len                            6"
            ],
            "text/html": [
              "\n",
              "  <div id=\"df-58985f24-1ef9-40a1-b449-3db0027d4b46\" class=\"colab-df-container\">\n",
              "    <div>\n",
              "<style scoped>\n",
              "    .dataframe tbody tr th:only-of-type {\n",
              "        vertical-align: middle;\n",
              "    }\n",
              "\n",
              "    .dataframe tbody tr th {\n",
              "        vertical-align: top;\n",
              "    }\n",
              "\n",
              "    .dataframe thead th {\n",
              "        text-align: right;\n",
              "    }\n",
              "</style>\n",
              "<table border=\"1\" class=\"dataframe\">\n",
              "  <thead>\n",
              "    <tr style=\"text-align: right;\">\n",
              "      <th></th>\n",
              "      <th>0</th>\n",
              "    </tr>\n",
              "  </thead>\n",
              "  <tbody>\n",
              "    <tr>\n",
              "      <th>score</th>\n",
              "      <td>0.0</td>\n",
              "    </tr>\n",
              "    <tr>\n",
              "      <th>counts</th>\n",
              "      <td>[5, 3, 1, 0]</td>\n",
              "    </tr>\n",
              "    <tr>\n",
              "      <th>totals</th>\n",
              "      <td>[6, 5, 4, 3]</td>\n",
              "    </tr>\n",
              "    <tr>\n",
              "      <th>precisions</th>\n",
              "      <td>[83.33, 60.0, 25.0, 0.0]</td>\n",
              "    </tr>\n",
              "    <tr>\n",
              "      <th>bp</th>\n",
              "      <td>1.0</td>\n",
              "    </tr>\n",
              "    <tr>\n",
              "      <th>sys_len</th>\n",
              "      <td>6</td>\n",
              "    </tr>\n",
              "    <tr>\n",
              "      <th>ref_len</th>\n",
              "      <td>6</td>\n",
              "    </tr>\n",
              "  </tbody>\n",
              "</table>\n",
              "</div>\n",
              "    <div class=\"colab-df-buttons\">\n",
              "\n",
              "  <div class=\"colab-df-container\">\n",
              "    <button class=\"colab-df-convert\" onclick=\"convertToInteractive('df-58985f24-1ef9-40a1-b449-3db0027d4b46')\"\n",
              "            title=\"Convert this dataframe to an interactive table.\"\n",
              "            style=\"display:none;\">\n",
              "\n",
              "  <svg xmlns=\"http://www.w3.org/2000/svg\" height=\"24px\" viewBox=\"0 -960 960 960\">\n",
              "    <path d=\"M120-120v-720h720v720H120Zm60-500h600v-160H180v160Zm220 220h160v-160H400v160Zm0 220h160v-160H400v160ZM180-400h160v-160H180v160Zm440 0h160v-160H620v160ZM180-180h160v-160H180v160Zm440 0h160v-160H620v160Z\"/>\n",
              "  </svg>\n",
              "    </button>\n",
              "\n",
              "  <style>\n",
              "    .colab-df-container {\n",
              "      display:flex;\n",
              "      gap: 12px;\n",
              "    }\n",
              "\n",
              "    .colab-df-convert {\n",
              "      background-color: #E8F0FE;\n",
              "      border: none;\n",
              "      border-radius: 50%;\n",
              "      cursor: pointer;\n",
              "      display: none;\n",
              "      fill: #1967D2;\n",
              "      height: 32px;\n",
              "      padding: 0 0 0 0;\n",
              "      width: 32px;\n",
              "    }\n",
              "\n",
              "    .colab-df-convert:hover {\n",
              "      background-color: #E2EBFA;\n",
              "      box-shadow: 0px 1px 2px rgba(60, 64, 67, 0.3), 0px 1px 3px 1px rgba(60, 64, 67, 0.15);\n",
              "      fill: #174EA6;\n",
              "    }\n",
              "\n",
              "    .colab-df-buttons div {\n",
              "      margin-bottom: 4px;\n",
              "    }\n",
              "\n",
              "    [theme=dark] .colab-df-convert {\n",
              "      background-color: #3B4455;\n",
              "      fill: #D2E3FC;\n",
              "    }\n",
              "\n",
              "    [theme=dark] .colab-df-convert:hover {\n",
              "      background-color: #434B5C;\n",
              "      box-shadow: 0px 1px 3px 1px rgba(0, 0, 0, 0.15);\n",
              "      filter: drop-shadow(0px 1px 2px rgba(0, 0, 0, 0.3));\n",
              "      fill: #FFFFFF;\n",
              "    }\n",
              "  </style>\n",
              "\n",
              "    <script>\n",
              "      const buttonEl =\n",
              "        document.querySelector('#df-58985f24-1ef9-40a1-b449-3db0027d4b46 button.colab-df-convert');\n",
              "      buttonEl.style.display =\n",
              "        google.colab.kernel.accessAllowed ? 'block' : 'none';\n",
              "\n",
              "      async function convertToInteractive(key) {\n",
              "        const element = document.querySelector('#df-58985f24-1ef9-40a1-b449-3db0027d4b46');\n",
              "        const dataTable =\n",
              "          await google.colab.kernel.invokeFunction('convertToInteractive',\n",
              "                                                    [key], {});\n",
              "        if (!dataTable) return;\n",
              "\n",
              "        const docLinkHtml = 'Like what you see? Visit the ' +\n",
              "          '<a target=\"_blank\" href=https://colab.research.google.com/notebooks/data_table.ipynb>data table notebook</a>'\n",
              "          + ' to learn more about interactive tables.';\n",
              "        element.innerHTML = '';\n",
              "        dataTable['output_type'] = 'display_data';\n",
              "        await google.colab.output.renderOutput(dataTable, element);\n",
              "        const docLink = document.createElement('div');\n",
              "        docLink.innerHTML = docLinkHtml;\n",
              "        element.appendChild(docLink);\n",
              "      }\n",
              "    </script>\n",
              "  </div>\n",
              "\n",
              "\n",
              "    <div id=\"df-c7a45a0f-7fd1-4f21-acdb-ada743c8fc9a\">\n",
              "      <button class=\"colab-df-quickchart\" onclick=\"quickchart('df-c7a45a0f-7fd1-4f21-acdb-ada743c8fc9a')\"\n",
              "                title=\"Suggest charts\"\n",
              "                style=\"display:none;\">\n",
              "\n",
              "<svg xmlns=\"http://www.w3.org/2000/svg\" height=\"24px\"viewBox=\"0 0 24 24\"\n",
              "     width=\"24px\">\n",
              "    <g>\n",
              "        <path d=\"M19 3H5c-1.1 0-2 .9-2 2v14c0 1.1.9 2 2 2h14c1.1 0 2-.9 2-2V5c0-1.1-.9-2-2-2zM9 17H7v-7h2v7zm4 0h-2V7h2v10zm4 0h-2v-4h2v4z\"/>\n",
              "    </g>\n",
              "</svg>\n",
              "      </button>\n",
              "\n",
              "<style>\n",
              "  .colab-df-quickchart {\n",
              "      --bg-color: #E8F0FE;\n",
              "      --fill-color: #1967D2;\n",
              "      --hover-bg-color: #E2EBFA;\n",
              "      --hover-fill-color: #174EA6;\n",
              "      --disabled-fill-color: #AAA;\n",
              "      --disabled-bg-color: #DDD;\n",
              "  }\n",
              "\n",
              "  [theme=dark] .colab-df-quickchart {\n",
              "      --bg-color: #3B4455;\n",
              "      --fill-color: #D2E3FC;\n",
              "      --hover-bg-color: #434B5C;\n",
              "      --hover-fill-color: #FFFFFF;\n",
              "      --disabled-bg-color: #3B4455;\n",
              "      --disabled-fill-color: #666;\n",
              "  }\n",
              "\n",
              "  .colab-df-quickchart {\n",
              "    background-color: var(--bg-color);\n",
              "    border: none;\n",
              "    border-radius: 50%;\n",
              "    cursor: pointer;\n",
              "    display: none;\n",
              "    fill: var(--fill-color);\n",
              "    height: 32px;\n",
              "    padding: 0;\n",
              "    width: 32px;\n",
              "  }\n",
              "\n",
              "  .colab-df-quickchart:hover {\n",
              "    background-color: var(--hover-bg-color);\n",
              "    box-shadow: 0 1px 2px rgba(60, 64, 67, 0.3), 0 1px 3px 1px rgba(60, 64, 67, 0.15);\n",
              "    fill: var(--button-hover-fill-color);\n",
              "  }\n",
              "\n",
              "  .colab-df-quickchart-complete:disabled,\n",
              "  .colab-df-quickchart-complete:disabled:hover {\n",
              "    background-color: var(--disabled-bg-color);\n",
              "    fill: var(--disabled-fill-color);\n",
              "    box-shadow: none;\n",
              "  }\n",
              "\n",
              "  .colab-df-spinner {\n",
              "    border: 2px solid var(--fill-color);\n",
              "    border-color: transparent;\n",
              "    border-bottom-color: var(--fill-color);\n",
              "    animation:\n",
              "      spin 1s steps(1) infinite;\n",
              "  }\n",
              "\n",
              "  @keyframes spin {\n",
              "    0% {\n",
              "      border-color: transparent;\n",
              "      border-bottom-color: var(--fill-color);\n",
              "      border-left-color: var(--fill-color);\n",
              "    }\n",
              "    20% {\n",
              "      border-color: transparent;\n",
              "      border-left-color: var(--fill-color);\n",
              "      border-top-color: var(--fill-color);\n",
              "    }\n",
              "    30% {\n",
              "      border-color: transparent;\n",
              "      border-left-color: var(--fill-color);\n",
              "      border-top-color: var(--fill-color);\n",
              "      border-right-color: var(--fill-color);\n",
              "    }\n",
              "    40% {\n",
              "      border-color: transparent;\n",
              "      border-right-color: var(--fill-color);\n",
              "      border-top-color: var(--fill-color);\n",
              "    }\n",
              "    60% {\n",
              "      border-color: transparent;\n",
              "      border-right-color: var(--fill-color);\n",
              "    }\n",
              "    80% {\n",
              "      border-color: transparent;\n",
              "      border-right-color: var(--fill-color);\n",
              "      border-bottom-color: var(--fill-color);\n",
              "    }\n",
              "    90% {\n",
              "      border-color: transparent;\n",
              "      border-bottom-color: var(--fill-color);\n",
              "    }\n",
              "  }\n",
              "</style>\n",
              "\n",
              "      <script>\n",
              "        async function quickchart(key) {\n",
              "          const quickchartButtonEl =\n",
              "            document.querySelector('#' + key + ' button');\n",
              "          quickchartButtonEl.disabled = true;  // To prevent multiple clicks.\n",
              "          quickchartButtonEl.classList.add('colab-df-spinner');\n",
              "          try {\n",
              "            const charts = await google.colab.kernel.invokeFunction(\n",
              "                'suggestCharts', [key], {});\n",
              "          } catch (error) {\n",
              "            console.error('Error during call to suggestCharts:', error);\n",
              "          }\n",
              "          quickchartButtonEl.classList.remove('colab-df-spinner');\n",
              "          quickchartButtonEl.classList.add('colab-df-quickchart-complete');\n",
              "        }\n",
              "        (() => {\n",
              "          let quickchartButtonEl =\n",
              "            document.querySelector('#df-c7a45a0f-7fd1-4f21-acdb-ada743c8fc9a button');\n",
              "          quickchartButtonEl.style.display =\n",
              "            google.colab.kernel.accessAllowed ? 'block' : 'none';\n",
              "        })();\n",
              "      </script>\n",
              "    </div>\n",
              "\n",
              "    </div>\n",
              "  </div>\n"
            ],
            "application/vnd.google.colaboratory.intrinsic+json": {
              "type": "dataframe",
              "summary": "{\n  \"name\": \"pd\",\n  \"rows\": 7,\n  \"fields\": [\n    {\n      \"column\": 0,\n      \"properties\": {\n        \"dtype\": \"object\",\n        \"semantic_type\": \"\",\n        \"description\": \"\"\n      }\n    }\n  ]\n}"
            }
          },
          "metadata": {},
          "execution_count": 16
        }
      ]
    },
    {
      "cell_type": "code",
      "source": [
        "\n",
        "bleu_metric.add(\n",
        "    prediction='the cat is on mat ', reference=['the cat is on the mat']\n",
        ")\n",
        "\n",
        "results=bleu_metric.compute(smooth_method='floor', smooth_value=0) #smoothe yerine 1 qaytarsin 1 qoy onu yerine\n",
        "#four gram 4 soe kimi baxir\n",
        "#bi gram +unigram +  geomatrec mena  root/unigram *bigram*3gram*4gram kok atda 4 dereceden , word net !!! ARAShdir nec eolur  , nece olur sozler\n",
        "results['precisions']=[np.round(p,2) for p in results['precisions']]\n",
        "pd.DataFrame.from_dict(results, orient='index')"
      ],
      "metadata": {
        "colab": {
          "base_uri": "https://localhost:8080/"
        },
        "id": "4JnVOY-fN5Fh",
        "outputId": "0a94e3b2-e17a-4c83-86a2-591dbc5a5c8b"
      },
      "execution_count": null,
      "outputs": [
        {
          "output_type": "execute_result",
          "data": {
            "text/plain": [
              "                                     0\n",
              "score                        57.893007\n",
              "counts                    [5, 3, 2, 1]\n",
              "totals                    [5, 4, 3, 2]\n",
              "precisions  [100.0, 75.0, 66.67, 50.0]\n",
              "bp                            0.818731\n",
              "sys_len                              5\n",
              "ref_len                              6"
            ],
            "text/html": [
              "\n",
              "  <div id=\"df-6298dbc8-1630-4b0f-9aef-3414f68e3477\" class=\"colab-df-container\">\n",
              "    <div>\n",
              "<style scoped>\n",
              "    .dataframe tbody tr th:only-of-type {\n",
              "        vertical-align: middle;\n",
              "    }\n",
              "\n",
              "    .dataframe tbody tr th {\n",
              "        vertical-align: top;\n",
              "    }\n",
              "\n",
              "    .dataframe thead th {\n",
              "        text-align: right;\n",
              "    }\n",
              "</style>\n",
              "<table border=\"1\" class=\"dataframe\">\n",
              "  <thead>\n",
              "    <tr style=\"text-align: right;\">\n",
              "      <th></th>\n",
              "      <th>0</th>\n",
              "    </tr>\n",
              "  </thead>\n",
              "  <tbody>\n",
              "    <tr>\n",
              "      <th>score</th>\n",
              "      <td>57.893007</td>\n",
              "    </tr>\n",
              "    <tr>\n",
              "      <th>counts</th>\n",
              "      <td>[5, 3, 2, 1]</td>\n",
              "    </tr>\n",
              "    <tr>\n",
              "      <th>totals</th>\n",
              "      <td>[5, 4, 3, 2]</td>\n",
              "    </tr>\n",
              "    <tr>\n",
              "      <th>precisions</th>\n",
              "      <td>[100.0, 75.0, 66.67, 50.0]</td>\n",
              "    </tr>\n",
              "    <tr>\n",
              "      <th>bp</th>\n",
              "      <td>0.818731</td>\n",
              "    </tr>\n",
              "    <tr>\n",
              "      <th>sys_len</th>\n",
              "      <td>5</td>\n",
              "    </tr>\n",
              "    <tr>\n",
              "      <th>ref_len</th>\n",
              "      <td>6</td>\n",
              "    </tr>\n",
              "  </tbody>\n",
              "</table>\n",
              "</div>\n",
              "    <div class=\"colab-df-buttons\">\n",
              "\n",
              "  <div class=\"colab-df-container\">\n",
              "    <button class=\"colab-df-convert\" onclick=\"convertToInteractive('df-6298dbc8-1630-4b0f-9aef-3414f68e3477')\"\n",
              "            title=\"Convert this dataframe to an interactive table.\"\n",
              "            style=\"display:none;\">\n",
              "\n",
              "  <svg xmlns=\"http://www.w3.org/2000/svg\" height=\"24px\" viewBox=\"0 -960 960 960\">\n",
              "    <path d=\"M120-120v-720h720v720H120Zm60-500h600v-160H180v160Zm220 220h160v-160H400v160Zm0 220h160v-160H400v160ZM180-400h160v-160H180v160Zm440 0h160v-160H620v160ZM180-180h160v-160H180v160Zm440 0h160v-160H620v160Z\"/>\n",
              "  </svg>\n",
              "    </button>\n",
              "\n",
              "  <style>\n",
              "    .colab-df-container {\n",
              "      display:flex;\n",
              "      gap: 12px;\n",
              "    }\n",
              "\n",
              "    .colab-df-convert {\n",
              "      background-color: #E8F0FE;\n",
              "      border: none;\n",
              "      border-radius: 50%;\n",
              "      cursor: pointer;\n",
              "      display: none;\n",
              "      fill: #1967D2;\n",
              "      height: 32px;\n",
              "      padding: 0 0 0 0;\n",
              "      width: 32px;\n",
              "    }\n",
              "\n",
              "    .colab-df-convert:hover {\n",
              "      background-color: #E2EBFA;\n",
              "      box-shadow: 0px 1px 2px rgba(60, 64, 67, 0.3), 0px 1px 3px 1px rgba(60, 64, 67, 0.15);\n",
              "      fill: #174EA6;\n",
              "    }\n",
              "\n",
              "    .colab-df-buttons div {\n",
              "      margin-bottom: 4px;\n",
              "    }\n",
              "\n",
              "    [theme=dark] .colab-df-convert {\n",
              "      background-color: #3B4455;\n",
              "      fill: #D2E3FC;\n",
              "    }\n",
              "\n",
              "    [theme=dark] .colab-df-convert:hover {\n",
              "      background-color: #434B5C;\n",
              "      box-shadow: 0px 1px 3px 1px rgba(0, 0, 0, 0.15);\n",
              "      filter: drop-shadow(0px 1px 2px rgba(0, 0, 0, 0.3));\n",
              "      fill: #FFFFFF;\n",
              "    }\n",
              "  </style>\n",
              "\n",
              "    <script>\n",
              "      const buttonEl =\n",
              "        document.querySelector('#df-6298dbc8-1630-4b0f-9aef-3414f68e3477 button.colab-df-convert');\n",
              "      buttonEl.style.display =\n",
              "        google.colab.kernel.accessAllowed ? 'block' : 'none';\n",
              "\n",
              "      async function convertToInteractive(key) {\n",
              "        const element = document.querySelector('#df-6298dbc8-1630-4b0f-9aef-3414f68e3477');\n",
              "        const dataTable =\n",
              "          await google.colab.kernel.invokeFunction('convertToInteractive',\n",
              "                                                    [key], {});\n",
              "        if (!dataTable) return;\n",
              "\n",
              "        const docLinkHtml = 'Like what you see? Visit the ' +\n",
              "          '<a target=\"_blank\" href=https://colab.research.google.com/notebooks/data_table.ipynb>data table notebook</a>'\n",
              "          + ' to learn more about interactive tables.';\n",
              "        element.innerHTML = '';\n",
              "        dataTable['output_type'] = 'display_data';\n",
              "        await google.colab.output.renderOutput(dataTable, element);\n",
              "        const docLink = document.createElement('div');\n",
              "        docLink.innerHTML = docLinkHtml;\n",
              "        element.appendChild(docLink);\n",
              "      }\n",
              "    </script>\n",
              "  </div>\n",
              "\n",
              "\n",
              "    <div id=\"df-b325e663-fea8-4e56-9220-1a1517aea86d\">\n",
              "      <button class=\"colab-df-quickchart\" onclick=\"quickchart('df-b325e663-fea8-4e56-9220-1a1517aea86d')\"\n",
              "                title=\"Suggest charts\"\n",
              "                style=\"display:none;\">\n",
              "\n",
              "<svg xmlns=\"http://www.w3.org/2000/svg\" height=\"24px\"viewBox=\"0 0 24 24\"\n",
              "     width=\"24px\">\n",
              "    <g>\n",
              "        <path d=\"M19 3H5c-1.1 0-2 .9-2 2v14c0 1.1.9 2 2 2h14c1.1 0 2-.9 2-2V5c0-1.1-.9-2-2-2zM9 17H7v-7h2v7zm4 0h-2V7h2v10zm4 0h-2v-4h2v4z\"/>\n",
              "    </g>\n",
              "</svg>\n",
              "      </button>\n",
              "\n",
              "<style>\n",
              "  .colab-df-quickchart {\n",
              "      --bg-color: #E8F0FE;\n",
              "      --fill-color: #1967D2;\n",
              "      --hover-bg-color: #E2EBFA;\n",
              "      --hover-fill-color: #174EA6;\n",
              "      --disabled-fill-color: #AAA;\n",
              "      --disabled-bg-color: #DDD;\n",
              "  }\n",
              "\n",
              "  [theme=dark] .colab-df-quickchart {\n",
              "      --bg-color: #3B4455;\n",
              "      --fill-color: #D2E3FC;\n",
              "      --hover-bg-color: #434B5C;\n",
              "      --hover-fill-color: #FFFFFF;\n",
              "      --disabled-bg-color: #3B4455;\n",
              "      --disabled-fill-color: #666;\n",
              "  }\n",
              "\n",
              "  .colab-df-quickchart {\n",
              "    background-color: var(--bg-color);\n",
              "    border: none;\n",
              "    border-radius: 50%;\n",
              "    cursor: pointer;\n",
              "    display: none;\n",
              "    fill: var(--fill-color);\n",
              "    height: 32px;\n",
              "    padding: 0;\n",
              "    width: 32px;\n",
              "  }\n",
              "\n",
              "  .colab-df-quickchart:hover {\n",
              "    background-color: var(--hover-bg-color);\n",
              "    box-shadow: 0 1px 2px rgba(60, 64, 67, 0.3), 0 1px 3px 1px rgba(60, 64, 67, 0.15);\n",
              "    fill: var(--button-hover-fill-color);\n",
              "  }\n",
              "\n",
              "  .colab-df-quickchart-complete:disabled,\n",
              "  .colab-df-quickchart-complete:disabled:hover {\n",
              "    background-color: var(--disabled-bg-color);\n",
              "    fill: var(--disabled-fill-color);\n",
              "    box-shadow: none;\n",
              "  }\n",
              "\n",
              "  .colab-df-spinner {\n",
              "    border: 2px solid var(--fill-color);\n",
              "    border-color: transparent;\n",
              "    border-bottom-color: var(--fill-color);\n",
              "    animation:\n",
              "      spin 1s steps(1) infinite;\n",
              "  }\n",
              "\n",
              "  @keyframes spin {\n",
              "    0% {\n",
              "      border-color: transparent;\n",
              "      border-bottom-color: var(--fill-color);\n",
              "      border-left-color: var(--fill-color);\n",
              "    }\n",
              "    20% {\n",
              "      border-color: transparent;\n",
              "      border-left-color: var(--fill-color);\n",
              "      border-top-color: var(--fill-color);\n",
              "    }\n",
              "    30% {\n",
              "      border-color: transparent;\n",
              "      border-left-color: var(--fill-color);\n",
              "      border-top-color: var(--fill-color);\n",
              "      border-right-color: var(--fill-color);\n",
              "    }\n",
              "    40% {\n",
              "      border-color: transparent;\n",
              "      border-right-color: var(--fill-color);\n",
              "      border-top-color: var(--fill-color);\n",
              "    }\n",
              "    60% {\n",
              "      border-color: transparent;\n",
              "      border-right-color: var(--fill-color);\n",
              "    }\n",
              "    80% {\n",
              "      border-color: transparent;\n",
              "      border-right-color: var(--fill-color);\n",
              "      border-bottom-color: var(--fill-color);\n",
              "    }\n",
              "    90% {\n",
              "      border-color: transparent;\n",
              "      border-bottom-color: var(--fill-color);\n",
              "    }\n",
              "  }\n",
              "</style>\n",
              "\n",
              "      <script>\n",
              "        async function quickchart(key) {\n",
              "          const quickchartButtonEl =\n",
              "            document.querySelector('#' + key + ' button');\n",
              "          quickchartButtonEl.disabled = true;  // To prevent multiple clicks.\n",
              "          quickchartButtonEl.classList.add('colab-df-spinner');\n",
              "          try {\n",
              "            const charts = await google.colab.kernel.invokeFunction(\n",
              "                'suggestCharts', [key], {});\n",
              "          } catch (error) {\n",
              "            console.error('Error during call to suggestCharts:', error);\n",
              "          }\n",
              "          quickchartButtonEl.classList.remove('colab-df-spinner');\n",
              "          quickchartButtonEl.classList.add('colab-df-quickchart-complete');\n",
              "        }\n",
              "        (() => {\n",
              "          let quickchartButtonEl =\n",
              "            document.querySelector('#df-b325e663-fea8-4e56-9220-1a1517aea86d button');\n",
              "          quickchartButtonEl.style.display =\n",
              "            google.colab.kernel.accessAllowed ? 'block' : 'none';\n",
              "        })();\n",
              "      </script>\n",
              "    </div>\n",
              "\n",
              "    </div>\n",
              "  </div>\n"
            ],
            "application/vnd.google.colaboratory.intrinsic+json": {
              "type": "dataframe",
              "summary": "{\n  \"name\": \"pd\",\n  \"rows\": 7,\n  \"fields\": [\n    {\n      \"column\": 0,\n      \"properties\": {\n        \"dtype\": \"object\",\n        \"semantic_type\": \"\",\n        \"description\": \"\"\n      }\n    }\n  ]\n}"
            }
          },
          "metadata": {},
          "execution_count": 17
        }
      ]
    },
    {
      "cell_type": "code",
      "source": [
        "results"
      ],
      "metadata": {
        "colab": {
          "base_uri": "https://localhost:8080/"
        },
        "id": "whToCTfIN-48",
        "outputId": "105c7eeb-62e1-49cd-b75c-f78a2ca8e8ab"
      },
      "execution_count": null,
      "outputs": [
        {
          "output_type": "execute_result",
          "data": {
            "text/plain": [
              "{'score': 57.89300674674101,\n",
              " 'counts': [5, 3, 2, 1],\n",
              " 'totals': [5, 4, 3, 2],\n",
              " 'precisions': [np.float64(100.0),\n",
              "  np.float64(75.0),\n",
              "  np.float64(66.67),\n",
              "  np.float64(50.0)],\n",
              " 'bp': 0.8187307530779819,\n",
              " 'sys_len': 5,\n",
              " 'ref_len': 6}"
            ]
          },
          "metadata": {},
          "execution_count": 18
        }
      ]
    },
    {
      "cell_type": "code",
      "source": [
        "#pis deyil esasen tercumede istifade edir, summaryde yox, niye -->recall !!! ne qeder sozu ehate edir WOWO\n"
      ],
      "metadata": {
        "id": "q1VDXprUOH4T"
      },
      "execution_count": null,
      "outputs": []
    },
    {
      "cell_type": "markdown",
      "source": [
        "#ROUGE"
      ],
      "metadata": {
        "id": "1Xe2Z6oEOaO-"
      }
    },
    {
      "cell_type": "code",
      "source": [
        "!pip install rouge_score"
      ],
      "metadata": {
        "colab": {
          "base_uri": "https://localhost:8080/"
        },
        "id": "Gi3rdbcsOcUE",
        "outputId": "5259c27f-87bb-44cd-9bd9-f840517cc35c"
      },
      "execution_count": null,
      "outputs": [
        {
          "output_type": "stream",
          "name": "stdout",
          "text": [
            "Collecting rouge_score\n",
            "  Downloading rouge_score-0.1.2.tar.gz (17 kB)\n",
            "  Preparing metadata (setup.py) ... \u001b[?25l\u001b[?25hdone\n",
            "Requirement already satisfied: absl-py in /usr/local/lib/python3.11/dist-packages (from rouge_score) (1.4.0)\n",
            "Requirement already satisfied: nltk in /usr/local/lib/python3.11/dist-packages (from rouge_score) (3.9.1)\n",
            "Requirement already satisfied: numpy in /usr/local/lib/python3.11/dist-packages (from rouge_score) (2.0.2)\n",
            "Requirement already satisfied: six>=1.14.0 in /usr/local/lib/python3.11/dist-packages (from rouge_score) (1.17.0)\n",
            "Requirement already satisfied: click in /usr/local/lib/python3.11/dist-packages (from nltk->rouge_score) (8.2.1)\n",
            "Requirement already satisfied: joblib in /usr/local/lib/python3.11/dist-packages (from nltk->rouge_score) (1.5.1)\n",
            "Requirement already satisfied: regex>=2021.8.3 in /usr/local/lib/python3.11/dist-packages (from nltk->rouge_score) (2024.11.6)\n",
            "Requirement already satisfied: tqdm in /usr/local/lib/python3.11/dist-packages (from nltk->rouge_score) (4.67.1)\n",
            "Building wheels for collected packages: rouge_score\n",
            "  Building wheel for rouge_score (setup.py) ... \u001b[?25l\u001b[?25hdone\n",
            "  Created wheel for rouge_score: filename=rouge_score-0.1.2-py3-none-any.whl size=24934 sha256=03cb709c09059bdfd8fc7d33f126053cc3510d3d4ea32bf312a5d9cbc893c4bf\n",
            "  Stored in directory: /root/.cache/pip/wheels/1e/19/43/8a442dc83660ca25e163e1bd1f89919284ab0d0c1475475148\n",
            "Successfully built rouge_score\n",
            "Installing collected packages: rouge_score\n",
            "Successfully installed rouge_score-0.1.2\n"
          ]
        }
      ]
    },
    {
      "cell_type": "code",
      "source": [
        "rouge_metric=load('rouge')"
      ],
      "metadata": {
        "colab": {
          "base_uri": "https://localhost:8080/",
          "referenced_widgets": [
            "9fab70b9d96e4278bf86dcbed52af07a",
            "f63c3592a6cc48dd8635310518ece56e",
            "5cebde7597594b009717625be134bc1b",
            "d2663bf361c1410589066e3572f4949b",
            "5941fcc10f8b40f98d3a581d74658b3f",
            "4aad9dcfa3c54b37b5338ca4c2deb6dd",
            "9c368c5e960f40ec94533e267179bb6f",
            "3e80bbef678a4d21a9567ac8045bf632",
            "b3e17fce38554780847fbb35329d5e0b",
            "5ee7c1d458ed47e1847db8cf19c74b73",
            "8e9f9701ce0e4ba4a7d7464a79ad14aa"
          ]
        },
        "id": "ODfLeeJFOfuh",
        "outputId": "3e637fbb-8a7c-497a-93e1-ba20b8b14f3d"
      },
      "execution_count": null,
      "outputs": [
        {
          "output_type": "display_data",
          "data": {
            "text/plain": [
              "Downloading builder script:   0%|          | 0.00/6.27k [00:00<?, ?B/s]"
            ],
            "application/vnd.jupyter.widget-view+json": {
              "version_major": 2,
              "version_minor": 0,
              "model_id": "9fab70b9d96e4278bf86dcbed52af07a"
            }
          },
          "metadata": {}
        }
      ]
    },
    {
      "cell_type": "code",
      "source": [
        "reference=dataset['train'][0]['highlights']\n",
        "records=[]\n",
        "#referansda olanalr biizmkinde ne qeder baxir\n",
        "#1-unigram , 2-bigrm, L-longest sunstig, sum- her cumleey ayri aynashir\n",
        "rouge_names=['rouge1', 'rouge2', 'rougeL', 'rougeLsum']\n",
        "for model_name in summarize:\n",
        "    rouge_metric.add(prediction=summarize[model_name], reference=reference)\n",
        "    score=rouge_metric.compute()\n",
        "    rouge_dict=dict((rn, score[rn]) for rn in rouge_names)\n",
        "    records.append(rouge_dict)\n",
        "pd.DataFrame.from_records(records, index=summarize.keys())"
      ],
      "metadata": {
        "colab": {
          "base_uri": "https://localhost:8080/"
        },
        "id": "x5bTU0PbOsJP",
        "outputId": "32497350-cc96-4b75-dfad-50bd59dda0c5"
      },
      "execution_count": null,
      "outputs": [
        {
          "output_type": "execute_result",
          "data": {
            "text/plain": [
              "            rouge1    rouge2    rougeL  rougeLsum\n",
              "baseline  0.335484  0.248366  0.296774   0.335484"
            ],
            "text/html": [
              "\n",
              "  <div id=\"df-10bfc875-7661-46cc-9e75-65aef1d52785\" class=\"colab-df-container\">\n",
              "    <div>\n",
              "<style scoped>\n",
              "    .dataframe tbody tr th:only-of-type {\n",
              "        vertical-align: middle;\n",
              "    }\n",
              "\n",
              "    .dataframe tbody tr th {\n",
              "        vertical-align: top;\n",
              "    }\n",
              "\n",
              "    .dataframe thead th {\n",
              "        text-align: right;\n",
              "    }\n",
              "</style>\n",
              "<table border=\"1\" class=\"dataframe\">\n",
              "  <thead>\n",
              "    <tr style=\"text-align: right;\">\n",
              "      <th></th>\n",
              "      <th>rouge1</th>\n",
              "      <th>rouge2</th>\n",
              "      <th>rougeL</th>\n",
              "      <th>rougeLsum</th>\n",
              "    </tr>\n",
              "  </thead>\n",
              "  <tbody>\n",
              "    <tr>\n",
              "      <th>baseline</th>\n",
              "      <td>0.335484</td>\n",
              "      <td>0.248366</td>\n",
              "      <td>0.296774</td>\n",
              "      <td>0.335484</td>\n",
              "    </tr>\n",
              "  </tbody>\n",
              "</table>\n",
              "</div>\n",
              "    <div class=\"colab-df-buttons\">\n",
              "\n",
              "  <div class=\"colab-df-container\">\n",
              "    <button class=\"colab-df-convert\" onclick=\"convertToInteractive('df-10bfc875-7661-46cc-9e75-65aef1d52785')\"\n",
              "            title=\"Convert this dataframe to an interactive table.\"\n",
              "            style=\"display:none;\">\n",
              "\n",
              "  <svg xmlns=\"http://www.w3.org/2000/svg\" height=\"24px\" viewBox=\"0 -960 960 960\">\n",
              "    <path d=\"M120-120v-720h720v720H120Zm60-500h600v-160H180v160Zm220 220h160v-160H400v160Zm0 220h160v-160H400v160ZM180-400h160v-160H180v160Zm440 0h160v-160H620v160ZM180-180h160v-160H180v160Zm440 0h160v-160H620v160Z\"/>\n",
              "  </svg>\n",
              "    </button>\n",
              "\n",
              "  <style>\n",
              "    .colab-df-container {\n",
              "      display:flex;\n",
              "      gap: 12px;\n",
              "    }\n",
              "\n",
              "    .colab-df-convert {\n",
              "      background-color: #E8F0FE;\n",
              "      border: none;\n",
              "      border-radius: 50%;\n",
              "      cursor: pointer;\n",
              "      display: none;\n",
              "      fill: #1967D2;\n",
              "      height: 32px;\n",
              "      padding: 0 0 0 0;\n",
              "      width: 32px;\n",
              "    }\n",
              "\n",
              "    .colab-df-convert:hover {\n",
              "      background-color: #E2EBFA;\n",
              "      box-shadow: 0px 1px 2px rgba(60, 64, 67, 0.3), 0px 1px 3px 1px rgba(60, 64, 67, 0.15);\n",
              "      fill: #174EA6;\n",
              "    }\n",
              "\n",
              "    .colab-df-buttons div {\n",
              "      margin-bottom: 4px;\n",
              "    }\n",
              "\n",
              "    [theme=dark] .colab-df-convert {\n",
              "      background-color: #3B4455;\n",
              "      fill: #D2E3FC;\n",
              "    }\n",
              "\n",
              "    [theme=dark] .colab-df-convert:hover {\n",
              "      background-color: #434B5C;\n",
              "      box-shadow: 0px 1px 3px 1px rgba(0, 0, 0, 0.15);\n",
              "      filter: drop-shadow(0px 1px 2px rgba(0, 0, 0, 0.3));\n",
              "      fill: #FFFFFF;\n",
              "    }\n",
              "  </style>\n",
              "\n",
              "    <script>\n",
              "      const buttonEl =\n",
              "        document.querySelector('#df-10bfc875-7661-46cc-9e75-65aef1d52785 button.colab-df-convert');\n",
              "      buttonEl.style.display =\n",
              "        google.colab.kernel.accessAllowed ? 'block' : 'none';\n",
              "\n",
              "      async function convertToInteractive(key) {\n",
              "        const element = document.querySelector('#df-10bfc875-7661-46cc-9e75-65aef1d52785');\n",
              "        const dataTable =\n",
              "          await google.colab.kernel.invokeFunction('convertToInteractive',\n",
              "                                                    [key], {});\n",
              "        if (!dataTable) return;\n",
              "\n",
              "        const docLinkHtml = 'Like what you see? Visit the ' +\n",
              "          '<a target=\"_blank\" href=https://colab.research.google.com/notebooks/data_table.ipynb>data table notebook</a>'\n",
              "          + ' to learn more about interactive tables.';\n",
              "        element.innerHTML = '';\n",
              "        dataTable['output_type'] = 'display_data';\n",
              "        await google.colab.output.renderOutput(dataTable, element);\n",
              "        const docLink = document.createElement('div');\n",
              "        docLink.innerHTML = docLinkHtml;\n",
              "        element.appendChild(docLink);\n",
              "      }\n",
              "    </script>\n",
              "  </div>\n",
              "\n",
              "\n",
              "    </div>\n",
              "  </div>\n"
            ],
            "application/vnd.google.colaboratory.intrinsic+json": {
              "type": "dataframe",
              "summary": "{\n  \"name\": \"pd\",\n  \"rows\": 1,\n  \"fields\": [\n    {\n      \"column\": \"rouge1\",\n      \"properties\": {\n        \"dtype\": \"number\",\n        \"std\": null,\n        \"min\": 0.3354838709677419,\n        \"max\": 0.3354838709677419,\n        \"num_unique_values\": 1,\n        \"samples\": [\n          0.3354838709677419\n        ],\n        \"semantic_type\": \"\",\n        \"description\": \"\"\n      }\n    },\n    {\n      \"column\": \"rouge2\",\n      \"properties\": {\n        \"dtype\": \"number\",\n        \"std\": null,\n        \"min\": 0.24836601307189543,\n        \"max\": 0.24836601307189543,\n        \"num_unique_values\": 1,\n        \"samples\": [\n          0.24836601307189543\n        ],\n        \"semantic_type\": \"\",\n        \"description\": \"\"\n      }\n    },\n    {\n      \"column\": \"rougeL\",\n      \"properties\": {\n        \"dtype\": \"number\",\n        \"std\": null,\n        \"min\": 0.29677419354838713,\n        \"max\": 0.29677419354838713,\n        \"num_unique_values\": 1,\n        \"samples\": [\n          0.29677419354838713\n        ],\n        \"semantic_type\": \"\",\n        \"description\": \"\"\n      }\n    },\n    {\n      \"column\": \"rougeLsum\",\n      \"properties\": {\n        \"dtype\": \"number\",\n        \"std\": null,\n        \"min\": 0.3354838709677419,\n        \"max\": 0.3354838709677419,\n        \"num_unique_values\": 1,\n        \"samples\": [\n          0.3354838709677419\n        ],\n        \"semantic_type\": \"\",\n        \"description\": \"\"\n      }\n    }\n  ]\n}"
            }
          },
          "metadata": {},
          "execution_count": 22
        }
      ]
    },
    {
      "cell_type": "code",
      "source": [
        "#sirf bun abaxma qduzgun deyil , cunki bu 1 cumleye baxir\n",
        "#mukemmel metrics yoxdu"
      ],
      "metadata": {
        "id": "7_alcMa4PgXe"
      },
      "execution_count": null,
      "outputs": []
    },
    {
      "cell_type": "markdown",
      "source": [
        "#Evaluating Pegasus"
      ],
      "metadata": {
        "id": "nloyRT9IQhfM"
      }
    },
    {
      "cell_type": "code",
      "source": [
        "import matplotlib.pyplot as plt\n",
        "import pandas as pd\n",
        "from datasets import load_dataset\n",
        "from evaluate import load\n",
        "from transformers import AutoModelForSeq2SeqLM, AutoTokenizer\n",
        "\n",
        "dataset=load_dataset('cnn_dailymail', '3.0.0')\n",
        "rouge_metric=load('rouge', cache_dir=None)\n",
        "rouge_names=['rouge1','rouge2', 'rougeL','rougeLsum']"
      ],
      "metadata": {
        "id": "s_r_N-j-QmaN"
      },
      "execution_count": null,
      "outputs": []
    },
    {
      "cell_type": "code",
      "source": [
        "def evaluate_summaries_baseline(dataset, metric, column_text='article', column_summary='highlights'):\n",
        "    summaries=[three_sentence_summary(text) for text in dataset[column_text]]#3 cumleeli baselineimi duzueldek  bu baselinelrin scorelari hesabla\n",
        "    metric.add_batch(predictions=summaries, references=dataset[column_summary])\n",
        "    score=metric.compute()\n",
        "    return score"
      ],
      "metadata": {
        "id": "AtVdJi8TRPQ9"
      },
      "execution_count": null,
      "outputs": []
    },
    {
      "cell_type": "code",
      "source": [
        "#butun data yuzerinde bayaqki lap yuxardaki bir setri uchun idi\n",
        "\n",
        "test_sampled=dataset['test'].shuffle(seed=42).select(range(100))#ilk 100 setru goturutk yerledhir rama  #az datan bashla experiment apar 1 batch uzerinden train !ANdrey\n",
        "score=evaluate_summaries_baseline(test_sampled, rouge_metric)\n",
        "rouge_dict=dict((rn, score[rn]) for rn in rouge_names)\n",
        "pd.DataFrame.from_dict(rouge_dict, orient='index', columns=['baselinne'])"
      ],
      "metadata": {
        "colab": {
          "base_uri": "https://localhost:8080/",
          "height": 175
        },
        "id": "PVFaAgZhcKu6",
        "outputId": "ca610c1e-05c6-4eff-b811-5709da863831"
      },
      "execution_count": null,
      "outputs": [
        {
          "output_type": "execute_result",
          "data": {
            "text/plain": [
              "           baselinne\n",
              "rouge1      0.386558\n",
              "rouge2      0.165748\n",
              "rougeL      0.246006\n",
              "rougeLsum   0.352141"
            ],
            "text/html": [
              "\n",
              "  <div id=\"df-10f91970-f10e-4ab6-9b36-6a5d41604f9c\" class=\"colab-df-container\">\n",
              "    <div>\n",
              "<style scoped>\n",
              "    .dataframe tbody tr th:only-of-type {\n",
              "        vertical-align: middle;\n",
              "    }\n",
              "\n",
              "    .dataframe tbody tr th {\n",
              "        vertical-align: top;\n",
              "    }\n",
              "\n",
              "    .dataframe thead th {\n",
              "        text-align: right;\n",
              "    }\n",
              "</style>\n",
              "<table border=\"1\" class=\"dataframe\">\n",
              "  <thead>\n",
              "    <tr style=\"text-align: right;\">\n",
              "      <th></th>\n",
              "      <th>baselinne</th>\n",
              "    </tr>\n",
              "  </thead>\n",
              "  <tbody>\n",
              "    <tr>\n",
              "      <th>rouge1</th>\n",
              "      <td>0.386558</td>\n",
              "    </tr>\n",
              "    <tr>\n",
              "      <th>rouge2</th>\n",
              "      <td>0.165748</td>\n",
              "    </tr>\n",
              "    <tr>\n",
              "      <th>rougeL</th>\n",
              "      <td>0.246006</td>\n",
              "    </tr>\n",
              "    <tr>\n",
              "      <th>rougeLsum</th>\n",
              "      <td>0.352141</td>\n",
              "    </tr>\n",
              "  </tbody>\n",
              "</table>\n",
              "</div>\n",
              "    <div class=\"colab-df-buttons\">\n",
              "\n",
              "  <div class=\"colab-df-container\">\n",
              "    <button class=\"colab-df-convert\" onclick=\"convertToInteractive('df-10f91970-f10e-4ab6-9b36-6a5d41604f9c')\"\n",
              "            title=\"Convert this dataframe to an interactive table.\"\n",
              "            style=\"display:none;\">\n",
              "\n",
              "  <svg xmlns=\"http://www.w3.org/2000/svg\" height=\"24px\" viewBox=\"0 -960 960 960\">\n",
              "    <path d=\"M120-120v-720h720v720H120Zm60-500h600v-160H180v160Zm220 220h160v-160H400v160Zm0 220h160v-160H400v160ZM180-400h160v-160H180v160Zm440 0h160v-160H620v160ZM180-180h160v-160H180v160Zm440 0h160v-160H620v160Z\"/>\n",
              "  </svg>\n",
              "    </button>\n",
              "\n",
              "  <style>\n",
              "    .colab-df-container {\n",
              "      display:flex;\n",
              "      gap: 12px;\n",
              "    }\n",
              "\n",
              "    .colab-df-convert {\n",
              "      background-color: #E8F0FE;\n",
              "      border: none;\n",
              "      border-radius: 50%;\n",
              "      cursor: pointer;\n",
              "      display: none;\n",
              "      fill: #1967D2;\n",
              "      height: 32px;\n",
              "      padding: 0 0 0 0;\n",
              "      width: 32px;\n",
              "    }\n",
              "\n",
              "    .colab-df-convert:hover {\n",
              "      background-color: #E2EBFA;\n",
              "      box-shadow: 0px 1px 2px rgba(60, 64, 67, 0.3), 0px 1px 3px 1px rgba(60, 64, 67, 0.15);\n",
              "      fill: #174EA6;\n",
              "    }\n",
              "\n",
              "    .colab-df-buttons div {\n",
              "      margin-bottom: 4px;\n",
              "    }\n",
              "\n",
              "    [theme=dark] .colab-df-convert {\n",
              "      background-color: #3B4455;\n",
              "      fill: #D2E3FC;\n",
              "    }\n",
              "\n",
              "    [theme=dark] .colab-df-convert:hover {\n",
              "      background-color: #434B5C;\n",
              "      box-shadow: 0px 1px 3px 1px rgba(0, 0, 0, 0.15);\n",
              "      filter: drop-shadow(0px 1px 2px rgba(0, 0, 0, 0.3));\n",
              "      fill: #FFFFFF;\n",
              "    }\n",
              "  </style>\n",
              "\n",
              "    <script>\n",
              "      const buttonEl =\n",
              "        document.querySelector('#df-10f91970-f10e-4ab6-9b36-6a5d41604f9c button.colab-df-convert');\n",
              "      buttonEl.style.display =\n",
              "        google.colab.kernel.accessAllowed ? 'block' : 'none';\n",
              "\n",
              "      async function convertToInteractive(key) {\n",
              "        const element = document.querySelector('#df-10f91970-f10e-4ab6-9b36-6a5d41604f9c');\n",
              "        const dataTable =\n",
              "          await google.colab.kernel.invokeFunction('convertToInteractive',\n",
              "                                                    [key], {});\n",
              "        if (!dataTable) return;\n",
              "\n",
              "        const docLinkHtml = 'Like what you see? Visit the ' +\n",
              "          '<a target=\"_blank\" href=https://colab.research.google.com/notebooks/data_table.ipynb>data table notebook</a>'\n",
              "          + ' to learn more about interactive tables.';\n",
              "        element.innerHTML = '';\n",
              "        dataTable['output_type'] = 'display_data';\n",
              "        await google.colab.output.renderOutput(dataTable, element);\n",
              "        const docLink = document.createElement('div');\n",
              "        docLink.innerHTML = docLinkHtml;\n",
              "        element.appendChild(docLink);\n",
              "      }\n",
              "    </script>\n",
              "  </div>\n",
              "\n",
              "\n",
              "    <div id=\"df-d0e88e4a-dc37-4475-98f9-2288f2384d71\">\n",
              "      <button class=\"colab-df-quickchart\" onclick=\"quickchart('df-d0e88e4a-dc37-4475-98f9-2288f2384d71')\"\n",
              "                title=\"Suggest charts\"\n",
              "                style=\"display:none;\">\n",
              "\n",
              "<svg xmlns=\"http://www.w3.org/2000/svg\" height=\"24px\"viewBox=\"0 0 24 24\"\n",
              "     width=\"24px\">\n",
              "    <g>\n",
              "        <path d=\"M19 3H5c-1.1 0-2 .9-2 2v14c0 1.1.9 2 2 2h14c1.1 0 2-.9 2-2V5c0-1.1-.9-2-2-2zM9 17H7v-7h2v7zm4 0h-2V7h2v10zm4 0h-2v-4h2v4z\"/>\n",
              "    </g>\n",
              "</svg>\n",
              "      </button>\n",
              "\n",
              "<style>\n",
              "  .colab-df-quickchart {\n",
              "      --bg-color: #E8F0FE;\n",
              "      --fill-color: #1967D2;\n",
              "      --hover-bg-color: #E2EBFA;\n",
              "      --hover-fill-color: #174EA6;\n",
              "      --disabled-fill-color: #AAA;\n",
              "      --disabled-bg-color: #DDD;\n",
              "  }\n",
              "\n",
              "  [theme=dark] .colab-df-quickchart {\n",
              "      --bg-color: #3B4455;\n",
              "      --fill-color: #D2E3FC;\n",
              "      --hover-bg-color: #434B5C;\n",
              "      --hover-fill-color: #FFFFFF;\n",
              "      --disabled-bg-color: #3B4455;\n",
              "      --disabled-fill-color: #666;\n",
              "  }\n",
              "\n",
              "  .colab-df-quickchart {\n",
              "    background-color: var(--bg-color);\n",
              "    border: none;\n",
              "    border-radius: 50%;\n",
              "    cursor: pointer;\n",
              "    display: none;\n",
              "    fill: var(--fill-color);\n",
              "    height: 32px;\n",
              "    padding: 0;\n",
              "    width: 32px;\n",
              "  }\n",
              "\n",
              "  .colab-df-quickchart:hover {\n",
              "    background-color: var(--hover-bg-color);\n",
              "    box-shadow: 0 1px 2px rgba(60, 64, 67, 0.3), 0 1px 3px 1px rgba(60, 64, 67, 0.15);\n",
              "    fill: var(--button-hover-fill-color);\n",
              "  }\n",
              "\n",
              "  .colab-df-quickchart-complete:disabled,\n",
              "  .colab-df-quickchart-complete:disabled:hover {\n",
              "    background-color: var(--disabled-bg-color);\n",
              "    fill: var(--disabled-fill-color);\n",
              "    box-shadow: none;\n",
              "  }\n",
              "\n",
              "  .colab-df-spinner {\n",
              "    border: 2px solid var(--fill-color);\n",
              "    border-color: transparent;\n",
              "    border-bottom-color: var(--fill-color);\n",
              "    animation:\n",
              "      spin 1s steps(1) infinite;\n",
              "  }\n",
              "\n",
              "  @keyframes spin {\n",
              "    0% {\n",
              "      border-color: transparent;\n",
              "      border-bottom-color: var(--fill-color);\n",
              "      border-left-color: var(--fill-color);\n",
              "    }\n",
              "    20% {\n",
              "      border-color: transparent;\n",
              "      border-left-color: var(--fill-color);\n",
              "      border-top-color: var(--fill-color);\n",
              "    }\n",
              "    30% {\n",
              "      border-color: transparent;\n",
              "      border-left-color: var(--fill-color);\n",
              "      border-top-color: var(--fill-color);\n",
              "      border-right-color: var(--fill-color);\n",
              "    }\n",
              "    40% {\n",
              "      border-color: transparent;\n",
              "      border-right-color: var(--fill-color);\n",
              "      border-top-color: var(--fill-color);\n",
              "    }\n",
              "    60% {\n",
              "      border-color: transparent;\n",
              "      border-right-color: var(--fill-color);\n",
              "    }\n",
              "    80% {\n",
              "      border-color: transparent;\n",
              "      border-right-color: var(--fill-color);\n",
              "      border-bottom-color: var(--fill-color);\n",
              "    }\n",
              "    90% {\n",
              "      border-color: transparent;\n",
              "      border-bottom-color: var(--fill-color);\n",
              "    }\n",
              "  }\n",
              "</style>\n",
              "\n",
              "      <script>\n",
              "        async function quickchart(key) {\n",
              "          const quickchartButtonEl =\n",
              "            document.querySelector('#' + key + ' button');\n",
              "          quickchartButtonEl.disabled = true;  // To prevent multiple clicks.\n",
              "          quickchartButtonEl.classList.add('colab-df-spinner');\n",
              "          try {\n",
              "            const charts = await google.colab.kernel.invokeFunction(\n",
              "                'suggestCharts', [key], {});\n",
              "          } catch (error) {\n",
              "            console.error('Error during call to suggestCharts:', error);\n",
              "          }\n",
              "          quickchartButtonEl.classList.remove('colab-df-spinner');\n",
              "          quickchartButtonEl.classList.add('colab-df-quickchart-complete');\n",
              "        }\n",
              "        (() => {\n",
              "          let quickchartButtonEl =\n",
              "            document.querySelector('#df-d0e88e4a-dc37-4475-98f9-2288f2384d71 button');\n",
              "          quickchartButtonEl.style.display =\n",
              "            google.colab.kernel.accessAllowed ? 'block' : 'none';\n",
              "        })();\n",
              "      </script>\n",
              "    </div>\n",
              "\n",
              "    </div>\n",
              "  </div>\n"
            ],
            "application/vnd.google.colaboratory.intrinsic+json": {
              "type": "dataframe",
              "summary": "{\n  \"name\": \"pd\",\n  \"rows\": 4,\n  \"fields\": [\n    {\n      \"column\": \"baselinne\",\n      \"properties\": {\n        \"dtype\": \"number\",\n        \"std\": 0.10088951455437058,\n        \"min\": 0.16574821010633312,\n        \"max\": 0.3865576855050426,\n        \"num_unique_values\": 4,\n        \"samples\": [\n          0.16574821010633312,\n          0.35214130225508683,\n          0.3865576855050426\n        ],\n        \"semantic_type\": \"\",\n        \"description\": \"\"\n      }\n    }\n  ]\n}"
            }
          },
          "metadata": {},
          "execution_count": 26
        }
      ]
    },
    {
      "cell_type": "code",
      "source": [
        "from tqdm import tqdm\n",
        "import torch\n",
        "\n",
        "device='cuda' if torch.cuda.is_available() else 'cpu'\n",
        "\n",
        "def chunks(list_of_elements, batch_size): #butun loader fln bele ishleyri\n",
        "    for i in range(0, len(list_of_elements), batch_size):\n",
        "        yield list_of_elements[i:i+batch_size]\n",
        "\n",
        "def evaluate_summaries_pegasus(dataset, metric, model, tokenizer, batch_size=8, device=device, column_text='article', column_summary='highlights'):\n",
        "\n",
        "    article_batches=list(chunks(dataset[column_text], batch_size)) #chunk chuk gotur texti\n",
        "    target_batches=list(chunks(dataset[column_summary], batch_size)) #chuk chk gotur targettleri\n",
        "    #progress bar uchun tqdm\n",
        "\n",
        "    for article_batch, target_batch in tqdm(zip(article_batches, target_batches), total=len(article_batches)):\n",
        "                ######## articel tokeniz edirk\n",
        "        inputs=tokenizer.__call__(article_batch, max_length=1024, truncation=True,\n",
        "                                  return_tensors='pt', padding='max_length').to(device)     #__cal siz da olar ele bel eqoyulub  ###articli texti tokenizee te\n",
        "                ######  output#####\n",
        "        summaries=model.generate(input_ids=inputs['input_ids'], #textimizi gonderirk to device ev input_ids lerin ireqmelri\n",
        "                                 attention_mask=inputs['attention_mask'].to(device),\n",
        "                                 length_penalty=0.8, num_beams=4, max_length=128)\n",
        "\n",
        "        decode_summaries=[tokenizer.decode(s, skip_special_tokens=True,\n",
        "                                           clean_up_tokenization_spaces=True) for s in summaries]\n",
        "\n",
        "        metric.add_batch(predictions=decode_summaries, references=target_batch)\n",
        "        score=metric.compute()\n",
        "    return score"
      ],
      "metadata": {
        "id": "fpWOPW1Me6_s"
      },
      "execution_count": null,
      "outputs": []
    },
    {
      "cell_type": "code",
      "source": [
        "from transformers import AutoModelForSeq2SeqLM, AutoTokenizer\n",
        "\n",
        "model_ckpt='google/pegasus-cnn_dailymail'\n",
        "tokenizer=AutoTokenizer.from_pretrained(model_ckpt) #ehtiyach yoxdu to device etmek\n",
        "model=AutoModelForSeq2SeqLM.from_pretrained(model_ckpt).to(device)\n",
        "\n",
        "score=evaluate_summaries_pegasus(test_sampled, rouge_metric, model, tokenizer)\n",
        "rouge_dict=dict((rn, score[rn]) for rn in rouge_names)\n",
        "pd.DataFrame.from_dict(rouge_dict, orient='index', columns=['pegasus'])"
      ],
      "metadata": {
        "colab": {
          "base_uri": "https://localhost:8080/",
          "height": 247
        },
        "id": "QLIGxJHegT8l",
        "outputId": "ad3bf2e6-b525-4338-90fa-9122529939d8"
      },
      "execution_count": null,
      "outputs": [
        {
          "output_type": "stream",
          "name": "stderr",
          "text": [
            "Some weights of PegasusForConditionalGeneration were not initialized from the model checkpoint at google/pegasus-cnn_dailymail and are newly initialized: ['model.decoder.embed_positions.weight', 'model.encoder.embed_positions.weight']\n",
            "You should probably TRAIN this model on a down-stream task to be able to use it for predictions and inference.\n",
            "100%|██████████| 13/13 [02:29<00:00, 11.48s/it]\n"
          ]
        },
        {
          "output_type": "execute_result",
          "data": {
            "text/plain": [
              "            pegasus\n",
              "rouge1     0.427414\n",
              "rouge2     0.142366\n",
              "rougeL     0.283524\n",
              "rougeLsum  0.350480"
            ],
            "text/html": [
              "\n",
              "  <div id=\"df-b7060f96-b3df-4c46-9c34-3d515d0d1a4f\" class=\"colab-df-container\">\n",
              "    <div>\n",
              "<style scoped>\n",
              "    .dataframe tbody tr th:only-of-type {\n",
              "        vertical-align: middle;\n",
              "    }\n",
              "\n",
              "    .dataframe tbody tr th {\n",
              "        vertical-align: top;\n",
              "    }\n",
              "\n",
              "    .dataframe thead th {\n",
              "        text-align: right;\n",
              "    }\n",
              "</style>\n",
              "<table border=\"1\" class=\"dataframe\">\n",
              "  <thead>\n",
              "    <tr style=\"text-align: right;\">\n",
              "      <th></th>\n",
              "      <th>pegasus</th>\n",
              "    </tr>\n",
              "  </thead>\n",
              "  <tbody>\n",
              "    <tr>\n",
              "      <th>rouge1</th>\n",
              "      <td>0.427414</td>\n",
              "    </tr>\n",
              "    <tr>\n",
              "      <th>rouge2</th>\n",
              "      <td>0.142366</td>\n",
              "    </tr>\n",
              "    <tr>\n",
              "      <th>rougeL</th>\n",
              "      <td>0.283524</td>\n",
              "    </tr>\n",
              "    <tr>\n",
              "      <th>rougeLsum</th>\n",
              "      <td>0.350480</td>\n",
              "    </tr>\n",
              "  </tbody>\n",
              "</table>\n",
              "</div>\n",
              "    <div class=\"colab-df-buttons\">\n",
              "\n",
              "  <div class=\"colab-df-container\">\n",
              "    <button class=\"colab-df-convert\" onclick=\"convertToInteractive('df-b7060f96-b3df-4c46-9c34-3d515d0d1a4f')\"\n",
              "            title=\"Convert this dataframe to an interactive table.\"\n",
              "            style=\"display:none;\">\n",
              "\n",
              "  <svg xmlns=\"http://www.w3.org/2000/svg\" height=\"24px\" viewBox=\"0 -960 960 960\">\n",
              "    <path d=\"M120-120v-720h720v720H120Zm60-500h600v-160H180v160Zm220 220h160v-160H400v160Zm0 220h160v-160H400v160ZM180-400h160v-160H180v160Zm440 0h160v-160H620v160ZM180-180h160v-160H180v160Zm440 0h160v-160H620v160Z\"/>\n",
              "  </svg>\n",
              "    </button>\n",
              "\n",
              "  <style>\n",
              "    .colab-df-container {\n",
              "      display:flex;\n",
              "      gap: 12px;\n",
              "    }\n",
              "\n",
              "    .colab-df-convert {\n",
              "      background-color: #E8F0FE;\n",
              "      border: none;\n",
              "      border-radius: 50%;\n",
              "      cursor: pointer;\n",
              "      display: none;\n",
              "      fill: #1967D2;\n",
              "      height: 32px;\n",
              "      padding: 0 0 0 0;\n",
              "      width: 32px;\n",
              "    }\n",
              "\n",
              "    .colab-df-convert:hover {\n",
              "      background-color: #E2EBFA;\n",
              "      box-shadow: 0px 1px 2px rgba(60, 64, 67, 0.3), 0px 1px 3px 1px rgba(60, 64, 67, 0.15);\n",
              "      fill: #174EA6;\n",
              "    }\n",
              "\n",
              "    .colab-df-buttons div {\n",
              "      margin-bottom: 4px;\n",
              "    }\n",
              "\n",
              "    [theme=dark] .colab-df-convert {\n",
              "      background-color: #3B4455;\n",
              "      fill: #D2E3FC;\n",
              "    }\n",
              "\n",
              "    [theme=dark] .colab-df-convert:hover {\n",
              "      background-color: #434B5C;\n",
              "      box-shadow: 0px 1px 3px 1px rgba(0, 0, 0, 0.15);\n",
              "      filter: drop-shadow(0px 1px 2px rgba(0, 0, 0, 0.3));\n",
              "      fill: #FFFFFF;\n",
              "    }\n",
              "  </style>\n",
              "\n",
              "    <script>\n",
              "      const buttonEl =\n",
              "        document.querySelector('#df-b7060f96-b3df-4c46-9c34-3d515d0d1a4f button.colab-df-convert');\n",
              "      buttonEl.style.display =\n",
              "        google.colab.kernel.accessAllowed ? 'block' : 'none';\n",
              "\n",
              "      async function convertToInteractive(key) {\n",
              "        const element = document.querySelector('#df-b7060f96-b3df-4c46-9c34-3d515d0d1a4f');\n",
              "        const dataTable =\n",
              "          await google.colab.kernel.invokeFunction('convertToInteractive',\n",
              "                                                    [key], {});\n",
              "        if (!dataTable) return;\n",
              "\n",
              "        const docLinkHtml = 'Like what you see? Visit the ' +\n",
              "          '<a target=\"_blank\" href=https://colab.research.google.com/notebooks/data_table.ipynb>data table notebook</a>'\n",
              "          + ' to learn more about interactive tables.';\n",
              "        element.innerHTML = '';\n",
              "        dataTable['output_type'] = 'display_data';\n",
              "        await google.colab.output.renderOutput(dataTable, element);\n",
              "        const docLink = document.createElement('div');\n",
              "        docLink.innerHTML = docLinkHtml;\n",
              "        element.appendChild(docLink);\n",
              "      }\n",
              "    </script>\n",
              "  </div>\n",
              "\n",
              "\n",
              "    <div id=\"df-47480ce7-f7e5-4262-a314-c519dface996\">\n",
              "      <button class=\"colab-df-quickchart\" onclick=\"quickchart('df-47480ce7-f7e5-4262-a314-c519dface996')\"\n",
              "                title=\"Suggest charts\"\n",
              "                style=\"display:none;\">\n",
              "\n",
              "<svg xmlns=\"http://www.w3.org/2000/svg\" height=\"24px\"viewBox=\"0 0 24 24\"\n",
              "     width=\"24px\">\n",
              "    <g>\n",
              "        <path d=\"M19 3H5c-1.1 0-2 .9-2 2v14c0 1.1.9 2 2 2h14c1.1 0 2-.9 2-2V5c0-1.1-.9-2-2-2zM9 17H7v-7h2v7zm4 0h-2V7h2v10zm4 0h-2v-4h2v4z\"/>\n",
              "    </g>\n",
              "</svg>\n",
              "      </button>\n",
              "\n",
              "<style>\n",
              "  .colab-df-quickchart {\n",
              "      --bg-color: #E8F0FE;\n",
              "      --fill-color: #1967D2;\n",
              "      --hover-bg-color: #E2EBFA;\n",
              "      --hover-fill-color: #174EA6;\n",
              "      --disabled-fill-color: #AAA;\n",
              "      --disabled-bg-color: #DDD;\n",
              "  }\n",
              "\n",
              "  [theme=dark] .colab-df-quickchart {\n",
              "      --bg-color: #3B4455;\n",
              "      --fill-color: #D2E3FC;\n",
              "      --hover-bg-color: #434B5C;\n",
              "      --hover-fill-color: #FFFFFF;\n",
              "      --disabled-bg-color: #3B4455;\n",
              "      --disabled-fill-color: #666;\n",
              "  }\n",
              "\n",
              "  .colab-df-quickchart {\n",
              "    background-color: var(--bg-color);\n",
              "    border: none;\n",
              "    border-radius: 50%;\n",
              "    cursor: pointer;\n",
              "    display: none;\n",
              "    fill: var(--fill-color);\n",
              "    height: 32px;\n",
              "    padding: 0;\n",
              "    width: 32px;\n",
              "  }\n",
              "\n",
              "  .colab-df-quickchart:hover {\n",
              "    background-color: var(--hover-bg-color);\n",
              "    box-shadow: 0 1px 2px rgba(60, 64, 67, 0.3), 0 1px 3px 1px rgba(60, 64, 67, 0.15);\n",
              "    fill: var(--button-hover-fill-color);\n",
              "  }\n",
              "\n",
              "  .colab-df-quickchart-complete:disabled,\n",
              "  .colab-df-quickchart-complete:disabled:hover {\n",
              "    background-color: var(--disabled-bg-color);\n",
              "    fill: var(--disabled-fill-color);\n",
              "    box-shadow: none;\n",
              "  }\n",
              "\n",
              "  .colab-df-spinner {\n",
              "    border: 2px solid var(--fill-color);\n",
              "    border-color: transparent;\n",
              "    border-bottom-color: var(--fill-color);\n",
              "    animation:\n",
              "      spin 1s steps(1) infinite;\n",
              "  }\n",
              "\n",
              "  @keyframes spin {\n",
              "    0% {\n",
              "      border-color: transparent;\n",
              "      border-bottom-color: var(--fill-color);\n",
              "      border-left-color: var(--fill-color);\n",
              "    }\n",
              "    20% {\n",
              "      border-color: transparent;\n",
              "      border-left-color: var(--fill-color);\n",
              "      border-top-color: var(--fill-color);\n",
              "    }\n",
              "    30% {\n",
              "      border-color: transparent;\n",
              "      border-left-color: var(--fill-color);\n",
              "      border-top-color: var(--fill-color);\n",
              "      border-right-color: var(--fill-color);\n",
              "    }\n",
              "    40% {\n",
              "      border-color: transparent;\n",
              "      border-right-color: var(--fill-color);\n",
              "      border-top-color: var(--fill-color);\n",
              "    }\n",
              "    60% {\n",
              "      border-color: transparent;\n",
              "      border-right-color: var(--fill-color);\n",
              "    }\n",
              "    80% {\n",
              "      border-color: transparent;\n",
              "      border-right-color: var(--fill-color);\n",
              "      border-bottom-color: var(--fill-color);\n",
              "    }\n",
              "    90% {\n",
              "      border-color: transparent;\n",
              "      border-bottom-color: var(--fill-color);\n",
              "    }\n",
              "  }\n",
              "</style>\n",
              "\n",
              "      <script>\n",
              "        async function quickchart(key) {\n",
              "          const quickchartButtonEl =\n",
              "            document.querySelector('#' + key + ' button');\n",
              "          quickchartButtonEl.disabled = true;  // To prevent multiple clicks.\n",
              "          quickchartButtonEl.classList.add('colab-df-spinner');\n",
              "          try {\n",
              "            const charts = await google.colab.kernel.invokeFunction(\n",
              "                'suggestCharts', [key], {});\n",
              "          } catch (error) {\n",
              "            console.error('Error during call to suggestCharts:', error);\n",
              "          }\n",
              "          quickchartButtonEl.classList.remove('colab-df-spinner');\n",
              "          quickchartButtonEl.classList.add('colab-df-quickchart-complete');\n",
              "        }\n",
              "        (() => {\n",
              "          let quickchartButtonEl =\n",
              "            document.querySelector('#df-47480ce7-f7e5-4262-a314-c519dface996 button');\n",
              "          quickchartButtonEl.style.display =\n",
              "            google.colab.kernel.accessAllowed ? 'block' : 'none';\n",
              "        })();\n",
              "      </script>\n",
              "    </div>\n",
              "\n",
              "    </div>\n",
              "  </div>\n"
            ],
            "application/vnd.google.colaboratory.intrinsic+json": {
              "type": "dataframe",
              "summary": "{\n  \"name\": \"pd\",\n  \"rows\": 4,\n  \"fields\": [\n    {\n      \"column\": \"pegasus\",\n      \"properties\": {\n        \"dtype\": \"number\",\n        \"std\": 0.12096675891397986,\n        \"min\": 0.1423660490382963,\n        \"max\": 0.42741389045736866,\n        \"num_unique_values\": 4,\n        \"samples\": [\n          0.1423660490382963,\n          0.35047995482778094,\n          0.42741389045736866\n        ],\n        \"semantic_type\": \"\",\n        \"description\": \"\"\n      }\n    }\n  ]\n}"
            }
          },
          "metadata": {},
          "execution_count": 43
        }
      ]
    },
    {
      "cell_type": "markdown",
      "source": [
        "#Training a Summarization Model"
      ],
      "metadata": {
        "id": "ACETDVxhh8re"
      }
    },
    {
      "cell_type": "code",
      "source": [
        "# bashqa dataset uzerinde\n",
        "\n",
        "dataset_samsum=load_dataset('knkarthick/samsum')\n",
        "split_lengths=[len(dataset_samsum[split]) for split in dataset_samsum]\n",
        "\n",
        "print(f'Split lengths\"{split_lengths}')\n",
        "print(f'Features:{dataset_samsum[\"train\"].column_names}')\n",
        "print('\\nDialogue:')\n",
        "print('\\nSummary:')\n",
        "print(dataset_samsum['test'][0]['summary'])"
      ],
      "metadata": {
        "colab": {
          "base_uri": "https://localhost:8080/",
          "height": 362,
          "referenced_widgets": [
            "f85c9851ff7f46449d0f483963f6ee3f",
            "04ec4d1293fb4e86a39f8e89ace6b24d",
            "e76a228415c145a2991ba36955bf32bb",
            "40faad46ba0d4bbd95886ccb1b728296",
            "4c5a40b5c0d14bcdb758bb5807a01761",
            "1f270a7bae18407f9c8036868733d9bc",
            "82990eb91650437fa044f0905a1a40e4",
            "ff071643ce2647a3b5a5c67ecfc84688",
            "dc14cc31c2944eb3a770f3d9a4196361",
            "a376998de2b34b419cc38c9d39adcd93",
            "5d401722b0914ef0a8c18273af3c26e0",
            "a237f282d9fa4be2b1bc9caeaacb122e",
            "3f04ccb76725406a8ee85d8908b11c7f",
            "bda97493268e4b00bd21da1b86b09936",
            "9e22e2891f8e4c4ba97c2dfba57ff2a9",
            "80076beec9ba4b25914079f91fb1486f",
            "886b33c9c76b4c4bb16e8d80e24637e1",
            "d0a2c1e29cb744968c1442b3e68cc65d",
            "f24ecfe1401343db9252d556464c16cb",
            "39a42c9a813a4ffa99408c2a438f1749",
            "4cdff89803644f4ab7d9b2b92460bc21",
            "9d355b741fdd4e0289dd305b42d2edee",
            "9248949602c34e4abffd60d6ca6194cf",
            "34cf212872a3449dbd8141842bdcdf09",
            "0c5e6ea7cc4b40c9bd1cd675094b0e44",
            "76a11c32f8e9458ba580d31cc495cf58",
            "a54bb39b4374422d977ecace4c00bb68",
            "0e51a5df425347cb83c184756f1cc25d",
            "3e366bb208a04f1f918f22f55bcac316",
            "3d9fba0ea6f843eb83a026c46e3a1141",
            "a20a8d58a0be45368f75e7dca0d73f8a",
            "5636656c54f34eda8214795aa31aa833",
            "d8669a9d09904a4cbe2cd45c420d225a",
            "895a03f3e6154cd8b6cb98ac6fc9d585",
            "ccb6f0354a3c47649bbdc4af1e16693d",
            "aec76297037d4ceb95379466654a9745",
            "7dbef15378bb4aca860f57860258213c",
            "3cd4a5958e7b45308dcdcd15055aa450",
            "50f15c1131bb479384c0326f1e1ef1cc",
            "750e33fe0bd741ffa755f13cb10b2d18",
            "67a874a0bf5046b9a3e49f8bcda04730",
            "7e38899f4ef646fba66f64d28424a546",
            "bf88afbecd0d43749c834472eae6c9ff",
            "7bdd8f8d57854cc2b400a2117bfbf104",
            "5232d16f11f542d5945f120981727334",
            "00eaf2acaf04416793d2855b3346e4e1",
            "40367986fea847318264fb237ab5ea62",
            "53da5d91522048c18aad4cb6c1ee57c8",
            "456a79e0c0f9441288ff4bf7d8ec4c68",
            "d759ff76881c416a9a5a95397887d839",
            "8664bc6012d749d3a0f2e8c7b235a9a0",
            "0e9987482be1455ca7c8b5bc00fa3a41",
            "a1c49d8e46db4898a23b86114ef47b8d",
            "c14f3eda02294804b8b2be94f7f66a5e",
            "aaf14169624e4ace82a0c80b48486b77",
            "da051fd0eb864fc1831f0a2d190ce937",
            "82fe49480dc04836b229cb73893804c8",
            "734667b60acd4241ae57d441b8e6afa4",
            "d22d93d2f8484476b6f8bac204d2054d",
            "f354ece76f29468dbc49a22a43f70067",
            "e4ff544f68de45ef84c2927cbb414596",
            "aa14e69d130648a392fdc5dfa2885614",
            "9d4bb6d386f84098be2a2e98d1f22ef1",
            "f0f9bd8559e14ea6be5e0475d1981784",
            "c84c53d5fa354efda78123166c730e58",
            "5fb507012b9b4b46baa02db12c41ea1e",
            "51cb9f718842459ebee0b81fe84a5594",
            "9499304f27054957b58d6617446e61b2",
            "064a94124ec04efbba183a439229f580",
            "5fdfa50e8bd744d58a15ab978915475e",
            "12f70dd4bbe24b26a7050ddf2a8ba673",
            "46beea66ceff4b6b88f4ad2086cdce81",
            "c9a1f7dd50e94fb5b9af628d04d091de",
            "96316019b88144ebb180733d70c06219",
            "157add8e85aa4095ab85b8ebbff479c7",
            "21cdecb5309f448d8a264b8be74ad984",
            "804e935926ff4ee98b969e4a17105084"
          ]
        },
        "id": "t6BbPVxXlQA5",
        "outputId": "42f5c9b6-0540-4802-d47f-6129ea0832d7"
      },
      "execution_count": null,
      "outputs": [
        {
          "output_type": "display_data",
          "data": {
            "text/plain": [
              "README.md:   0%|          | 0.00/4.36k [00:00<?, ?B/s]"
            ],
            "application/vnd.jupyter.widget-view+json": {
              "version_major": 2,
              "version_minor": 0,
              "model_id": "f85c9851ff7f46449d0f483963f6ee3f"
            }
          },
          "metadata": {}
        },
        {
          "output_type": "display_data",
          "data": {
            "text/plain": [
              "train.csv:   0%|          | 0.00/9.26M [00:00<?, ?B/s]"
            ],
            "application/vnd.jupyter.widget-view+json": {
              "version_major": 2,
              "version_minor": 0,
              "model_id": "a237f282d9fa4be2b1bc9caeaacb122e"
            }
          },
          "metadata": {}
        },
        {
          "output_type": "display_data",
          "data": {
            "text/plain": [
              "validation.csv:   0%|          | 0.00/504k [00:00<?, ?B/s]"
            ],
            "application/vnd.jupyter.widget-view+json": {
              "version_major": 2,
              "version_minor": 0,
              "model_id": "9248949602c34e4abffd60d6ca6194cf"
            }
          },
          "metadata": {}
        },
        {
          "output_type": "display_data",
          "data": {
            "text/plain": [
              "test.csv:   0%|          | 0.00/522k [00:00<?, ?B/s]"
            ],
            "application/vnd.jupyter.widget-view+json": {
              "version_major": 2,
              "version_minor": 0,
              "model_id": "895a03f3e6154cd8b6cb98ac6fc9d585"
            }
          },
          "metadata": {}
        },
        {
          "output_type": "display_data",
          "data": {
            "text/plain": [
              "Generating train split:   0%|          | 0/14732 [00:00<?, ? examples/s]"
            ],
            "application/vnd.jupyter.widget-view+json": {
              "version_major": 2,
              "version_minor": 0,
              "model_id": "5232d16f11f542d5945f120981727334"
            }
          },
          "metadata": {}
        },
        {
          "output_type": "display_data",
          "data": {
            "text/plain": [
              "Generating validation split:   0%|          | 0/818 [00:00<?, ? examples/s]"
            ],
            "application/vnd.jupyter.widget-view+json": {
              "version_major": 2,
              "version_minor": 0,
              "model_id": "da051fd0eb864fc1831f0a2d190ce937"
            }
          },
          "metadata": {}
        },
        {
          "output_type": "display_data",
          "data": {
            "text/plain": [
              "Generating test split:   0%|          | 0/819 [00:00<?, ? examples/s]"
            ],
            "application/vnd.jupyter.widget-view+json": {
              "version_major": 2,
              "version_minor": 0,
              "model_id": "51cb9f718842459ebee0b81fe84a5594"
            }
          },
          "metadata": {}
        },
        {
          "output_type": "stream",
          "name": "stdout",
          "text": [
            "Split lengths\"[14732, 818, 819]\n",
            "Features:['id', 'dialogue', 'summary']\n",
            "\n",
            "Dialogue:\n",
            "\n",
            "Summary:\n",
            "Hannah needs Betty's number but Amanda doesn't have it. She needs to contact Larry.\n"
          ]
        }
      ]
    },
    {
      "cell_type": "markdown",
      "source": [
        "#Evaluating Pegasus on Samsum"
      ],
      "metadata": {
        "id": "mvpTu9F2l7_n"
      }
    },
    {
      "cell_type": "code",
      "source": [
        "pipe_out=pipe(dataset_samsum['test'][0]['dialogue'])\n",
        "print('Summary')\n",
        "print(pipe_out[0]['summary_text'].replace(' .','\\n'))"
      ],
      "metadata": {
        "colab": {
          "base_uri": "https://localhost:8080/"
        },
        "id": "hO_F0YKAmqy4",
        "outputId": "61b21db2-c90f-483e-dc23-c7ff4ad13cf4"
      },
      "execution_count": null,
      "outputs": [
        {
          "output_type": "stream",
          "name": "stderr",
          "text": [
            "Your max_length is set to 128, but your input_length is only 122. Since this is a summarization task, where outputs shorter than the input are typically wanted, you might consider decreasing max_length manually, e.g. summarizer('...', max_length=61)\n"
          ]
        },
        {
          "output_type": "stream",
          "name": "stdout",
          "text": [
            "Summary\n",
            "Amanda: Ask Larry Amanda: He called her last time we were at the park together\n",
            "<n>Hannah: I'd rather you texted him\n",
            "<n>Amanda: Just text him\n",
            "\n"
          ]
        }
      ]
    },
    {
      "cell_type": "code",
      "source": [
        "#extractive  ishleyri gorunduyu kimiburda abstraktiv olmalidi !! ona gore abstraktiv etmek lazimdi bunu"
      ],
      "metadata": {
        "id": "pRuegiRynCA6"
      },
      "execution_count": null,
      "outputs": []
    },
    {
      "cell_type": "code",
      "source": [
        "# score=evaluate_summaries_pegasus(dataset_samsum['test'], rouge_metric, model, tokenizer, column_text='dialogue', column_summary='summary', batch_size=4)\n",
        "\n",
        "# rouge_dict=dict((rn,score[rn]) for rn in rouge_names)\n",
        "# pd.DataFrame.from_dict(rouge_dict, orient='index', columns=['pegasus'])\n",
        "#pegaususun scorlarin bu yuxardaki gosterri"
      ],
      "metadata": {
        "id": "YHQgH4h9nfTu"
      },
      "execution_count": null,
      "outputs": []
    },
    {
      "cell_type": "code",
      "source": [
        "#model pisnetice qaytarir"
      ],
      "metadata": {
        "id": "C36tSLaYoC50"
      },
      "execution_count": null,
      "outputs": []
    },
    {
      "cell_type": "markdown",
      "source": [
        "#Fine-Tuning PEGASUS"
      ],
      "metadata": {
        "id": "i6RDQETWoTR0"
      }
    },
    {
      "cell_type": "code",
      "source": [
        "\n",
        "d_len=[len(tokenizer(s).input_ids) for s in dataset_samsum['train']['dialogue'] if s ]\n",
        "s_len=[len(tokenizer(s).input_ids) for s in dataset_samsum['train']['summary'] if s]\n",
        "\n",
        "fig, axes=plt.subplots(1,2, figsize=(10,3.5), sharey=True)\n",
        "axes[0].hist(d_len, bins=20)\n",
        "axes[0].set_title('Dialogue Length')\n",
        "axes[1].hist(s_len, bins=20)\n",
        "axes[1].set_title('Summary Length')\n",
        "plt.tight_layout()\n",
        "plt.show()\n",
        "\n"
      ],
      "metadata": {
        "colab": {
          "base_uri": "https://localhost:8080/",
          "height": 357
        },
        "id": "y5YIIQoToWxc",
        "outputId": "b4882916-8333-4441-cb38-0354226bf98e"
      },
      "execution_count": null,
      "outputs": [
        {
          "output_type": "display_data",
          "data": {
            "text/plain": [
              "<Figure size 1000x350 with 2 Axes>"
            ],
            "image/png": "[encoded data removed]"
          },
          "metadata": {}
        }
      ]
    },
    {
      "cell_type": "code",
      "source": [
        "def convert_examples_to_features(example_batch):\n",
        "    # --- DATA CLEANING STEP ---\n",
        "    # Ensure all dialogues and summaries are strings. Replace None with ''.\n",
        "    dialogues = [s if s is not None else \"\" for s in example_batch['dialogue']]\n",
        "    summaries = [s if s is not None else \"\" for s in example_batch['summary']]\n",
        "    # --- END OF CLEANING STEP ---\n",
        "\n",
        "    # Now, pass the cleaned lists to the tokenizer\n",
        "    input_encodings = tokenizer(dialogues, max_length=1024,\n",
        "                                truncation=True, padding='max_length')\n",
        "    # with tokenizer.as_target_tokenizer(): #encoder uchun ayri decoder uchun ayri torkinezer  SPECILA token ferqi\n",
        "    #     target_encodings = tokenizer(text_target=summaries, max_length=128,\n",
        "    #                                 truncation=True, padding='max_length')\n",
        "    target_encodings = tokenizer(text_target=summaries, max_length=128,\n",
        "                                    truncation=True, padding='max_length')\n",
        "\n",
        "    return {\"input_ids\": input_encodings['input_ids'],\n",
        "            'attention_mask': input_encodings['attention_mask'],\n",
        "            'labels': target_encodings['input_ids']}\n",
        "\n",
        "# This part remains the same and will now work correctly\n",
        "dataset_samsum_pt = dataset_samsum.map(convert_examples_to_features, batched=True)\n",
        "columns = ['input_ids', 'labels', 'attention_mask']\n",
        "dataset_samsum_pt.set_format(type='torch', columns=columns)"
      ],
      "metadata": {
        "colab": {
          "base_uri": "https://localhost:8080/",
          "height": 113,
          "referenced_widgets": [
            "d365fcc2cde441cc9114a900d24236e5",
            "f156d2cd5fee4202890f621652304318",
            "795cf3b00a524bdd84a6609fa42f29d8",
            "facca8b6a1ab46a7a894b5e1eceb9cd0",
            "ac05590f9e4b4cceba6fda34e86bb85c",
            "73d23422c471470e84126ef07b0252a4",
            "955003bd6b124e3688ec55d07af8f2a4",
            "dbc079775c3f4f14a0388d5246b168e2",
            "608e831d18114703a0882fd63b07db26",
            "58fae746271c4ba5bf9686a5883f5c72",
            "2938d7f9627749dca7352bad9db8c633",
            "8c4c7806bae34de9b2d134889d4dc028",
            "dd2335876f4041938c47897fcfca13fb",
            "d55f810cc0f549f48614a61d997128b8",
            "ad7c8f21cbad4fcfa3bb9d93281b822b",
            "edf42734d72249b18614923d12e88dff",
            "c80fcf6fb3254fa5a29a52f39f2054ac",
            "96bc92a1739b4529ab0dc0c2a18ff5bb",
            "fbb14c0c7c3f4e3085a0c1709243331a",
            "e65064d61b2b41bea949da1313eda8e0",
            "092add1afcef48eb925b54cf28f2f596",
            "7e5f90eb0fd54279ab298b166a2aa33e",
            "b673d41c12b0435aa33c36b7f89b06f5",
            "88997b18726a4db0a9bb535e34717d2e",
            "1fdd195266534056b9aeac51b5a6c946",
            "27c07f61980141b0a97aaf475c4e05e0",
            "567c11ce37804b7eb1786cdbf0e60812",
            "a3b07508d0024daa949a70fe8cd5cc7e",
            "e5eb830b5ee54a6b98013e657061192a",
            "dd33c5f6a8e24a5fbeb26abb4886d5c6",
            "f98115c9dd95493c982a6c7ee0ae65ae",
            "40b57d24ef7945cfb481393995acf5c2",
            "f830346208f8489c9a36125317baf8c1"
          ]
        },
        "id": "s1G-qM-rsonX",
        "outputId": "18cf3721-3d88-410e-9b6a-7042720549ff"
      },
      "execution_count": null,
      "outputs": [
        {
          "output_type": "display_data",
          "data": {
            "text/plain": [
              "Map:   0%|          | 0/14732 [00:00<?, ? examples/s]"
            ],
            "application/vnd.jupyter.widget-view+json": {
              "version_major": 2,
              "version_minor": 0,
              "model_id": "d365fcc2cde441cc9114a900d24236e5"
            }
          },
          "metadata": {}
        },
        {
          "output_type": "display_data",
          "data": {
            "text/plain": [
              "Map:   0%|          | 0/818 [00:00<?, ? examples/s]"
            ],
            "application/vnd.jupyter.widget-view+json": {
              "version_major": 2,
              "version_minor": 0,
              "model_id": "8c4c7806bae34de9b2d134889d4dc028"
            }
          },
          "metadata": {}
        },
        {
          "output_type": "display_data",
          "data": {
            "text/plain": [
              "Map:   0%|          | 0/819 [00:00<?, ? examples/s]"
            ],
            "application/vnd.jupyter.widget-view+json": {
              "version_major": 2,
              "version_minor": 0,
              "model_id": "b673d41c12b0435aa33c36b7f89b06f5"
            }
          },
          "metadata": {}
        }
      ]
    },
    {
      "cell_type": "markdown",
      "source": [
        "#PAD"
      ],
      "metadata": {
        "id": "u6l_NTh8uN0S"
      }
    },
    {
      "cell_type": "code",
      "source": [
        "#NER uchunde bunu uchuned PAD etmek lazimdi"
      ],
      "metadata": {
        "id": "ipkY0j8rtQzM"
      },
      "execution_count": null,
      "outputs": []
    },
    {
      "cell_type": "code",
      "source": [
        "from transformers import DataCollatorForSeq2Seq #pzad edir\n",
        "\n",
        "seq2seq_data_collator=DataCollatorForSeq2Seq(tokenizer, model=model)"
      ],
      "metadata": {
        "id": "axALr-iguPVU"
      },
      "execution_count": null,
      "outputs": []
    },
    {
      "cell_type": "code",
      "source": [
        "from transformers import TrainingArguments, Trainer\n",
        "training_args=TrainingArguments(\n",
        "    output_dir='pegasus-samsum', num_train_epochs=1, warmup_steps=500,\n",
        "    per_device_train_batch_size=1,\n",
        "    per_device_eval_batch_size=1,\n",
        "    weight_decay=0.01,\n",
        "    logging_steps=10,\n",
        "    eval_strategy='steps',\n",
        "    eval_steps=500,\n",
        "    save_steps=1e6,\n",
        "    gradient_accumulatin_steps=16 #gradienti yadda saxla , 16 defe yig gradienti osonra bckward et\n",
        ")\n",
        "trainer=Trainer(model=model,\n",
        "                args=training_args,\n",
        "                processing_class=tokenizer,\n",
        "                data_collator=seq2seq_data_collator,\n",
        "                train_dataset=dataset_samsum_pt['train'],\n",
        "                eval_dataset=dataset_samsum_pt['validation'])\n"
      ],
      "metadata": {
        "id": "IlQdHpOOvYO-"
      },
      "execution_count": null,
      "outputs": []
    },
    {
      "cell_type": "code",
      "source": [
        "trainer.train()\n",
        "#cudada qalmayibsa quntization, batch azalt , distill  samlll, batch olcusunu balaca\n",
        "score=evaluate_summaries_pegasus(\n",
        "    dataset_samsum['test'], rouge_metric,trainer.model, tokenizer, batch_size=2, column_text='dialogue', column_summary='summary')\n",
        "score"
      ],
      "metadata": {
        "id": "3x9uulIowI5Q"
      },
      "execution_count": null,
      "outputs": []
    }
  ]
}
